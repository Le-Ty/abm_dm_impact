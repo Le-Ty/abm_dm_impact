{
 "cells": [
  {
   "cell_type": "markdown",
   "metadata": {},
   "source": [
    "# Delta Function"
   ]
  },
  {
   "cell_type": "markdown",
   "metadata": {},
   "source": [
    "This notebook presents an agent-based model that simulates the propagation of a disease through a network.\n",
    "It demonstrates how to use the [agentpy](https://agentpy.readthedocs.io) package to create and visualize networks, use the interactive module, and perform different types of sensitivity analysis. "
   ]
  },
  {
   "cell_type": "code",
   "execution_count": 2,
   "metadata": {},
   "outputs": [],
   "source": [
    "# Model design\n",
    "import agentpy as ap\n",
    "import networkx as nx \n",
    "import random \n",
    "import numpy as np\n",
    "import pandas as pd\n",
    "\n",
    "# Visualization\n",
    "import matplotlib.pyplot as plt \n",
    "import seaborn as sns\n",
    "import IPython"
   ]
  },
  {
   "cell_type": "markdown",
   "metadata": {},
   "source": [
    "## About the model\n",
    "\n",
    "The agents of this model are people, which can be in one of the following three conditions: susceptible to the disease (S), infected (I), or recovered (R). The agents are connected to each other through a small-world network of peers. At every time-step, infected agents can infect their peers or recover from the disease based on random chance."
   ]
  },
  {
   "cell_type": "markdown",
   "metadata": {},
   "source": [
    "## Defining the model"
   ]
  },
  {
   "cell_type": "markdown",
   "metadata": {
    "raw_mimetype": "text/restructuredtext"
   },
   "source": [
    "We define a new agent type :class:`Person` by creating a subclass of :class:`Agent`.\n",
    "This agent has two methods: :func:`setup` will be called automatically at the agent's creation,\n",
    "and :func:`being_sick` will be called by the :func:`Model.step` function.\n",
    "Three tools are used within this class:\n",
    "\n",
    "- :attr:`Agent.p` returns the parameters of the model\n",
    "- :func:`Agent.neighbors` returns a list of the agents' peers in the network\n",
    "- :func:`random.random` returns a uniform random draw between 0 and 1\n",
    "\n",
    "wealth by race https://www.federalreserve.gov/econres/notes/feds-notes/disparities-in-wealth-by-race-and-ethnicity-in-the-2019-survey-of-consumer-finances-20200928.html\n",
    "\n",
    "rank for the US:\n",
    "https://www.federalreserve.gov/econres/notes/feds-notes/wealth-inequality-and-the-racial-wealth-gap-accessible-20211022.htm#fig3\n"
   ]
  },
  {
   "cell_type": "code",
   "execution_count": 3,
   "metadata": {
    "scrolled": true
   },
   "outputs": [
    {
     "data": {
      "image/png": "[encoded data removed]",
      "text/plain": [
       "<Figure size 640x480 with 1 Axes>"
      ]
     },
     "metadata": {},
     "output_type": "display_data"
    }
   ],
   "source": [
    "import matplotlib.pyplot as plt\n",
    "\n",
    "values = plt.hist(np.random.beta(1.5, 5, 10000),\n",
    "\n",
    "                  bins=200, density=True)\n",
    "\n",
    "plt.show()"
   ]
  },
  {
   "cell_type": "code",
   "execution_count": 4,
   "metadata": {},
   "outputs": [
    {
     "data": {
      "image/png": "[encoded data removed]",
      "text/plain": [
       "<Figure size 640x480 with 1 Axes>"
      ]
     },
     "metadata": {},
     "output_type": "display_data"
    }
   ],
   "source": [
    "import matplotlib.pyplot as plt\n",
    "\n",
    "values = plt.hist(np.random.beta(5, 3, 10000),\n",
    "\n",
    "                  bins=200, density=True)\n",
    "\n",
    "plt.show()"
   ]
  },
  {
   "cell_type": "code",
   "execution_count": 5,
   "metadata": {},
   "outputs": [],
   "source": [
    "class Person(ap.Agent):\n",
    "    \n",
    "    def setup(self):  \n",
    "        \"\"\" Initialize a new variable at agent creation. \"\"\"\n",
    "        # self.condition = 0  # Susceptible = 0, Infected = 1, Recovered = 2\n",
    "        a = 5 # shape\n",
    "        rng = np.random.default_rng()\n",
    "        \n",
    "        \n",
    "        # race\n",
    "        self.race =  rng.binomial(1,0.2)#binary not white0.2 /  white for the moment 0.8\n",
    "        \n",
    "        if self.race == 0:\n",
    "            self.wealth = rng.beta(1.5, 5,1)[0]\n",
    "        else:\n",
    "            self.wealth = rng.beta(5, 3,1)[0]\n",
    "            \n",
    "\n",
    "        # fraud\n",
    "        self.fraud = rng.binomial(1,0.5,1)[0]\n",
    "        self.fraud_pred = -1\n",
    "        self.convicted = 0\n",
    "\n",
    "        \n",
    "    def fraud_algo(self):\n",
    "        \"\"\" DM mechanism can also be ML\"\"\"\n",
    "        rng = np.random.default_rng()\n",
    "        # self.fraud_pred = rng.binomial(1, 0.5)\n",
    "        if self.fraud == 1:\n",
    "            fraud_cor = rng.binomial(1,self.p.acc)\n",
    "        else:\n",
    "            fraud_cor = rng.binomial(1,1-self.p.acc)\n",
    "            \n",
    "        self.fraud_pred = rng.binomial(1, fraud_cor*(0.8-self.p.wealth_appeal_corr))\n",
    "        \n",
    "\n",
    "    def appeal(self):\n",
    "        \"\"\"Possibility to Appeal to Fraud Algo Decision\"\"\"\n",
    "        rng = np.random.default_rng()\n",
    "#         print('bye')\n",
    "        if self.fraud_pred == 1 and self.wealth > self.p.appeal_wealth:\n",
    "            self.fraud_algo()\n",
    "            # self.fraud_pred = rng.binomial(1, 0.4)\n",
    "            \n",
    "    def convict(self):\n",
    "        \"\"\" Conviction and Consequences\"\"\"\n",
    "        rng = np.random.default_rng()\n",
    "        if self.fraud_pred == 1:\n",
    "            if rng.binomial(1,0.8) == 1:\n",
    "                # pay fine, get on record, \n",
    "                self.wealth = self.wealth - np.max([0.01,(self.wealth*0.05)])\n",
    "                self.convicted =+ 1\n",
    "                self.fraud = rng.binomial(1,0.5,1)[0]\n",
    "                self.fraud_pred = 0\n",
    "    \n",
    "    def wealth_grow(self):\n",
    "        self.wealth = min(1,self.wealth+pow(self.wealth,2)*0.01)\n",
    "            \n",
    "            \n",
    "        \n",
    "\n",
    "\n",
    "#     def step(self):\n",
    "#         # The agent's step will go here.\n",
    "#         # For demonstration purposes we will print the agent's unique_id\n",
    "#         self.appeal()\n",
    "#         print(\"Hi, I am agent \" + str(self.unique_id) + \".\")\n",
    "#         # print(\"my wealth, job, fraud, fraud_pred is:\" + str(self.wealth)+ str(self.job) + str(self.fraud)+ str(self.fraud_pred))"
   ]
  },
  {
   "cell_type": "markdown",
   "metadata": {
    "raw_mimetype": "text/restructuredtext"
   },
   "source": [
    "Next, we define our model :class:`VirusModel` by creating a subclass of :class:`Model`.\n",
    "The four methods of this class will be called automatically at different steps of the simulation,\n",
    "as described in :ref:`overview_simulation`."
   ]
  },
  {
   "cell_type": "code",
   "execution_count": 6,
   "metadata": {},
   "outputs": [],
   "source": [
    "class VirusModel_baseline(ap.Model):\n",
    "    \n",
    "    def setup(self): #before\n",
    "        \"\"\" Initialize the agents and network of the model. \"\"\"\n",
    "        \n",
    "        # Create agents and network\n",
    "        self.agents = ap.AgentList(self, self.p.agents, Person)\n",
    "    \n",
    "        self.w_wealth_t0 = sum((self.agents.select(self.agents.race == 1)).wealth) / len((self.agents.select(self.agents.race == 1)))\n",
    "        self.nw_wealth_t0 = sum((self.agents.select(self.agents.race == 0)).wealth) / len((self.agents.select(self.agents.race == 0)))\n",
    "    \n",
    "\n",
    "    def step(self): # during each step\n",
    "        \"\"\" Define the models' events per simulation step. \"\"\"\n",
    "        self.agents.fraud_algo()\n",
    "#         self.agents.appeal()\n",
    "        self.agents.convict()\n",
    "        self.agents.wealth_grow()\n",
    "        \n",
    "\n",
    "\n",
    "    def update(self):  # after each step\n",
    "        \"\"\" Record variables after setup and each step. \"\"\"\n",
    "        self.agents.record('wealth')\n",
    "        self.agents.record('fraud_pred')\n",
    "        self.agents.record('fraud')\n",
    "        self.agents.record('race')\n",
    "        \n",
    "        \n",
    "    \n",
    "    def end(self):     \n",
    "        \"\"\" Record evaluation measures at the end of the simulation. \"\"\"\n",
    "#         self.report('wealth', self.agents.wealth)\n",
    "#         self.report('race', self.agents.race)\n",
    "#         self.report('my_measure', 1)\n",
    "        \n",
    "        # record race wealth ratio \n",
    "        \n",
    "        w_wealth_tn = sum((self.agents.select(self.agents.race == 1)).wealth) / len((self.agents.select(self.agents.race == 1)))\n",
    "        nw_wealth_tn = sum((self.agents.select(self.agents.race == 0)).wealth) / len((self.agents.select(self.agents.race == 0)))\n",
    "        \n",
    "        w_wr_ratio = w_wealth_tn/self.w_wealth_t0\n",
    "        nw_wr_ratio = nw_wealth_tn/self.nw_wealth_t0\n",
    "        \n",
    "        self.report('w_wr_ratio', w_wr_ratio)\n",
    "        self.report('nw_wr_ratio', nw_wr_ratio)\n",
    "            \n",
    "        \n",
    "        \n",
    "#         # Record final evaluation measures\n",
    "#         self.report('Total share infected', self.I + self.R) \n",
    "#         self.report('Peak share infected', max(self.log['I']))"
   ]
  },
  {
   "cell_type": "code",
   "execution_count": 7,
   "metadata": {},
   "outputs": [],
   "source": [
    "class VirusModel(ap.Model):\n",
    "    \n",
    "    def setup(self): #before\n",
    "        \"\"\" Initialize the agents and network of the model. \"\"\"\n",
    "        \n",
    "        # Create agents and network\n",
    "        self.agents = ap.AgentList(self, self.p.agents, Person)\n",
    "    \n",
    "        self.w_wealth_t0 = sum((self.agents.select(self.agents.race == 1)).wealth) / len((self.agents.select(self.agents.race == 1)))\n",
    "        self.nw_wealth_t0 = sum((self.agents.select(self.agents.race == 0)).wealth) / len((self.agents.select(self.agents.race == 0)))\n",
    "    \n",
    "\n",
    "    def step(self): # during each step\n",
    "        \"\"\" Define the models' events per simulation step. \"\"\"\n",
    "        self.agents.fraud_algo()\n",
    "        self.agents.appeal()\n",
    "        self.agents.convict()\n",
    "        self.agents.wealth_grow()\n",
    "        \n",
    "\n",
    "\n",
    "    def update(self):  # after each step\n",
    "        \"\"\" Record variables after setup and each step. \"\"\"\n",
    "        self.agents.record('wealth')\n",
    "        self.agents.record('fraud_pred')\n",
    "        self.agents.record('fraud')\n",
    "        self.agents.record('race')\n",
    "        \n",
    "        \n",
    "    \n",
    "    def end(self):     \n",
    "        \"\"\" Record evaluation measures at the end of the simulation. \"\"\"\n",
    "#         self.report('wealth', self.agents.wealth)\n",
    "#         self.report('race', self.agents.race)\n",
    "#         self.report('my_measure', 1)\n",
    "        \n",
    "        # record race wealth ratio \n",
    "        \n",
    "        w_wealth_tn = sum((self.agents.select(self.agents.race == 1)).wealth) / len((self.agents.select(self.agents.race == 1)))\n",
    "        nw_wealth_tn = sum((self.agents.select(self.agents.race == 0)).wealth) / len((self.agents.select(self.agents.race == 0)))\n",
    "        \n",
    "        w_wr_ratio = w_wealth_tn/self.w_wealth_t0\n",
    "        nw_wr_ratio = nw_wealth_tn/self.nw_wealth_t0\n",
    "        \n",
    "        self.report('w_wr_ratio', w_wr_ratio)\n",
    "        self.report('nw_wr_ratio', nw_wr_ratio)\n",
    "            \n",
    "        \n",
    "        \n",
    "#         # Record final evaluation measures\n",
    "#         self.report('Total share infected', self.I + self.R) \n",
    "#         self.report('Peak share infected', max(self.log['I']))"
   ]
  },
  {
   "cell_type": "markdown",
   "metadata": {},
   "source": [
    "## Vizualisation"
   ]
  },
  {
   "cell_type": "code",
   "execution_count": 8,
   "metadata": {},
   "outputs": [],
   "source": [
    "def viz(data, x, y, hue):\n",
    "    fig, ax = plt.subplots()\n",
    "\n",
    "    sns.lineplot(ax = ax,\n",
    "                 data = data,\n",
    "                 x = x,\n",
    "                 y = y,\n",
    "                 hue = hue,\n",
    "                 marker = 'o')\n",
    "\n",
    "    plt.show()"
   ]
  },
  {
   "cell_type": "markdown",
   "metadata": {},
   "source": [
    "## Running a simulation"
   ]
  },
  {
   "cell_type": "markdown",
   "metadata": {
    "raw_mimetype": "text/restructuredtext"
   },
   "source": [
    "To run our model, we define a dictionary with our parameters. \n",
    "We then create a new instance of our model, passing the parameters as an argument, \n",
    "and use the method :func:`Model.run` to perform the simulation and return it's output. "
   ]
  },
  {
   "cell_type": "code",
   "execution_count": 9,
   "metadata": {
    "scrolled": true
   },
   "outputs": [
    {
     "name": "stdout",
     "output_type": "stream",
     "text": [
      "Completed: 100 steps\n",
      "Run time: 0:00:03.323076\n",
      "Simulation finished\n"
     ]
    },
    {
     "data": {
      "image/png": "[encoded data removed]",
      "text/plain": [
       "<Figure size 640x480 with 1 Axes>"
      ]
     },
     "metadata": {},
     "output_type": "display_data"
    }
   ],
   "source": [
    "parameters = {\n",
    "    'my_parameter':42,\n",
    "    'agents':1000,\n",
    "    'steps':100,\n",
    "    'wealth_appeal_corr': 0, # >0 more wealth higher appeal chance\n",
    "    'acc': 0.8, # accuracy of fraud prdediction\n",
    "    'appeal_wealth': 0.2 # minimal wealth needed for appeal (could also become a param for distr. eventually)\n",
    "    #'wealth_impact'\n",
    "    \n",
    "}\n",
    "\n",
    "model_baseline = VirusModel_baseline(parameters)\n",
    "results_baseline = model_baseline.run() \n",
    "\n",
    "df_baseline = results_baseline['variables']['Person']\n",
    "\n",
    "viz(df_baseline, df_baseline.index.get_level_values('t'), df_baseline['wealth'].astype(float), df_baseline['race'])"
   ]
  },
  {
   "cell_type": "code",
   "execution_count": 10,
   "metadata": {
    "scrolled": true
   },
   "outputs": [
    {
     "name": "stdout",
     "output_type": "stream",
     "text": [
      "Completed: 100 steps\n",
      "Run time: 0:00:04.705455\n",
      "Simulation finished\n"
     ]
    },
    {
     "data": {
      "image/png": "[encoded data removed]",
      "text/plain": [
       "<Figure size 640x480 with 1 Axes>"
      ]
     },
     "metadata": {},
     "output_type": "display_data"
    }
   ],
   "source": [
    "parameters = {\n",
    "    'my_parameter':42,\n",
    "    'agents':1000,\n",
    "    'steps':100,\n",
    "    'wealth_appeal_corr': 0, # >0 more wealth higher appeal chance\n",
    "    'acc': 0.8, # accuracy of fraud prdediction\n",
    "    'appeal_wealth': 0.2 # minimal wealth needed for appeal (could also become a param for distr. eventually)\n",
    "    #'wealth_impact'\n",
    "    \n",
    "}\n",
    "\n",
    "model = VirusModel(parameters)\n",
    "results = model.run() \n",
    "\n",
    "df = results['variables']['Person']\n",
    "\n",
    "viz(df, df.index.get_level_values('t'), df['wealth'].astype(float), df['race'])"
   ]
  },
  {
   "cell_type": "code",
   "execution_count": 11,
   "metadata": {},
   "outputs": [],
   "source": [
    "# create baseline value\n",
    "df_b1 = df_baseline.iloc[(df_baseline['race'] == 1).values] \n",
    "baseline1 = df_b1.groupby(level='t').mean()\n",
    "# df_b\n",
    "df_b0 = df_baseline.iloc[(df_baseline['race'] == 0).values] \n",
    "baseline0 = df_b0.groupby(level='t').mean()"
   ]
  },
  {
   "cell_type": "code",
   "execution_count": 12,
   "metadata": {
    "scrolled": true
   },
   "outputs": [
    {
     "name": "stderr",
     "output_type": "stream",
     "text": [
      "/var/folders/_3/m4zxq5yx589d0965c6l5j1q80000gp/T/ipykernel_74391/2096043862.py:3: SettingWithCopyWarning: \n",
      "A value is trying to be set on a copy of a slice from a DataFrame.\n",
      "Try using .loc[row_indexer,col_indexer] = value instead\n",
      "\n",
      "See the caveats in the documentation: https://pandas.pydata.org/pandas-docs/stable/user_guide/indexing.html#returning-a-view-versus-a-copy\n",
      "  df_x1['wealth'] = df_wb1\n",
      "/var/folders/_3/m4zxq5yx589d0965c6l5j1q80000gp/T/ipykernel_74391/2096043862.py:10: SettingWithCopyWarning: \n",
      "A value is trying to be set on a copy of a slice from a DataFrame.\n",
      "Try using .loc[row_indexer,col_indexer] = value instead\n",
      "\n",
      "See the caveats in the documentation: https://pandas.pydata.org/pandas-docs/stable/user_guide/indexing.html#returning-a-view-versus-a-copy\n",
      "  df_x0['wealth'] = df_wb0\n"
     ]
    }
   ],
   "source": [
    "df_x1 = df.iloc[(df['race'] == 1).values] \n",
    "df_wb1 = df_x1['wealth'] - baseline1['wealth']\n",
    "df_x1['wealth'] = df_wb1\n",
    "\n",
    "\n",
    "\n",
    "\n",
    "df_x0 = df.iloc[(df['race'] == 0).values] \n",
    "df_wb0 = df_x0['wealth'] - baseline0['wealth']\n",
    "df_x0['wealth'] = df_wb0\n",
    "\n",
    "df_xb = pd.concat([df_x0, df_x1])\n"
   ]
  },
  {
   "cell_type": "code",
   "execution_count": 13,
   "metadata": {
    "scrolled": true
   },
   "outputs": [
    {
     "data": {
      "image/png": "[encoded data removed]",
      "text/plain": [
       "<Figure size 640x480 with 1 Axes>"
      ]
     },
     "metadata": {},
     "output_type": "display_data"
    }
   ],
   "source": [
    "viz(df_xb, df_xb.index.get_level_values('t'), df_xb['wealth'].astype(float), df_xb['race'])"
   ]
  },
  {
   "cell_type": "markdown",
   "metadata": {},
   "source": [
    "## Delta Function "
   ]
  },
  {
   "cell_type": "code",
   "execution_count": 14,
   "metadata": {},
   "outputs": [
    {
     "name": "stdout",
     "output_type": "stream",
     "text": [
      "Completed: 100 steps\n",
      "Run time: 0:00:03.311142\n",
      "Simulation finished\n",
      "Completed: 100 steps\n",
      "Run time: 0:00:04.537451\n",
      "Simulation finished\n"
     ]
    }
   ],
   "source": [
    "# run baseline and normal model and save results\n",
    "model_baseline = VirusModel_baseline(parameters)\n",
    "results_baseline = model_baseline.run() \n",
    "\n",
    "df_baseline = results_baseline['variables']['Person']\n",
    "\n",
    "model = VirusModel(parameters)\n",
    "results = model.run() \n",
    "\n",
    "df = results['variables']['Person']"
   ]
  },
  {
   "cell_type": "code",
   "execution_count": 15,
   "metadata": {},
   "outputs": [],
   "source": [
    "# create baseline value\n",
    "def delta_function(disc_axis, df, df_baseline):\n",
    "    df_b1 = df_baseline.iloc[(df_baseline[disc_axis] == 1).values] \n",
    "    df_wb1 = df.iloc[(df[disc_axis] == 1).values] ['wealth'] - df_b1.groupby(level='t').mean()['wealth']\n",
    "    df_x1['wealth'] = df_wb1\n",
    "    \n",
    "    df_b0 = df_baseline.iloc[(df_baseline[disc_axis] == 0).values] \n",
    "    df_wb0 = df.iloc[(df[disc_axis] == 0).values] ['wealth'] - df_b0.groupby(level='t').mean()['wealth']\n",
    "    df_x0['wealth'] = df_wb0\n",
    "\n",
    "    df_xb = pd.concat([df_x0, df_x1])\n",
    "    \n",
    "    return df_xb"
   ]
  },
  {
   "cell_type": "code",
   "execution_count": 16,
   "metadata": {
    "scrolled": true
   },
   "outputs": [
    {
     "name": "stderr",
     "output_type": "stream",
     "text": [
      "/var/folders/_3/m4zxq5yx589d0965c6l5j1q80000gp/T/ipykernel_74391/642462805.py:5: SettingWithCopyWarning: \n",
      "A value is trying to be set on a copy of a slice from a DataFrame.\n",
      "Try using .loc[row_indexer,col_indexer] = value instead\n",
      "\n",
      "See the caveats in the documentation: https://pandas.pydata.org/pandas-docs/stable/user_guide/indexing.html#returning-a-view-versus-a-copy\n",
      "  df_x1['wealth'] = df_wb1\n",
      "/var/folders/_3/m4zxq5yx589d0965c6l5j1q80000gp/T/ipykernel_74391/642462805.py:9: SettingWithCopyWarning: \n",
      "A value is trying to be set on a copy of a slice from a DataFrame.\n",
      "Try using .loc[row_indexer,col_indexer] = value instead\n",
      "\n",
      "See the caveats in the documentation: https://pandas.pydata.org/pandas-docs/stable/user_guide/indexing.html#returning-a-view-versus-a-copy\n",
      "  df_x0['wealth'] = df_wb0\n"
     ]
    },
    {
     "data": {
      "image/png": "[encoded data removed]",
      "text/plain": [
       "<Figure size 640x480 with 1 Axes>"
      ]
     },
     "metadata": {},
     "output_type": "display_data"
    }
   ],
   "source": [
    "delta_function('race',df, df_baseline)\n",
    "viz(df_xb, df_xb.index.get_level_values('t'), df_xb['wealth'].astype(float), df_xb['race'])"
   ]
  },
  {
   "cell_type": "markdown",
   "metadata": {},
   "source": [
    "Do I want this or do I want just one line that indicates if r0 or r1 profits more?"
   ]
  },
  {
   "attachments": {},
   "cell_type": "markdown",
   "metadata": {},
   "source": [
    "## Sensitivity Analysis"
   ]
  },
  {
   "attachments": {},
   "cell_type": "markdown",
   "metadata": {},
   "source": [
    "### Parameter sample module\n",
    "\n",
    "used to sample multiple combinations from different parameter combinations\n",
    "-> also possible to create interactive simulation (seems like a nice goal): https://agentpy.readthedocs.io/en/latest/guide_interactive.html [cant make the viz work]"
   ]
  },
  {
   "cell_type": "markdown",
   "metadata": {},
   "source": []
  },
  {
   "cell_type": "markdown",
   "metadata": {},
   "source": [
    "## Analyzing results"
   ]
  },
  {
   "cell_type": "markdown",
   "metadata": {
    "raw_mimetype": "text/restructuredtext"
   },
   "source": [
    "The simulation returns a :class:`DataDict` of recorded data with dataframes:"
   ]
  },
  {
   "cell_type": "code",
   "execution_count": 17,
   "metadata": {
    "scrolled": true
   },
   "outputs": [
    {
     "data": {
      "text/html": [
       "<div>\n",
       "<style scoped>\n",
       "    .dataframe tbody tr th:only-of-type {\n",
       "        vertical-align: middle;\n",
       "    }\n",
       "\n",
       "    .dataframe tbody tr th {\n",
       "        vertical-align: top;\n",
       "    }\n",
       "\n",
       "    .dataframe thead th {\n",
       "        text-align: right;\n",
       "    }\n",
       "</style>\n",
       "<table border=\"1\" class=\"dataframe\">\n",
       "  <thead>\n",
       "    <tr style=\"text-align: right;\">\n",
       "      <th></th>\n",
       "      <th>seed</th>\n",
       "      <th>w_wr_ratio</th>\n",
       "      <th>nw_wr_ratio</th>\n",
       "    </tr>\n",
       "  </thead>\n",
       "  <tbody>\n",
       "    <tr>\n",
       "      <th>0</th>\n",
       "      <td>88141436133190495505121940722644774419</td>\n",
       "      <td>1.314032</td>\n",
       "      <td>0.766813</td>\n",
       "    </tr>\n",
       "  </tbody>\n",
       "</table>\n",
       "</div>"
      ],
      "text/plain": [
       "                                     seed  w_wr_ratio  nw_wr_ratio\n",
       "0  88141436133190495505121940722644774419    1.314032     0.766813"
      ]
     },
     "execution_count": 17,
     "metadata": {},
     "output_type": "execute_result"
    }
   ],
   "source": [
    "a =results['reporters']\n",
    "a"
   ]
  },
  {
   "cell_type": "code",
   "execution_count": 18,
   "metadata": {},
   "outputs": [],
   "source": [
    "# a[\"wealth\"].index"
   ]
  },
  {
   "cell_type": "code",
   "execution_count": 19,
   "metadata": {},
   "outputs": [
    {
     "data": {
      "text/html": [
       "<div>\n",
       "<style scoped>\n",
       "    .dataframe tbody tr th:only-of-type {\n",
       "        vertical-align: middle;\n",
       "    }\n",
       "\n",
       "    .dataframe tbody tr th {\n",
       "        vertical-align: top;\n",
       "    }\n",
       "\n",
       "    .dataframe thead th {\n",
       "        text-align: right;\n",
       "    }\n",
       "</style>\n",
       "<table border=\"1\" class=\"dataframe\">\n",
       "  <thead>\n",
       "    <tr style=\"text-align: right;\">\n",
       "      <th></th>\n",
       "      <th></th>\n",
       "      <th>wealth</th>\n",
       "      <th>fraud_pred</th>\n",
       "      <th>fraud</th>\n",
       "      <th>race</th>\n",
       "    </tr>\n",
       "    <tr>\n",
       "      <th>obj_id</th>\n",
       "      <th>t</th>\n",
       "      <th></th>\n",
       "      <th></th>\n",
       "      <th></th>\n",
       "      <th></th>\n",
       "    </tr>\n",
       "  </thead>\n",
       "  <tbody>\n",
       "    <tr>\n",
       "      <th rowspan=\"5\" valign=\"top\">1</th>\n",
       "      <th>0</th>\n",
       "      <td>0.407679</td>\n",
       "      <td>-1</td>\n",
       "      <td>0</td>\n",
       "      <td>0</td>\n",
       "    </tr>\n",
       "    <tr>\n",
       "      <th>1</th>\n",
       "      <td>0.409341</td>\n",
       "      <td>0</td>\n",
       "      <td>0</td>\n",
       "      <td>0</td>\n",
       "    </tr>\n",
       "    <tr>\n",
       "      <th>2</th>\n",
       "      <td>0.411017</td>\n",
       "      <td>0</td>\n",
       "      <td>0</td>\n",
       "      <td>0</td>\n",
       "    </tr>\n",
       "    <tr>\n",
       "      <th>3</th>\n",
       "      <td>0.412706</td>\n",
       "      <td>0</td>\n",
       "      <td>0</td>\n",
       "      <td>0</td>\n",
       "    </tr>\n",
       "    <tr>\n",
       "      <th>4</th>\n",
       "      <td>0.414409</td>\n",
       "      <td>0</td>\n",
       "      <td>0</td>\n",
       "      <td>0</td>\n",
       "    </tr>\n",
       "    <tr>\n",
       "      <th>...</th>\n",
       "      <th>...</th>\n",
       "      <td>...</td>\n",
       "      <td>...</td>\n",
       "      <td>...</td>\n",
       "      <td>...</td>\n",
       "    </tr>\n",
       "    <tr>\n",
       "      <th rowspan=\"5\" valign=\"top\">1000</th>\n",
       "      <th>96</th>\n",
       "      <td>0.471223</td>\n",
       "      <td>0</td>\n",
       "      <td>1</td>\n",
       "      <td>0</td>\n",
       "    </tr>\n",
       "    <tr>\n",
       "      <th>97</th>\n",
       "      <td>0.449666</td>\n",
       "      <td>0</td>\n",
       "      <td>1</td>\n",
       "      <td>0</td>\n",
       "    </tr>\n",
       "    <tr>\n",
       "      <th>98</th>\n",
       "      <td>0.451688</td>\n",
       "      <td>0</td>\n",
       "      <td>1</td>\n",
       "      <td>0</td>\n",
       "    </tr>\n",
       "    <tr>\n",
       "      <th>99</th>\n",
       "      <td>0.453728</td>\n",
       "      <td>0</td>\n",
       "      <td>1</td>\n",
       "      <td>0</td>\n",
       "    </tr>\n",
       "    <tr>\n",
       "      <th>100</th>\n",
       "      <td>0.432900</td>\n",
       "      <td>0</td>\n",
       "      <td>0</td>\n",
       "      <td>0</td>\n",
       "    </tr>\n",
       "  </tbody>\n",
       "</table>\n",
       "<p>101000 rows × 4 columns</p>\n",
       "</div>"
      ],
      "text/plain": [
       "              wealth  fraud_pred  fraud  race\n",
       "obj_id t                                     \n",
       "1      0    0.407679          -1      0     0\n",
       "       1    0.409341           0      0     0\n",
       "       2    0.411017           0      0     0\n",
       "       3    0.412706           0      0     0\n",
       "       4    0.414409           0      0     0\n",
       "...              ...         ...    ...   ...\n",
       "1000   96   0.471223           0      1     0\n",
       "       97   0.449666           0      1     0\n",
       "       98   0.451688           0      1     0\n",
       "       99   0.453728           0      1     0\n",
       "       100  0.432900           0      0     0\n",
       "\n",
       "[101000 rows x 4 columns]"
      ]
     },
     "execution_count": 19,
     "metadata": {},
     "output_type": "execute_result"
    }
   ],
   "source": [
    "df = results['variables']['Person']\n",
    "df"
   ]
  },
  {
   "cell_type": "code",
   "execution_count": 20,
   "metadata": {},
   "outputs": [
    {
     "data": {
      "image/png": "[encoded data removed]",
      "text/plain": [
       "<Figure size 640x480 with 1 Axes>"
      ]
     },
     "metadata": {},
     "output_type": "display_data"
    }
   ],
   "source": [
    "df = results['variables']['Person']\n",
    "fig, ax = plt.subplots()\n",
    "\n",
    "sns.lineplot(ax = ax,\n",
    "             data = df,\n",
    "             x = df.index.get_level_values('t'),\n",
    "             y = df['wealth'].astype(float),\n",
    "             hue = df['race'],\n",
    "             marker = 'o')\n",
    "\n",
    "plt.show()"
   ]
  },
  {
   "cell_type": "code",
   "execution_count": null,
   "metadata": {},
   "outputs": [],
   "source": []
  },
  {
   "cell_type": "markdown",
   "metadata": {
    "raw_mimetype": "text/restructuredtext"
   },
   "source": [
    "To visualize the evolution of our variables over time, we create a plot function."
   ]
  },
  {
   "cell_type": "code",
   "execution_count": 21,
   "metadata": {},
   "outputs": [
    {
     "ename": "AttributeError",
     "evalue": "VirusModel",
     "output_type": "error",
     "traceback": [
      "\u001b[0;31m---------------------------------------------------------------------------\u001b[0m",
      "\u001b[0;31mKeyError\u001b[0m                                  Traceback (most recent call last)",
      "File \u001b[0;32m~/miniconda3/envs/ma/lib/python3.10/site-packages/agentpy/tools.py:87\u001b[0m, in \u001b[0;36mAttrDict.__getattr__\u001b[0;34m(self, name)\u001b[0m\n\u001b[1;32m     86\u001b[0m \u001b[39mtry\u001b[39;00m:\n\u001b[0;32m---> 87\u001b[0m     \u001b[39mreturn\u001b[39;00m \u001b[39mself\u001b[39;49m\u001b[39m.\u001b[39;49m\u001b[39m__getitem__\u001b[39;49m(name)\n\u001b[1;32m     88\u001b[0m \u001b[39mexcept\u001b[39;00m \u001b[39mKeyError\u001b[39;00m:\n\u001b[1;32m     89\u001b[0m     \u001b[39m# Important for pickle to work\u001b[39;00m\n",
      "\u001b[0;31mKeyError\u001b[0m: 'VirusModel'",
      "\nDuring handling of the above exception, another exception occurred:\n",
      "\u001b[0;31mAttributeError\u001b[0m                            Traceback (most recent call last)",
      "Cell \u001b[0;32mIn[21], line 17\u001b[0m\n\u001b[1;32m     14\u001b[0m     ax\u001b[39m.\u001b[39mset_ylabel(\u001b[39m\"\u001b[39m\u001b[39mPercentage of population\u001b[39m\u001b[39m\"\u001b[39m)\n\u001b[1;32m     16\u001b[0m fig, ax \u001b[39m=\u001b[39m plt\u001b[39m.\u001b[39msubplots()\n\u001b[0;32m---> 17\u001b[0m virus_stackplot(results\u001b[39m.\u001b[39;49mvariables\u001b[39m.\u001b[39;49mVirusModel, ax)\n",
      "File \u001b[0;32m~/miniconda3/envs/ma/lib/python3.10/site-packages/agentpy/tools.py:90\u001b[0m, in \u001b[0;36mAttrDict.__getattr__\u001b[0;34m(self, name)\u001b[0m\n\u001b[1;32m     87\u001b[0m     \u001b[39mreturn\u001b[39;00m \u001b[39mself\u001b[39m\u001b[39m.\u001b[39m\u001b[39m__getitem__\u001b[39m(name)\n\u001b[1;32m     88\u001b[0m \u001b[39mexcept\u001b[39;00m \u001b[39mKeyError\u001b[39;00m:\n\u001b[1;32m     89\u001b[0m     \u001b[39m# Important for pickle to work\u001b[39;00m\n\u001b[0;32m---> 90\u001b[0m     \u001b[39mraise\u001b[39;00m \u001b[39mAttributeError\u001b[39;00m(name)\n",
      "\u001b[0;31mAttributeError\u001b[0m: VirusModel"
     ]
    },
    {
     "data": {
      "image/png": "[encoded data removed]",
      "text/plain": [
       "<Figure size 640x480 with 1 Axes>"
      ]
     },
     "metadata": {},
     "output_type": "display_data"
    }
   ],
   "source": [
    "def virus_stackplot(data, ax):\n",
    "    \"\"\" Stackplot of people's condition over time. \"\"\"\n",
    "    x = data.index.get_level_values('t')\n",
    "    y = [data[var] for var in ['I', 'S', 'R']]\n",
    "    \n",
    "    sns.set()\n",
    "    ax.stackplot(x, y, labels=['Infected', 'Susceptible', 'Recovered'],\n",
    "                 colors = ['r', 'b', 'g'])    \n",
    "    \n",
    "    ax.legend()\n",
    "    ax.set_xlim(0, max(1, len(x)-1))\n",
    "    ax.set_ylim(0, 1)\n",
    "    ax.set_xlabel(\"Time steps\")\n",
    "    ax.set_ylabel(\"Percentage of population\")\n",
    "\n",
    "fig, ax = plt.subplots()\n",
    "virus_stackplot(results.variables.VirusModel, ax)"
   ]
  },
  {
   "cell_type": "markdown",
   "metadata": {},
   "source": [
    "## Creating an animation"
   ]
  },
  {
   "cell_type": "markdown",
   "metadata": {
    "raw_mimetype": "text/restructuredtext"
   },
   "source": [
    "We can also animate the model's dynamics as follows.\n",
    "The function :func:`animation_plot` takes a model instance \n",
    "and displays the previous stackplot together with a network graph. \n",
    "The function :func:`animate` will call this plot\n",
    "function for every time-step and return an :class:`matplotlib.animation.Animation`."
   ]
  },
  {
   "cell_type": "code",
   "execution_count": null,
   "metadata": {},
   "outputs": [],
   "source": [
    "def animation_plot(m, axs):\n",
    "    ax1, ax2 = axs\n",
    "    ax1.set_title(\"Virus spread\")\n",
    "    ax2.set_title(f\"Share infected: {m.I}\")\n",
    "    \n",
    "    # Plot stackplot on first axis\n",
    "    virus_stackplot(m.output.variables.VirusModel, ax1)\n",
    "    \n",
    "    # Plot network on second axis\n",
    "    color_dict = {0:'b', 1:'r', 2:'g'}\n",
    "    colors = [color_dict[c] for c in m.agents.condition]\n",
    "    nx.draw_circular(m.network.graph, node_color=colors, \n",
    "                     node_size=50, ax=ax2)\n",
    "\n",
    "fig, axs = plt.subplots(1, 2, figsize=(8, 4)) # Prepare figure \n",
    "parameters['population'] = 50 # Lower population for better visibility \n",
    "animation = ap.animate(VirusModel(parameters), fig, axs, animation_plot)"
   ]
  },
  {
   "cell_type": "markdown",
   "metadata": {},
   "source": [
    "Using Jupyter, we can display this animation directly in our notebook."
   ]
  },
  {
   "cell_type": "code",
   "execution_count": null,
   "metadata": {},
   "outputs": [],
   "source": [
    "IPython.display.HTML(animation.to_jshtml()) "
   ]
  },
  {
   "cell_type": "markdown",
   "metadata": {},
   "source": [
    "## Multi-run experiment"
   ]
  },
  {
   "cell_type": "markdown",
   "metadata": {
    "raw_mimetype": "text/restructuredtext"
   },
   "source": [
    "To explore the effect of different parameter values, \n",
    "we use the classes :class:`Sample`, :class:`Range`, and :class:`IntRange`\n",
    "to create a sample of different parameter combinations.\n",
    "\n",
    "What I want is trying a bunch of "
   ]
  },
  {
   "cell_type": "code",
   "execution_count": null,
   "metadata": {},
   "outputs": [],
   "source": [
    "# parameters = {\n",
    "#     'population': ap.IntRange(100, 1000),\n",
    "#     'infection_chance': ap.Range(0.1, 1.),\n",
    "#     'recovery_chance': ap.Range(0.1, 1.),\n",
    "#     'initial_infection_share': 0.1,\n",
    "#     'number_of_neighbors': 2,\n",
    "#     'network_randomness': ap.Range(0., 1.)\n",
    "# }\n",
    "# parameters = {  \n",
    "#     'population': 1000,\n",
    "#     'infection_chance': 0.3,\n",
    "#     'recovery_chance': 0.1,\n",
    "#     'initial_infection_share': 0.1,\n",
    "#     'number_of_neighbors': 2,\n",
    "#     'network_randomness': 0.5   \n",
    "# }\n",
    "\n",
    "parameters = {\n",
    "    'my_parameter':42,\n",
    "    'agents':ap.IntRange(50, 150),\n",
    "    'steps':10,\n",
    "    'wealth_appeal_corr': ap.Range(-0.2, 0.2), # >0 more wealth higher appeal chance\n",
    "    'acc': ap.Range(0.5, 0.8), # accuracy of fraud prdediction\n",
    "    'appeal_wealth': 0.2 # minimal wealth needed for appeal (could also become a param for distr. eventually)\n",
    "    #'wealth_impact'\n",
    "} \n",
    "\n",
    "sample = ap.Sample(\n",
    "    parameters, \n",
    "    n=128, \n",
    "    method='saltelli', \n",
    "    calc_second_order=False\n",
    ")"
   ]
  },
  {
   "cell_type": "markdown",
   "metadata": {
    "raw_mimetype": "text/restructuredtext"
   },
   "source": [
    "We then create an :class:`Experiment` that takes a model and sample as input.\n",
    ":func:`Experiment.run` runs our model repeatedly over the whole sample \n",
    "with ten random iterations per parameter combination."
   ]
  },
  {
   "cell_type": "code",
   "execution_count": null,
   "metadata": {},
   "outputs": [],
   "source": [
    "exp = ap.Experiment(VirusModel, sample, iterations=2, record = True)\n",
    "results = exp.run()"
   ]
  },
  {
   "cell_type": "markdown",
   "metadata": {},
   "source": [
    "Optionally, we can save and load our results as follows:"
   ]
  },
  {
   "cell_type": "code",
   "execution_count": null,
   "metadata": {},
   "outputs": [],
   "source": [
    "results.save()"
   ]
  },
  {
   "cell_type": "code",
   "execution_count": null,
   "metadata": {},
   "outputs": [],
   "source": [
    "results = ap.DataDict.load('VirusModel')"
   ]
  },
  {
   "cell_type": "code",
   "execution_count": null,
   "metadata": {},
   "outputs": [],
   "source": [
    "results['reporters']"
   ]
  },
  {
   "cell_type": "markdown",
   "metadata": {
    "raw_mimetype": "text/restructuredtext"
   },
   "source": [
    "The measures in our :class:`DataDict` now hold one row for each simulation run."
   ]
  },
  {
   "cell_type": "code",
   "execution_count": null,
   "metadata": {},
   "outputs": [],
   "source": [
    "a =results['parameters']['sample']\n",
    "a"
   ]
  },
  {
   "cell_type": "code",
   "execution_count": null,
   "metadata": {},
   "outputs": [],
   "source": [
    "results['reporters']"
   ]
  },
  {
   "cell_type": "markdown",
   "metadata": {
    "raw_mimetype": "text/restructuredtext"
   },
   "source": [
    "We can use standard functions of the pandas library like \n",
    ":func:`pandas.DataFrame.hist` to look at summary statistics."
   ]
  },
  {
   "cell_type": "code",
   "execution_count": null,
   "metadata": {},
   "outputs": [],
   "source": [
    "results.reporters.hist();"
   ]
  },
  {
   "cell_type": "markdown",
   "metadata": {},
   "source": [
    "## Sensitivity analysis"
   ]
  },
  {
   "cell_type": "markdown",
   "metadata": {
    "raw_mimetype": "text/restructuredtext"
   },
   "source": [
    "The function :func:`DataDict.calc_sobol` calculates `Sobol sensitivity\n",
    "indices <https://salib.readthedocs.io/en/latest/api.html#sobol-sensitivity-analysis>`_ \n",
    "for the passed results and parameter ranges, using the \n",
    "`SAlib <https://salib.readthedocs.io/en/latest/basics.html>`_ package. "
   ]
  },
  {
   "cell_type": "code",
   "execution_count": null,
   "metadata": {},
   "outputs": [],
   "source": [
    "results.calc_sobol()"
   ]
  },
  {
   "cell_type": "code",
   "execution_count": null,
   "metadata": {
    "scrolled": true
   },
   "outputs": [],
   "source": [
    "results['reporters']"
   ]
  },
  {
   "cell_type": "code",
   "execution_count": null,
   "metadata": {},
   "outputs": [],
   "source": [
    "si_list = results.sensitivity.sobol.groupby(by='reporter')\n",
    "si_conf_list = results.sensitivity.sobol_conf.groupby(by='reporter')\n",
    "results.sensitivity.sobol"
   ]
  },
  {
   "cell_type": "markdown",
   "metadata": {
    "raw_mimetype": "text/restructuredtext"
   },
   "source": [
    "This adds a new category `sensitivity` to our results, which includes:\n",
    "\n",
    "- :attr:`sobol` returns first-order sobol sensitivity indices\n",
    "- :attr:`sobol_conf` returns confidence ranges for the above indices\n",
    "\n",
    "We can use pandas to create a bar plot that visualizes these sensitivity indices."
   ]
  },
  {
   "cell_type": "code",
   "execution_count": null,
   "metadata": {},
   "outputs": [],
   "source": [
    "def plot_sobol(results):\n",
    "    \"\"\" Bar plot of Sobol sensitivity indices. \"\"\"\n",
    "    \n",
    "    sns.set()\n",
    "    fig, axs = plt.subplots(1, 2, figsize=(8, 4))\n",
    "    si_list = results.sensitivity.sobol.groupby(by='reporter')\n",
    "    si_conf_list = results.sensitivity.sobol_conf.groupby(by='reporter')\n",
    "\n",
    "    for (key, si), (_, err), ax in zip(si_list, si_conf_list, axs):\n",
    "        print(si)\n",
    "        si = si.droplevel('reporter')\n",
    "        print(si)\n",
    "        err = err.droplevel('reporter')\n",
    "        si.plot.barh(xerr=err, title=key, ax=ax, capsize = 3)\n",
    "        ax.set_xlim(0)\n",
    "    \n",
    "    axs[0].get_legend().remove()\n",
    "    axs[1].set(ylabel=None, yticklabels=[]) \n",
    "    axs[1].tick_params(left=False)\n",
    "    plt.tight_layout()\n",
    "    \n",
    "plot_sobol(results)"
   ]
  },
  {
   "cell_type": "markdown",
   "metadata": {},
   "source": [
    "Alternatively, we can also display sensitivities by plotting \n",
    "average evaluation measures over our parameter variations. "
   ]
  },
  {
   "cell_type": "code",
   "execution_count": null,
   "metadata": {},
   "outputs": [],
   "source": [
    "def plot_sensitivity(results):\n",
    "    \"\"\" Show average simulation results for different parameter values. \"\"\"\n",
    "    \n",
    "    sns.set()\n",
    "    fig, axs = plt.subplots(2, 2, figsize=(8, 8))\n",
    "    axs = [i for j in axs for i in j] # Flatten list\n",
    "    \n",
    "    data = results.arrange_reporters().astype('float')\n",
    "    params = results.parameters.sample.keys() \n",
    "    print(params[0])\n",
    "    \n",
    "    for x, ax in zip(params, axs):\n",
    "        for y in results.reporters.columns:\n",
    "            sns.regplot(x=x, y=y, data=data, ax=ax, ci=99, \n",
    "                        x_bins=15, fit_reg=False, label=y)  \n",
    "        ax.set_ylim(0.8,1.2)\n",
    "        ax.set_ylabel('')\n",
    "        ax.legend()\n",
    "        \n",
    "    plt.tight_layout()\n",
    "\n",
    "plot_sensitivity(results)"
   ]
  }
 ],
 "metadata": {
  "kernelspec": {
   "display_name": "Python 3 (ipykernel)",
   "language": "python",
   "name": "python3"
  },
  "language_info": {
   "codemirror_mode": {
    "name": "ipython",
    "version": 3
   },
   "file_extension": ".py",
   "mimetype": "text/x-python",
   "name": "python",
   "nbconvert_exporter": "python",
   "pygments_lexer": "ipython3",
   "version": "3.10.9"
  }
 },
 "nbformat": 4,
 "nbformat_minor": 4
}
