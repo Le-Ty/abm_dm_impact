{
 "cells": [
  {
   "cell_type": "markdown",
   "metadata": {},
   "source": [
    "# Delta Function"
   ]
  },
  {
   "cell_type": "markdown",
   "metadata": {},
   "source": [
    "This notebook presents an agent-based model that simulates the propagation of a disease through a network.\n",
    "It demonstrates how to use the [agentpy](https://agentpy.readthedocs.io) package to create and visualize networks, use the interactive module, and perform different types of sensitivity analysis. "
   ]
  },
  {
   "cell_type": "code",
   "execution_count": 3,
   "metadata": {},
   "outputs": [],
   "source": [
    "# Model design\n",
    "import agentpy as ap\n",
    "import networkx as nx \n",
    "import random \n",
    "import numpy as np\n",
    "import pandas as pd\n",
    "\n",
    "# Visualization\n",
    "import matplotlib.pyplot as plt \n",
    "import seaborn as sns\n",
    "import IPython"
   ]
  },
  {
   "cell_type": "markdown",
   "metadata": {},
   "source": [
    "## About the model\n",
    "\n",
    "The agents of this model are people, which can be in one of the following three conditions: susceptible to the disease (S), infected (I), or recovered (R). The agents are connected to each other through a small-world network of peers. At every time-step, infected agents can infect their peers or recover from the disease based on random chance."
   ]
  },
  {
   "cell_type": "markdown",
   "metadata": {},
   "source": [
    "## Defining the model"
   ]
  },
  {
   "cell_type": "markdown",
   "metadata": {
    "raw_mimetype": "text/restructuredtext"
   },
   "source": [
    "We define a new agent type :class:`Person` by creating a subclass of :class:`Agent`.\n",
    "This agent has two methods: :func:`setup` will be called automatically at the agent's creation,\n",
    "and :func:`being_sick` will be called by the :func:`Model.step` function.\n",
    "Three tools are used within this class:\n",
    "\n",
    "- :attr:`Agent.p` returns the parameters of the model\n",
    "- :func:`Agent.neighbors` returns a list of the agents' peers in the network\n",
    "- :func:`random.random` returns a uniform random draw between 0 and 1\n",
    "\n",
    "wealth by race https://www.federalreserve.gov/econres/notes/feds-notes/disparities-in-wealth-by-race-and-ethnicity-in-the-2019-survey-of-consumer-finances-20200928.html\n",
    "\n",
    "rank for the US:\n",
    "https://www.federalreserve.gov/econres/notes/feds-notes/wealth-inequality-and-the-racial-wealth-gap-accessible-20211022.htm#fig3\n"
   ]
  },
  {
   "cell_type": "code",
   "execution_count": 4,
   "metadata": {
    "scrolled": true
   },
   "outputs": [
    {
     "data": {
      "image/png": "[encoded data removed]",
      "text/plain": [
       "<Figure size 640x480 with 1 Axes>"
      ]
     },
     "metadata": {},
     "output_type": "display_data"
    }
   ],
   "source": [
    "import matplotlib.pyplot as plt\n",
    "\n",
    "values = plt.hist(np.random.beta(1.5, 5, 10000),\n",
    "\n",
    "                  bins=200, density=True)\n",
    "\n",
    "plt.show()"
   ]
  },
  {
   "cell_type": "code",
   "execution_count": 5,
   "metadata": {},
   "outputs": [
    {
     "data": {
      "image/png": "[encoded data removed]",
      "text/plain": [
       "<Figure size 640x480 with 1 Axes>"
      ]
     },
     "metadata": {},
     "output_type": "display_data"
    }
   ],
   "source": [
    "import matplotlib.pyplot as plt\n",
    "\n",
    "values = plt.hist(np.random.beta(5, 3, 10000),\n",
    "\n",
    "                  bins=200, density=True)\n",
    "\n",
    "plt.show()"
   ]
  },
  {
   "cell_type": "code",
   "execution_count": 6,
   "metadata": {},
   "outputs": [],
   "source": [
    "class Person(ap.Agent):\n",
    "    \n",
    "    def setup(self):  \n",
    "        \"\"\" Initialize a new variable at agent creation. \"\"\"\n",
    "        # self.condition = 0  # Susceptible = 0, Infected = 1, Recovered = 2\n",
    "        a = 5 # shape\n",
    "        rng = np.random.default_rng()\n",
    "        \n",
    "        \n",
    "        # race\n",
    "        self.race =  rng.binomial(1,0.2)#binary not white0.2 /  white for the moment 0.8\n",
    "        \n",
    "        if self.race == 0:\n",
    "            self.wealth = rng.beta(self.p.wealth_low_0, 5,1)[0]\n",
    "        else:\n",
    "            self.wealth = rng.beta(5, self.p.wealth_high_1,1)[0]\n",
    "            \n",
    "\n",
    "        # fraud\n",
    "        self.fraud = rng.binomial(1,0.5,1)[0]\n",
    "        self.fraud_pred = -1\n",
    "        self.convicted = 0\n",
    "\n",
    "        \n",
    "    def fraud_algo(self):\n",
    "        \"\"\" DM mechanism can also be ML\"\"\"\n",
    "        rng = np.random.default_rng()\n",
    "        # self.fraud_pred = rng.binomial(1, 0.5)\n",
    "        if self.fraud == 1:\n",
    "            fraud_cor = rng.binomial(1,self.p.acc)\n",
    "        else:\n",
    "            fraud_cor = rng.binomial(1,1-self.p.acc)\n",
    "            \n",
    "        self.fraud_pred = rng.binomial(1, fraud_cor*(0.8-self.p.wealth_appeal_corr))\n",
    "        \n",
    "\n",
    "    def appeal(self):\n",
    "        \"\"\"Possibility to Appeal to Fraud Algo Decision\"\"\"\n",
    "        rng = np.random.default_rng()\n",
    "#         print('bye')\n",
    "        if self.fraud_pred == 1 and self.wealth > self.p.appeal_wealth:\n",
    "            self.fraud_algo()\n",
    "            # self.fraud_pred = rng.binomial(1, 0.4)\n",
    "            \n",
    "    def convict(self):\n",
    "        \"\"\" Conviction and Consequences\"\"\"\n",
    "        rng = np.random.default_rng()\n",
    "        if self.fraud_pred == 1:\n",
    "            if rng.binomial(1,0.8) == 1:\n",
    "                # pay fine, get on record, \n",
    "                self.wealth = self.wealth - np.max([0.01,(self.wealth*0.05)])\n",
    "                self.convicted =+ 1\n",
    "                self.fraud = rng.binomial(1,0.5,1)[0]\n",
    "                self.fraud_pred = 0\n",
    "    \n",
    "    def wealth_grow(self):\n",
    "        self.wealth = min(1,self.wealth+pow(self.wealth,2)*0.01)\n",
    "            \n",
    "            \n",
    "        \n",
    "\n",
    "\n",
    "#     def step(self):\n",
    "#         # The agent's step will go here.\n",
    "#         # For demonstration purposes we will print the agent's unique_id\n",
    "#         self.appeal()\n",
    "#         print(\"Hi, I am agent \" + str(self.unique_id) + \".\")\n",
    "#         # print(\"my wealth, job, fraud, fraud_pred is:\" + str(self.wealth)+ str(self.job) + str(self.fraud)+ str(self.fraud_pred))"
   ]
  },
  {
   "cell_type": "markdown",
   "metadata": {
    "raw_mimetype": "text/restructuredtext"
   },
   "source": [
    "Next, we define our model :class:`VirusModel` by creating a subclass of :class:`Model`.\n",
    "The four methods of this class will be called automatically at different steps of the simulation,\n",
    "as described in :ref:`overview_simulation`."
   ]
  },
  {
   "cell_type": "code",
   "execution_count": 7,
   "metadata": {},
   "outputs": [],
   "source": [
    "class VirusModel_baseline(ap.Model):\n",
    "    \n",
    "    def setup(self): #before\n",
    "        \"\"\" Initialize the agents and network of the model. \"\"\"\n",
    "        \n",
    "        # Create agents and network\n",
    "        self.agents = ap.AgentList(self, self.p.agents, Person)\n",
    "    \n",
    "        self.w_wealth_t0 = sum((self.agents.select(self.agents.race == 1)).wealth) / len((self.agents.select(self.agents.race == 1)))\n",
    "        self.nw_wealth_t0 = sum((self.agents.select(self.agents.race == 0)).wealth) / len((self.agents.select(self.agents.race == 0)))\n",
    "    \n",
    "\n",
    "    def step(self): # during each step\n",
    "        \"\"\" Define the models' events per simulation step. \"\"\"\n",
    "        self.agents.fraud_algo()\n",
    "#         self.agents.appeal()\n",
    "        self.agents.convict()\n",
    "        self.agents.wealth_grow()\n",
    "        \n",
    "\n",
    "\n",
    "    def update(self):  # after each step\n",
    "        \"\"\" Record variables after setup and each step. \"\"\"\n",
    "        self.agents.record('wealth')\n",
    "        self.agents.record('fraud_pred')\n",
    "        self.agents.record('fraud')\n",
    "        self.agents.record('race')\n",
    "        \n",
    "        \n",
    "    \n",
    "    def end(self):     \n",
    "        \"\"\" Record evaluation measures at the end of the simulation. \"\"\"\n",
    "#         self.report('wealth', self.agents.wealth)\n",
    "#         self.report('race', self.agents.race)\n",
    "#         self.report('my_measure', 1)\n",
    "        \n",
    "        # record race wealth ratio \n",
    "        \n",
    "        w_wealth_tn = sum((self.agents.select(self.agents.race == 1)).wealth) / len((self.agents.select(self.agents.race == 1)))\n",
    "        nw_wealth_tn = sum((self.agents.select(self.agents.race == 0)).wealth) / len((self.agents.select(self.agents.race == 0)))\n",
    "        \n",
    "        w_wr_ratio = w_wealth_tn/self.w_wealth_t0\n",
    "        nw_wr_ratio = nw_wealth_tn/self.nw_wealth_t0\n",
    "        \n",
    "        self.report('w_wr_ratio', w_wr_ratio)\n",
    "        self.report('nw_wr_ratio', nw_wr_ratio)\n",
    "            \n",
    "        \n",
    "        \n",
    "#         # Record final evaluation measures\n",
    "#         self.report('Total share infected', self.I + self.R) \n",
    "#         self.report('Peak share infected', max(self.log['I']))"
   ]
  },
  {
   "cell_type": "code",
   "execution_count": 8,
   "metadata": {},
   "outputs": [],
   "source": [
    "class VirusModel(ap.Model):\n",
    "    \n",
    "    def setup(self): #before\n",
    "        \"\"\" Initialize the agents and network of the model. \"\"\"\n",
    "        \n",
    "        # Create agents and network\n",
    "        self.agents = ap.AgentList(self, self.p.agents, Person)\n",
    "    \n",
    "        self.w_wealth_t0 = sum((self.agents.select(self.agents.race == 1)).wealth) / len((self.agents.select(self.agents.race == 1)))\n",
    "        self.nw_wealth_t0 = sum((self.agents.select(self.agents.race == 0)).wealth) / len((self.agents.select(self.agents.race == 0)))\n",
    "    \n",
    "\n",
    "    def step(self): # during each step\n",
    "        \"\"\" Define the models' events per simulation step. \"\"\"\n",
    "        self.agents.fraud_algo()\n",
    "        self.agents.appeal()\n",
    "        self.agents.convict()\n",
    "        self.agents.wealth_grow()\n",
    "        \n",
    "\n",
    "\n",
    "    def update(self):  # after each step\n",
    "        \"\"\" Record variables after setup and each step. \"\"\"\n",
    "        self.agents.record('wealth')\n",
    "        self.agents.record('fraud_pred')\n",
    "        self.agents.record('fraud')\n",
    "        self.agents.record('race')\n",
    "        \n",
    "        \n",
    "    \n",
    "    def end(self):     \n",
    "        \"\"\" Record evaluation measures at the end of the simulation. \"\"\"\n",
    "#         self.report('wealth', self.agents.wealth)\n",
    "#         self.report('race', self.agents.race)\n",
    "#         self.report('my_measure', 1)\n",
    "        \n",
    "        # record race wealth ratio \n",
    "        \n",
    "        w_wealth_tn = sum((self.agents.select(self.agents.race == 1)).wealth) / len((self.agents.select(self.agents.race == 1)))\n",
    "        nw_wealth_tn = sum((self.agents.select(self.agents.race == 0)).wealth) / len((self.agents.select(self.agents.race == 0)))\n",
    "        \n",
    "        w_wr_ratio = w_wealth_tn/self.w_wealth_t0\n",
    "        nw_wr_ratio = nw_wealth_tn/self.nw_wealth_t0\n",
    "        \n",
    "        self.report('w_wr_ratio', w_wr_ratio)\n",
    "        self.report('nw_wr_ratio', nw_wr_ratio)\n",
    "            \n",
    "        \n",
    "        \n",
    "#         # Record final evaluation measures\n",
    "#         self.report('Total share infected', self.I + self.R) \n",
    "#         self.report('Peak share infected', max(self.log['I']))"
   ]
  },
  {
   "cell_type": "markdown",
   "metadata": {},
   "source": [
    "## Vizualisation"
   ]
  },
  {
   "cell_type": "code",
   "execution_count": 9,
   "metadata": {},
   "outputs": [],
   "source": [
    "def viz(data, x, y, hue):\n",
    "    fig, ax = plt.subplots()\n",
    "\n",
    "    sns.lineplot(ax = ax,\n",
    "                 data = data,\n",
    "                 x = x,\n",
    "                 y = y,\n",
    "                 hue = hue,\n",
    "                 marker = 'o')\n",
    "\n",
    "    plt.show()"
   ]
  },
  {
   "cell_type": "markdown",
   "metadata": {},
   "source": [
    "## Running a simulation"
   ]
  },
  {
   "cell_type": "markdown",
   "metadata": {
    "raw_mimetype": "text/restructuredtext"
   },
   "source": [
    "To run our model, we define a dictionary with our parameters. \n",
    "We then create a new instance of our model, passing the parameters as an argument, \n",
    "and use the method :func:`Model.run` to perform the simulation and return it's output. "
   ]
  },
  {
   "cell_type": "code",
   "execution_count": 10,
   "metadata": {
    "scrolled": true
   },
   "outputs": [
    {
     "name": "stdout",
     "output_type": "stream",
     "text": [
      "Completed: 100 steps\n",
      "Run time: 0:00:03.330353\n",
      "Simulation finished\n"
     ]
    },
    {
     "data": {
      "image/png": "[encoded data removed]",
      "text/plain": [
       "<Figure size 640x480 with 1 Axes>"
      ]
     },
     "metadata": {},
     "output_type": "display_data"
    }
   ],
   "source": [
    "parameters = {\n",
    "    'my_parameter':42,\n",
    "    'agents':1000,\n",
    "    'steps':100,\n",
    "    'wealth_appeal_corr': 0, # >0 more wealth higher appeal chance\n",
    "    'acc': 0.8, # accuracy of fraud prdediction\n",
    "    'appeal_wealth': 0.2, # minimal wealth needed for appeal (could also become a param for distr. eventually)\n",
    "    'wealth_low_0': 1.5, # shape of beta distribution for race 0\n",
    "    'wealth_high_1': 3\n",
    "}\n",
    "\n",
    "model_baseline = VirusModel_baseline(parameters)\n",
    "results_baseline = model_baseline.run() \n",
    "\n",
    "df_baseline = results_baseline['variables']['Person']\n",
    "\n",
    "viz(df_baseline, df_baseline.index.get_level_values('t'), df_baseline['wealth'].astype(float), df_baseline['race'])"
   ]
  },
  {
   "cell_type": "code",
   "execution_count": 11,
   "metadata": {
    "scrolled": true
   },
   "outputs": [
    {
     "name": "stdout",
     "output_type": "stream",
     "text": [
      "Completed: 100 steps\n",
      "Run time: 0:00:04.583670\n",
      "Simulation finished\n"
     ]
    },
    {
     "data": {
      "image/png": "[encoded data removed]",
      "text/plain": [
       "<Figure size 640x480 with 1 Axes>"
      ]
     },
     "metadata": {},
     "output_type": "display_data"
    }
   ],
   "source": [
    "parameters = {\n",
    "    'my_parameter':42,\n",
    "    'agents':1000,\n",
    "    'steps':100,\n",
    "    'wealth_appeal_corr': 0, # >0 more wealth higher appeal chance\n",
    "    'acc': 0.8, # accuracy of fraud prdediction\n",
    "    'appeal_wealth': 0.2, # minimal wealth needed for appeal (could also become a param for distr. eventually)\n",
    "    'wealth_low_0': 1.5, # shape of beta distribution for race 0\n",
    "    'wealth_high_1': 3\n",
    "}\n",
    "\n",
    "model = VirusModel(parameters)\n",
    "results = model.run() \n",
    "\n",
    "df = results['variables']['Person']\n",
    "\n",
    "viz(df, df.index.get_level_values('t'), df['wealth'].astype(float), df['race'])"
   ]
  },
  {
   "cell_type": "code",
   "execution_count": 12,
   "metadata": {},
   "outputs": [],
   "source": [
    "# create baseline value\n",
    "df_b1 = df_baseline.iloc[(df_baseline['race'] == 1).values] \n",
    "baseline1 = df_b1.groupby(level='t').mean()\n",
    "# df_b\n",
    "df_b0 = df_baseline.iloc[(df_baseline['race'] == 0).values] \n",
    "baseline0 = df_b0.groupby(level='t').mean()"
   ]
  },
  {
   "cell_type": "code",
   "execution_count": 13,
   "metadata": {
    "scrolled": true
   },
   "outputs": [
    {
     "name": "stderr",
     "output_type": "stream",
     "text": [
      "/var/folders/_3/m4zxq5yx589d0965c6l5j1q80000gp/T/ipykernel_77251/2096043862.py:3: SettingWithCopyWarning: \n",
      "A value is trying to be set on a copy of a slice from a DataFrame.\n",
      "Try using .loc[row_indexer,col_indexer] = value instead\n",
      "\n",
      "See the caveats in the documentation: https://pandas.pydata.org/pandas-docs/stable/user_guide/indexing.html#returning-a-view-versus-a-copy\n",
      "  df_x1['wealth'] = df_wb1\n",
      "/var/folders/_3/m4zxq5yx589d0965c6l5j1q80000gp/T/ipykernel_77251/2096043862.py:10: SettingWithCopyWarning: \n",
      "A value is trying to be set on a copy of a slice from a DataFrame.\n",
      "Try using .loc[row_indexer,col_indexer] = value instead\n",
      "\n",
      "See the caveats in the documentation: https://pandas.pydata.org/pandas-docs/stable/user_guide/indexing.html#returning-a-view-versus-a-copy\n",
      "  df_x0['wealth'] = df_wb0\n"
     ]
    }
   ],
   "source": [
    "df_x1 = df.iloc[(df['race'] == 1).values] \n",
    "df_wb1 = df_x1['wealth'] - baseline1['wealth']\n",
    "df_x1['wealth'] = df_wb1\n",
    "\n",
    "\n",
    "\n",
    "\n",
    "df_x0 = df.iloc[(df['race'] == 0).values] \n",
    "df_wb0 = df_x0['wealth'] - baseline0['wealth']\n",
    "df_x0['wealth'] = df_wb0\n",
    "\n",
    "df_xb = pd.concat([df_x0, df_x1])\n"
   ]
  },
  {
   "cell_type": "code",
   "execution_count": 14,
   "metadata": {
    "scrolled": true
   },
   "outputs": [
    {
     "data": {
      "image/png": "[encoded data removed]",
      "text/plain": [
       "<Figure size 640x480 with 1 Axes>"
      ]
     },
     "metadata": {},
     "output_type": "display_data"
    }
   ],
   "source": [
    "viz(df_xb, df_xb.index.get_level_values('t'), df_xb['wealth'].astype(float), df_xb['race'])"
   ]
  },
  {
   "cell_type": "markdown",
   "metadata": {},
   "source": [
    "## Delta Function "
   ]
  },
  {
   "cell_type": "code",
   "execution_count": 15,
   "metadata": {},
   "outputs": [
    {
     "name": "stdout",
     "output_type": "stream",
     "text": [
      "Completed: 100 steps\n",
      "Run time: 0:00:03.276820\n",
      "Simulation finished\n",
      "Completed: 100 steps\n",
      "Run time: 0:00:04.679602\n",
      "Simulation finished\n"
     ]
    }
   ],
   "source": [
    "# run baseline and normal model and save results\n",
    "model_baseline = VirusModel_baseline(parameters)\n",
    "results_baseline = model_baseline.run() \n",
    "\n",
    "df_baseline = results_baseline['variables']['Person']\n",
    "\n",
    "model = VirusModel(parameters)\n",
    "results = model.run() \n",
    "\n",
    "df = results['variables']['Person']"
   ]
  },
  {
   "cell_type": "code",
   "execution_count": 16,
   "metadata": {},
   "outputs": [],
   "source": [
    "# create baseline value\n",
    "def delta_function(disc_axis, df, df_baseline):\n",
    "    df_b1 = df_baseline.iloc[(df_baseline[disc_axis] == 1).values] \n",
    "    df_wb1 = df.iloc[(df[disc_axis] == 1).values] ['wealth'] - df_b1.groupby(level='t').mean()['wealth']\n",
    "    df_x1['wealth'] = df_wb1\n",
    "    \n",
    "    df_b0 = df_baseline.iloc[(df_baseline[disc_axis] == 0).values] \n",
    "    df_wb0 = df.iloc[(df[disc_axis] == 0).values] ['wealth'] - df_b0.groupby(level='t').mean()['wealth']\n",
    "    df_x0['wealth'] = df_wb0\n",
    "\n",
    "    df_xb = pd.concat([df_x0, df_x1])\n",
    "    \n",
    "    return df_xb"
   ]
  },
  {
   "cell_type": "code",
   "execution_count": 17,
   "metadata": {
    "scrolled": true
   },
   "outputs": [
    {
     "data": {
      "image/png": "[encoded data removed]",
      "text/plain": [
       "<Figure size 640x480 with 1 Axes>"
      ]
     },
     "metadata": {},
     "output_type": "display_data"
    }
   ],
   "source": [
    "delta_function('race',df, df_baseline)\n",
    "viz(df_xb, df_xb.index.get_level_values('t'), df_xb['wealth'].astype(float), df_xb['race'])"
   ]
  },
  {
   "cell_type": "markdown",
   "metadata": {},
   "source": [
    "Do I want this or do I want just one line that indicates if r0 or r1 profits more?"
   ]
  },
  {
   "attachments": {},
   "cell_type": "markdown",
   "metadata": {},
   "source": [
    "## Sensitivity Analysis\n",
    "\n",
    "\n",
    "\n",
    "1. First-order indices: measures the contribution to the output variance by a single model input alone.\n",
    "2. Second-order indices: measures the contribution to the output variance caused by the interaction of two model inputs.\n",
    "3. Total-order index: measures the contribution to the output variance caused by a model input, including both its first-order effects (the input varying alone) and all higher-order interactions.\n"
   ]
  },
  {
   "attachments": {},
   "cell_type": "markdown",
   "metadata": {},
   "source": [
    "### SALib\n",
    "\n",
    "creates/samples model input and analyzes its out put with respect to its sensitivity.\n",
    "Is independent from the computational model -> samples need to be looped over... \n",
    "=> seemes like last resort to me"
   ]
  },
  {
   "attachments": {},
   "cell_type": "markdown",
   "metadata": {},
   "source": [
    "### EMA Workbench\n",
    "Powerful package with many different sesnitivity analysis.\n",
    "Seems like maybe an overkill for now: https://emaworkbench.readthedocs.io/en/latest/indepth_tutorial/general-introduction.html\n"
   ]
  },
  {
   "attachments": {},
   "cell_type": "markdown",
   "metadata": {},
   "source": [
    "### Parameter sample module\n",
    "\n",
    "used to sample multiple combinations from different parameter combinations \\\\\n",
    "-> also possible to create interactive simulation (seems like a nice goal): https://agentpy.readthedocs.io/en/latest/guide_interactive.html [cant make the viz work]\n",
    "\n",
    "seems like it covers everything"
   ]
  },
  {
   "cell_type": "code",
   "execution_count": 18,
   "metadata": {},
   "outputs": [
    {
     "name": "stdout",
     "output_type": "stream",
     "text": [
      "Help on function agentpy_model_as_function in module agentpy.model:\n",
      "\n",
      "agentpy_model_as_function(**kwargs)\n",
      "    Performs a simulation of the model 'VirusModel'.\n",
      "    \n",
      "    Arguments:\n",
      "        **kwargs: Keyword arguments with parameter values.\n",
      "    \n",
      "    Returns:\n",
      "        dict: Reporters of the model.\n",
      "\n"
     ]
    }
   ],
   "source": [
    "vm = VirusModel.as_function()\n",
    "help(vm)\n",
    "\n"
   ]
  },
  {
   "cell_type": "code",
   "execution_count": 62,
   "metadata": {},
   "outputs": [],
   "source": [
    "parameters = {\n",
    "    'my_parameter':42,\n",
    "    'agents':100,\n",
    "    'steps':10,\n",
    "    'wealth_appeal_corr': 0,# ap.Range(-0.2, 0.2), # >0 more wealth higher appeal chance\n",
    "    'acc': 0.8, #ap.Range(0.5, 0.8), # accuracy of fraud prdediction\n",
    "    'appeal_wealth': ap.Range(0, 0.5), # minimal wealth needed for appeal (could also become a param for distr. eventually)\n",
    "    'wealth_low_0': ap.Range(1.5, 5), # shape of beta distribution for race 0\n",
    "    'wealth_high_1': ap.Range(3, 5)\n",
    "} \n",
    "\n",
    "sample = ap.Sample(\n",
    "    parameters, \n",
    "    n=128, \n",
    "    method='saltelli', \n",
    "    calc_second_order=True\n",
    ")"
   ]
  },
  {
   "cell_type": "code",
   "execution_count": 63,
   "metadata": {},
   "outputs": [
    {
     "name": "stdout",
     "output_type": "stream",
     "text": [
      "Scheduled runs: 2048\n",
      "Completed: 2048, estimated time remaining: 0:00:00\n",
      "Experiment finished\n",
      "Run time: 0:01:46.211853\n"
     ]
    }
   ],
   "source": [
    "exp = ap.Experiment(VirusModel, sample, iterations=2, record = True)\n",
    "results = exp.run()"
   ]
  },
  {
   "cell_type": "code",
   "execution_count": 64,
   "metadata": {},
   "outputs": [
    {
     "data": {
      "image/png": "[encoded data removed]",
      "text/plain": [
       "<Figure size 640x480 with 2 Axes>"
      ]
     },
     "metadata": {},
     "output_type": "display_data"
    }
   ],
   "source": [
    "results.reporters.hist();"
   ]
  },
  {
   "cell_type": "markdown",
   "metadata": {},
   "source": [
    "## Analyzing results"
   ]
  },
  {
   "cell_type": "markdown",
   "metadata": {
    "raw_mimetype": "text/restructuredtext"
   },
   "source": [
    "The simulation returns a :class:`DataDict` of recorded data with dataframes:"
   ]
  },
  {
   "cell_type": "code",
   "execution_count": 65,
   "metadata": {
    "scrolled": true
   },
   "outputs": [
    {
     "data": {
      "text/html": [
       "<div>\n",
       "<style scoped>\n",
       "    .dataframe tbody tr th:only-of-type {\n",
       "        vertical-align: middle;\n",
       "    }\n",
       "\n",
       "    .dataframe tbody tr th {\n",
       "        vertical-align: top;\n",
       "    }\n",
       "\n",
       "    .dataframe thead th {\n",
       "        text-align: right;\n",
       "    }\n",
       "</style>\n",
       "<table border=\"1\" class=\"dataframe\">\n",
       "  <thead>\n",
       "    <tr style=\"text-align: right;\">\n",
       "      <th></th>\n",
       "      <th></th>\n",
       "      <th>seed</th>\n",
       "      <th>w_wr_ratio</th>\n",
       "      <th>nw_wr_ratio</th>\n",
       "    </tr>\n",
       "    <tr>\n",
       "      <th>sample_id</th>\n",
       "      <th>iteration</th>\n",
       "      <th></th>\n",
       "      <th></th>\n",
       "      <th></th>\n",
       "    </tr>\n",
       "  </thead>\n",
       "  <tbody>\n",
       "    <tr>\n",
       "      <th rowspan=\"2\" valign=\"top\">0</th>\n",
       "      <th>0</th>\n",
       "      <td>34074225147061593285473396239664228682</td>\n",
       "      <td>1.030113</td>\n",
       "      <td>0.985361</td>\n",
       "    </tr>\n",
       "    <tr>\n",
       "      <th>1</th>\n",
       "      <td>210607464755900620309199032000813413429</td>\n",
       "      <td>1.009155</td>\n",
       "      <td>0.975248</td>\n",
       "    </tr>\n",
       "    <tr>\n",
       "      <th rowspan=\"2\" valign=\"top\">1</th>\n",
       "      <th>0</th>\n",
       "      <td>144250822050772795358830950582692587920</td>\n",
       "      <td>0.981864</td>\n",
       "      <td>0.990745</td>\n",
       "    </tr>\n",
       "    <tr>\n",
       "      <th>1</th>\n",
       "      <td>123483442879542642986295156563407649749</td>\n",
       "      <td>1.020418</td>\n",
       "      <td>0.998611</td>\n",
       "    </tr>\n",
       "    <tr>\n",
       "      <th>2</th>\n",
       "      <th>0</th>\n",
       "      <td>323865972201748889594849443531330718228</td>\n",
       "      <td>1.031773</td>\n",
       "      <td>1.004632</td>\n",
       "    </tr>\n",
       "    <tr>\n",
       "      <th>...</th>\n",
       "      <th>...</th>\n",
       "      <td>...</td>\n",
       "      <td>...</td>\n",
       "      <td>...</td>\n",
       "    </tr>\n",
       "    <tr>\n",
       "      <th>1021</th>\n",
       "      <th>1</th>\n",
       "      <td>324843354455242119258508053534294918351</td>\n",
       "      <td>0.965123</td>\n",
       "      <td>1.007862</td>\n",
       "    </tr>\n",
       "    <tr>\n",
       "      <th rowspan=\"2\" valign=\"top\">1022</th>\n",
       "      <th>0</th>\n",
       "      <td>249526039115845145820881964434829913209</td>\n",
       "      <td>1.005548</td>\n",
       "      <td>0.986484</td>\n",
       "    </tr>\n",
       "    <tr>\n",
       "      <th>1</th>\n",
       "      <td>133808631733184943471414158515938843158</td>\n",
       "      <td>1.011283</td>\n",
       "      <td>1.012351</td>\n",
       "    </tr>\n",
       "    <tr>\n",
       "      <th rowspan=\"2\" valign=\"top\">1023</th>\n",
       "      <th>0</th>\n",
       "      <td>163831418964420039185122579282490135490</td>\n",
       "      <td>0.977273</td>\n",
       "      <td>0.987700</td>\n",
       "    </tr>\n",
       "    <tr>\n",
       "      <th>1</th>\n",
       "      <td>272021298608353301207745953357597671912</td>\n",
       "      <td>1.018257</td>\n",
       "      <td>0.992098</td>\n",
       "    </tr>\n",
       "  </tbody>\n",
       "</table>\n",
       "<p>2048 rows × 3 columns</p>\n",
       "</div>"
      ],
      "text/plain": [
       "                                                        seed  w_wr_ratio  \\\n",
       "sample_id iteration                                                        \n",
       "0         0           34074225147061593285473396239664228682    1.030113   \n",
       "          1          210607464755900620309199032000813413429    1.009155   \n",
       "1         0          144250822050772795358830950582692587920    0.981864   \n",
       "          1          123483442879542642986295156563407649749    1.020418   \n",
       "2         0          323865972201748889594849443531330718228    1.031773   \n",
       "...                                                      ...         ...   \n",
       "1021      1          324843354455242119258508053534294918351    0.965123   \n",
       "1022      0          249526039115845145820881964434829913209    1.005548   \n",
       "          1          133808631733184943471414158515938843158    1.011283   \n",
       "1023      0          163831418964420039185122579282490135490    0.977273   \n",
       "          1          272021298608353301207745953357597671912    1.018257   \n",
       "\n",
       "                     nw_wr_ratio  \n",
       "sample_id iteration               \n",
       "0         0             0.985361  \n",
       "          1             0.975248  \n",
       "1         0             0.990745  \n",
       "          1             0.998611  \n",
       "2         0             1.004632  \n",
       "...                          ...  \n",
       "1021      1             1.007862  \n",
       "1022      0             0.986484  \n",
       "          1             1.012351  \n",
       "1023      0             0.987700  \n",
       "          1             0.992098  \n",
       "\n",
       "[2048 rows x 3 columns]"
      ]
     },
     "execution_count": 65,
     "metadata": {},
     "output_type": "execute_result"
    }
   ],
   "source": [
    "a =results['reporters']\n",
    "a"
   ]
  },
  {
   "cell_type": "code",
   "execution_count": 66,
   "metadata": {},
   "outputs": [
    {
     "data": {
      "text/html": [
       "<div>\n",
       "<style scoped>\n",
       "    .dataframe tbody tr th:only-of-type {\n",
       "        vertical-align: middle;\n",
       "    }\n",
       "\n",
       "    .dataframe tbody tr th {\n",
       "        vertical-align: top;\n",
       "    }\n",
       "\n",
       "    .dataframe thead th {\n",
       "        text-align: right;\n",
       "    }\n",
       "</style>\n",
       "<table border=\"1\" class=\"dataframe\">\n",
       "  <thead>\n",
       "    <tr style=\"text-align: right;\">\n",
       "      <th></th>\n",
       "      <th></th>\n",
       "      <th></th>\n",
       "      <th></th>\n",
       "      <th>wealth</th>\n",
       "      <th>fraud_pred</th>\n",
       "      <th>fraud</th>\n",
       "      <th>race</th>\n",
       "    </tr>\n",
       "    <tr>\n",
       "      <th>sample_id</th>\n",
       "      <th>iteration</th>\n",
       "      <th>obj_id</th>\n",
       "      <th>t</th>\n",
       "      <th></th>\n",
       "      <th></th>\n",
       "      <th></th>\n",
       "      <th></th>\n",
       "    </tr>\n",
       "  </thead>\n",
       "  <tbody>\n",
       "    <tr>\n",
       "      <th rowspan=\"5\" valign=\"top\">0</th>\n",
       "      <th rowspan=\"5\" valign=\"top\">0</th>\n",
       "      <th rowspan=\"5\" valign=\"top\">1</th>\n",
       "      <th>0</th>\n",
       "      <td>0.425755</td>\n",
       "      <td>-1</td>\n",
       "      <td>1</td>\n",
       "      <td>0</td>\n",
       "    </tr>\n",
       "    <tr>\n",
       "      <th>1</th>\n",
       "      <td>0.427568</td>\n",
       "      <td>0</td>\n",
       "      <td>1</td>\n",
       "      <td>0</td>\n",
       "    </tr>\n",
       "    <tr>\n",
       "      <th>2</th>\n",
       "      <td>0.429396</td>\n",
       "      <td>0</td>\n",
       "      <td>1</td>\n",
       "      <td>0</td>\n",
       "    </tr>\n",
       "    <tr>\n",
       "      <th>3</th>\n",
       "      <td>0.409590</td>\n",
       "      <td>0</td>\n",
       "      <td>0</td>\n",
       "      <td>0</td>\n",
       "    </tr>\n",
       "    <tr>\n",
       "      <th>4</th>\n",
       "      <td>0.411268</td>\n",
       "      <td>0</td>\n",
       "      <td>0</td>\n",
       "      <td>0</td>\n",
       "    </tr>\n",
       "    <tr>\n",
       "      <th>...</th>\n",
       "      <th>...</th>\n",
       "      <th>...</th>\n",
       "      <th>...</th>\n",
       "      <td>...</td>\n",
       "      <td>...</td>\n",
       "      <td>...</td>\n",
       "      <td>...</td>\n",
       "    </tr>\n",
       "    <tr>\n",
       "      <th rowspan=\"5\" valign=\"top\">1023</th>\n",
       "      <th rowspan=\"5\" valign=\"top\">1</th>\n",
       "      <th rowspan=\"5\" valign=\"top\">100</th>\n",
       "      <th>6</th>\n",
       "      <td>0.242674</td>\n",
       "      <td>0</td>\n",
       "      <td>0</td>\n",
       "      <td>0</td>\n",
       "    </tr>\n",
       "    <tr>\n",
       "      <th>7</th>\n",
       "      <td>0.243263</td>\n",
       "      <td>0</td>\n",
       "      <td>0</td>\n",
       "      <td>0</td>\n",
       "    </tr>\n",
       "    <tr>\n",
       "      <th>8</th>\n",
       "      <td>0.243855</td>\n",
       "      <td>0</td>\n",
       "      <td>0</td>\n",
       "      <td>0</td>\n",
       "    </tr>\n",
       "    <tr>\n",
       "      <th>9</th>\n",
       "      <td>0.244449</td>\n",
       "      <td>0</td>\n",
       "      <td>0</td>\n",
       "      <td>0</td>\n",
       "    </tr>\n",
       "    <tr>\n",
       "      <th>10</th>\n",
       "      <td>0.245047</td>\n",
       "      <td>0</td>\n",
       "      <td>0</td>\n",
       "      <td>0</td>\n",
       "    </tr>\n",
       "  </tbody>\n",
       "</table>\n",
       "<p>2252800 rows × 4 columns</p>\n",
       "</div>"
      ],
      "text/plain": [
       "                                 wealth  fraud_pred  fraud  race\n",
       "sample_id iteration obj_id t                                    \n",
       "0         0         1      0   0.425755          -1      1     0\n",
       "                           1   0.427568           0      1     0\n",
       "                           2   0.429396           0      1     0\n",
       "                           3   0.409590           0      0     0\n",
       "                           4   0.411268           0      0     0\n",
       "...                                 ...         ...    ...   ...\n",
       "1023      1         100    6   0.242674           0      0     0\n",
       "                           7   0.243263           0      0     0\n",
       "                           8   0.243855           0      0     0\n",
       "                           9   0.244449           0      0     0\n",
       "                           10  0.245047           0      0     0\n",
       "\n",
       "[2252800 rows x 4 columns]"
      ]
     },
     "execution_count": 66,
     "metadata": {},
     "output_type": "execute_result"
    }
   ],
   "source": [
    "df = results['variables']['Person']\n",
    "df"
   ]
  },
  {
   "cell_type": "code",
   "execution_count": 67,
   "metadata": {},
   "outputs": [
    {
     "data": {
      "image/png": "[encoded data removed]",
      "text/plain": [
       "<Figure size 640x480 with 1 Axes>"
      ]
     },
     "metadata": {},
     "output_type": "display_data"
    }
   ],
   "source": [
    "df = results['variables']['Person']\n",
    "viz(df, df.index.get_level_values('t'), df['wealth'].astype(float),  df['race'])\n"
   ]
  },
  {
   "cell_type": "markdown",
   "metadata": {},
   "source": [
    "## Multi-run experiment"
   ]
  },
  {
   "cell_type": "markdown",
   "metadata": {
    "raw_mimetype": "text/restructuredtext"
   },
   "source": [
    "To explore the effect of different parameter values, \n",
    "we use the classes :class:`Sample`, :class:`Range`, and :class:`IntRange`\n",
    "to create a sample of different parameter combinations.\n",
    "\n",
    "What I want is trying a bunch of "
   ]
  },
  {
   "cell_type": "markdown",
   "metadata": {
    "raw_mimetype": "text/restructuredtext"
   },
   "source": [
    "We then create an :class:`Experiment` that takes a model and sample as input.\n",
    ":func:`Experiment.run` runs our model repeatedly over the whole sample \n",
    "with ten random iterations per parameter combination."
   ]
  },
  {
   "cell_type": "markdown",
   "metadata": {},
   "source": [
    "Optionally, we can save and load our results as follows:"
   ]
  },
  {
   "cell_type": "code",
   "execution_count": 68,
   "metadata": {},
   "outputs": [
    {
     "name": "stdout",
     "output_type": "stream",
     "text": [
      "Data saved to ap_output/VirusModel_7\n"
     ]
    }
   ],
   "source": [
    "results.save()"
   ]
  },
  {
   "cell_type": "code",
   "execution_count": 69,
   "metadata": {},
   "outputs": [
    {
     "name": "stdout",
     "output_type": "stream",
     "text": [
      "Loading from directory ap_output/VirusModel_7/\n",
      "Loading parameters_sample.csv - Successful\n",
      "Loading parameters_constants.json - Successful\n",
      "Loading reporters.csv - Successful\n",
      "Loading info.json - Successful\n",
      "Loading variables_Person.csv - Successful\n",
      "Loading parameters_log.json - Successful\n"
     ]
    }
   ],
   "source": [
    "results = ap.DataDict.load('VirusModel')"
   ]
  },
  {
   "cell_type": "code",
   "execution_count": 70,
   "metadata": {},
   "outputs": [
    {
     "data": {
      "text/html": [
       "<div>\n",
       "<style scoped>\n",
       "    .dataframe tbody tr th:only-of-type {\n",
       "        vertical-align: middle;\n",
       "    }\n",
       "\n",
       "    .dataframe tbody tr th {\n",
       "        vertical-align: top;\n",
       "    }\n",
       "\n",
       "    .dataframe thead th {\n",
       "        text-align: right;\n",
       "    }\n",
       "</style>\n",
       "<table border=\"1\" class=\"dataframe\">\n",
       "  <thead>\n",
       "    <tr style=\"text-align: right;\">\n",
       "      <th></th>\n",
       "      <th></th>\n",
       "      <th>seed</th>\n",
       "      <th>w_wr_ratio</th>\n",
       "      <th>nw_wr_ratio</th>\n",
       "    </tr>\n",
       "    <tr>\n",
       "      <th>sample_id</th>\n",
       "      <th>iteration</th>\n",
       "      <th></th>\n",
       "      <th></th>\n",
       "      <th></th>\n",
       "    </tr>\n",
       "  </thead>\n",
       "  <tbody>\n",
       "    <tr>\n",
       "      <th rowspan=\"2\" valign=\"top\">0</th>\n",
       "      <th>0</th>\n",
       "      <td>34074225147061593285473396239664228682</td>\n",
       "      <td>1.030113</td>\n",
       "      <td>0.985361</td>\n",
       "    </tr>\n",
       "    <tr>\n",
       "      <th>1</th>\n",
       "      <td>210607464755900620309199032000813413429</td>\n",
       "      <td>1.009155</td>\n",
       "      <td>0.975248</td>\n",
       "    </tr>\n",
       "    <tr>\n",
       "      <th rowspan=\"2\" valign=\"top\">1</th>\n",
       "      <th>0</th>\n",
       "      <td>144250822050772795358830950582692587920</td>\n",
       "      <td>0.981864</td>\n",
       "      <td>0.990745</td>\n",
       "    </tr>\n",
       "    <tr>\n",
       "      <th>1</th>\n",
       "      <td>123483442879542642986295156563407649749</td>\n",
       "      <td>1.020418</td>\n",
       "      <td>0.998611</td>\n",
       "    </tr>\n",
       "    <tr>\n",
       "      <th>2</th>\n",
       "      <th>0</th>\n",
       "      <td>323865972201748889594849443531330718228</td>\n",
       "      <td>1.031773</td>\n",
       "      <td>1.004632</td>\n",
       "    </tr>\n",
       "    <tr>\n",
       "      <th>...</th>\n",
       "      <th>...</th>\n",
       "      <td>...</td>\n",
       "      <td>...</td>\n",
       "      <td>...</td>\n",
       "    </tr>\n",
       "    <tr>\n",
       "      <th>1021</th>\n",
       "      <th>1</th>\n",
       "      <td>324843354455242119258508053534294918351</td>\n",
       "      <td>0.965123</td>\n",
       "      <td>1.007862</td>\n",
       "    </tr>\n",
       "    <tr>\n",
       "      <th rowspan=\"2\" valign=\"top\">1022</th>\n",
       "      <th>0</th>\n",
       "      <td>249526039115845145820881964434829913209</td>\n",
       "      <td>1.005548</td>\n",
       "      <td>0.986484</td>\n",
       "    </tr>\n",
       "    <tr>\n",
       "      <th>1</th>\n",
       "      <td>133808631733184943471414158515938843158</td>\n",
       "      <td>1.011283</td>\n",
       "      <td>1.012351</td>\n",
       "    </tr>\n",
       "    <tr>\n",
       "      <th rowspan=\"2\" valign=\"top\">1023</th>\n",
       "      <th>0</th>\n",
       "      <td>163831418964420039185122579282490135490</td>\n",
       "      <td>0.977273</td>\n",
       "      <td>0.987700</td>\n",
       "    </tr>\n",
       "    <tr>\n",
       "      <th>1</th>\n",
       "      <td>272021298608353301207745953357597671912</td>\n",
       "      <td>1.018257</td>\n",
       "      <td>0.992098</td>\n",
       "    </tr>\n",
       "  </tbody>\n",
       "</table>\n",
       "<p>2048 rows × 3 columns</p>\n",
       "</div>"
      ],
      "text/plain": [
       "                                                        seed  w_wr_ratio  \\\n",
       "sample_id iteration                                                        \n",
       "0         0           34074225147061593285473396239664228682    1.030113   \n",
       "          1          210607464755900620309199032000813413429    1.009155   \n",
       "1         0          144250822050772795358830950582692587920    0.981864   \n",
       "          1          123483442879542642986295156563407649749    1.020418   \n",
       "2         0          323865972201748889594849443531330718228    1.031773   \n",
       "...                                                      ...         ...   \n",
       "1021      1          324843354455242119258508053534294918351    0.965123   \n",
       "1022      0          249526039115845145820881964434829913209    1.005548   \n",
       "          1          133808631733184943471414158515938843158    1.011283   \n",
       "1023      0          163831418964420039185122579282490135490    0.977273   \n",
       "          1          272021298608353301207745953357597671912    1.018257   \n",
       "\n",
       "                     nw_wr_ratio  \n",
       "sample_id iteration               \n",
       "0         0             0.985361  \n",
       "          1             0.975248  \n",
       "1         0             0.990745  \n",
       "          1             0.998611  \n",
       "2         0             1.004632  \n",
       "...                          ...  \n",
       "1021      1             1.007862  \n",
       "1022      0             0.986484  \n",
       "          1             1.012351  \n",
       "1023      0             0.987700  \n",
       "          1             0.992098  \n",
       "\n",
       "[2048 rows x 3 columns]"
      ]
     },
     "execution_count": 70,
     "metadata": {},
     "output_type": "execute_result"
    }
   ],
   "source": [
    "results['reporters']"
   ]
  },
  {
   "cell_type": "markdown",
   "metadata": {
    "raw_mimetype": "text/restructuredtext"
   },
   "source": [
    "The measures in our :class:`DataDict` now hold one row for each simulation run."
   ]
  },
  {
   "cell_type": "code",
   "execution_count": 71,
   "metadata": {},
   "outputs": [
    {
     "data": {
      "text/html": [
       "<div>\n",
       "<style scoped>\n",
       "    .dataframe tbody tr th:only-of-type {\n",
       "        vertical-align: middle;\n",
       "    }\n",
       "\n",
       "    .dataframe tbody tr th {\n",
       "        vertical-align: top;\n",
       "    }\n",
       "\n",
       "    .dataframe thead th {\n",
       "        text-align: right;\n",
       "    }\n",
       "</style>\n",
       "<table border=\"1\" class=\"dataframe\">\n",
       "  <thead>\n",
       "    <tr style=\"text-align: right;\">\n",
       "      <th></th>\n",
       "      <th>appeal_wealth</th>\n",
       "      <th>wealth_low_0</th>\n",
       "      <th>wealth_high_1</th>\n",
       "    </tr>\n",
       "    <tr>\n",
       "      <th>sample_id</th>\n",
       "      <th></th>\n",
       "      <th></th>\n",
       "      <th></th>\n",
       "    </tr>\n",
       "  </thead>\n",
       "  <tbody>\n",
       "    <tr>\n",
       "      <th>0</th>\n",
       "      <td>0.005859</td>\n",
       "      <td>2.662109</td>\n",
       "      <td>3.585938</td>\n",
       "    </tr>\n",
       "    <tr>\n",
       "      <th>1</th>\n",
       "      <td>0.095703</td>\n",
       "      <td>2.662109</td>\n",
       "      <td>3.585938</td>\n",
       "    </tr>\n",
       "    <tr>\n",
       "      <th>2</th>\n",
       "      <td>0.005859</td>\n",
       "      <td>4.658203</td>\n",
       "      <td>3.585938</td>\n",
       "    </tr>\n",
       "    <tr>\n",
       "      <th>3</th>\n",
       "      <td>0.005859</td>\n",
       "      <td>2.662109</td>\n",
       "      <td>4.351562</td>\n",
       "    </tr>\n",
       "    <tr>\n",
       "      <th>4</th>\n",
       "      <td>0.005859</td>\n",
       "      <td>4.658203</td>\n",
       "      <td>4.351562</td>\n",
       "    </tr>\n",
       "    <tr>\n",
       "      <th>...</th>\n",
       "      <td>...</td>\n",
       "      <td>...</td>\n",
       "      <td>...</td>\n",
       "    </tr>\n",
       "    <tr>\n",
       "      <th>1019</th>\n",
       "      <td>0.001953</td>\n",
       "      <td>4.986328</td>\n",
       "      <td>4.960938</td>\n",
       "    </tr>\n",
       "    <tr>\n",
       "      <th>1020</th>\n",
       "      <td>0.001953</td>\n",
       "      <td>3.646484</td>\n",
       "      <td>4.960938</td>\n",
       "    </tr>\n",
       "    <tr>\n",
       "      <th>1021</th>\n",
       "      <td>0.287109</td>\n",
       "      <td>4.986328</td>\n",
       "      <td>4.960938</td>\n",
       "    </tr>\n",
       "    <tr>\n",
       "      <th>1022</th>\n",
       "      <td>0.287109</td>\n",
       "      <td>3.646484</td>\n",
       "      <td>4.539062</td>\n",
       "    </tr>\n",
       "    <tr>\n",
       "      <th>1023</th>\n",
       "      <td>0.287109</td>\n",
       "      <td>3.646484</td>\n",
       "      <td>4.960938</td>\n",
       "    </tr>\n",
       "  </tbody>\n",
       "</table>\n",
       "<p>1024 rows × 3 columns</p>\n",
       "</div>"
      ],
      "text/plain": [
       "           appeal_wealth  wealth_low_0  wealth_high_1\n",
       "sample_id                                            \n",
       "0               0.005859      2.662109       3.585938\n",
       "1               0.095703      2.662109       3.585938\n",
       "2               0.005859      4.658203       3.585938\n",
       "3               0.005859      2.662109       4.351562\n",
       "4               0.005859      4.658203       4.351562\n",
       "...                  ...           ...            ...\n",
       "1019            0.001953      4.986328       4.960938\n",
       "1020            0.001953      3.646484       4.960938\n",
       "1021            0.287109      4.986328       4.960938\n",
       "1022            0.287109      3.646484       4.539062\n",
       "1023            0.287109      3.646484       4.960938\n",
       "\n",
       "[1024 rows x 3 columns]"
      ]
     },
     "execution_count": 71,
     "metadata": {},
     "output_type": "execute_result"
    }
   ],
   "source": [
    "a =results['parameters']['sample']\n",
    "a"
   ]
  },
  {
   "cell_type": "code",
   "execution_count": 72,
   "metadata": {},
   "outputs": [
    {
     "data": {
      "text/html": [
       "<div>\n",
       "<style scoped>\n",
       "    .dataframe tbody tr th:only-of-type {\n",
       "        vertical-align: middle;\n",
       "    }\n",
       "\n",
       "    .dataframe tbody tr th {\n",
       "        vertical-align: top;\n",
       "    }\n",
       "\n",
       "    .dataframe thead th {\n",
       "        text-align: right;\n",
       "    }\n",
       "</style>\n",
       "<table border=\"1\" class=\"dataframe\">\n",
       "  <thead>\n",
       "    <tr style=\"text-align: right;\">\n",
       "      <th></th>\n",
       "      <th></th>\n",
       "      <th>seed</th>\n",
       "      <th>w_wr_ratio</th>\n",
       "      <th>nw_wr_ratio</th>\n",
       "    </tr>\n",
       "    <tr>\n",
       "      <th>sample_id</th>\n",
       "      <th>iteration</th>\n",
       "      <th></th>\n",
       "      <th></th>\n",
       "      <th></th>\n",
       "    </tr>\n",
       "  </thead>\n",
       "  <tbody>\n",
       "    <tr>\n",
       "      <th rowspan=\"2\" valign=\"top\">0</th>\n",
       "      <th>0</th>\n",
       "      <td>34074225147061593285473396239664228682</td>\n",
       "      <td>1.030113</td>\n",
       "      <td>0.985361</td>\n",
       "    </tr>\n",
       "    <tr>\n",
       "      <th>1</th>\n",
       "      <td>210607464755900620309199032000813413429</td>\n",
       "      <td>1.009155</td>\n",
       "      <td>0.975248</td>\n",
       "    </tr>\n",
       "    <tr>\n",
       "      <th rowspan=\"2\" valign=\"top\">1</th>\n",
       "      <th>0</th>\n",
       "      <td>144250822050772795358830950582692587920</td>\n",
       "      <td>0.981864</td>\n",
       "      <td>0.990745</td>\n",
       "    </tr>\n",
       "    <tr>\n",
       "      <th>1</th>\n",
       "      <td>123483442879542642986295156563407649749</td>\n",
       "      <td>1.020418</td>\n",
       "      <td>0.998611</td>\n",
       "    </tr>\n",
       "    <tr>\n",
       "      <th>2</th>\n",
       "      <th>0</th>\n",
       "      <td>323865972201748889594849443531330718228</td>\n",
       "      <td>1.031773</td>\n",
       "      <td>1.004632</td>\n",
       "    </tr>\n",
       "    <tr>\n",
       "      <th>...</th>\n",
       "      <th>...</th>\n",
       "      <td>...</td>\n",
       "      <td>...</td>\n",
       "      <td>...</td>\n",
       "    </tr>\n",
       "    <tr>\n",
       "      <th>1021</th>\n",
       "      <th>1</th>\n",
       "      <td>324843354455242119258508053534294918351</td>\n",
       "      <td>0.965123</td>\n",
       "      <td>1.007862</td>\n",
       "    </tr>\n",
       "    <tr>\n",
       "      <th rowspan=\"2\" valign=\"top\">1022</th>\n",
       "      <th>0</th>\n",
       "      <td>249526039115845145820881964434829913209</td>\n",
       "      <td>1.005548</td>\n",
       "      <td>0.986484</td>\n",
       "    </tr>\n",
       "    <tr>\n",
       "      <th>1</th>\n",
       "      <td>133808631733184943471414158515938843158</td>\n",
       "      <td>1.011283</td>\n",
       "      <td>1.012351</td>\n",
       "    </tr>\n",
       "    <tr>\n",
       "      <th rowspan=\"2\" valign=\"top\">1023</th>\n",
       "      <th>0</th>\n",
       "      <td>163831418964420039185122579282490135490</td>\n",
       "      <td>0.977273</td>\n",
       "      <td>0.987700</td>\n",
       "    </tr>\n",
       "    <tr>\n",
       "      <th>1</th>\n",
       "      <td>272021298608353301207745953357597671912</td>\n",
       "      <td>1.018257</td>\n",
       "      <td>0.992098</td>\n",
       "    </tr>\n",
       "  </tbody>\n",
       "</table>\n",
       "<p>2048 rows × 3 columns</p>\n",
       "</div>"
      ],
      "text/plain": [
       "                                                        seed  w_wr_ratio  \\\n",
       "sample_id iteration                                                        \n",
       "0         0           34074225147061593285473396239664228682    1.030113   \n",
       "          1          210607464755900620309199032000813413429    1.009155   \n",
       "1         0          144250822050772795358830950582692587920    0.981864   \n",
       "          1          123483442879542642986295156563407649749    1.020418   \n",
       "2         0          323865972201748889594849443531330718228    1.031773   \n",
       "...                                                      ...         ...   \n",
       "1021      1          324843354455242119258508053534294918351    0.965123   \n",
       "1022      0          249526039115845145820881964434829913209    1.005548   \n",
       "          1          133808631733184943471414158515938843158    1.011283   \n",
       "1023      0          163831418964420039185122579282490135490    0.977273   \n",
       "          1          272021298608353301207745953357597671912    1.018257   \n",
       "\n",
       "                     nw_wr_ratio  \n",
       "sample_id iteration               \n",
       "0         0             0.985361  \n",
       "          1             0.975248  \n",
       "1         0             0.990745  \n",
       "          1             0.998611  \n",
       "2         0             1.004632  \n",
       "...                          ...  \n",
       "1021      1             1.007862  \n",
       "1022      0             0.986484  \n",
       "          1             1.012351  \n",
       "1023      0             0.987700  \n",
       "          1             0.992098  \n",
       "\n",
       "[2048 rows x 3 columns]"
      ]
     },
     "execution_count": 72,
     "metadata": {},
     "output_type": "execute_result"
    }
   ],
   "source": [
    "results['reporters']"
   ]
  },
  {
   "cell_type": "markdown",
   "metadata": {
    "raw_mimetype": "text/restructuredtext"
   },
   "source": [
    "We can use standard functions of the pandas library like \n",
    ":func:`pandas.DataFrame.hist` to look at summary statistics."
   ]
  },
  {
   "cell_type": "code",
   "execution_count": 73,
   "metadata": {},
   "outputs": [
    {
     "data": {
      "image/png": "[encoded data removed]",
      "text/plain": [
       "<Figure size 640x480 with 2 Axes>"
      ]
     },
     "metadata": {},
     "output_type": "display_data"
    }
   ],
   "source": [
    "results.reporters.hist();"
   ]
  },
  {
   "cell_type": "markdown",
   "metadata": {},
   "source": [
    "## Sensitivity analysis"
   ]
  },
  {
   "attachments": {},
   "cell_type": "markdown",
   "metadata": {
    "raw_mimetype": "text/restructuredtext"
   },
   "source": [
    "The function :func:`DataDict.calc_sobol` calculates `Sobol sensitivity\n",
    "indices <https://salib.readthedocs.io/en/latest/api.html#sobol-sensitivity-analysis>`_ \n",
    "for the passed results and parameter ranges, using the \n",
    "`SAlib <https://salib.readthedocs.io/en/latest/basics.html>`_ package. \n",
    "\n",
    "Explainer on satteli and sobol\n",
    "https://towardsdatascience.com/sobol-indices-to-measure-feature-importance-54cedc3281bc"
   ]
  },
  {
   "cell_type": "markdown",
   "metadata": {},
   "source": []
  },
  {
   "cell_type": "code",
   "execution_count": 74,
   "metadata": {},
   "outputs": [
    {
     "name": "stderr",
     "output_type": "stream",
     "text": [
      "/Users/uni/miniconda3/envs/ma/lib/python3.10/site-packages/agentpy/datadict.py:148: FutureWarning: The default value of numeric_only in DataFrameGroupBy.mean is deprecated. In a future version, numeric_only will default to False. Either specify numeric_only or select only columns which should be valid for the function.\n",
      "  reporters_df = self.reporters.groupby('sample_id').mean()\n"
     ]
    },
    {
     "data": {
      "text/plain": [
       "DataDict {\n",
       "'parameters': \n",
       "    'sample': DataFrame with 3 variables and 1024 rows\n",
       "    'constants': Dictionary with 5 keys\n",
       "    'log': Dictionary with 5 keys\n",
       "'reporters': DataFrame with 3 variables and 2048 rows\n",
       "'info': Dictionary with 12 keys\n",
       "'variables': \n",
       "    'Person': DataFrame with 4 variables and 2252800 rows\n",
       "'sensitivity': \n",
       "    'sobol': DataFrame with 5 variables and 6 rows\n",
       "    'sobol_conf': DataFrame with 5 variables and 6 rows\n",
       "}"
      ]
     },
     "execution_count": 74,
     "metadata": {},
     "output_type": "execute_result"
    }
   ],
   "source": [
    "# can be parallelized\n",
    "results.calc_sobol()"
   ]
  },
  {
   "cell_type": "code",
   "execution_count": 75,
   "metadata": {
    "scrolled": true
   },
   "outputs": [
    {
     "data": {
      "text/html": [
       "<div>\n",
       "<style scoped>\n",
       "    .dataframe tbody tr th:only-of-type {\n",
       "        vertical-align: middle;\n",
       "    }\n",
       "\n",
       "    .dataframe tbody tr th {\n",
       "        vertical-align: top;\n",
       "    }\n",
       "\n",
       "    .dataframe thead th {\n",
       "        text-align: right;\n",
       "    }\n",
       "</style>\n",
       "<table border=\"1\" class=\"dataframe\">\n",
       "  <thead>\n",
       "    <tr style=\"text-align: right;\">\n",
       "      <th></th>\n",
       "      <th></th>\n",
       "      <th>seed</th>\n",
       "      <th>w_wr_ratio</th>\n",
       "      <th>nw_wr_ratio</th>\n",
       "    </tr>\n",
       "    <tr>\n",
       "      <th>sample_id</th>\n",
       "      <th>iteration</th>\n",
       "      <th></th>\n",
       "      <th></th>\n",
       "      <th></th>\n",
       "    </tr>\n",
       "  </thead>\n",
       "  <tbody>\n",
       "    <tr>\n",
       "      <th rowspan=\"2\" valign=\"top\">0</th>\n",
       "      <th>0</th>\n",
       "      <td>34074225147061593285473396239664228682</td>\n",
       "      <td>1.030113</td>\n",
       "      <td>0.985361</td>\n",
       "    </tr>\n",
       "    <tr>\n",
       "      <th>1</th>\n",
       "      <td>210607464755900620309199032000813413429</td>\n",
       "      <td>1.009155</td>\n",
       "      <td>0.975248</td>\n",
       "    </tr>\n",
       "    <tr>\n",
       "      <th rowspan=\"2\" valign=\"top\">1</th>\n",
       "      <th>0</th>\n",
       "      <td>144250822050772795358830950582692587920</td>\n",
       "      <td>0.981864</td>\n",
       "      <td>0.990745</td>\n",
       "    </tr>\n",
       "    <tr>\n",
       "      <th>1</th>\n",
       "      <td>123483442879542642986295156563407649749</td>\n",
       "      <td>1.020418</td>\n",
       "      <td>0.998611</td>\n",
       "    </tr>\n",
       "    <tr>\n",
       "      <th>2</th>\n",
       "      <th>0</th>\n",
       "      <td>323865972201748889594849443531330718228</td>\n",
       "      <td>1.031773</td>\n",
       "      <td>1.004632</td>\n",
       "    </tr>\n",
       "    <tr>\n",
       "      <th>...</th>\n",
       "      <th>...</th>\n",
       "      <td>...</td>\n",
       "      <td>...</td>\n",
       "      <td>...</td>\n",
       "    </tr>\n",
       "    <tr>\n",
       "      <th>1021</th>\n",
       "      <th>1</th>\n",
       "      <td>324843354455242119258508053534294918351</td>\n",
       "      <td>0.965123</td>\n",
       "      <td>1.007862</td>\n",
       "    </tr>\n",
       "    <tr>\n",
       "      <th rowspan=\"2\" valign=\"top\">1022</th>\n",
       "      <th>0</th>\n",
       "      <td>249526039115845145820881964434829913209</td>\n",
       "      <td>1.005548</td>\n",
       "      <td>0.986484</td>\n",
       "    </tr>\n",
       "    <tr>\n",
       "      <th>1</th>\n",
       "      <td>133808631733184943471414158515938843158</td>\n",
       "      <td>1.011283</td>\n",
       "      <td>1.012351</td>\n",
       "    </tr>\n",
       "    <tr>\n",
       "      <th rowspan=\"2\" valign=\"top\">1023</th>\n",
       "      <th>0</th>\n",
       "      <td>163831418964420039185122579282490135490</td>\n",
       "      <td>0.977273</td>\n",
       "      <td>0.987700</td>\n",
       "    </tr>\n",
       "    <tr>\n",
       "      <th>1</th>\n",
       "      <td>272021298608353301207745953357597671912</td>\n",
       "      <td>1.018257</td>\n",
       "      <td>0.992098</td>\n",
       "    </tr>\n",
       "  </tbody>\n",
       "</table>\n",
       "<p>2048 rows × 3 columns</p>\n",
       "</div>"
      ],
      "text/plain": [
       "                                                        seed  w_wr_ratio  \\\n",
       "sample_id iteration                                                        \n",
       "0         0           34074225147061593285473396239664228682    1.030113   \n",
       "          1          210607464755900620309199032000813413429    1.009155   \n",
       "1         0          144250822050772795358830950582692587920    0.981864   \n",
       "          1          123483442879542642986295156563407649749    1.020418   \n",
       "2         0          323865972201748889594849443531330718228    1.031773   \n",
       "...                                                      ...         ...   \n",
       "1021      1          324843354455242119258508053534294918351    0.965123   \n",
       "1022      0          249526039115845145820881964434829913209    1.005548   \n",
       "          1          133808631733184943471414158515938843158    1.011283   \n",
       "1023      0          163831418964420039185122579282490135490    0.977273   \n",
       "          1          272021298608353301207745953357597671912    1.018257   \n",
       "\n",
       "                     nw_wr_ratio  \n",
       "sample_id iteration               \n",
       "0         0             0.985361  \n",
       "          1             0.975248  \n",
       "1         0             0.990745  \n",
       "          1             0.998611  \n",
       "2         0             1.004632  \n",
       "...                          ...  \n",
       "1021      1             1.007862  \n",
       "1022      0             0.986484  \n",
       "          1             1.012351  \n",
       "1023      0             0.987700  \n",
       "          1             0.992098  \n",
       "\n",
       "[2048 rows x 3 columns]"
      ]
     },
     "execution_count": 75,
     "metadata": {},
     "output_type": "execute_result"
    }
   ],
   "source": [
    "results['reporters']"
   ]
  },
  {
   "cell_type": "code",
   "execution_count": 76,
   "metadata": {},
   "outputs": [
    {
     "data": {
      "text/html": [
       "<div>\n",
       "<style scoped>\n",
       "    .dataframe tbody tr th:only-of-type {\n",
       "        vertical-align: middle;\n",
       "    }\n",
       "\n",
       "    .dataframe tbody tr th {\n",
       "        vertical-align: top;\n",
       "    }\n",
       "\n",
       "    .dataframe thead tr th {\n",
       "        text-align: left;\n",
       "    }\n",
       "\n",
       "    .dataframe thead tr:last-of-type th {\n",
       "        text-align: right;\n",
       "    }\n",
       "</style>\n",
       "<table border=\"1\" class=\"dataframe\">\n",
       "  <thead>\n",
       "    <tr>\n",
       "      <th></th>\n",
       "      <th>order</th>\n",
       "      <th>S1</th>\n",
       "      <th>ST</th>\n",
       "      <th colspan=\"3\" halign=\"left\">S2</th>\n",
       "    </tr>\n",
       "    <tr>\n",
       "      <th></th>\n",
       "      <th>parameter</th>\n",
       "      <th></th>\n",
       "      <th></th>\n",
       "      <th>appeal_wealth</th>\n",
       "      <th>wealth_low_0</th>\n",
       "      <th>wealth_high_1</th>\n",
       "    </tr>\n",
       "    <tr>\n",
       "      <th>reporter</th>\n",
       "      <th>parameter</th>\n",
       "      <th></th>\n",
       "      <th></th>\n",
       "      <th></th>\n",
       "      <th></th>\n",
       "      <th></th>\n",
       "    </tr>\n",
       "  </thead>\n",
       "  <tbody>\n",
       "    <tr>\n",
       "      <th rowspan=\"3\" valign=\"top\">w_wr_ratio</th>\n",
       "      <th>appeal_wealth</th>\n",
       "      <td>0.186717</td>\n",
       "      <td>0.808140</td>\n",
       "      <td>NaN</td>\n",
       "      <td>-0.147884</td>\n",
       "      <td>-0.156165</td>\n",
       "    </tr>\n",
       "    <tr>\n",
       "      <th>wealth_low_0</th>\n",
       "      <td>-0.138518</td>\n",
       "      <td>0.695407</td>\n",
       "      <td>NaN</td>\n",
       "      <td>NaN</td>\n",
       "      <td>0.000812</td>\n",
       "    </tr>\n",
       "    <tr>\n",
       "      <th>wealth_high_1</th>\n",
       "      <td>0.108810</td>\n",
       "      <td>0.825432</td>\n",
       "      <td>NaN</td>\n",
       "      <td>NaN</td>\n",
       "      <td>NaN</td>\n",
       "    </tr>\n",
       "    <tr>\n",
       "      <th rowspan=\"3\" valign=\"top\">nw_wr_ratio</th>\n",
       "      <th>appeal_wealth</th>\n",
       "      <td>0.346453</td>\n",
       "      <td>0.428476</td>\n",
       "      <td>NaN</td>\n",
       "      <td>-0.031843</td>\n",
       "      <td>-0.147778</td>\n",
       "    </tr>\n",
       "    <tr>\n",
       "      <th>wealth_low_0</th>\n",
       "      <td>0.518180</td>\n",
       "      <td>0.624164</td>\n",
       "      <td>NaN</td>\n",
       "      <td>NaN</td>\n",
       "      <td>-0.019212</td>\n",
       "    </tr>\n",
       "    <tr>\n",
       "      <th>wealth_high_1</th>\n",
       "      <td>0.016999</td>\n",
       "      <td>0.088547</td>\n",
       "      <td>NaN</td>\n",
       "      <td>NaN</td>\n",
       "      <td>NaN</td>\n",
       "    </tr>\n",
       "  </tbody>\n",
       "</table>\n",
       "</div>"
      ],
      "text/plain": [
       "order                            S1        ST            S2               \\\n",
       "parameter                                     appeal_wealth wealth_low_0   \n",
       "reporter    parameter                                                      \n",
       "w_wr_ratio  appeal_wealth  0.186717  0.808140           NaN    -0.147884   \n",
       "            wealth_low_0  -0.138518  0.695407           NaN          NaN   \n",
       "            wealth_high_1  0.108810  0.825432           NaN          NaN   \n",
       "nw_wr_ratio appeal_wealth  0.346453  0.428476           NaN    -0.031843   \n",
       "            wealth_low_0   0.518180  0.624164           NaN          NaN   \n",
       "            wealth_high_1  0.016999  0.088547           NaN          NaN   \n",
       "\n",
       "order                                    \n",
       "parameter                 wealth_high_1  \n",
       "reporter    parameter                    \n",
       "w_wr_ratio  appeal_wealth     -0.156165  \n",
       "            wealth_low_0       0.000812  \n",
       "            wealth_high_1           NaN  \n",
       "nw_wr_ratio appeal_wealth     -0.147778  \n",
       "            wealth_low_0      -0.019212  \n",
       "            wealth_high_1           NaN  "
      ]
     },
     "execution_count": 76,
     "metadata": {},
     "output_type": "execute_result"
    }
   ],
   "source": [
    "si_list = results.sensitivity.sobol.groupby(by='reporter')\n",
    "si_conf_list = results.sensitivity.sobol_conf.groupby(by='reporter')\n",
    "results.sensitivity.sobol"
   ]
  },
  {
   "attachments": {},
   "cell_type": "markdown",
   "metadata": {
    "raw_mimetype": "text/restructuredtext"
   },
   "source": [
    "This adds a new category `sensitivity` to our results, which includes:\n",
    "\n",
    "- :attr:`sobol` returns first-order sobol sensitivity indices\n",
    "- :attr:`sobol_conf` returns confidence ranges for the above indices\n",
    "\n",
    "We can use pandas to create a bar plot that visualizes these sensitivity indices.\n",
    "\n",
    "\n",
    "S1 for first order senstivity, ST for total, S2 for second order senstivity"
   ]
  },
  {
   "cell_type": "code",
   "execution_count": 77,
   "metadata": {},
   "outputs": [
    {
     "name": "stdout",
     "output_type": "stream",
     "text": [
      "order                            S1        ST            S2               \\\n",
      "parameter                                     appeal_wealth wealth_low_0   \n",
      "reporter    parameter                                                      \n",
      "nw_wr_ratio appeal_wealth  0.346453  0.428476           NaN    -0.031843   \n",
      "            wealth_low_0   0.518180  0.624164           NaN          NaN   \n",
      "            wealth_high_1  0.016999  0.088547           NaN          NaN   \n",
      "\n",
      "order                                    \n",
      "parameter                 wealth_high_1  \n",
      "reporter    parameter                    \n",
      "nw_wr_ratio appeal_wealth     -0.147778  \n",
      "            wealth_low_0      -0.019212  \n",
      "            wealth_high_1           NaN  \n",
      "order                S1        ST            S2                           \n",
      "parameter                         appeal_wealth wealth_low_0 wealth_high_1\n",
      "parameter                                                                 \n",
      "appeal_wealth  0.346453  0.428476           NaN    -0.031843     -0.147778\n",
      "wealth_low_0   0.518180  0.624164           NaN          NaN     -0.019212\n",
      "wealth_high_1  0.016999  0.088547           NaN          NaN           NaN\n"
     ]
    },
    {
     "ename": "StopIteration",
     "evalue": "",
     "output_type": "error",
     "traceback": [
      "\u001b[0;31m---------------------------------------------------------------------------\u001b[0m",
      "\u001b[0;31mStopIteration\u001b[0m                             Traceback (most recent call last)",
      "Cell \u001b[0;32mIn[77], line 22\u001b[0m\n\u001b[1;32m     19\u001b[0m     axs[\u001b[39m1\u001b[39m]\u001b[39m.\u001b[39mtick_params(left\u001b[39m=\u001b[39m\u001b[39mFalse\u001b[39;00m)\n\u001b[1;32m     20\u001b[0m     plt\u001b[39m.\u001b[39mtight_layout()\n\u001b[0;32m---> 22\u001b[0m plot_sobol(results)\n",
      "Cell \u001b[0;32mIn[77], line 14\u001b[0m, in \u001b[0;36mplot_sobol\u001b[0;34m(results)\u001b[0m\n\u001b[1;32m     12\u001b[0m     \u001b[39mprint\u001b[39m(si)\n\u001b[1;32m     13\u001b[0m     err \u001b[39m=\u001b[39m err\u001b[39m.\u001b[39mdroplevel(\u001b[39m'\u001b[39m\u001b[39mreporter\u001b[39m\u001b[39m'\u001b[39m)\n\u001b[0;32m---> 14\u001b[0m     si\u001b[39m.\u001b[39;49mplot\u001b[39m.\u001b[39;49mbarh(xerr\u001b[39m=\u001b[39;49merr, title\u001b[39m=\u001b[39;49mkey, ax\u001b[39m=\u001b[39;49max, capsize \u001b[39m=\u001b[39;49m \u001b[39m3\u001b[39;49m)\n\u001b[1;32m     15\u001b[0m     ax\u001b[39m.\u001b[39mset_xlim(\u001b[39m0\u001b[39m)\n\u001b[1;32m     17\u001b[0m axs[\u001b[39m0\u001b[39m]\u001b[39m.\u001b[39mget_legend()\u001b[39m.\u001b[39mremove()\n",
      "File \u001b[0;32m~/miniconda3/envs/ma/lib/python3.10/site-packages/pandas/plotting/_core.py:1245\u001b[0m, in \u001b[0;36mPlotAccessor.barh\u001b[0;34m(self, x, y, **kwargs)\u001b[0m\n\u001b[1;32m   1161\u001b[0m \u001b[39m@Appender\u001b[39m(\n\u001b[1;32m   1162\u001b[0m \u001b[39m    \u001b[39m\u001b[39m\"\"\"\u001b[39;00m\n\u001b[1;32m   1163\u001b[0m \u001b[39m    See Also\u001b[39;00m\n\u001b[0;32m   (...)\u001b[0m\n\u001b[1;32m   1234\u001b[0m \u001b[39m@Appender\u001b[39m(_bar_or_line_doc)\n\u001b[1;32m   1235\u001b[0m \u001b[39mdef\u001b[39;00m \u001b[39mbarh\u001b[39m(\u001b[39mself\u001b[39m, x\u001b[39m=\u001b[39m\u001b[39mNone\u001b[39;00m, y\u001b[39m=\u001b[39m\u001b[39mNone\u001b[39;00m, \u001b[39m*\u001b[39m\u001b[39m*\u001b[39mkwargs) \u001b[39m-\u001b[39m\u001b[39m>\u001b[39m PlotAccessor:\n\u001b[1;32m   1236\u001b[0m \u001b[39m    \u001b[39m\u001b[39m\"\"\"\u001b[39;00m\n\u001b[1;32m   1237\u001b[0m \u001b[39m    Make a horizontal bar plot.\u001b[39;00m\n\u001b[1;32m   1238\u001b[0m \n\u001b[0;32m   (...)\u001b[0m\n\u001b[1;32m   1243\u001b[0m \u001b[39m    other axis represents a measured value.\u001b[39;00m\n\u001b[1;32m   1244\u001b[0m \u001b[39m    \"\"\"\u001b[39;00m\n\u001b[0;32m-> 1245\u001b[0m     \u001b[39mreturn\u001b[39;00m \u001b[39mself\u001b[39;49m(kind\u001b[39m=\u001b[39;49m\u001b[39m\"\u001b[39;49m\u001b[39mbarh\u001b[39;49m\u001b[39m\"\u001b[39;49m, x\u001b[39m=\u001b[39;49mx, y\u001b[39m=\u001b[39;49my, \u001b[39m*\u001b[39;49m\u001b[39m*\u001b[39;49mkwargs)\n",
      "File \u001b[0;32m~/miniconda3/envs/ma/lib/python3.10/site-packages/pandas/plotting/_core.py:1000\u001b[0m, in \u001b[0;36mPlotAccessor.__call__\u001b[0;34m(self, *args, **kwargs)\u001b[0m\n\u001b[1;32m    997\u001b[0m             label_name \u001b[39m=\u001b[39m label_kw \u001b[39mor\u001b[39;00m data\u001b[39m.\u001b[39mcolumns\n\u001b[1;32m    998\u001b[0m             data\u001b[39m.\u001b[39mcolumns \u001b[39m=\u001b[39m label_name\n\u001b[0;32m-> 1000\u001b[0m \u001b[39mreturn\u001b[39;00m plot_backend\u001b[39m.\u001b[39;49mplot(data, kind\u001b[39m=\u001b[39;49mkind, \u001b[39m*\u001b[39;49m\u001b[39m*\u001b[39;49mkwargs)\n",
      "File \u001b[0;32m~/miniconda3/envs/ma/lib/python3.10/site-packages/pandas/plotting/_matplotlib/__init__.py:71\u001b[0m, in \u001b[0;36mplot\u001b[0;34m(data, kind, **kwargs)\u001b[0m\n\u001b[1;32m     69\u001b[0m         kwargs[\u001b[39m\"\u001b[39m\u001b[39max\u001b[39m\u001b[39m\"\u001b[39m] \u001b[39m=\u001b[39m \u001b[39mgetattr\u001b[39m(ax, \u001b[39m\"\u001b[39m\u001b[39mleft_ax\u001b[39m\u001b[39m\"\u001b[39m, ax)\n\u001b[1;32m     70\u001b[0m plot_obj \u001b[39m=\u001b[39m PLOT_CLASSES[kind](data, \u001b[39m*\u001b[39m\u001b[39m*\u001b[39mkwargs)\n\u001b[0;32m---> 71\u001b[0m plot_obj\u001b[39m.\u001b[39;49mgenerate()\n\u001b[1;32m     72\u001b[0m plot_obj\u001b[39m.\u001b[39mdraw()\n\u001b[1;32m     73\u001b[0m \u001b[39mreturn\u001b[39;00m plot_obj\u001b[39m.\u001b[39mresult\n",
      "File \u001b[0;32m~/miniconda3/envs/ma/lib/python3.10/site-packages/pandas/plotting/_matplotlib/core.py:452\u001b[0m, in \u001b[0;36mMPLPlot.generate\u001b[0;34m(self)\u001b[0m\n\u001b[1;32m    450\u001b[0m \u001b[39mself\u001b[39m\u001b[39m.\u001b[39m_compute_plot_data()\n\u001b[1;32m    451\u001b[0m \u001b[39mself\u001b[39m\u001b[39m.\u001b[39m_setup_subplots()\n\u001b[0;32m--> 452\u001b[0m \u001b[39mself\u001b[39;49m\u001b[39m.\u001b[39;49m_make_plot()\n\u001b[1;32m    453\u001b[0m \u001b[39mself\u001b[39m\u001b[39m.\u001b[39m_add_table()\n\u001b[1;32m    454\u001b[0m \u001b[39mself\u001b[39m\u001b[39m.\u001b[39m_make_legend()\n",
      "File \u001b[0;32m~/miniconda3/envs/ma/lib/python3.10/site-packages/pandas/plotting/_matplotlib/core.py:1721\u001b[0m, in \u001b[0;36mBarPlot._make_plot\u001b[0;34m(self)\u001b[0m\n\u001b[1;32m   1719\u001b[0m \u001b[39melse\u001b[39;00m:\n\u001b[1;32m   1720\u001b[0m     w \u001b[39m=\u001b[39m \u001b[39mself\u001b[39m\u001b[39m.\u001b[39mbar_width \u001b[39m/\u001b[39m K\n\u001b[0;32m-> 1721\u001b[0m     rect \u001b[39m=\u001b[39m \u001b[39mself\u001b[39;49m\u001b[39m.\u001b[39;49m_plot(\n\u001b[1;32m   1722\u001b[0m         ax,\n\u001b[1;32m   1723\u001b[0m         \u001b[39mself\u001b[39;49m\u001b[39m.\u001b[39;49max_pos \u001b[39m+\u001b[39;49m (i \u001b[39m+\u001b[39;49m \u001b[39m0.5\u001b[39;49m) \u001b[39m*\u001b[39;49m w,\n\u001b[1;32m   1724\u001b[0m         y,\n\u001b[1;32m   1725\u001b[0m         w,\n\u001b[1;32m   1726\u001b[0m         start\u001b[39m=\u001b[39;49mstart,\n\u001b[1;32m   1727\u001b[0m         label\u001b[39m=\u001b[39;49mlabel,\n\u001b[1;32m   1728\u001b[0m         log\u001b[39m=\u001b[39;49m\u001b[39mself\u001b[39;49m\u001b[39m.\u001b[39;49mlog,\n\u001b[1;32m   1729\u001b[0m         \u001b[39m*\u001b[39;49m\u001b[39m*\u001b[39;49mkwds,\n\u001b[1;32m   1730\u001b[0m     )\n\u001b[1;32m   1731\u001b[0m \u001b[39mself\u001b[39m\u001b[39m.\u001b[39m_append_legend_handles_labels(rect, label)\n",
      "File \u001b[0;32m~/miniconda3/envs/ma/lib/python3.10/site-packages/pandas/plotting/_matplotlib/core.py:1777\u001b[0m, in \u001b[0;36mBarhPlot._plot\u001b[0;34m(cls, ax, x, y, w, start, log, **kwds)\u001b[0m\n\u001b[1;32m   1773\u001b[0m \u001b[39m@classmethod\u001b[39m\n\u001b[1;32m   1774\u001b[0m \u001b[39mdef\u001b[39;00m \u001b[39m_plot\u001b[39m(  \u001b[39m# type: ignore[override]\u001b[39;00m\n\u001b[1;32m   1775\u001b[0m     \u001b[39mcls\u001b[39m, ax: Axes, x, y, w, start\u001b[39m=\u001b[39m\u001b[39m0\u001b[39m, log\u001b[39m=\u001b[39m\u001b[39mFalse\u001b[39;00m, \u001b[39m*\u001b[39m\u001b[39m*\u001b[39mkwds\n\u001b[1;32m   1776\u001b[0m ):\n\u001b[0;32m-> 1777\u001b[0m     \u001b[39mreturn\u001b[39;00m ax\u001b[39m.\u001b[39;49mbarh(x, y, w, left\u001b[39m=\u001b[39;49mstart, log\u001b[39m=\u001b[39;49mlog, \u001b[39m*\u001b[39;49m\u001b[39m*\u001b[39;49mkwds)\n",
      "File \u001b[0;32m~/miniconda3/envs/ma/lib/python3.10/site-packages/matplotlib/axes/_axes.py:2629\u001b[0m, in \u001b[0;36mAxes.barh\u001b[0;34m(self, y, width, height, left, align, data, **kwargs)\u001b[0m\n\u001b[1;32m   2519\u001b[0m \u001b[39m\u001b[39m\u001b[39mr\u001b[39m\u001b[39m\"\"\"\u001b[39;00m\n\u001b[1;32m   2520\u001b[0m \u001b[39mMake a horizontal bar plot.\u001b[39;00m\n\u001b[1;32m   2521\u001b[0m \n\u001b[0;32m   (...)\u001b[0m\n\u001b[1;32m   2626\u001b[0m \u001b[39m:doc:`/gallery/lines_bars_and_markers/horizontal_barchart_distribution`.\u001b[39;00m\n\u001b[1;32m   2627\u001b[0m \u001b[39m\"\"\"\u001b[39;00m\n\u001b[1;32m   2628\u001b[0m kwargs\u001b[39m.\u001b[39msetdefault(\u001b[39m'\u001b[39m\u001b[39morientation\u001b[39m\u001b[39m'\u001b[39m, \u001b[39m'\u001b[39m\u001b[39mhorizontal\u001b[39m\u001b[39m'\u001b[39m)\n\u001b[0;32m-> 2629\u001b[0m patches \u001b[39m=\u001b[39m \u001b[39mself\u001b[39;49m\u001b[39m.\u001b[39;49mbar(x\u001b[39m=\u001b[39;49mleft, height\u001b[39m=\u001b[39;49mheight, width\u001b[39m=\u001b[39;49mwidth, bottom\u001b[39m=\u001b[39;49my,\n\u001b[1;32m   2630\u001b[0m                    align\u001b[39m=\u001b[39;49malign, data\u001b[39m=\u001b[39;49mdata, \u001b[39m*\u001b[39;49m\u001b[39m*\u001b[39;49mkwargs)\n\u001b[1;32m   2631\u001b[0m \u001b[39mreturn\u001b[39;00m patches\n",
      "File \u001b[0;32m~/miniconda3/envs/ma/lib/python3.10/site-packages/matplotlib/__init__.py:1433\u001b[0m, in \u001b[0;36m_preprocess_data.<locals>.inner\u001b[0;34m(ax, data, *args, **kwargs)\u001b[0m\n\u001b[1;32m   1430\u001b[0m \u001b[39m@functools\u001b[39m\u001b[39m.\u001b[39mwraps(func)\n\u001b[1;32m   1431\u001b[0m \u001b[39mdef\u001b[39;00m \u001b[39minner\u001b[39m(ax, \u001b[39m*\u001b[39margs, data\u001b[39m=\u001b[39m\u001b[39mNone\u001b[39;00m, \u001b[39m*\u001b[39m\u001b[39m*\u001b[39mkwargs):\n\u001b[1;32m   1432\u001b[0m     \u001b[39mif\u001b[39;00m data \u001b[39mis\u001b[39;00m \u001b[39mNone\u001b[39;00m:\n\u001b[0;32m-> 1433\u001b[0m         \u001b[39mreturn\u001b[39;00m func(ax, \u001b[39m*\u001b[39;49m\u001b[39mmap\u001b[39;49m(sanitize_sequence, args), \u001b[39m*\u001b[39;49m\u001b[39m*\u001b[39;49mkwargs)\n\u001b[1;32m   1435\u001b[0m     bound \u001b[39m=\u001b[39m new_sig\u001b[39m.\u001b[39mbind(ax, \u001b[39m*\u001b[39margs, \u001b[39m*\u001b[39m\u001b[39m*\u001b[39mkwargs)\n\u001b[1;32m   1436\u001b[0m     auto_label \u001b[39m=\u001b[39m (bound\u001b[39m.\u001b[39marguments\u001b[39m.\u001b[39mget(label_namer)\n\u001b[1;32m   1437\u001b[0m                   \u001b[39mor\u001b[39;00m bound\u001b[39m.\u001b[39mkwargs\u001b[39m.\u001b[39mget(label_namer))\n",
      "File \u001b[0;32m~/miniconda3/envs/ma/lib/python3.10/site-packages/matplotlib/axes/_axes.py:2490\u001b[0m, in \u001b[0;36mAxes.bar\u001b[0;34m(self, x, height, width, bottom, align, **kwargs)\u001b[0m\n\u001b[1;32m   2486\u001b[0m         ey \u001b[39m=\u001b[39m [b \u001b[39m+\u001b[39m \u001b[39m0.5\u001b[39m \u001b[39m*\u001b[39m h \u001b[39mfor\u001b[39;00m b, h \u001b[39min\u001b[39;00m \u001b[39mzip\u001b[39m(bottom, height)]\n\u001b[1;32m   2488\u001b[0m     error_kw\u001b[39m.\u001b[39msetdefault(\u001b[39m\"\u001b[39m\u001b[39mlabel\u001b[39m\u001b[39m\"\u001b[39m, \u001b[39m'\u001b[39m\u001b[39m_nolegend_\u001b[39m\u001b[39m'\u001b[39m)\n\u001b[0;32m-> 2490\u001b[0m     errorbar \u001b[39m=\u001b[39m \u001b[39mself\u001b[39;49m\u001b[39m.\u001b[39;49merrorbar(ex, ey,\n\u001b[1;32m   2491\u001b[0m                              yerr\u001b[39m=\u001b[39;49myerr, xerr\u001b[39m=\u001b[39;49mxerr,\n\u001b[1;32m   2492\u001b[0m                              fmt\u001b[39m=\u001b[39;49m\u001b[39m'\u001b[39;49m\u001b[39mnone\u001b[39;49m\u001b[39m'\u001b[39;49m, \u001b[39m*\u001b[39;49m\u001b[39m*\u001b[39;49merror_kw)\n\u001b[1;32m   2493\u001b[0m \u001b[39melse\u001b[39;00m:\n\u001b[1;32m   2494\u001b[0m     errorbar \u001b[39m=\u001b[39m \u001b[39mNone\u001b[39;00m\n",
      "File \u001b[0;32m~/miniconda3/envs/ma/lib/python3.10/site-packages/matplotlib/__init__.py:1433\u001b[0m, in \u001b[0;36m_preprocess_data.<locals>.inner\u001b[0;34m(ax, data, *args, **kwargs)\u001b[0m\n\u001b[1;32m   1430\u001b[0m \u001b[39m@functools\u001b[39m\u001b[39m.\u001b[39mwraps(func)\n\u001b[1;32m   1431\u001b[0m \u001b[39mdef\u001b[39;00m \u001b[39minner\u001b[39m(ax, \u001b[39m*\u001b[39margs, data\u001b[39m=\u001b[39m\u001b[39mNone\u001b[39;00m, \u001b[39m*\u001b[39m\u001b[39m*\u001b[39mkwargs):\n\u001b[1;32m   1432\u001b[0m     \u001b[39mif\u001b[39;00m data \u001b[39mis\u001b[39;00m \u001b[39mNone\u001b[39;00m:\n\u001b[0;32m-> 1433\u001b[0m         \u001b[39mreturn\u001b[39;00m func(ax, \u001b[39m*\u001b[39;49m\u001b[39mmap\u001b[39;49m(sanitize_sequence, args), \u001b[39m*\u001b[39;49m\u001b[39m*\u001b[39;49mkwargs)\n\u001b[1;32m   1435\u001b[0m     bound \u001b[39m=\u001b[39m new_sig\u001b[39m.\u001b[39mbind(ax, \u001b[39m*\u001b[39margs, \u001b[39m*\u001b[39m\u001b[39m*\u001b[39mkwargs)\n\u001b[1;32m   1436\u001b[0m     auto_label \u001b[39m=\u001b[39m (bound\u001b[39m.\u001b[39marguments\u001b[39m.\u001b[39mget(label_namer)\n\u001b[1;32m   1437\u001b[0m                   \u001b[39mor\u001b[39;00m bound\u001b[39m.\u001b[39mkwargs\u001b[39m.\u001b[39mget(label_namer))\n",
      "File \u001b[0;32m~/miniconda3/envs/ma/lib/python3.10/site-packages/matplotlib/axes/_axes.py:3492\u001b[0m, in \u001b[0;36mAxes.errorbar\u001b[0;34m(self, x, y, yerr, xerr, fmt, ecolor, elinewidth, capsize, barsabove, lolims, uplims, xlolims, xuplims, errorevery, capthick, **kwargs)\u001b[0m\n\u001b[1;32m   3489\u001b[0m     \u001b[39mreturn\u001b[39;00m np\u001b[39m.\u001b[39masarray(err, dtype\u001b[39m=\u001b[39m\u001b[39mobject\u001b[39m)\n\u001b[1;32m   3491\u001b[0m \u001b[39mif\u001b[39;00m xerr \u001b[39mis\u001b[39;00m \u001b[39mnot\u001b[39;00m \u001b[39mNone\u001b[39;00m \u001b[39mand\u001b[39;00m \u001b[39mnot\u001b[39;00m \u001b[39misinstance\u001b[39m(xerr, np\u001b[39m.\u001b[39mndarray):\n\u001b[0;32m-> 3492\u001b[0m     xerr \u001b[39m=\u001b[39m _upcast_err(xerr)\n\u001b[1;32m   3493\u001b[0m \u001b[39mif\u001b[39;00m yerr \u001b[39mis\u001b[39;00m \u001b[39mnot\u001b[39;00m \u001b[39mNone\u001b[39;00m \u001b[39mand\u001b[39;00m \u001b[39mnot\u001b[39;00m \u001b[39misinstance\u001b[39m(yerr, np\u001b[39m.\u001b[39mndarray):\n\u001b[1;32m   3494\u001b[0m     yerr \u001b[39m=\u001b[39m _upcast_err(yerr)\n",
      "File \u001b[0;32m~/miniconda3/envs/ma/lib/python3.10/site-packages/matplotlib/axes/_axes.py:3476\u001b[0m, in \u001b[0;36mAxes.errorbar.<locals>._upcast_err\u001b[0;34m(err)\u001b[0m\n\u001b[1;32m   3452\u001b[0m \u001b[39mdef\u001b[39;00m \u001b[39m_upcast_err\u001b[39m(err):\n\u001b[1;32m   3453\u001b[0m \u001b[39m    \u001b[39m\u001b[39m\"\"\"\u001b[39;00m\n\u001b[1;32m   3454\u001b[0m \u001b[39m    Safely handle tuple of containers that carry units.\u001b[39;00m\n\u001b[1;32m   3455\u001b[0m \n\u001b[0;32m   (...)\u001b[0m\n\u001b[1;32m   3464\u001b[0m \u001b[39m    Otherwise, fallback to casting to an object array.\u001b[39;00m\n\u001b[1;32m   3465\u001b[0m \u001b[39m    \"\"\"\u001b[39;00m\n\u001b[1;32m   3467\u001b[0m     \u001b[39mif\u001b[39;00m (\n\u001b[1;32m   3468\u001b[0m             \u001b[39m# make sure it is not a scalar\u001b[39;00m\n\u001b[1;32m   3469\u001b[0m             np\u001b[39m.\u001b[39miterable(err) \u001b[39mand\u001b[39;00m\n\u001b[1;32m   3470\u001b[0m             \u001b[39m# and it is not empty\u001b[39;00m\n\u001b[1;32m   3471\u001b[0m             \u001b[39mlen\u001b[39m(err) \u001b[39m>\u001b[39m \u001b[39m0\u001b[39m \u001b[39mand\u001b[39;00m\n\u001b[1;32m   3472\u001b[0m             \u001b[39m# and the first element is an array sub-class use\u001b[39;00m\n\u001b[1;32m   3473\u001b[0m             \u001b[39m# safe_first_element because getitem is index-first not\u001b[39;00m\n\u001b[1;32m   3474\u001b[0m             \u001b[39m# location first on pandas objects so err[0] almost always\u001b[39;00m\n\u001b[1;32m   3475\u001b[0m             \u001b[39m# fails.\u001b[39;00m\n\u001b[0;32m-> 3476\u001b[0m             \u001b[39misinstance\u001b[39m(cbook\u001b[39m.\u001b[39;49m_safe_first_finite(err), np\u001b[39m.\u001b[39mndarray)\n\u001b[1;32m   3477\u001b[0m     ):\n\u001b[1;32m   3478\u001b[0m         \u001b[39m# Get the type of the first element\u001b[39;00m\n\u001b[1;32m   3479\u001b[0m         atype \u001b[39m=\u001b[39m \u001b[39mtype\u001b[39m(cbook\u001b[39m.\u001b[39m_safe_first_finite(err))\n\u001b[1;32m   3480\u001b[0m         \u001b[39m# Promote the outer container to match the inner container\u001b[39;00m\n",
      "File \u001b[0;32m~/miniconda3/envs/ma/lib/python3.10/site-packages/matplotlib/cbook/__init__.py:1749\u001b[0m, in \u001b[0;36m_safe_first_finite\u001b[0;34m(obj, skip_nonfinite)\u001b[0m\n\u001b[1;32m   1746\u001b[0m     \u001b[39mraise\u001b[39;00m \u001b[39mRuntimeError\u001b[39;00m(\u001b[39m\"\u001b[39m\u001b[39mmatplotlib does not \u001b[39m\u001b[39m\"\u001b[39m\n\u001b[1;32m   1747\u001b[0m                        \u001b[39m\"\u001b[39m\u001b[39msupport generators as input\u001b[39m\u001b[39m\"\u001b[39m)\n\u001b[1;32m   1748\u001b[0m \u001b[39melse\u001b[39;00m:\n\u001b[0;32m-> 1749\u001b[0m     \u001b[39mreturn\u001b[39;00m \u001b[39mnext\u001b[39;49m(val \u001b[39mfor\u001b[39;49;00m val \u001b[39min\u001b[39;49;00m obj \u001b[39mif\u001b[39;49;00m safe_isfinite(val))\n",
      "\u001b[0;31mStopIteration\u001b[0m: "
     ]
    },
    {
     "data": {
      "image/png": "[encoded data removed]",
      "text/plain": [
       "<Figure size 800x400 with 2 Axes>"
      ]
     },
     "metadata": {},
     "output_type": "display_data"
    }
   ],
   "source": [
    "def plot_sobol(results):\n",
    "    \"\"\" Bar plot of Sobol sensitivity indices. \"\"\"\n",
    "    \n",
    "    sns.set()\n",
    "    fig, axs = plt.subplots(1, 2, figsize=(8, 4))\n",
    "    si_list = results.sensitivity.sobol.groupby(by='reporter')\n",
    "    si_conf_list = results.sensitivity.sobol_conf.groupby(by='reporter')\n",
    "\n",
    "    for (key, si), (_, err), ax in zip(si_list, si_conf_list, axs):\n",
    "        print(si)\n",
    "        si = si.droplevel('reporter')\n",
    "        print(si)\n",
    "        err = err.droplevel('reporter')\n",
    "        si.plot.barh(xerr=err, title=key, ax=ax, capsize = 3)\n",
    "        ax.set_xlim(0)\n",
    "    \n",
    "    axs[0].get_legend().remove()\n",
    "    axs[1].set(ylabel=None, yticklabels=[]) \n",
    "    axs[1].tick_params(left=False)\n",
    "    plt.tight_layout()\n",
    "    \n",
    "plot_sobol(results)"
   ]
  },
  {
   "cell_type": "markdown",
   "metadata": {},
   "source": [
    "Alternatively, we can also display sensitivities by plotting \n",
    "average evaluation measures over our parameter variations. "
   ]
  },
  {
   "cell_type": "code",
   "execution_count": 78,
   "metadata": {},
   "outputs": [
    {
     "name": "stdout",
     "output_type": "stream",
     "text": [
      "appeal_wealth\n"
     ]
    },
    {
     "data": {
      "image/png": "[encoded data removed]",
      "text/plain": [
       "<Figure size 800x800 with 4 Axes>"
      ]
     },
     "metadata": {},
     "output_type": "display_data"
    }
   ],
   "source": [
    "def plot_sensitivity(results):\n",
    "    \"\"\" Show average simulation results for different parameter values. \"\"\"\n",
    "    \n",
    "    sns.set()\n",
    "    fig, axs = plt.subplots(2, 2, figsize=(8, 8))\n",
    "    axs = [i for j in axs for i in j] # Flatten list\n",
    "    \n",
    "    data = results.arrange_reporters().astype('float')\n",
    "    params = results.parameters.sample.keys() \n",
    "    print(params[0])\n",
    "    \n",
    "    for x, ax in zip(params, axs):\n",
    "        for y in results.reporters.columns:\n",
    "            sns.regplot(x=x, y=y, data=data, ax=ax, ci=99, \n",
    "                        x_bins=15, fit_reg=False, label=y)  \n",
    "        ax.set_ylim(0.8,1.2)\n",
    "        ax.set_ylabel('')\n",
    "        ax.legend()\n",
    "        \n",
    "    plt.tight_layout()\n",
    "\n",
    "plot_sensitivity(results)"
   ]
  }
 ],
 "metadata": {
  "kernelspec": {
   "display_name": "Python 3 (ipykernel)",
   "language": "python",
   "name": "python3"
  },
  "language_info": {
   "codemirror_mode": {
    "name": "ipython",
    "version": 3
   },
   "file_extension": ".py",
   "mimetype": "text/x-python",
   "name": "python",
   "nbconvert_exporter": "python",
   "pygments_lexer": "ipython3",
   "version": "3.10.9"
  }
 },
 "nbformat": 4,
 "nbformat_minor": 4
}
