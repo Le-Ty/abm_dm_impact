{
 "cells": [
  {
   "cell_type": "code",
   "execution_count": null,
   "metadata": {},
   "outputs": [],
   "source": [
    "# General\n",
    "import agentpy as ap\n",
    "import networkx as nx \n",
    "import random \n",
    "import numpy as np\n",
    "import pandas as pd\n",
    "import pickle\n",
    "\n",
    "\n",
    "# Visualization\n",
    "import matplotlib.pyplot as plt \n",
    "import seaborn as sns\n",
    "import IPython"
   ]
  },
  {
   "cell_type": "code",
   "execution_count": null,
   "metadata": {},
   "outputs": [],
   "source": [
    "\n",
    "if os.path.isdir(\"../notebooks\"):\n",
    "    os.chdir(\"..\")\n",
    "\n",
    "from utils import viz, delta_function, generate_init, classifier_train\n",
    "\n",
    "\n",
    "from agent import Person\n",
    "\n",
    "from model import VirusModel, VirusModel_baseline\n"
   ]
  },
  {
   "cell_type": "code",
   "execution_count": null,
   "metadata": {},
   "outputs": [],
   "source": [
    "#load data"
   ]
  },
  {
   "cell_type": "code",
   "execution_count": null,
   "metadata": {},
   "outputs": [],
   "source": [
    "def viz2(data, x, y):\n",
    "    fig, ax = plt.subplots()\n",
    "\n",
    "    sns.lineplot(ax = ax,\n",
    "                 data = data,\n",
    "                 x = x,\n",
    "                 y = y,\n",
    "                 marker = 'o')\n",
    "    \n",
    "    # plt.ylim(0,0.2)\n",
    "    # plt.xlim(0,50)\n",
    "\n",
    "    plt.show()\n",
    "\n",
    "    def viz(data, x, y, hue, title = None):\n",
    "    fig, ax = plt.subplots()\n",
    "\n",
    "    sns.lineplot(ax = ax,\n",
    "                 data = data,\n",
    "                 x = x,\n",
    "                 y = y,\n",
    "                 hue = hue,\n",
    "                 marker = 'o')\n",
    "    \n",
    "    # plt.ylim(0,0.2)\n",
    "    # plt.xlim(0,50)\n",
    "    plt.title(title)\n",
    "\n",
    "    plt.show()"
   ]
  },
  {
   "cell_type": "code",
   "execution_count": null,
   "metadata": {},
   "outputs": [],
   "source": [
    "fig, ax = plt.subplots()\n",
    "\n",
    "sns.lineplot(   x =  df_baseline.index.get_level_values('t'),\n",
    "                y = df_baseline['dpd_gender'])\n",
    "\n",
    "sns.lineplot(   x =  df_baseline.index.get_level_values('t'),\n",
    "                y = df_baseline['eod_race'])\n",
    "# plt.ylim(0,0.2)\n",
    "# plt.xlim(0,50)\n",
    "\n",
    "plt.show()"
   ]
  },
  {
   "cell_type": "code",
   "execution_count": null,
   "metadata": {},
   "outputs": [],
   "source": [
    "sns.histplot(df_baseline['intersect'])"
   ]
  },
  {
   "cell_type": "code",
   "execution_count": null,
   "metadata": {},
   "outputs": [],
   "source": [
    "viz(df_baseline, df_baseline.index.get_level_values('t'), df_baseline['wealth'], df_baseline['race'], title= 'MLP Classifier') #, df_baseline['convicted'])\n",
    "\n",
    "viz(df_baseline, df_baseline.index.get_level_values('t'), df_baseline['wealth'], df_baseline['intersect'], title = 'MLP Classifier') #, df_baseline['convicted'])\n",
    "\n",
    "viz(df_baseline, df_baseline.index.get_level_values('t'), df_baseline['fraud'], df_baseline['intersect'], title = 'MLP Classifier') #, df_baseline['convicted'])\n",
    "\n",
    "\n",
    "viz(df_baseline, df_baseline.index.get_level_values('t'), df_baseline['gender'], (df_baseline['misclassifications']), title= 'Misclassification of MLP') #, df_baseline['convicted'])\n",
    "\n",
    "viz2(df_baseline, df_baseline.index.get_level_values('t'), df_baseline['wealth'])\n",
    "viz2(df_baseline, df_baseline.index.get_level_values('t'), df_baseline['fraud'])\n",
    "viz2(df_baseline, df_baseline.index.get_level_values('t'), df_baseline['fraud_pred'])"
   ]
  }
 ],
 "metadata": {
  "language_info": {
   "name": "python"
  },
  "orig_nbformat": 4
 },
 "nbformat": 4,
 "nbformat_minor": 2
}
