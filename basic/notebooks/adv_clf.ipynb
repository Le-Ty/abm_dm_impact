{
 "cells": [
  {
   "cell_type": "code",
   "execution_count": 15,
   "metadata": {},
   "outputs": [],
   "source": [
    "import torch\n",
    "from numpy import mean\n",
    "from math import sqrt\n",
    "from fairlearn.datasets import fetch_adult\n",
    "from sklearn.model_selection import train_test_split\n",
    "from fairlearn.adversarial import AdversarialFairnessClassifier\n",
    "from fairlearn.metrics import equalized_odds_ratio, demographic_parity_difference\n",
    "import pickle\n"
   ]
  },
  {
   "cell_type": "code",
   "execution_count": 3,
   "metadata": {},
   "outputs": [],
   "source": [
    "from sklearn.compose import make_column_transformer, make_column_selector\n",
    "from sklearn.preprocessing import OneHotEncoder, StandardScaler\n",
    "from sklearn.impute import SimpleImputer\n",
    "from sklearn.pipeline import Pipeline\n",
    "from numpy import number\n",
    "\n",
    "ct = make_column_transformer(\n",
    "    (\n",
    "        Pipeline(\n",
    "            [\n",
    "                (\"imputer\", SimpleImputer(strategy=\"mean\")),\n",
    "                (\"normalizer\", StandardScaler()),\n",
    "            ]\n",
    "        ),\n",
    "        make_column_selector(dtype_include=number),\n",
    "    ),\n",
    "    (\n",
    "        Pipeline(\n",
    "            [\n",
    "                (\"imputer\", SimpleImputer(strategy=\"most_frequent\")),\n",
    "                (\"encoder\", OneHotEncoder(drop=\"if_binary\", sparse=False)),\n",
    "            ]\n",
    "        ),\n",
    "        make_column_selector(dtype_include=\"category\"),\n",
    "    ),\n",
    ")"
   ]
  },
  {
   "cell_type": "code",
   "execution_count": 4,
   "metadata": {},
   "outputs": [
    {
     "name": "stderr",
     "output_type": "stream",
     "text": [
      "/Users/uni/miniconda3/envs/ma/lib/python3.10/site-packages/sklearn/preprocessing/_encoders.py:868: FutureWarning: `sparse` was renamed to `sparse_output` in version 1.2 and will be removed in 1.4. `sparse_output` is ignored unless you leave `sparse` to its default value.\n",
      "  warnings.warn(\n"
     ]
    }
   ],
   "source": [
    "\n",
    "\n",
    "X, y = fetch_adult(return_X_y=True)\n",
    "pos_label = y[0]\n",
    "\n",
    "z = X[\"sex\"] # In this example, we consider 'sex' the sensitive feature.\n",
    "\n",
    "\n",
    "X_train, X_test, Y_train, Y_test, Z_train, Z_test = train_test_split(\n",
    "    X, y, z, test_size=0.2, random_state=12345, stratify=y\n",
    ")\n",
    "\n",
    "X_prep_train = ct.fit_transform(X_train) # Only fit on training data!\n",
    "X_prep_test = ct.transform(X_test)"
   ]
  },
  {
   "cell_type": "code",
   "execution_count": 5,
   "metadata": {},
   "outputs": [],
   "source": [
    "class PredictorModel(torch.nn.Module):\n",
    "    def __init__(self):\n",
    "        super(PredictorModel, self).__init__()\n",
    "        self.layers = torch.nn.Sequential(\n",
    "            torch.nn.Linear(X_prep_train.shape[1], 200),\n",
    "            torch.nn.LeakyReLU(),\n",
    "            torch.nn.Linear(200, 1),\n",
    "            torch.nn.Sigmoid(),\n",
    "        )\n",
    "\n",
    "    def forward(self, x):\n",
    "        return self.layers(x)\n",
    "\n",
    "\n",
    "\n",
    "predictor_model = PredictorModel()"
   ]
  },
  {
   "cell_type": "code",
   "execution_count": 6,
   "metadata": {},
   "outputs": [],
   "source": [
    "def validate(mitigator):\n",
    "    predictions = mitigator.predict(X_prep_test)\n",
    "    dp_diff = demographic_parity_difference(\n",
    "        Y_test == pos_label,\n",
    "        predictions == pos_label,\n",
    "        sensitive_features=Z_test,\n",
    "    )\n",
    "    accuracy = mean(predictions.values == Y_test.values)\n",
    "    selection_rate = mean(predictions == pos_label)\n",
    "    print(\n",
    "        \"DP diff: {:.4f}, accuracy: {:.4f}, selection_rate: {:.4f}\".format(\n",
    "            dp_diff, accuracy, selection_rate\n",
    "        )\n",
    "    )\n",
    "    return dp_diff, accuracy, selection_rate\n",
    "\n"
   ]
  },
  {
   "cell_type": "code",
   "execution_count": 7,
   "metadata": {},
   "outputs": [],
   "source": [
    "schedulers = []\n",
    "\n",
    "def optimizer_constructor(model):\n",
    "    global schedulers\n",
    "    optimizer = torch.optim.Adam(model.parameters(), lr=0.01)\n",
    "    schedulers.append(\n",
    "        torch.optim.lr_scheduler.ExponentialLR(optimizer, gamma=0.995)\n",
    "    )\n",
    "    return optimizer\n",
    "\n",
    "step = 1\n"
   ]
  },
  {
   "cell_type": "code",
   "execution_count": 8,
   "metadata": {},
   "outputs": [],
   "source": [
    "def callbacks(model, *args):\n",
    "    global step\n",
    "    global schedulers\n",
    "    step += 1\n",
    "    # Update hyperparameters\n",
    "    model.alpha = 0.3 * sqrt(step // 1)\n",
    "    for scheduler in schedulers:\n",
    "        scheduler.step()\n",
    "    # Validate (and early stopping) every 50 steps\n",
    "    if step % 50 == 0:\n",
    "        dp_diff, accuracy, selection_rate = validate(model)\n",
    "        # Early stopping condition:\n",
    "        # Good accuracy + low dp_diff + no mode collapse\n",
    "        if (\n",
    "            dp_diff < 0.03\n",
    "            and accuracy > 0.8\n",
    "            and selection_rate > 0.01\n",
    "            and selection_rate < 0.99\n",
    "        ):\n",
    "            return True\n"
   ]
  },
  {
   "cell_type": "code",
   "execution_count": 11,
   "metadata": {},
   "outputs": [],
   "source": [
    "mitigator = AdversarialFairnessClassifier(\n",
    "    predictor_model=predictor_model,\n",
    "    adversary_model=[3, \"leaky_relu\"],\n",
    "    predictor_optimizer=optimizer_constructor,\n",
    "    adversary_optimizer=optimizer_constructor,\n",
    "    epochs=10,\n",
    "    batch_size=2 ** 7,\n",
    "    shuffle=True,\n",
    "    callbacks=callbacks,\n",
    "    random_state=123,\n",
    ")"
   ]
  },
  {
   "cell_type": "code",
   "execution_count": 78,
   "metadata": {},
   "outputs": [
    {
     "data": {
      "text/plain": [
       "tensor([[False],\n",
       "        [False],\n",
       "        [ True],\n",
       "        ...,\n",
       "        [False],\n",
       "        [False],\n",
       "        [False]])"
      ]
     },
     "execution_count": 78,
     "metadata": {},
     "output_type": "execute_result"
    }
   ],
   "source": [
    "# X_prep_test = X_prep_test.double()\n",
    "# AdversarialFairnessClassifier.threshold\n",
    "mitigator.threshold_value\n",
    "predictor_model.forward(torch.tensor(X_prep_test).float()) > 0.5\n",
    "\n",
    "\n",
    "# import numpy as np\n",
    "# np.array(X_test)\n",
    "# # X_test\n",
    "# X_prep_train\n",
    "# torch.tensor(X_prep_test).float().dtype\n",
    "# X_prep_train.shape[1]\n"
   ]
  },
  {
   "cell_type": "code",
   "execution_count": 14,
   "metadata": {},
   "outputs": [
    {
     "name": "stdout",
     "output_type": "stream",
     "text": [
      "DP diff: 0.0079, accuracy: 0.7668, selection_rate: 0.9934\n",
      "DP diff: 0.7883, accuracy: 0.6236, selection_rate: 0.4692\n",
      "DP diff: 0.0833, accuracy: 0.8031, selection_rate: 0.9353\n",
      "DP diff: 0.1183, accuracy: 0.8355, selection_rate: 0.7984\n",
      "DP diff: 0.2121, accuracy: 0.7642, selection_rate: 0.8546\n",
      "DP diff: 0.2238, accuracy: 0.7664, selection_rate: 0.8024\n",
      "DP diff: 0.2027, accuracy: 0.7742, selection_rate: 0.7973\n",
      "DP diff: 0.1497, accuracy: 0.7868, selection_rate: 0.8695\n",
      "DP diff: 0.0863, accuracy: 0.8066, selection_rate: 0.8527\n",
      "DP diff: 0.1119, accuracy: 0.8021, selection_rate: 0.8046\n",
      "DP diff: 0.1195, accuracy: 0.7979, selection_rate: 0.8548\n",
      "DP diff: 0.1345, accuracy: 0.7961, selection_rate: 0.8262\n",
      "DP diff: 0.1142, accuracy: 0.8023, selection_rate: 0.8433\n",
      "DP diff: 0.1048, accuracy: 0.8051, selection_rate: 0.8342\n",
      "DP diff: 0.0895, accuracy: 0.8072, selection_rate: 0.8085\n",
      "DP diff: 0.0841, accuracy: 0.8096, selection_rate: 0.8231\n",
      "DP diff: 0.0906, accuracy: 0.8083, selection_rate: 0.8185\n",
      "DP diff: 0.0952, accuracy: 0.8078, selection_rate: 0.8334\n",
      "DP diff: 0.0938, accuracy: 0.8089, selection_rate: 0.8289\n",
      "DP diff: 0.0971, accuracy: 0.8073, selection_rate: 0.8225\n",
      "DP diff: 0.0979, accuracy: 0.8079, selection_rate: 0.8271\n",
      "DP diff: 0.0983, accuracy: 0.8066, selection_rate: 0.8326\n",
      "DP diff: 0.0998, accuracy: 0.8077, selection_rate: 0.8246\n",
      "DP diff: 0.0987, accuracy: 0.8080, selection_rate: 0.8270\n",
      "DP diff: 0.0982, accuracy: 0.8083, selection_rate: 0.8261\n",
      "DP diff: 0.0985, accuracy: 0.8082, selection_rate: 0.8278\n",
      "DP diff: 0.0998, accuracy: 0.8079, selection_rate: 0.8271\n",
      "DP diff: 0.0993, accuracy: 0.8077, selection_rate: 0.8283\n",
      "DP diff: 0.0999, accuracy: 0.8077, selection_rate: 0.8287\n",
      "DP diff: 0.0998, accuracy: 0.8078, selection_rate: 0.8286\n",
      "DP diff: 0.1007, accuracy: 0.8075, selection_rate: 0.8271\n",
      "DP diff: 0.1019, accuracy: 0.8070, selection_rate: 0.8261\n",
      "DP diff: 0.1018, accuracy: 0.8070, selection_rate: 0.8263\n",
      "DP diff: 0.1018, accuracy: 0.8071, selection_rate: 0.8266\n",
      "DP diff: 0.1019, accuracy: 0.8071, selection_rate: 0.8264\n",
      "DP diff: 0.1019, accuracy: 0.8071, selection_rate: 0.8264\n",
      "DP diff: 0.1021, accuracy: 0.8070, selection_rate: 0.8265\n",
      "DP diff: 0.1019, accuracy: 0.8070, selection_rate: 0.8267\n",
      "DP diff: 0.1019, accuracy: 0.8069, selection_rate: 0.8270\n",
      "DP diff: 0.1021, accuracy: 0.8068, selection_rate: 0.8271\n",
      "DP diff: 0.1021, accuracy: 0.8069, selection_rate: 0.8268\n",
      "DP diff: 0.1021, accuracy: 0.8069, selection_rate: 0.8268\n",
      "DP diff: 0.1024, accuracy: 0.8068, selection_rate: 0.8267\n",
      "DP diff: 0.1024, accuracy: 0.8068, selection_rate: 0.8267\n",
      "DP diff: 0.1024, accuracy: 0.8068, selection_rate: 0.8267\n",
      "DP diff: 0.1024, accuracy: 0.8068, selection_rate: 0.8267\n",
      "DP diff: 0.1024, accuracy: 0.8068, selection_rate: 0.8267\n",
      "DP diff: 0.1024, accuracy: 0.8068, selection_rate: 0.8267\n",
      "DP diff: 0.1024, accuracy: 0.8068, selection_rate: 0.8267\n",
      "DP diff: 0.1024, accuracy: 0.8068, selection_rate: 0.8267\n",
      "DP diff: 0.1024, accuracy: 0.8068, selection_rate: 0.8267\n",
      "DP diff: 0.1024, accuracy: 0.8068, selection_rate: 0.8267\n",
      "DP diff: 0.1024, accuracy: 0.8068, selection_rate: 0.8267\n",
      "DP diff: 0.1024, accuracy: 0.8068, selection_rate: 0.8267\n",
      "DP diff: 0.1024, accuracy: 0.8068, selection_rate: 0.8267\n",
      "DP diff: 0.1024, accuracy: 0.8068, selection_rate: 0.8267\n",
      "DP diff: 0.1024, accuracy: 0.8068, selection_rate: 0.8267\n",
      "DP diff: 0.1024, accuracy: 0.8068, selection_rate: 0.8267\n",
      "DP diff: 0.1024, accuracy: 0.8068, selection_rate: 0.8267\n",
      "DP diff: 0.1024, accuracy: 0.8068, selection_rate: 0.8267\n",
      "DP diff: 0.1024, accuracy: 0.8068, selection_rate: 0.8267\n"
     ]
    },
    {
     "data": {
      "text/html": [
       "<style>#sk-container-id-1 {color: black;background-color: white;}#sk-container-id-1 pre{padding: 0;}#sk-container-id-1 div.sk-toggleable {background-color: white;}#sk-container-id-1 label.sk-toggleable__label {cursor: pointer;display: block;width: 100%;margin-bottom: 0;padding: 0.3em;box-sizing: border-box;text-align: center;}#sk-container-id-1 label.sk-toggleable__label-arrow:before {content: \"▸\";float: left;margin-right: 0.25em;color: #696969;}#sk-container-id-1 label.sk-toggleable__label-arrow:hover:before {color: black;}#sk-container-id-1 div.sk-estimator:hover label.sk-toggleable__label-arrow:before {color: black;}#sk-container-id-1 div.sk-toggleable__content {max-height: 0;max-width: 0;overflow: hidden;text-align: left;background-color: #f0f8ff;}#sk-container-id-1 div.sk-toggleable__content pre {margin: 0.2em;color: black;border-radius: 0.25em;background-color: #f0f8ff;}#sk-container-id-1 input.sk-toggleable__control:checked~div.sk-toggleable__content {max-height: 200px;max-width: 100%;overflow: auto;}#sk-container-id-1 input.sk-toggleable__control:checked~label.sk-toggleable__label-arrow:before {content: \"▾\";}#sk-container-id-1 div.sk-estimator input.sk-toggleable__control:checked~label.sk-toggleable__label {background-color: #d4ebff;}#sk-container-id-1 div.sk-label input.sk-toggleable__control:checked~label.sk-toggleable__label {background-color: #d4ebff;}#sk-container-id-1 input.sk-hidden--visually {border: 0;clip: rect(1px 1px 1px 1px);clip: rect(1px, 1px, 1px, 1px);height: 1px;margin: -1px;overflow: hidden;padding: 0;position: absolute;width: 1px;}#sk-container-id-1 div.sk-estimator {font-family: monospace;background-color: #f0f8ff;border: 1px dotted black;border-radius: 0.25em;box-sizing: border-box;margin-bottom: 0.5em;}#sk-container-id-1 div.sk-estimator:hover {background-color: #d4ebff;}#sk-container-id-1 div.sk-parallel-item::after {content: \"\";width: 100%;border-bottom: 1px solid gray;flex-grow: 1;}#sk-container-id-1 div.sk-label:hover label.sk-toggleable__label {background-color: #d4ebff;}#sk-container-id-1 div.sk-serial::before {content: \"\";position: absolute;border-left: 1px solid gray;box-sizing: border-box;top: 0;bottom: 0;left: 50%;z-index: 0;}#sk-container-id-1 div.sk-serial {display: flex;flex-direction: column;align-items: center;background-color: white;padding-right: 0.2em;padding-left: 0.2em;position: relative;}#sk-container-id-1 div.sk-item {position: relative;z-index: 1;}#sk-container-id-1 div.sk-parallel {display: flex;align-items: stretch;justify-content: center;background-color: white;position: relative;}#sk-container-id-1 div.sk-item::before, #sk-container-id-1 div.sk-parallel-item::before {content: \"\";position: absolute;border-left: 1px solid gray;box-sizing: border-box;top: 0;bottom: 0;left: 50%;z-index: -1;}#sk-container-id-1 div.sk-parallel-item {display: flex;flex-direction: column;z-index: 1;position: relative;background-color: white;}#sk-container-id-1 div.sk-parallel-item:first-child::after {align-self: flex-end;width: 50%;}#sk-container-id-1 div.sk-parallel-item:last-child::after {align-self: flex-start;width: 50%;}#sk-container-id-1 div.sk-parallel-item:only-child::after {width: 0;}#sk-container-id-1 div.sk-dashed-wrapped {border: 1px dashed gray;margin: 0 0.4em 0.5em 0.4em;box-sizing: border-box;padding-bottom: 0.4em;background-color: white;}#sk-container-id-1 div.sk-label label {font-family: monospace;font-weight: bold;display: inline-block;line-height: 1.2em;}#sk-container-id-1 div.sk-label-container {text-align: center;}#sk-container-id-1 div.sk-container {/* jupyter's `normalize.less` sets `[hidden] { display: none; }` but bootstrap.min.css set `[hidden] { display: none !important; }` so we also need the `!important` here to be able to override the default hidden behavior on the sphinx rendered scikit-learn.org. See: https://github.com/scikit-learn/scikit-learn/issues/21755 */display: inline-block !important;position: relative;}#sk-container-id-1 div.sk-text-repr-fallback {display: none;}</style><div id=\"sk-container-id-1\" class=\"sk-top-container\"><div class=\"sk-text-repr-fallback\"><pre>AdversarialFairnessClassifier(adversary_model=[3, &#x27;leaky_relu&#x27;],\n",
       "                              adversary_optimizer=&lt;function optimizer_constructor at 0x169be4a60&gt;,\n",
       "                              alpha=16.730212192318422, batch_size=128,\n",
       "                              callbacks=&lt;function callbacks at 0x169be4af0&gt;,\n",
       "                              epochs=10,\n",
       "                              predictor_model=PredictorModel(\n",
       "  (layers): Sequential(\n",
       "    (0): Linear(in_features=104, out_features=200, bias=True)\n",
       "    (1): LeakyReLU(negative_slope=0.01)\n",
       "    (2): Linear(in_features=200, out_features=1, bias=True)\n",
       "    (3): Sigmoid()\n",
       "  )\n",
       "),\n",
       "                              predictor_optimizer=&lt;function optimizer_constructor at 0x169be4a60&gt;,\n",
       "                              random_state=123, shuffle=True)</pre><b>In a Jupyter environment, please rerun this cell to show the HTML representation or trust the notebook. <br />On GitHub, the HTML representation is unable to render, please try loading this page with nbviewer.org.</b></div><div class=\"sk-container\" hidden><div class=\"sk-item\"><div class=\"sk-estimator sk-toggleable\"><input class=\"sk-toggleable__control sk-hidden--visually\" id=\"sk-estimator-id-1\" type=\"checkbox\" checked><label for=\"sk-estimator-id-1\" class=\"sk-toggleable__label sk-toggleable__label-arrow\">AdversarialFairnessClassifier</label><div class=\"sk-toggleable__content\"><pre>AdversarialFairnessClassifier(adversary_model=[3, &#x27;leaky_relu&#x27;],\n",
       "                              adversary_optimizer=&lt;function optimizer_constructor at 0x169be4a60&gt;,\n",
       "                              alpha=16.730212192318422, batch_size=128,\n",
       "                              callbacks=&lt;function callbacks at 0x169be4af0&gt;,\n",
       "                              epochs=10,\n",
       "                              predictor_model=PredictorModel(\n",
       "  (layers): Sequential(\n",
       "    (0): Linear(in_features=104, out_features=200, bias=True)\n",
       "    (1): LeakyReLU(negative_slope=0.01)\n",
       "    (2): Linear(in_features=200, out_features=1, bias=True)\n",
       "    (3): Sigmoid()\n",
       "  )\n",
       "),\n",
       "                              predictor_optimizer=&lt;function optimizer_constructor at 0x169be4a60&gt;,\n",
       "                              random_state=123, shuffle=True)</pre></div></div></div></div></div>"
      ],
      "text/plain": [
       "AdversarialFairnessClassifier(adversary_model=[3, 'leaky_relu'],\n",
       "                              adversary_optimizer=<function optimizer_constructor at 0x169be4a60>,\n",
       "                              alpha=16.730212192318422, batch_size=128,\n",
       "                              callbacks=<function callbacks at 0x169be4af0>,\n",
       "                              epochs=10,\n",
       "                              predictor_model=PredictorModel(\n",
       "  (layers): Sequential(\n",
       "    (0): Linear(in_features=104, out_features=200, bias=True)\n",
       "    (1): LeakyReLU(negative_slope=0.01)\n",
       "    (2): Linear(in_features=200, out_features=1, bias=True)\n",
       "    (3): Sigmoid()\n",
       "  )\n",
       "),\n",
       "                              predictor_optimizer=<function optimizer_constructor at 0x169be4a60>,\n",
       "                              random_state=123, shuffle=True)"
      ]
     },
     "execution_count": 14,
     "metadata": {},
     "output_type": "execute_result"
    }
   ],
   "source": [
    "mitigator.fit(X_prep_train, Y_train, sensitive_features=Z_train)"
   ]
  },
  {
   "cell_type": "code",
   "execution_count": 20,
   "metadata": {},
   "outputs": [
    {
     "ename": "TypeError",
     "evalue": "linear(): argument 'input' (position 1) must be Tensor, not DataFrame",
     "output_type": "error",
     "traceback": [
      "\u001b[0;31m---------------------------------------------------------------------------\u001b[0m",
      "\u001b[0;31mTypeError\u001b[0m                                 Traceback (most recent call last)",
      "Cell \u001b[0;32mIn[20], line 1\u001b[0m\n\u001b[0;32m----> 1\u001b[0m predictor_model\u001b[39m.\u001b[39;49mforward(X_test)\n",
      "Cell \u001b[0;32mIn[5], line 12\u001b[0m, in \u001b[0;36mPredictorModel.forward\u001b[0;34m(self, x)\u001b[0m\n\u001b[1;32m     11\u001b[0m \u001b[39mdef\u001b[39;00m \u001b[39mforward\u001b[39m(\u001b[39mself\u001b[39m, x):\n\u001b[0;32m---> 12\u001b[0m     \u001b[39mreturn\u001b[39;00m \u001b[39mself\u001b[39;49m\u001b[39m.\u001b[39;49mlayers(x)\n",
      "File \u001b[0;32m~/miniconda3/envs/ma/lib/python3.10/site-packages/torch/nn/modules/module.py:1501\u001b[0m, in \u001b[0;36mModule._call_impl\u001b[0;34m(self, *args, **kwargs)\u001b[0m\n\u001b[1;32m   1496\u001b[0m \u001b[39m# If we don't have any hooks, we want to skip the rest of the logic in\u001b[39;00m\n\u001b[1;32m   1497\u001b[0m \u001b[39m# this function, and just call forward.\u001b[39;00m\n\u001b[1;32m   1498\u001b[0m \u001b[39mif\u001b[39;00m \u001b[39mnot\u001b[39;00m (\u001b[39mself\u001b[39m\u001b[39m.\u001b[39m_backward_hooks \u001b[39mor\u001b[39;00m \u001b[39mself\u001b[39m\u001b[39m.\u001b[39m_backward_pre_hooks \u001b[39mor\u001b[39;00m \u001b[39mself\u001b[39m\u001b[39m.\u001b[39m_forward_hooks \u001b[39mor\u001b[39;00m \u001b[39mself\u001b[39m\u001b[39m.\u001b[39m_forward_pre_hooks\n\u001b[1;32m   1499\u001b[0m         \u001b[39mor\u001b[39;00m _global_backward_pre_hooks \u001b[39mor\u001b[39;00m _global_backward_hooks\n\u001b[1;32m   1500\u001b[0m         \u001b[39mor\u001b[39;00m _global_forward_hooks \u001b[39mor\u001b[39;00m _global_forward_pre_hooks):\n\u001b[0;32m-> 1501\u001b[0m     \u001b[39mreturn\u001b[39;00m forward_call(\u001b[39m*\u001b[39;49margs, \u001b[39m*\u001b[39;49m\u001b[39m*\u001b[39;49mkwargs)\n\u001b[1;32m   1502\u001b[0m \u001b[39m# Do not call functions when jit is used\u001b[39;00m\n\u001b[1;32m   1503\u001b[0m full_backward_hooks, non_full_backward_hooks \u001b[39m=\u001b[39m [], []\n",
      "File \u001b[0;32m~/miniconda3/envs/ma/lib/python3.10/site-packages/torch/nn/modules/container.py:217\u001b[0m, in \u001b[0;36mSequential.forward\u001b[0;34m(self, input)\u001b[0m\n\u001b[1;32m    215\u001b[0m \u001b[39mdef\u001b[39;00m \u001b[39mforward\u001b[39m(\u001b[39mself\u001b[39m, \u001b[39minput\u001b[39m):\n\u001b[1;32m    216\u001b[0m     \u001b[39mfor\u001b[39;00m module \u001b[39min\u001b[39;00m \u001b[39mself\u001b[39m:\n\u001b[0;32m--> 217\u001b[0m         \u001b[39minput\u001b[39m \u001b[39m=\u001b[39m module(\u001b[39minput\u001b[39;49m)\n\u001b[1;32m    218\u001b[0m     \u001b[39mreturn\u001b[39;00m \u001b[39minput\u001b[39m\n",
      "File \u001b[0;32m~/miniconda3/envs/ma/lib/python3.10/site-packages/torch/nn/modules/module.py:1501\u001b[0m, in \u001b[0;36mModule._call_impl\u001b[0;34m(self, *args, **kwargs)\u001b[0m\n\u001b[1;32m   1496\u001b[0m \u001b[39m# If we don't have any hooks, we want to skip the rest of the logic in\u001b[39;00m\n\u001b[1;32m   1497\u001b[0m \u001b[39m# this function, and just call forward.\u001b[39;00m\n\u001b[1;32m   1498\u001b[0m \u001b[39mif\u001b[39;00m \u001b[39mnot\u001b[39;00m (\u001b[39mself\u001b[39m\u001b[39m.\u001b[39m_backward_hooks \u001b[39mor\u001b[39;00m \u001b[39mself\u001b[39m\u001b[39m.\u001b[39m_backward_pre_hooks \u001b[39mor\u001b[39;00m \u001b[39mself\u001b[39m\u001b[39m.\u001b[39m_forward_hooks \u001b[39mor\u001b[39;00m \u001b[39mself\u001b[39m\u001b[39m.\u001b[39m_forward_pre_hooks\n\u001b[1;32m   1499\u001b[0m         \u001b[39mor\u001b[39;00m _global_backward_pre_hooks \u001b[39mor\u001b[39;00m _global_backward_hooks\n\u001b[1;32m   1500\u001b[0m         \u001b[39mor\u001b[39;00m _global_forward_hooks \u001b[39mor\u001b[39;00m _global_forward_pre_hooks):\n\u001b[0;32m-> 1501\u001b[0m     \u001b[39mreturn\u001b[39;00m forward_call(\u001b[39m*\u001b[39;49margs, \u001b[39m*\u001b[39;49m\u001b[39m*\u001b[39;49mkwargs)\n\u001b[1;32m   1502\u001b[0m \u001b[39m# Do not call functions when jit is used\u001b[39;00m\n\u001b[1;32m   1503\u001b[0m full_backward_hooks, non_full_backward_hooks \u001b[39m=\u001b[39m [], []\n",
      "File \u001b[0;32m~/miniconda3/envs/ma/lib/python3.10/site-packages/torch/nn/modules/linear.py:114\u001b[0m, in \u001b[0;36mLinear.forward\u001b[0;34m(self, input)\u001b[0m\n\u001b[1;32m    113\u001b[0m \u001b[39mdef\u001b[39;00m \u001b[39mforward\u001b[39m(\u001b[39mself\u001b[39m, \u001b[39minput\u001b[39m: Tensor) \u001b[39m-\u001b[39m\u001b[39m>\u001b[39m Tensor:\n\u001b[0;32m--> 114\u001b[0m     \u001b[39mreturn\u001b[39;00m F\u001b[39m.\u001b[39;49mlinear(\u001b[39minput\u001b[39;49m, \u001b[39mself\u001b[39;49m\u001b[39m.\u001b[39;49mweight, \u001b[39mself\u001b[39;49m\u001b[39m.\u001b[39;49mbias)\n",
      "\u001b[0;31mTypeError\u001b[0m: linear(): argument 'input' (position 1) must be Tensor, not DataFrame"
     ]
    }
   ],
   "source": [
    "predictor_model.forward(X_test)"
   ]
  },
  {
   "cell_type": "code",
   "execution_count": 16,
   "metadata": {},
   "outputs": [
    {
     "ename": "AttributeError",
     "evalue": "Can't pickle local object '_AdversarialFairness._set_predictor_function.<locals>.<lambda>'",
     "output_type": "error",
     "traceback": [
      "\u001b[0;31m---------------------------------------------------------------------------\u001b[0m",
      "\u001b[0;31mAttributeError\u001b[0m                            Traceback (most recent call last)",
      "Cell \u001b[0;32mIn[16], line 2\u001b[0m\n\u001b[1;32m      1\u001b[0m \u001b[39mwith\u001b[39;00m \u001b[39mopen\u001b[39m(\u001b[39m\"\u001b[39m\u001b[39mtest.pkl\u001b[39m\u001b[39m\"\u001b[39m, \u001b[39m\"\u001b[39m\u001b[39mwb\u001b[39m\u001b[39m\"\u001b[39m) \u001b[39mas\u001b[39;00m f:\n\u001b[0;32m----> 2\u001b[0m     pickle\u001b[39m.\u001b[39;49mdump(mitigator, f)\n",
      "\u001b[0;31mAttributeError\u001b[0m: Can't pickle local object '_AdversarialFairness._set_predictor_function.<locals>.<lambda>'"
     ]
    }
   ],
   "source": [
    "    with open(\"test.pkl\", \"wb\") as f:\n",
    "        pickle.dump(mitigator, f)"
   ]
  },
  {
   "cell_type": "markdown",
   "metadata": {},
   "source": [
    "Save state dicts and somehow implement a predictir function...\n",
    "just pass to forward.."
   ]
  }
 ],
 "metadata": {
  "kernelspec": {
   "display_name": "ma",
   "language": "python",
   "name": "python3"
  },
  "language_info": {
   "codemirror_mode": {
    "name": "ipython",
    "version": 3
   },
   "file_extension": ".py",
   "mimetype": "text/x-python",
   "name": "python",
   "nbconvert_exporter": "python",
   "pygments_lexer": "ipython3",
   "version": "3.10.9"
  },
  "orig_nbformat": 4
 },
 "nbformat": 4,
 "nbformat_minor": 2
}
