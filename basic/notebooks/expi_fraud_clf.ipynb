{
 "cells": [
  {
   "cell_type": "markdown",
   "metadata": {},
   "source": [
    "# Delta Function Appeal"
   ]
  },
  {
   "cell_type": "markdown",
   "metadata": {},
   "source": [
    "This notebook presents an agent-based model that simulates the propagation of a disease through a network.\n",
    "It demonstrates how to use the [agentpy](https://agentpy.readthedocs.io) package to create and visualize networks, use the interactive module, and perform different types of sensitivity analysis. "
   ]
  },
  {
   "cell_type": "code",
   "execution_count": 1,
   "metadata": {},
   "outputs": [],
   "source": [
    "# Model design\n",
    "import agentpy as ap\n",
    "import networkx as nx \n",
    "import random \n",
    "import numpy as np\n",
    "import pandas as pd\n",
    "\n",
    "# Visualization\n",
    "import matplotlib.pyplot as plt \n",
    "import seaborn as sns\n",
    "import IPython\n",
    "\n",
    "from sklearn.utils import resample\n",
    "from sklearn.neural_network import MLPClassifier\n",
    "from sklearn.ensemble import RandomForestClassifier, BaggingClassifier\n",
    "from sklearn.model_selection import train_test_split\n",
    "from sklearn.pipeline import make_pipeline\n",
    "from sklearn.preprocessing import StandardScaler\n",
    "from sklearn.svm import SVC\n",
    "from sklearn.model_selection import KFold\n",
    "\n",
    "import pickle\n",
    "\n",
    "np.random.seed(42)"
   ]
  },
  {
   "cell_type": "code",
   "execution_count": 2,
   "metadata": {},
   "outputs": [],
   "source": [
    "import os\n",
    "\n",
    "if os.path.isdir(\"../notebooks\"):\n",
    "    os.chdir(\"..\")\n",
    "\n",
    "from utils import viz, delta_function, generate_init\n",
    "\n",
    "\n",
    "from agent import Person\n",
    "\n",
    "from model import VirusModel, VirusModel_baseline\n",
    "\n",
    "\n"
   ]
  },
  {
   "cell_type": "code",
   "execution_count": null,
   "metadata": {},
   "outputs": [],
   "source": []
  },
  {
   "cell_type": "markdown",
   "metadata": {},
   "source": [
    "## About the model\n",
    "\n",
    "The agents of this model are people, which can be in one of the following three conditions: susceptible to the disease (S), infected (I), or recovered (R). The agents are connected to each other through a small-world network of peers. At every time-step, infected agents can infect their peers or recover from the disease based on random chance."
   ]
  },
  {
   "cell_type": "markdown",
   "metadata": {},
   "source": [
    "## Defining the model"
   ]
  },
  {
   "cell_type": "markdown",
   "metadata": {
    "raw_mimetype": "text/restructuredtext"
   },
   "source": [
    "We define a new agent type :class:`Person` by creating a subclass of :class:`Agent`.\n",
    "This agent has two methods: :func:`setup` will be called automatically at the agent's creation,\n",
    "and :func:`being_sick` will be called by the :func:`Model.step` function.\n",
    "Three tools are used within this class:\n",
    "\n",
    "- :attr:`Agent.p` returns the parameters of the model\n",
    "- :func:`Agent.neighbors` returns a list of the agents' peers in the network\n",
    "- :func:`random.random` returns a uniform random draw between 0 and 1\n",
    "\n",
    "wealth by race https://www.federalreserve.gov/econres/notes/feds-notes/disparities-in-wealth-by-race-and-ethnicity-in-the-2019-survey-of-consumer-finances-20200928.html\n",
    "\n",
    "rank for the US:\n",
    "https://www.federalreserve.gov/econres/notes/feds-notes/wealth-inequality-and-the-racial-wealth-gap-accessible-20211022.htm#fig3\n"
   ]
  },
  {
   "cell_type": "code",
   "execution_count": 3,
   "metadata": {
    "scrolled": true
   },
   "outputs": [],
   "source": [
    "# values = plt.hist(np.random.beta(1.5, 5, 10000),\n",
    "\n",
    "#                   bins=200, density=True)\n",
    "\n",
    "# plt.show()"
   ]
  },
  {
   "cell_type": "code",
   "execution_count": 4,
   "metadata": {},
   "outputs": [],
   "source": [
    "# import matplotlib.pyplot as plt\n",
    "\n",
    "# values = plt.hist(np.random.beta(5, 3, 10000),\n",
    "\n",
    "#                   bins=200, density=True)\n",
    "\n",
    "# plt.show()"
   ]
  },
  {
   "cell_type": "markdown",
   "metadata": {
    "raw_mimetype": "text/restructuredtext"
   },
   "source": [
    "Next, we define our model :class:`VirusModel` by creating a subclass of :class:`Model`.\n",
    "The four methods of this class will be called automatically at different steps of the simulation,\n",
    "as described in :ref:`overview_simulation`."
   ]
  },
  {
   "cell_type": "markdown",
   "metadata": {},
   "source": [
    "## Running a simulation"
   ]
  },
  {
   "cell_type": "markdown",
   "metadata": {
    "raw_mimetype": "text/restructuredtext"
   },
   "source": [
    "To run our model, we define a dictionary with our parameters. \n",
    "We then create a new instance of our model, passing the parameters as an argument, \n",
    "and use the method :func:`Model.run` to perform the simulation and return it's output. "
   ]
  },
  {
   "cell_type": "code",
   "execution_count": 15,
   "metadata": {
    "scrolled": true
   },
   "outputs": [
    {
     "name": "stdout",
     "output_type": "stream",
     "text": [
      "Scheduled runs: 20\n",
      "0.5915\n",
      "Completed: 1, estimated time remaining: 0:03:560.5665\n",
      "Completed: 2, estimated time remaining: 0:03:380.565\n",
      "Completed: 3, estimated time remaining: 0:03:240.6075\n",
      "Completed: 4, estimated time remaining: 0:03:110.607\n",
      "Completed: 5, estimated time remaining: 0:03:000.576\n",
      "Completed: 6, estimated time remaining: 0:02:490.55\n",
      "Completed: 7, estimated time remaining: 0:02:390.574\n",
      "Completed: 8, estimated time remaining: 0:02:260.5855\n",
      "Completed: 9, estimated time remaining: 0:02:130.59\n",
      "Completed: 10, estimated time remaining: 0:02:010.5845\n",
      "Completed: 11, estimated time remaining: 0:01:490.598\n",
      "Completed: 12, estimated time remaining: 0:01:360.5945\n",
      "Completed: 13, estimated time remaining: 0:01:240.6085\n",
      "Completed: 14, estimated time remaining: 0:01:120.587\n",
      "Completed: 15, estimated time remaining: 0:01:000.5695\n",
      "Completed: 16, estimated time remaining: 0:00:480.612\n",
      "Completed: 17, estimated time remaining: 0:00:360.601\n",
      "Completed: 18, estimated time remaining: 0:00:240.6085\n",
      "Completed: 19, estimated time remaining: 0:00:120.5915\n",
      "Completed: 20, estimated time remaining: 0:00:00\n",
      "Experiment finished\n",
      "Run time: 0:04:00.557286\n"
     ]
    }
   ],
   "source": [
    "parameters = {\n",
    "    'my_parameter':42,\n",
    "    'agents':500,\n",
    "    'steps':100,\n",
    "    'wealth_appeal_corr': 0, # >0 more wealth higher appeal chance\n",
    "    'acc': 0.8, # accuracy of fraud prdediction\n",
    "    'appeal_wealth': ap.IntRange(0.25,0.3), # minimal wealth needed for appeal (could also become a param for distr. eventually)\n",
    "    #'wealth_impact'\n",
    "    'clf': 'hist', # None, 'hist'\n",
    "    'expi': None\n",
    "    \n",
    "}\n",
    "sample = ap.Sample(parameters, n=1)\n",
    "model_baseline = VirusModel_baseline(parameters)\n",
    "exp = ap.Experiment(VirusModel_baseline, sample, iterations =20, record = True)\n",
    "results_baseline = exp.run() \n",
    "\n",
    "with open(\"data/expis/fraud_1.pkl\", \"wb\") as f:\n",
    "        pickle.dump(results_baseline, f)\n",
    "    \n",
    "df_baseline = results_baseline['variables']['Person']\n",
    "\n"
   ]
  },
  {
   "cell_type": "code",
   "execution_count": 16,
   "metadata": {},
   "outputs": [
    {
     "data": {
      "text/html": [
       "<div>\n",
       "<style scoped>\n",
       "    .dataframe tbody tr th:only-of-type {\n",
       "        vertical-align: middle;\n",
       "    }\n",
       "\n",
       "    .dataframe tbody tr th {\n",
       "        vertical-align: top;\n",
       "    }\n",
       "\n",
       "    .dataframe thead th {\n",
       "        text-align: right;\n",
       "    }\n",
       "</style>\n",
       "<table border=\"1\" class=\"dataframe\">\n",
       "  <thead>\n",
       "    <tr style=\"text-align: right;\">\n",
       "      <th></th>\n",
       "      <th></th>\n",
       "      <th></th>\n",
       "      <th>wealth</th>\n",
       "      <th>fraud_pred</th>\n",
       "      <th>fraud</th>\n",
       "      <th>race</th>\n",
       "      <th>gender</th>\n",
       "      <th>convicted</th>\n",
       "      <th>misclassifications</th>\n",
       "    </tr>\n",
       "    <tr>\n",
       "      <th>iteration</th>\n",
       "      <th>obj_id</th>\n",
       "      <th>t</th>\n",
       "      <th></th>\n",
       "      <th></th>\n",
       "      <th></th>\n",
       "      <th></th>\n",
       "      <th></th>\n",
       "      <th></th>\n",
       "      <th></th>\n",
       "    </tr>\n",
       "  </thead>\n",
       "  <tbody>\n",
       "    <tr>\n",
       "      <th rowspan=\"5\" valign=\"top\">0</th>\n",
       "      <th rowspan=\"5\" valign=\"top\">1</th>\n",
       "      <th>0</th>\n",
       "      <td>0.278677</td>\n",
       "      <td>-1</td>\n",
       "      <td>1</td>\n",
       "      <td>0</td>\n",
       "      <td>0</td>\n",
       "      <td>0</td>\n",
       "      <td>2</td>\n",
       "    </tr>\n",
       "    <tr>\n",
       "      <th>1</th>\n",
       "      <td>0.286444</td>\n",
       "      <td>0</td>\n",
       "      <td>0</td>\n",
       "      <td>0</td>\n",
       "      <td>0</td>\n",
       "      <td>0</td>\n",
       "      <td>0</td>\n",
       "    </tr>\n",
       "    <tr>\n",
       "      <th>2</th>\n",
       "      <td>0.294649</td>\n",
       "      <td>0</td>\n",
       "      <td>0</td>\n",
       "      <td>0</td>\n",
       "      <td>0</td>\n",
       "      <td>0</td>\n",
       "      <td>0</td>\n",
       "    </tr>\n",
       "    <tr>\n",
       "      <th>3</th>\n",
       "      <td>0.303330</td>\n",
       "      <td>0</td>\n",
       "      <td>0</td>\n",
       "      <td>0</td>\n",
       "      <td>0</td>\n",
       "      <td>0</td>\n",
       "      <td>0</td>\n",
       "    </tr>\n",
       "    <tr>\n",
       "      <th>4</th>\n",
       "      <td>0.312531</td>\n",
       "      <td>0</td>\n",
       "      <td>1</td>\n",
       "      <td>0</td>\n",
       "      <td>0</td>\n",
       "      <td>0</td>\n",
       "      <td>1</td>\n",
       "    </tr>\n",
       "  </tbody>\n",
       "</table>\n",
       "</div>"
      ],
      "text/plain": [
       "                      wealth  fraud_pred  fraud  race  gender  convicted  \\\n",
       "iteration obj_id t                                                         \n",
       "0         1      0  0.278677          -1      1     0       0          0   \n",
       "                 1  0.286444           0      0     0       0          0   \n",
       "                 2  0.294649           0      0     0       0          0   \n",
       "                 3  0.303330           0      0     0       0          0   \n",
       "                 4  0.312531           0      1     0       0          0   \n",
       "\n",
       "                    misclassifications  \n",
       "iteration obj_id t                      \n",
       "0         1      0                   2  \n",
       "                 1                   0  \n",
       "                 2                   0  \n",
       "                 3                   0  \n",
       "                 4                   1  "
      ]
     },
     "execution_count": 16,
     "metadata": {},
     "output_type": "execute_result"
    }
   ],
   "source": [
    "df_baseline['misclassifications'] = (df_baseline['fraud'] - df_baseline['fraud_pred'])\n",
    "df_baseline[df_baseline['fraud_pred'] ==0]['wealth'].min()\n",
    "df_baseline.head()"
   ]
  },
  {
   "cell_type": "code",
   "execution_count": 17,
   "metadata": {},
   "outputs": [],
   "source": [
    "def viz(data, x, y, hue):\n",
    "    fig, ax = plt.subplots()\n",
    "\n",
    "    sns.lineplot(ax = ax,\n",
    "                 data = data,\n",
    "                 x = x,\n",
    "                 y = y,\n",
    "                 hue = hue,\n",
    "                 marker = 'o')\n",
    "    \n",
    "    # plt.ylim(0,0.2)\n",
    "    plt.xlim(0,50)\n",
    "\n",
    "    plt.show()"
   ]
  },
  {
   "cell_type": "code",
   "execution_count": 18,
   "metadata": {},
   "outputs": [
    {
     "data": {
      "image/png": "[encoded data removed]",
      "text/plain": [
       "<Figure size 640x480 with 1 Axes>"
      ]
     },
     "metadata": {},
     "output_type": "display_data"
    },
    {
     "data": {
      "image/png": "[encoded data removed]",
      "text/plain": [
       "<Figure size 640x480 with 1 Axes>"
      ]
     },
     "metadata": {},
     "output_type": "display_data"
    }
   ],
   "source": [
    "viz(df_baseline, df_baseline.index.get_level_values('t'), df_baseline['wealth'], df_baseline['fraud_pred']) #, df_baseline['convicted'])\n",
    "\n",
    "\n",
    "viz(df_baseline, df_baseline.index.get_level_values('t'), df_baseline['wealth'], abs(df_baseline['misclassifications'])) #, df_baseline['convicted'])\n",
    "\n",
    "\n",
    "# viz(df_baseline, df_baseline.index.get_level_values('t'), abs(df_baseline['fraud'] - df_baseline['fraud_pred']), df_baseline['race'])#, df_baseline['fraud'])"
   ]
  },
  {
   "cell_type": "code",
   "execution_count": null,
   "metadata": {},
   "outputs": [
    {
     "name": "stderr",
     "output_type": "stream",
     "text": [
      "/var/folders/_3/m4zxq5yx589d0965c6l5j1q80000gp/T/ipykernel_57540/2897906450.py:4: FutureWarning: The default value of numeric_only in DataFrameGroupBy.mean is deprecated. In a future version, numeric_only will default to False. Either specify numeric_only or select only columns which should be valid for the function.\n",
      "  baseline1 = df_b1.groupby(level='t').mean()\n",
      "/var/folders/_3/m4zxq5yx589d0965c6l5j1q80000gp/T/ipykernel_57540/2897906450.py:7: FutureWarning: The default value of numeric_only in DataFrameGroupBy.mean is deprecated. In a future version, numeric_only will default to False. Either specify numeric_only or select only columns which should be valid for the function.\n",
      "  baseline0 = df_b0.groupby(level='t').mean()\n"
     ]
    },
    {
     "data": {
      "text/html": [
       "<div>\n",
       "<style scoped>\n",
       "    .dataframe tbody tr th:only-of-type {\n",
       "        vertical-align: middle;\n",
       "    }\n",
       "\n",
       "    .dataframe tbody tr th {\n",
       "        vertical-align: top;\n",
       "    }\n",
       "\n",
       "    .dataframe thead th {\n",
       "        text-align: right;\n",
       "    }\n",
       "</style>\n",
       "<table border=\"1\" class=\"dataframe\">\n",
       "  <thead>\n",
       "    <tr style=\"text-align: right;\">\n",
       "      <th></th>\n",
       "      <th>wealth</th>\n",
       "      <th>fraud_pred</th>\n",
       "      <th>race</th>\n",
       "      <th>gender</th>\n",
       "      <th>convicted</th>\n",
       "    </tr>\n",
       "    <tr>\n",
       "      <th>t</th>\n",
       "      <th></th>\n",
       "      <th></th>\n",
       "      <th></th>\n",
       "      <th></th>\n",
       "      <th></th>\n",
       "    </tr>\n",
       "  </thead>\n",
       "  <tbody>\n",
       "    <tr>\n",
       "      <th>1</th>\n",
       "      <td>0.048510</td>\n",
       "      <td>1.0</td>\n",
       "      <td>0.265997</td>\n",
       "      <td>0.413049</td>\n",
       "      <td>1.0</td>\n",
       "    </tr>\n",
       "    <tr>\n",
       "      <th>2</th>\n",
       "      <td>0.025493</td>\n",
       "      <td>1.0</td>\n",
       "      <td>0.266550</td>\n",
       "      <td>0.412738</td>\n",
       "      <td>1.0</td>\n",
       "    </tr>\n",
       "    <tr>\n",
       "      <th>3</th>\n",
       "      <td>0.015536</td>\n",
       "      <td>1.0</td>\n",
       "      <td>0.267651</td>\n",
       "      <td>0.413871</td>\n",
       "      <td>1.0</td>\n",
       "    </tr>\n",
       "    <tr>\n",
       "      <th>4</th>\n",
       "      <td>0.006734</td>\n",
       "      <td>1.0</td>\n",
       "      <td>0.268660</td>\n",
       "      <td>0.415431</td>\n",
       "      <td>1.0</td>\n",
       "    </tr>\n",
       "    <tr>\n",
       "      <th>5</th>\n",
       "      <td>0.006002</td>\n",
       "      <td>1.0</td>\n",
       "      <td>0.266550</td>\n",
       "      <td>0.412738</td>\n",
       "      <td>1.0</td>\n",
       "    </tr>\n",
       "    <tr>\n",
       "      <th>...</th>\n",
       "      <td>...</td>\n",
       "      <td>...</td>\n",
       "      <td>...</td>\n",
       "      <td>...</td>\n",
       "      <td>...</td>\n",
       "    </tr>\n",
       "    <tr>\n",
       "      <th>96</th>\n",
       "      <td>0.025853</td>\n",
       "      <td>1.0</td>\n",
       "      <td>0.272861</td>\n",
       "      <td>0.406112</td>\n",
       "      <td>1.0</td>\n",
       "    </tr>\n",
       "    <tr>\n",
       "      <th>97</th>\n",
       "      <td>0.028194</td>\n",
       "      <td>1.0</td>\n",
       "      <td>0.277264</td>\n",
       "      <td>0.404576</td>\n",
       "      <td>1.0</td>\n",
       "    </tr>\n",
       "    <tr>\n",
       "      <th>98</th>\n",
       "      <td>0.036699</td>\n",
       "      <td>1.0</td>\n",
       "      <td>0.272486</td>\n",
       "      <td>0.401013</td>\n",
       "      <td>1.0</td>\n",
       "    </tr>\n",
       "    <tr>\n",
       "      <th>99</th>\n",
       "      <td>0.029920</td>\n",
       "      <td>1.0</td>\n",
       "      <td>0.277170</td>\n",
       "      <td>0.403841</td>\n",
       "      <td>1.0</td>\n",
       "    </tr>\n",
       "    <tr>\n",
       "      <th>100</th>\n",
       "      <td>0.029742</td>\n",
       "      <td>1.0</td>\n",
       "      <td>0.276565</td>\n",
       "      <td>0.403202</td>\n",
       "      <td>1.0</td>\n",
       "    </tr>\n",
       "  </tbody>\n",
       "</table>\n",
       "<p>100 rows × 5 columns</p>\n",
       "</div>"
      ],
      "text/plain": [
       "       wealth  fraud_pred      race    gender  convicted\n",
       "t                                                       \n",
       "1    0.048510         1.0  0.265997  0.413049        1.0\n",
       "2    0.025493         1.0  0.266550  0.412738        1.0\n",
       "3    0.015536         1.0  0.267651  0.413871        1.0\n",
       "4    0.006734         1.0  0.268660  0.415431        1.0\n",
       "5    0.006002         1.0  0.266550  0.412738        1.0\n",
       "..        ...         ...       ...       ...        ...\n",
       "96   0.025853         1.0  0.272861  0.406112        1.0\n",
       "97   0.028194         1.0  0.277264  0.404576        1.0\n",
       "98   0.036699         1.0  0.272486  0.401013        1.0\n",
       "99   0.029920         1.0  0.277170  0.403841        1.0\n",
       "100  0.029742         1.0  0.276565  0.403202        1.0\n",
       "\n",
       "[100 rows x 5 columns]"
      ]
     },
     "execution_count": 8,
     "metadata": {},
     "output_type": "execute_result"
    }
   ],
   "source": [
    "# create baseline value fraud prediction medium income\n",
    "\n",
    "df_b1 = df_baseline.iloc[(df_baseline['fraud_pred'] == 1).values] \n",
    "baseline1 = df_b1.groupby(level='t').mean()\n",
    "# df_b\n",
    "df_b0 = df_baseline.iloc[(df_baseline['fraud_pred'] == 0).values] \n",
    "baseline0 = df_b0.groupby(level='t').mean()\n",
    "\n",
    "baseline0\n",
    "df_b0\n",
    "df_baseline.head(400)\n",
    "baseline1\n",
    "# df_x1 = df.iloc[(df_baseline['fraud_pred'] == 1).values] \n",
    "# df_wb1 = df_x1['wealth'] - baseline1['wealth']\n",
    "# df_x1['wealth'] = df_wb1\n",
    "\n",
    "\n",
    "\n",
    "\n",
    "# df_x0 = df_baseline.iloc[(df_baseline['fraud_pred'] == 0).values] \n",
    "# df_wb0 = df_x0['wealth'] - baseline0['wealth']\n",
    "# df_x0['wealth'] = df_wb0\n",
    "\n",
    "# df_xb = pd.concat([df_x0, df_x1])\n",
    "\n",
    "# df_xb"
   ]
  }
 ],
 "metadata": {
  "kernelspec": {
   "display_name": "Python 3 (ipykernel)",
   "language": "python",
   "name": "python3"
  },
  "language_info": {
   "codemirror_mode": {
    "name": "ipython",
    "version": 3
   },
   "file_extension": ".py",
   "mimetype": "text/x-python",
   "name": "python",
   "nbconvert_exporter": "python",
   "pygments_lexer": "ipython3",
   "version": "3.10.9"
  }
 },
 "nbformat": 4,
 "nbformat_minor": 4
}
