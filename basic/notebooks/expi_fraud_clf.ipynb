{
 "cells": [
  {
   "cell_type": "markdown",
   "metadata": {},
   "source": [
    "# Delta Function Appeal"
   ]
  },
  {
   "cell_type": "markdown",
   "metadata": {},
   "source": [
    "This notebook presents an agent-based model that simulates the propagation of a disease through a network.\n",
    "It demonstrates how to use the [agentpy](https://agentpy.readthedocs.io) package to create and visualize networks, use the interactive module, and perform different types of sensitivity analysis. "
   ]
  },
  {
   "cell_type": "code",
   "execution_count": 1,
   "metadata": {},
   "outputs": [],
   "source": [
    "# Model design\n",
    "import agentpy as ap\n",
    "import networkx as nx \n",
    "import random \n",
    "import numpy as np\n",
    "import pandas as pd\n",
    "import os\n",
    "# Visualization\n",
    "import matplotlib.pyplot as plt \n",
    "import seaborn as sns\n",
    "import IPython\n",
    "\n",
    "from sklearn.utils import resample\n",
    "from sklearn.neural_network import MLPClassifier\n",
    "from sklearn.ensemble import RandomForestClassifier, BaggingClassifier\n",
    "from sklearn.model_selection import train_test_split\n",
    "from sklearn.pipeline import make_pipeline\n",
    "from sklearn.preprocessing import StandardScaler\n",
    "from sklearn.svm import SVC\n",
    "from sklearn.model_selection import KFold\n",
    "\n",
    "import pickle\n",
    "\n",
    "np.random.seed(42)"
   ]
  },
  {
   "cell_type": "code",
   "execution_count": 2,
   "metadata": {},
   "outputs": [
    {
     "name": "stdout",
     "output_type": "stream",
     "text": [
      "[0.14776571 0.15524301 0.14651949 0.12978458 0.10770874 0.08741321\n",
      " 0.07317073 0.06391312 0.05305323 0.03542816]\n"
     ]
    },
    {
     "data": {
      "text/plain": [
       "'/Users/uni/Documents/Git/abm/basic/notebooks'"
      ]
     },
     "execution_count": 2,
     "metadata": {},
     "output_type": "execute_result"
    }
   ],
   "source": [
    "path = os.path.abspath(os.getcwd())\n",
    "\n",
    "with open( (\"../data/distributions_init.pickle\"), \"rb\") as f:\n",
    "        d_fnw = pickle.load(f)\n",
    "\n",
    "print(d_fnw)\n",
    "path"
   ]
  },
  {
   "cell_type": "code",
   "execution_count": 3,
   "metadata": {},
   "outputs": [],
   "source": [
    "import os\n",
    "\n",
    "if os.path.isdir(\"../notebooks\"):\n",
    "    os.chdir(\"..\")\n",
    "\n",
    "from utils import viz, delta_function\n",
    "from generate_data import generate_init\n",
    "from clf import  classifier_train, classifier_train_star\n",
    "\n",
    "from agent import Person\n",
    "\n",
    "from model import TaxFraudModel\n",
    "\n",
    "\n"
   ]
  },
  {
   "cell_type": "markdown",
   "metadata": {},
   "source": [
    "## optimize classifier"
   ]
  },
  {
   "cell_type": "markdown",
   "metadata": {
    "raw_mimetype": "text/restructuredtext"
   },
   "source": [
    "To run our model, we define a dictionary with our parameters. \n",
    "We then create a new instance of our model, passing the parameters as an argument, \n",
    "and use the method :func:`Model.run` to perform the simulation and return it's output. "
   ]
  },
  {
   "cell_type": "code",
   "execution_count": 14,
   "metadata": {},
   "outputs": [
    {
     "name": "stdout",
     "output_type": "stream",
     "text": [
      "0.7145\n",
      "dpd 0.9681969951549269\n",
      "eod 0.8192540322580645\n",
      "dpd 0.975588361959771\n",
      "eod 0.9943807722265494\n"
     ]
    }
   ],
   "source": [
    "x,y = generate_init(star_version = 'is1', synth_data_acc = 0.7, abm_eval = 'GT', train_clf = True, n = 20000)\n",
    "classifier_train_star(x, y)\n",
    "# print(x)\n",
    "# with open(\"clf2.pkl\", \"rb\") as f:\n",
    "#     clf = pickle.write(f)   \n",
    "\n"
   ]
  },
  {
   "cell_type": "code",
   "execution_count": 5,
   "metadata": {
    "scrolled": true
   },
   "outputs": [],
   "source": [
    "# parameters = {\n",
    "#     'my_parameter':42,\n",
    "#     'agents':500,\n",
    "#     'steps':100,\n",
    "#     'wealth_appeal_corr': 0, # >0 more wealth higher appeal chance\n",
    "#     'acc': 0.8, # accuracy of fraud prdediction\n",
    "#     'appeal_wealth': 0.3, # minimal wealth needed for appeal (could also become a param for distr. eventually)\n",
    "#     #'wealth_impact'\n",
    "#     'clf': 'pretrained', # None, 'hist'\n",
    "#     'expi': None,\n",
    "#     'fraud_det': 0,\n",
    "#     'fairness_metrics' : True\n",
    "    \n",
    "# }\n",
    "# sample = ap.Sample(parameters, n=1)\n",
    "# model_baseline = VirusModel_baseline(parameters)\n",
    "# exp = ap.Experiment(VirusModel_baseline, sample, iterations =20, record = True)\n",
    "# results_baseline = exp.run() \n",
    "\n",
    "\n",
    "    \n",
    "# df_baseline = results_baseline['variables']['Person']\n",
    "\n"
   ]
  },
  {
   "cell_type": "code",
   "execution_count": 6,
   "metadata": {},
   "outputs": [],
   "source": [
    "# df_baseline = results_baseline['variables']['Person']\n"
   ]
  },
  {
   "cell_type": "code",
   "execution_count": 7,
   "metadata": {},
   "outputs": [],
   "source": [
    "# with open(\"data/expis/fraud_expi_false_mpl_20run.pkl\", \"wb\") as f:\n",
    "#         pickle.dump(results_baseline, f)"
   ]
  },
  {
   "cell_type": "code",
   "execution_count": 8,
   "metadata": {},
   "outputs": [],
   "source": [
    "# parameters = {\n",
    "#     'my_parameter':42,\n",
    "#     'agents':500,\n",
    "#     'steps':100,\n",
    "#     'wealth_appeal_corr': 0, # >0 more wealth higher appeal chance\n",
    "#     'acc': 0.6, # accuracy of fraud prdediction\n",
    "#     'appeal_wealth': 0.3, # minimal wealth needed for appeal (could also become a param for distr. eventually)\n",
    "#     #'wealth_impact'\n",
    "#     'clf': None, # None, 'hist'\n",
    "#     'expi': None,\n",
    "#     'fraud_det': 0,\n",
    "#     'fairness_metrics' : True\n",
    "    \n",
    "# }\n",
    "# sample = ap.Sample(parameters, n=1)\n",
    "# model_baseline = VirusModel_baseline(parameters)\n",
    "# exp = ap.Experiment(VirusModel_baseline, sample, iterations =20, record = True)\n",
    "# r_baseline = exp.run() \n",
    "\n",
    "    \n",
    "# df_b = r_baseline['variables']['Person']"
   ]
  },
  {
   "cell_type": "code",
   "execution_count": 9,
   "metadata": {},
   "outputs": [],
   "source": [
    "# with open(\"data/expis/fraud_expi_false_prob_20run.pkl\", \"wb\") as f:\n",
    "#         pickle.dump(r_baseline, f)"
   ]
  },
  {
   "cell_type": "code",
   "execution_count": 10,
   "metadata": {},
   "outputs": [],
   "source": [
    "# parameters = {\n",
    "#     'my_parameter':42,\n",
    "#     'agents':500,\n",
    "#     'steps':100,\n",
    "#     'wealth_appeal_corr': 0, # >0 more wealth higher appeal chance\n",
    "#     'acc': 0.6, # accuracy of fraud prdediction\n",
    "#     'appeal_wealth': 0.3, # minimal wealth needed for appeal (could also become a param for distr. eventually)\n",
    "#     #'wealth_impact'\n",
    "#     'clf': 'pretrained', # None, 'hist'\n",
    "#     'expi': 'appeal',\n",
    "#     'fraud_det': 0,\n",
    "#     'fairness_metrics' : True\n",
    "    \n",
    "# }\n",
    "# sample = ap.Sample(parameters, n=1)\n",
    "# model_baseline = VirusModel_baseline(parameters)\n",
    "# exp = ap.Experiment(VirusModel_baseline, sample, iterations =20, record = True)\n",
    "# r_baseline = exp.run() \n",
    "\n",
    "    \n",
    "# df_b = r_baseline['variables']['Person']"
   ]
  },
  {
   "cell_type": "code",
   "execution_count": 11,
   "metadata": {},
   "outputs": [],
   "source": [
    "# with open(\"data/expis/fraud_expi_appeal_mlp_20run.pkl\", \"wb\") as f:\n",
    "#         pickle.dump(r_baseline, f)"
   ]
  },
  {
   "cell_type": "code",
   "execution_count": 12,
   "metadata": {},
   "outputs": [
    {
     "ename": "NameError",
     "evalue": "name 'VirusModel_baseline' is not defined",
     "output_type": "error",
     "traceback": [
      "\u001b[0;31m---------------------------------------------------------------------------\u001b[0m",
      "\u001b[0;31mNameError\u001b[0m                                 Traceback (most recent call last)",
      "Cell \u001b[0;32mIn[12], line 16\u001b[0m\n\u001b[1;32m      1\u001b[0m parameters \u001b[39m=\u001b[39m {\n\u001b[1;32m      2\u001b[0m     \u001b[39m'\u001b[39m\u001b[39mmy_parameter\u001b[39m\u001b[39m'\u001b[39m:\u001b[39m42\u001b[39m,\n\u001b[1;32m      3\u001b[0m     \u001b[39m'\u001b[39m\u001b[39magents\u001b[39m\u001b[39m'\u001b[39m:\u001b[39m100\u001b[39m,\n\u001b[0;32m   (...)\u001b[0m\n\u001b[1;32m     13\u001b[0m     \n\u001b[1;32m     14\u001b[0m }\n\u001b[1;32m     15\u001b[0m sample \u001b[39m=\u001b[39m ap\u001b[39m.\u001b[39mSample(parameters, n\u001b[39m=\u001b[39m\u001b[39m1\u001b[39m)\n\u001b[0;32m---> 16\u001b[0m model_baseline \u001b[39m=\u001b[39m VirusModel_baseline(parameters)\n\u001b[1;32m     17\u001b[0m exp \u001b[39m=\u001b[39m ap\u001b[39m.\u001b[39mExperiment(VirusModel_baseline, sample, iterations \u001b[39m=\u001b[39m\u001b[39m1\u001b[39m, record \u001b[39m=\u001b[39m \u001b[39mTrue\u001b[39;00m)\n\u001b[1;32m     18\u001b[0m r_baseline \u001b[39m=\u001b[39m exp\u001b[39m.\u001b[39mrun()\n",
      "\u001b[0;31mNameError\u001b[0m: name 'VirusModel_baseline' is not defined"
     ]
    }
   ],
   "source": [
    "parameters = {\n",
    "    'my_parameter':42,\n",
    "    'agents':100,\n",
    "    'steps':100,\n",
    "    'wealth_appeal_corr': 0, # >0 more wealth higher appeal chance\n",
    "    'acc': 0.6, # accuracy of fraud prdediction\n",
    "    'appeal_wealth': 0.3, # minimal wealth needed for appeal (could also become a param for distr. eventually)\n",
    "    #'wealth_impact'\n",
    "    'clf': None, # None, 'hist'\n",
    "    'expi': 'appeal',\n",
    "    'fraud_det': 0,\n",
    "    'fairness_metrics' : True\n",
    "    \n",
    "}\n",
    "sample = ap.Sample(parameters, n=1)\n",
    "model_baseline = VirusModel_baseline(parameters)\n",
    "exp = ap.Experiment(VirusModel_baseline, sample, iterations =1, record = True)\n",
    "r_baseline = exp.run() \n",
    "\n",
    "    \n"
   ]
  },
  {
   "cell_type": "code",
   "execution_count": null,
   "metadata": {},
   "outputs": [],
   "source": [
    "df_baseline = r_baseline['variables']['Person']"
   ]
  },
  {
   "cell_type": "code",
   "execution_count": null,
   "metadata": {},
   "outputs": [],
   "source": [
    "def transform_pd(df_baseline):\n",
    "\n",
    "    df_baseline['misclassifications'] = abs(df_baseline['fraud_pred'] - df_baseline['fraud'])\n",
    "    df_baseline[df_baseline['fraud_pred'] ==0]['wealth'].min()\n",
    "\n",
    "    df_baseline.head()\n",
    "    df_baseline = df_baseline[df_baseline.fraud_pred != -1]\n",
    "    df_baseline[df_baseline['misclassifications'] == 0]\n",
    "\n",
    "    df_baseline['intersect'] = list(df_baseline['gender'])\n",
    "    mask1 = ((df_baseline['gender'] == 0) & (df_baseline['race'] == 0))\n",
    "    df_baseline.loc[mask1, 'intersect'] = 'fw'\n",
    "    mask2 = ((df_baseline['gender'] == 1) & (df_baseline['race'] == 0))\n",
    "    df_baseline.loc[mask2, 'intersect'] = 'mw'\n",
    "\n",
    "    mask3 = ((df_baseline['gender'] == 0) & (df_baseline['race'] == 1))\n",
    "    df_baseline.loc[mask3, 'intersect'] = 'fnw'\n",
    "\n",
    "    mask4 = ((df_baseline['gender'] == 1) & (df_baseline['race'] == 1))\n",
    "    df_baseline.loc[mask4, 'intersect'] = 'mnw'\n",
    "\n",
    "    return df_baseline"
   ]
  },
  {
   "cell_type": "markdown",
   "metadata": {},
   "source": [
    "Intersectionality"
   ]
  },
  {
   "cell_type": "code",
   "execution_count": null,
   "metadata": {},
   "outputs": [],
   "source": [
    "df_baseline = transform_pd(df_baseline)\n",
    "df_baseline"
   ]
  },
  {
   "cell_type": "code",
   "execution_count": null,
   "metadata": {},
   "outputs": [],
   "source": [
    "def viz2(data, x, y):\n",
    "    fig, ax = plt.subplots()\n",
    "\n",
    "    sns.lineplot(ax = ax,\n",
    "                 data = data,\n",
    "                 x = x,\n",
    "                 y = y,\n",
    "                 marker = 'o')\n",
    "    \n",
    "    # plt.ylim(0,0.2)\n",
    "    # plt.xlim(0,50)\n",
    "\n",
    "    plt.show()"
   ]
  },
  {
   "cell_type": "code",
   "execution_count": null,
   "metadata": {},
   "outputs": [],
   "source": [
    "def viz(data, x, y, hue, title = None):\n",
    "    fig, ax = plt.subplots()\n",
    "\n",
    "    sns.lineplot(ax = ax,\n",
    "                 data = data,\n",
    "                 x = x,\n",
    "                 y = y,\n",
    "                 hue = hue,\n",
    "                 marker = 'o')\n",
    "    \n",
    "    # plt.ylim(0,0.2)\n",
    "    # plt.xlim(0,50)\n",
    "    plt.title(title)\n",
    "\n",
    "    plt.show()"
   ]
  },
  {
   "cell_type": "code",
   "execution_count": null,
   "metadata": {},
   "outputs": [],
   "source": [
    "df_baseline"
   ]
  },
  {
   "cell_type": "code",
   "execution_count": null,
   "metadata": {},
   "outputs": [],
   "source": [
    "\n",
    "fig, ax = plt.subplots()\n",
    "\n",
    "sns.lineplot(   x =  df_baseline.index.get_level_values('t'),\n",
    "                y = df_baseline['dpd_gender'])\n",
    "\n",
    "sns.lineplot(   x =  df_baseline.index.get_level_values('t'),\n",
    "                y = df_baseline['eod_race'])\n",
    "# plt.ylim(0,0.2)\n",
    "# plt.xlim(0,50)\n",
    "\n",
    "plt.show()"
   ]
  },
  {
   "cell_type": "code",
   "execution_count": null,
   "metadata": {},
   "outputs": [],
   "source": [
    "sns.histplot(df_baseline['intersect'])"
   ]
  },
  {
   "cell_type": "code",
   "execution_count": null,
   "metadata": {},
   "outputs": [],
   "source": [
    "viz(df_baseline, df_baseline.index.get_level_values('t'), df_baseline['wealth'], df_baseline['race'], title= 'MLP Classifier') #, df_baseline['convicted'])\n",
    "\n",
    "viz(df_baseline, df_baseline.index.get_level_values('t'), df_baseline['wealth'], df_baseline['intersect'], title = 'MLP Classifier') #, df_baseline['convicted'])\n",
    "\n",
    "viz(df_baseline, df_baseline.index.get_level_values('t'), df_baseline['fraud'], df_baseline['intersect'], title = 'MLP Classifier') #, df_baseline['convicted'])\n",
    "\n",
    "\n",
    "viz(df_baseline, df_baseline.index.get_level_values('t'), df_baseline['gender'], (df_baseline['misclassifications']), title= 'Misclassification of MLP') #, df_baseline['convicted'])\n",
    "\n",
    "viz2(df_baseline, df_baseline.index.get_level_values('t'), df_baseline['wealth'])\n",
    "viz2(df_baseline, df_baseline.index.get_level_values('t'), df_baseline['fraud'])\n",
    "viz2(df_baseline, df_baseline.index.get_level_values('t'), df_baseline['fraud_pred'])\n",
    "\n",
    "\n",
    "\n",
    "\n",
    "\n",
    "# fig, ax = plt.subplots()\n",
    "\n",
    "# sns.violinplot(ax = ax,\n",
    "#                 data = df_baseline,\n",
    "#                 x = df_baseline.index.get_level_values('t'),\n",
    "#                 y = df_baseline['wealth'], cut = True)\n",
    "\n",
    "# # plt.ylim(0,0.2)\n",
    "# plt.xlim(30, 60)\n",
    "# # plt.title(title)\n",
    "\n",
    "# plt.show()\n",
    "\n",
    "# viz(df_baseline, df_baseline.index.get_level_values('t'), abs(df_baseline['fraud'] - df_baseline['fraud_pred']), df_baseline['race'])#, df_baseline['fraud'])"
   ]
  },
  {
   "cell_type": "code",
   "execution_count": null,
   "metadata": {},
   "outputs": [],
   "source": [
    "\n",
    "# fig, ax = plt.subplots()\n",
    "\n",
    "# sns.lineplot(ax = ax,\n",
    "#                 data = df_baseline,\n",
    "#                 x = df_baseline.index.get_level_values('t'),\n",
    "#                 y = df_baseline['wealth'],\n",
    "#                 hue =df_baseline['fraud_pred'],\n",
    "#                 marker = 'o' )\n",
    "\n",
    "# sns.lineplot(ax = ax,\n",
    "#                 data = df_baseline,\n",
    "#                 x = df_baseline.index.get_level_values('t'),\n",
    "#                 y = df_baseline['wealth'],\n",
    "#                 hue =df_baseline['fraud'],\n",
    "#                 marker = 'x' )\n",
    "\n",
    "# # plt.ylim(0,0.2)\n",
    "# plt.xlim(0,10)\n",
    "# plt.title('title')"
   ]
  },
  {
   "cell_type": "code",
   "execution_count": null,
   "metadata": {},
   "outputs": [],
   "source": [
    "# create baseline value fraud prediction medium income\n",
    "\n",
    "df_b1 = df_baseline.iloc[(df_baseline['fraud_pred'] == 1).values] \n",
    "baseline1 = df_b1.groupby(level='t').mean()\n",
    "# df_b\n",
    "df_b0 = df_baseline.iloc[(df_baseline['fraud_pred'] == 0).values] \n",
    "baseline0 = df_b0.groupby(level='t').mean()\n",
    "\n",
    "baseline0\n",
    "df_b0\n",
    "df_baseline.head(400)\n",
    "baseline1\n",
    "# df_x1 = df.iloc[(df_baseline['fraud_pred'] == 1).values] \n",
    "# df_wb1 = df_x1['wealth'] - baseline1['wealth']\n",
    "# df_x1['wealth'] = df_wb1\n",
    "\n",
    "\n",
    "\n",
    "\n",
    "# df_x0 = df_baseline.iloc[(df_baseline['fraud_pred'] == 0).values] \n",
    "# df_wb0 = df_x0['wealth'] - baseline0['wealth']\n",
    "# df_x0['wealth'] = df_wb0\n",
    "\n",
    "# df_xb = pd.concat([df_x0, df_x1])\n",
    "\n",
    "# df_xb"
   ]
  },
  {
   "cell_type": "code",
   "execution_count": null,
   "metadata": {},
   "outputs": [],
   "source": [
    "parameters = {\n",
    "    'my_parameter':42,\n",
    "    'agents':100,\n",
    "    'steps':100,\n",
    "    'wealth_appeal_corr': 0, # >0 more wealth higher appeal chance\n",
    "    'acc': 0.6, # accuracy of fraud prdediction\n",
    "    'appeal_wealth': 0.3, # minimal wealth needed for appeal (could also become a param for distr. eventually)\n",
    "    #'wealth_impact'\n",
    "    'clf': None, # None, 'hist'\n",
    "    'expi': 'apppeal',\n",
    "    'fraud_det': 0,\n",
    "    'fairness_metrics' : True\n",
    "    \n",
    "    \n",
    "}\n",
    "sample = ap.Sample(parameters, n=1)\n",
    "model_baseline = VirusModel_baseline(parameters)\n",
    "exp = ap.Experiment(VirusModel_baseline, sample, iterations =5, record = True)\n",
    "r_baseline = exp.run() \n",
    "\n",
    "# with open(\"data/expis/fraud_1.pkl\", \"wb\") as f:\n",
    "#         pickle.dump(results_baseline, f)\n",
    "    \n",
    "df_b = r_baseline['variables']['Person']\n"
   ]
  },
  {
   "cell_type": "code",
   "execution_count": null,
   "metadata": {},
   "outputs": [],
   "source": [
    "df_b = transform_pd(df_b)\n",
    "df_b"
   ]
  },
  {
   "cell_type": "code",
   "execution_count": null,
   "metadata": {},
   "outputs": [],
   "source": [
    "viz(df_baseline2, df_baseline2.index.get_level_values('t'), df_baseline2['race'], abs(df_baseline2['misclassifications']), title = 'Misclassification of Probabilistic Classifier ') #, df_baseline['convicted'])\n"
   ]
  },
  {
   "cell_type": "code",
   "execution_count": null,
   "metadata": {},
   "outputs": [],
   "source": [
    "viz(df_b, df_b.index.get_level_values('t'), df_b['wealth'], abs(df_b['misclassifications']), title = 'Misclassification of Probabilistic Classifier ') #, df_baseline['convicted'])\n",
    "\n",
    "viz(df_b, df_b.index.get_level_values('t'), df_b['fraud_pred'], df_b['race'], title= 'Probabilitic Classifier') #, df_baseline['convicted'])\n",
    "\n",
    "viz(df_b, df_b.index.get_level_values('t'), df_b['race'], df_b['fraud_pred'], title= 'Probabilitic Classifier') #, df_baseline['convicted'])\n",
    "\n",
    "\n",
    "# viz(df_b, df_b.index.get_level_values('t'), df_b['wealth'], df_b['fraud'],title= 'Probabilitic Classifier') #, df_baseline['convicted'])\n",
    "viz2(df_baseline, df_baseline.index.get_level_values('t'), df_baseline['wealth']<0.1)\n",
    "viz2(df_b, df_b.index.get_level_values('t'), df_b['wealth']<0.1)\n",
    "viz2(df_b, df_b.index.get_level_values('t'), df_b['fraud'])\n",
    "viz2(df_b, df_b.index.get_level_values('t'), df_b['fraud_pred'])\n",
    "\n",
    "# viz(df_baseline, df_baseline.index.get_level_values('t'), abs(df_baseline['fraud'] - df_baseline['fraud_pred']), df_baseline['race'])#, df_baseline['fraud'])"
   ]
  },
  {
   "cell_type": "code",
   "execution_count": null,
   "metadata": {},
   "outputs": [],
   "source": [
    "fig, ax = plt.subplots()\n",
    "\n",
    "sns.violinplot(ax = ax,\n",
    "                data = df_b,\n",
    "                x = df_b.index.get_level_values('t'),\n",
    "                y = df_b['wealth'], cut = True)\n",
    "\n",
    "# plt.ylim(0,0.2)\n",
    "plt.xlim(0,50)\n",
    "# plt.title(title)\n",
    "\n",
    "plt.show()"
   ]
  },
  {
   "cell_type": "code",
   "execution_count": null,
   "metadata": {},
   "outputs": [],
   "source": [
    "fig, ax = plt.subplots()\n",
    "\n",
    "sns.violinplot(ax = ax,\n",
    "                data = df_baseline,\n",
    "                x = df_baseline.index.get_level_values('t'),\n",
    "                y = df_baseline['wealth'], cut = True)\n",
    "\n",
    "# plt.ylim(0,0.2)\n",
    "plt.xlim(0,50)\n",
    "# plt.title(title)\n",
    "\n",
    "plt.show()"
   ]
  },
  {
   "cell_type": "code",
   "execution_count": null,
   "metadata": {},
   "outputs": [],
   "source": [
    "\n",
    "# fig, ax = plt.subplots()\n",
    "\n",
    "# sns.lineplot(ax = ax,\n",
    "#                 data = df_b,\n",
    "#                 x = df_b.index.get_level_values('t'),\n",
    "#                 y = df_b['wealth'],\n",
    "#                 hue =df_b['fraud_pred'],\n",
    "#                 marker = 'o' )\n",
    "\n",
    "# sns.lineplot(ax = ax,\n",
    "#                 data = df_b,\n",
    "#                 x = df_b.index.get_level_values('t'),\n",
    "#                 y = df_b['wealth'],\n",
    "#                 hue =df_b['fraud'],\n",
    "#                 marker = 'x' )\n",
    "\n",
    "# # plt.ylim(0,0.2)\n",
    "# plt.xlim(0,10)\n",
    "# plt.title('title')\n",
    "\n",
    "# # viz(df_b, df_b.index.get_level_values('t'), df_b['wealth'], df_b['fraud_pred']) #, df_baseline['convicted'])\n",
    "\n",
    "# # viz(df_b, df_b.index.get_level_values('t'), df_b['wealth'], df_b['fraud']) #, df_baseline['convicted'])"
   ]
  },
  {
   "cell_type": "code",
   "execution_count": null,
   "metadata": {},
   "outputs": [],
   "source": []
  }
 ],
 "metadata": {
  "kernelspec": {
   "display_name": "Python 3 (ipykernel)",
   "language": "python",
   "name": "python3"
  },
  "language_info": {
   "codemirror_mode": {
    "name": "ipython",
    "version": 3
   },
   "file_extension": ".py",
   "mimetype": "text/x-python",
   "name": "python",
   "nbconvert_exporter": "python",
   "pygments_lexer": "ipython3",
   "version": "3.10.9"
  }
 },
 "nbformat": 4,
 "nbformat_minor": 4
}
