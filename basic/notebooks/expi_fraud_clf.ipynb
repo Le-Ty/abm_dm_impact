{
 "cells": [
  {
   "cell_type": "markdown",
   "metadata": {},
   "source": [
    "# Delta Function Appeal"
   ]
  },
  {
   "cell_type": "markdown",
   "metadata": {},
   "source": [
    "This notebook presents an agent-based model that simulates the propagation of a disease through a network.\n",
    "It demonstrates how to use the [agentpy](https://agentpy.readthedocs.io) package to create and visualize networks, use the interactive module, and perform different types of sensitivity analysis. "
   ]
  },
  {
   "cell_type": "code",
   "execution_count": 1,
   "metadata": {},
   "outputs": [],
   "source": [
    "# Model design\n",
    "import agentpy as ap\n",
    "import networkx as nx \n",
    "import random \n",
    "import numpy as np\n",
    "import pandas as pd\n",
    "\n",
    "# Visualization\n",
    "import matplotlib.pyplot as plt \n",
    "import seaborn as sns\n",
    "import IPython\n",
    "\n",
    "from sklearn.utils import resample\n",
    "from sklearn.neural_network import MLPClassifier\n",
    "from sklearn.ensemble import RandomForestClassifier, BaggingClassifier\n",
    "from sklearn.model_selection import train_test_split\n",
    "from sklearn.pipeline import make_pipeline\n",
    "from sklearn.preprocessing import StandardScaler\n",
    "from sklearn.svm import SVC\n",
    "from sklearn.model_selection import KFold\n",
    "\n",
    "import pickle\n",
    "\n",
    "np.random.seed(42)"
   ]
  },
  {
   "cell_type": "code",
   "execution_count": 2,
   "metadata": {},
   "outputs": [],
   "source": [
    "import os\n",
    "\n",
    "if os.path.isdir(\"../notebooks\"):\n",
    "    os.chdir(\"..\")\n",
    "\n",
    "from utils import viz, delta_function, generate_init\n",
    "\n",
    "\n",
    "from agent import Person\n",
    "\n",
    "from model import VirusModel, VirusModel_baseline\n",
    "\n",
    "\n"
   ]
  },
  {
   "cell_type": "code",
   "execution_count": null,
   "metadata": {},
   "outputs": [],
   "source": []
  },
  {
   "cell_type": "markdown",
   "metadata": {},
   "source": [
    "## About the model\n",
    "\n",
    "The agents of this model are people, which can be in one of the following three conditions: susceptible to the disease (S), infected (I), or recovered (R). The agents are connected to each other through a small-world network of peers. At every time-step, infected agents can infect their peers or recover from the disease based on random chance."
   ]
  },
  {
   "cell_type": "markdown",
   "metadata": {},
   "source": [
    "## Defining the model"
   ]
  },
  {
   "cell_type": "markdown",
   "metadata": {
    "raw_mimetype": "text/restructuredtext"
   },
   "source": [
    "We define a new agent type :class:`Person` by creating a subclass of :class:`Agent`.\n",
    "This agent has two methods: :func:`setup` will be called automatically at the agent's creation,\n",
    "and :func:`being_sick` will be called by the :func:`Model.step` function.\n",
    "Three tools are used within this class:\n",
    "\n",
    "- :attr:`Agent.p` returns the parameters of the model\n",
    "- :func:`Agent.neighbors` returns a list of the agents' peers in the network\n",
    "- :func:`random.random` returns a uniform random draw between 0 and 1\n",
    "\n",
    "wealth by race https://www.federalreserve.gov/econres/notes/feds-notes/disparities-in-wealth-by-race-and-ethnicity-in-the-2019-survey-of-consumer-finances-20200928.html\n",
    "\n",
    "rank for the US:\n",
    "https://www.federalreserve.gov/econres/notes/feds-notes/wealth-inequality-and-the-racial-wealth-gap-accessible-20211022.htm#fig3\n"
   ]
  },
  {
   "cell_type": "code",
   "execution_count": 3,
   "metadata": {
    "scrolled": true
   },
   "outputs": [],
   "source": [
    "# values = plt.hist(np.random.beta(1.5, 5, 10000),\n",
    "\n",
    "#                   bins=200, density=True)\n",
    "\n",
    "# plt.show()"
   ]
  },
  {
   "cell_type": "code",
   "execution_count": 4,
   "metadata": {},
   "outputs": [],
   "source": [
    "# import matplotlib.pyplot as plt\n",
    "\n",
    "# values = plt.hist(np.random.beta(5, 3, 10000),\n",
    "\n",
    "#                   bins=200, density=True)\n",
    "\n",
    "# plt.show()"
   ]
  },
  {
   "cell_type": "markdown",
   "metadata": {
    "raw_mimetype": "text/restructuredtext"
   },
   "source": [
    "Next, we define our model :class:`VirusModel` by creating a subclass of :class:`Model`.\n",
    "The four methods of this class will be called automatically at different steps of the simulation,\n",
    "as described in :ref:`overview_simulation`."
   ]
  },
  {
   "cell_type": "markdown",
   "metadata": {},
   "source": [
    "## Running a simulation"
   ]
  },
  {
   "cell_type": "markdown",
   "metadata": {
    "raw_mimetype": "text/restructuredtext"
   },
   "source": [
    "To run our model, we define a dictionary with our parameters. \n",
    "We then create a new instance of our model, passing the parameters as an argument, \n",
    "and use the method :func:`Model.run` to perform the simulation and return it's output. "
   ]
  },
  {
   "cell_type": "code",
   "execution_count": 5,
   "metadata": {},
   "outputs": [],
   "source": [
    "    \n",
    "X, y = generate_init(train_clf = True, n = 10000)\n",
    "\n",
    "X = pd.DataFrame(X)\n",
    "y = pd.DataFrame(y)\n",
    "y=y.rename(columns = {0:'y'})\n",
    "df = pd.concat([X,y], axis =1)\n",
    "\n",
    "\n",
    "    "
   ]
  },
  {
   "cell_type": "code",
   "execution_count": 6,
   "metadata": {},
   "outputs": [
    {
     "name": "stderr",
     "output_type": "stream",
     "text": [
      "/Users/uni/miniconda3/envs/ma/lib/python3.10/site-packages/sklearn/neural_network/_multilayer_perceptron.py:1098: DataConversionWarning: A column-vector y was passed when a 1d array was expected. Please change the shape of y to (n_samples, ), for example using ravel().\n",
      "  y = column_or_1d(y, warn=True)\n"
     ]
    },
    {
     "name": "stdout",
     "output_type": "stream",
     "text": [
      "0.624\n"
     ]
    },
    {
     "data": {
      "text/plain": [
       "array([1, 0, 0, ..., 0, 0, 0])"
      ]
     },
     "execution_count": 6,
     "metadata": {},
     "output_type": "execute_result"
    }
   ],
   "source": [
    "# # Separate majority and minority classes\n",
    "# df_majority = df[df['y'] ==0]\n",
    "# df_minority = df[df['y'] ==1]\n",
    "\n",
    "# # Downsample majority class\n",
    "# df_majority_downsampled = resample(df_majority, \n",
    "#                                 replace=False,    \n",
    "#                                 n_samples=400)#Upsample minority class\n",
    "# df_minority_upsampled = resample(df_minority, \n",
    "#                                 replace=True,     \n",
    "#                                 n_samples=400)# Combine minority class with downsampled majority class\n",
    "# df_up_down_sampled = pd.concat([df_majority_downsampled, df_minority_upsampled])\n",
    "\n",
    "\n",
    "\n",
    "# cv = KFold(n_splits=10)\n",
    "# X_train, X_test, y_train, y_test = train_test_split(X, y, stratify=y, random_state=1)\n",
    "\n",
    "# pipe = make_pipeline(StandardScaler(),  MLPClassifier(solver='adam', alpha = 0.001, hidden_layer_sizes=(30, 10), random_state=1)) # BaggingClassifier(estimator=SVC(class_weight={0:0.50, 1:0.50}),n_estimators=10, random_state=0))\n",
    "# pipe.fit(X_train, y_train) \n",
    "\n",
    "# # clf = RandomForestClassifier(n_estimators=500)\n",
    "# # clf.fit(X_train, y_train)\n",
    "# # score = cross_val_score(pipe, X_train, y_train, cv=cv)\n",
    "# print(pipe.score(X_test,y_test))\n",
    "\n",
    "# pipe.predict(X_test)"
   ]
  },
  {
   "cell_type": "code",
   "execution_count": 8,
   "metadata": {
    "scrolled": true
   },
   "outputs": [
    {
     "name": "stdout",
     "output_type": "stream",
     "text": [
      "Scheduled runs: 10\n"
     ]
    },
    {
     "name": "stderr",
     "output_type": "stream",
     "text": [
      "/Users/uni/miniconda3/envs/ma/lib/python3.10/site-packages/sklearn/ensemble/_bagging.py:802: DataConversionWarning: A column-vector y was passed when a 1d array was expected. Please change the shape of y to (n_samples, ), for example using ravel().\n",
      "  y = column_or_1d(y, warn=True)\n"
     ]
    },
    {
     "name": "stdout",
     "output_type": "stream",
     "text": [
      "0.6136\n"
     ]
    }
   ],
   "source": [
    "parameters = {\n",
    "    'my_parameter':42,\n",
    "    'agents':500,\n",
    "    'steps':200,\n",
    "    'wealth_appeal_corr': 0, # >0 more wealth higher appeal chance\n",
    "    'acc': 0.8, # accuracy of fraud prdediction\n",
    "    'appeal_wealth': ap.IntRange(0.25,0.3), # minimal wealth needed for appeal (could also become a param for distr. eventually)\n",
    "    #'wealth_impact'\n",
    "    'clf': 'hist', # None, 'hist'\n",
    "    'expi': None\n",
    "    \n",
    "}\n",
    "sample = ap.Sample(parameters, n=1)\n",
    "model_baseline = VirusModel_baseline(parameters)\n",
    "exp = ap.Experiment(VirusModel_baseline, sample, iterations =10, record = True)\n",
    "results_baseline = exp.run() \n",
    "\n",
    "with open(\"data/expis/fraud_1.pkl\", \"wb\") as f:\n",
    "        pickle.dump(results_baseline, f)\n",
    "    \n",
    "df_baseline = results_baseline['variables']['Person']\n",
    "\n"
   ]
  },
  {
   "cell_type": "code",
   "execution_count": null,
   "metadata": {},
   "outputs": [],
   "source": [
    "def viz(data, x, y,hue):\n",
    "    fig, ax = plt.subplots()\n",
    "\n",
    "    sns.lineplot(ax = ax,\n",
    "                 data = data,\n",
    "                 x = x,\n",
    "                 y = y,\n",
    "                 hue = hue)\n",
    "    plt.ylim([0,1])\n",
    "    plt.show()"
   ]
  },
  {
   "cell_type": "code",
   "execution_count": null,
   "metadata": {},
   "outputs": [
    {
     "data": {
      "text/html": [
       "<div>\n",
       "<style scoped>\n",
       "    .dataframe tbody tr th:only-of-type {\n",
       "        vertical-align: middle;\n",
       "    }\n",
       "\n",
       "    .dataframe tbody tr th {\n",
       "        vertical-align: top;\n",
       "    }\n",
       "\n",
       "    .dataframe thead th {\n",
       "        text-align: right;\n",
       "    }\n",
       "</style>\n",
       "<table border=\"1\" class=\"dataframe\">\n",
       "  <thead>\n",
       "    <tr style=\"text-align: right;\">\n",
       "      <th></th>\n",
       "      <th></th>\n",
       "      <th></th>\n",
       "      <th>wealth</th>\n",
       "      <th>fraud_pred</th>\n",
       "      <th>fraud</th>\n",
       "      <th>race</th>\n",
       "      <th>gender</th>\n",
       "      <th>convicted</th>\n",
       "      <th>misclassifications</th>\n",
       "    </tr>\n",
       "    <tr>\n",
       "      <th>iteration</th>\n",
       "      <th>obj_id</th>\n",
       "      <th>t</th>\n",
       "      <th></th>\n",
       "      <th></th>\n",
       "      <th></th>\n",
       "      <th></th>\n",
       "      <th></th>\n",
       "      <th></th>\n",
       "      <th></th>\n",
       "    </tr>\n",
       "  </thead>\n",
       "  <tbody>\n",
       "    <tr>\n",
       "      <th rowspan=\"5\" valign=\"top\">0</th>\n",
       "      <th>1</th>\n",
       "      <th>0</th>\n",
       "      <td>0.221997</td>\n",
       "      <td>-1</td>\n",
       "      <td>0</td>\n",
       "      <td>0</td>\n",
       "      <td>0</td>\n",
       "      <td>0</td>\n",
       "      <td>1</td>\n",
       "    </tr>\n",
       "    <tr>\n",
       "      <th>2</th>\n",
       "      <th>0</th>\n",
       "      <td>0.224022</td>\n",
       "      <td>-1</td>\n",
       "      <td>0</td>\n",
       "      <td>0</td>\n",
       "      <td>1</td>\n",
       "      <td>0</td>\n",
       "      <td>1</td>\n",
       "    </tr>\n",
       "    <tr>\n",
       "      <th>3</th>\n",
       "      <th>0</th>\n",
       "      <td>1.000000</td>\n",
       "      <td>-1</td>\n",
       "      <td>1</td>\n",
       "      <td>0</td>\n",
       "      <td>1</td>\n",
       "      <td>0</td>\n",
       "      <td>2</td>\n",
       "    </tr>\n",
       "    <tr>\n",
       "      <th>4</th>\n",
       "      <th>0</th>\n",
       "      <td>0.278677</td>\n",
       "      <td>-1</td>\n",
       "      <td>1</td>\n",
       "      <td>0</td>\n",
       "      <td>0</td>\n",
       "      <td>0</td>\n",
       "      <td>2</td>\n",
       "    </tr>\n",
       "    <tr>\n",
       "      <th>5</th>\n",
       "      <th>0</th>\n",
       "      <td>0.407557</td>\n",
       "      <td>-1</td>\n",
       "      <td>1</td>\n",
       "      <td>1</td>\n",
       "      <td>1</td>\n",
       "      <td>0</td>\n",
       "      <td>2</td>\n",
       "    </tr>\n",
       "    <tr>\n",
       "      <th>...</th>\n",
       "      <th>...</th>\n",
       "      <th>...</th>\n",
       "      <td>...</td>\n",
       "      <td>...</td>\n",
       "      <td>...</td>\n",
       "      <td>...</td>\n",
       "      <td>...</td>\n",
       "      <td>...</td>\n",
       "      <td>...</td>\n",
       "    </tr>\n",
       "    <tr>\n",
       "      <th rowspan=\"5\" valign=\"top\">9</th>\n",
       "      <th>496</th>\n",
       "      <th>0</th>\n",
       "      <td>0.098516</td>\n",
       "      <td>-1</td>\n",
       "      <td>0</td>\n",
       "      <td>0</td>\n",
       "      <td>1</td>\n",
       "      <td>0</td>\n",
       "      <td>1</td>\n",
       "    </tr>\n",
       "    <tr>\n",
       "      <th>497</th>\n",
       "      <th>0</th>\n",
       "      <td>0.280027</td>\n",
       "      <td>-1</td>\n",
       "      <td>1</td>\n",
       "      <td>1</td>\n",
       "      <td>1</td>\n",
       "      <td>0</td>\n",
       "      <td>2</td>\n",
       "    </tr>\n",
       "    <tr>\n",
       "      <th>498</th>\n",
       "      <th>0</th>\n",
       "      <td>0.005398</td>\n",
       "      <td>-1</td>\n",
       "      <td>1</td>\n",
       "      <td>0</td>\n",
       "      <td>0</td>\n",
       "      <td>0</td>\n",
       "      <td>2</td>\n",
       "    </tr>\n",
       "    <tr>\n",
       "      <th>499</th>\n",
       "      <th>0</th>\n",
       "      <td>0.098516</td>\n",
       "      <td>-1</td>\n",
       "      <td>0</td>\n",
       "      <td>0</td>\n",
       "      <td>1</td>\n",
       "      <td>0</td>\n",
       "      <td>1</td>\n",
       "    </tr>\n",
       "    <tr>\n",
       "      <th>500</th>\n",
       "      <th>0</th>\n",
       "      <td>0.098516</td>\n",
       "      <td>-1</td>\n",
       "      <td>1</td>\n",
       "      <td>0</td>\n",
       "      <td>1</td>\n",
       "      <td>0</td>\n",
       "      <td>2</td>\n",
       "    </tr>\n",
       "  </tbody>\n",
       "</table>\n",
       "<p>5000 rows × 7 columns</p>\n",
       "</div>"
      ],
      "text/plain": [
       "                      wealth  fraud_pred  fraud  race  gender  convicted  \\\n",
       "iteration obj_id t                                                         \n",
       "0         1      0  0.221997          -1      0     0       0          0   \n",
       "          2      0  0.224022          -1      0     0       1          0   \n",
       "          3      0  1.000000          -1      1     0       1          0   \n",
       "          4      0  0.278677          -1      1     0       0          0   \n",
       "          5      0  0.407557          -1      1     1       1          0   \n",
       "...                      ...         ...    ...   ...     ...        ...   \n",
       "9         496    0  0.098516          -1      0     0       1          0   \n",
       "          497    0  0.280027          -1      1     1       1          0   \n",
       "          498    0  0.005398          -1      1     0       0          0   \n",
       "          499    0  0.098516          -1      0     0       1          0   \n",
       "          500    0  0.098516          -1      1     0       1          0   \n",
       "\n",
       "                    misclassifications  \n",
       "iteration obj_id t                      \n",
       "0         1      0                   1  \n",
       "          2      0                   1  \n",
       "          3      0                   2  \n",
       "          4      0                   2  \n",
       "          5      0                   2  \n",
       "...                                ...  \n",
       "9         496    0                   1  \n",
       "          497    0                   2  \n",
       "          498    0                   2  \n",
       "          499    0                   1  \n",
       "          500    0                   2  \n",
       "\n",
       "[5000 rows x 7 columns]"
      ]
     },
     "execution_count": 70,
     "metadata": {},
     "output_type": "execute_result"
    }
   ],
   "source": [
    "df_baseline['misclassifications'] = (df_baseline['fraud'] - df_baseline['fraud_pred'])\n",
    "df_baseline[df_baseline['fraud_pred'] ==-1]"
   ]
  },
  {
   "cell_type": "code",
   "execution_count": null,
   "metadata": {},
   "outputs": [
    {
     "data": {
      "image/png": "[encoded data removed]",
      "text/plain": [
       "<Figure size 640x480 with 1 Axes>"
      ]
     },
     "metadata": {},
     "output_type": "display_data"
    }
   ],
   "source": [
    "viz(df_baseline, df_baseline.index.get_level_values('t'), df_baseline['wealth'], df_baseline['fraud']) #, df_baseline['convicted'])\n",
    "\n",
    "# viz(df_baseline, df_baseline.index.get_level_values('t'), abs(df_baseline['fraud'] - df_baseline['fraud_pred']), df_baseline['race'])#, df_baseline['fraud'])"
   ]
  },
  {
   "cell_type": "code",
   "execution_count": null,
   "metadata": {},
   "outputs": [],
   "source": []
  },
  {
   "cell_type": "code",
   "execution_count": null,
   "metadata": {},
   "outputs": [
    {
     "data": {
      "text/html": [
       "<div>\n",
       "<style scoped>\n",
       "    .dataframe tbody tr th:only-of-type {\n",
       "        vertical-align: middle;\n",
       "    }\n",
       "\n",
       "    .dataframe tbody tr th {\n",
       "        vertical-align: top;\n",
       "    }\n",
       "\n",
       "    .dataframe thead th {\n",
       "        text-align: right;\n",
       "    }\n",
       "</style>\n",
       "<table border=\"1\" class=\"dataframe\">\n",
       "  <thead>\n",
       "    <tr style=\"text-align: right;\">\n",
       "      <th></th>\n",
       "      <th>wealth</th>\n",
       "      <th>fraud_pred</th>\n",
       "      <th>fraud</th>\n",
       "      <th>race</th>\n",
       "      <th>gender</th>\n",
       "      <th>convicted</th>\n",
       "    </tr>\n",
       "    <tr>\n",
       "      <th>t</th>\n",
       "      <th></th>\n",
       "      <th></th>\n",
       "      <th></th>\n",
       "      <th></th>\n",
       "      <th></th>\n",
       "      <th></th>\n",
       "    </tr>\n",
       "  </thead>\n",
       "  <tbody>\n",
       "    <tr>\n",
       "      <th>1</th>\n",
       "      <td>0.00423</td>\n",
       "      <td>1.0</td>\n",
       "      <td>0.672566</td>\n",
       "      <td>0.362832</td>\n",
       "      <td>0.477876</td>\n",
       "      <td>-0.327434</td>\n",
       "    </tr>\n",
       "    <tr>\n",
       "      <th>2</th>\n",
       "      <td>0.00000</td>\n",
       "      <td>1.0</td>\n",
       "      <td>0.575221</td>\n",
       "      <td>0.362832</td>\n",
       "      <td>0.477876</td>\n",
       "      <td>-0.424779</td>\n",
       "    </tr>\n",
       "    <tr>\n",
       "      <th>3</th>\n",
       "      <td>0.00000</td>\n",
       "      <td>1.0</td>\n",
       "      <td>0.610619</td>\n",
       "      <td>0.362832</td>\n",
       "      <td>0.477876</td>\n",
       "      <td>-0.389381</td>\n",
       "    </tr>\n",
       "    <tr>\n",
       "      <th>4</th>\n",
       "      <td>0.00000</td>\n",
       "      <td>1.0</td>\n",
       "      <td>0.601770</td>\n",
       "      <td>0.362832</td>\n",
       "      <td>0.477876</td>\n",
       "      <td>-0.398230</td>\n",
       "    </tr>\n",
       "    <tr>\n",
       "      <th>5</th>\n",
       "      <td>0.00000</td>\n",
       "      <td>1.0</td>\n",
       "      <td>0.557522</td>\n",
       "      <td>0.362832</td>\n",
       "      <td>0.477876</td>\n",
       "      <td>-0.442478</td>\n",
       "    </tr>\n",
       "    <tr>\n",
       "      <th>...</th>\n",
       "      <td>...</td>\n",
       "      <td>...</td>\n",
       "      <td>...</td>\n",
       "      <td>...</td>\n",
       "      <td>...</td>\n",
       "      <td>...</td>\n",
       "    </tr>\n",
       "    <tr>\n",
       "      <th>96</th>\n",
       "      <td>0.00000</td>\n",
       "      <td>1.0</td>\n",
       "      <td>0.637168</td>\n",
       "      <td>0.362832</td>\n",
       "      <td>0.477876</td>\n",
       "      <td>-0.362832</td>\n",
       "    </tr>\n",
       "    <tr>\n",
       "      <th>97</th>\n",
       "      <td>0.00000</td>\n",
       "      <td>1.0</td>\n",
       "      <td>0.654867</td>\n",
       "      <td>0.362832</td>\n",
       "      <td>0.477876</td>\n",
       "      <td>-0.345133</td>\n",
       "    </tr>\n",
       "    <tr>\n",
       "      <th>98</th>\n",
       "      <td>0.00000</td>\n",
       "      <td>1.0</td>\n",
       "      <td>0.619469</td>\n",
       "      <td>0.362832</td>\n",
       "      <td>0.477876</td>\n",
       "      <td>-0.380531</td>\n",
       "    </tr>\n",
       "    <tr>\n",
       "      <th>99</th>\n",
       "      <td>0.00000</td>\n",
       "      <td>1.0</td>\n",
       "      <td>0.575221</td>\n",
       "      <td>0.362832</td>\n",
       "      <td>0.477876</td>\n",
       "      <td>-0.424779</td>\n",
       "    </tr>\n",
       "    <tr>\n",
       "      <th>100</th>\n",
       "      <td>0.00000</td>\n",
       "      <td>1.0</td>\n",
       "      <td>0.646018</td>\n",
       "      <td>0.362832</td>\n",
       "      <td>0.477876</td>\n",
       "      <td>-0.353982</td>\n",
       "    </tr>\n",
       "  </tbody>\n",
       "</table>\n",
       "<p>100 rows × 6 columns</p>\n",
       "</div>"
      ],
      "text/plain": [
       "      wealth  fraud_pred     fraud      race    gender  convicted\n",
       "t                                                                \n",
       "1    0.00423         1.0  0.672566  0.362832  0.477876  -0.327434\n",
       "2    0.00000         1.0  0.575221  0.362832  0.477876  -0.424779\n",
       "3    0.00000         1.0  0.610619  0.362832  0.477876  -0.389381\n",
       "4    0.00000         1.0  0.601770  0.362832  0.477876  -0.398230\n",
       "5    0.00000         1.0  0.557522  0.362832  0.477876  -0.442478\n",
       "..       ...         ...       ...       ...       ...        ...\n",
       "96   0.00000         1.0  0.637168  0.362832  0.477876  -0.362832\n",
       "97   0.00000         1.0  0.654867  0.362832  0.477876  -0.345133\n",
       "98   0.00000         1.0  0.619469  0.362832  0.477876  -0.380531\n",
       "99   0.00000         1.0  0.575221  0.362832  0.477876  -0.424779\n",
       "100  0.00000         1.0  0.646018  0.362832  0.477876  -0.353982\n",
       "\n",
       "[100 rows x 6 columns]"
      ]
     },
     "execution_count": 12,
     "metadata": {},
     "output_type": "execute_result"
    }
   ],
   "source": [
    "# create baseline value fraud prediction medium income\n",
    "\n",
    "df_b1 = df_baseline.iloc[(df_baseline['fraud_pred'] == 1).values] \n",
    "baseline1 = df_b1.groupby(level='t').mean()\n",
    "# df_b\n",
    "df_b0 = df_baseline.iloc[(df_baseline['fraud_pred'] == 0).values] \n",
    "baseline0 = df_b0.groupby(level='t').mean()\n",
    "\n",
    "baseline0\n",
    "df_b0\n",
    "df_baseline.head(400)\n",
    "baseline1\n",
    "# df_x1 = df.iloc[(df_baseline['fraud_pred'] == 1).values] \n",
    "# df_wb1 = df_x1['wealth'] - baseline1['wealth']\n",
    "# df_x1['wealth'] = df_wb1\n",
    "\n",
    "\n",
    "\n",
    "\n",
    "# df_x0 = df_baseline.iloc[(df_baseline['fraud_pred'] == 0).values] \n",
    "# df_wb0 = df_x0['wealth'] - baseline0['wealth']\n",
    "# df_x0['wealth'] = df_wb0\n",
    "\n",
    "# df_xb = pd.concat([df_x0, df_x1])\n",
    "\n",
    "# df_xb"
   ]
  }
 ],
 "metadata": {
  "kernelspec": {
   "display_name": "Python 3 (ipykernel)",
   "language": "python",
   "name": "python3"
  },
  "language_info": {
   "codemirror_mode": {
    "name": "ipython",
    "version": 3
   },
   "file_extension": ".py",
   "mimetype": "text/x-python",
   "name": "python",
   "nbconvert_exporter": "python",
   "pygments_lexer": "ipython3",
   "version": "3.10.9"
  }
 },
 "nbformat": 4,
 "nbformat_minor": 4
}
