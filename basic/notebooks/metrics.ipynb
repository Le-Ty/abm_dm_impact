{
 "cells": [
  {
   "cell_type": "code",
   "execution_count": 13,
   "metadata": {},
   "outputs": [],
   "source": [
    "from fairlearn.datasets import fetch_adult\n",
    "from fairlearn.metrics import MetricFrame, selection_rate, demographic_parity_difference, demographic_parity_ratio\n"
   ]
  },
  {
   "cell_type": "code",
   "execution_count": null,
   "metadata": {},
   "outputs": [],
   "source": [
    "import os\n",
    "\n",
    "if os.path.isdir(\"../notebooks\"):\n",
    "    os.chdir(\"..\")\n",
    "\n",
    "from utils import viz, delta_function, generate_init\n",
    "\n",
    "\n",
    "from agent import Person\n",
    "\n",
    "from model import VirusModel, VirusModel_baseline\n",
    "\n",
    "\n"
   ]
  },
  {
   "cell_type": "code",
   "execution_count": 17,
   "metadata": {},
   "outputs": [
    {
     "data": {
      "text/plain": [
       "0.19451574596420296"
      ]
     },
     "execution_count": 17,
     "metadata": {},
     "output_type": "execute_result"
    }
   ],
   "source": [
    "\n",
    "data = fetch_adult()\n",
    "X = data.data\n",
    "y_true = (data.target == \">50K\") * 1\n",
    "sex = X[\"sex\"]\n",
    "\n",
    "# selection_rates = MetricFrame(\n",
    "#     metrics=demographic_parity_ratio, y_true=y_true, y_pred=y_true, sensitive_features=sex)\n",
    "\n",
    "# print(sex)\n",
    "\n",
    "demographic_parity_difference( y_true=y_true, y_pred=y_true, sensitive_features=sex)\n",
    "\n",
    "# fig = selection_rates.by_group.plot.bar(\n",
    "#     legend=False, rot=0, title=\"Fraction earning over $50,000\"\n",
    "# )"
   ]
  },
  {
   "cell_type": "code",
   "execution_count": null,
   "metadata": {},
   "outputs": [],
   "source": []
  }
 ],
 "metadata": {
  "kernelspec": {
   "display_name": "ma",
   "language": "python",
   "name": "python3"
  },
  "language_info": {
   "codemirror_mode": {
    "name": "ipython",
    "version": 3
   },
   "file_extension": ".py",
   "mimetype": "text/x-python",
   "name": "python",
   "nbconvert_exporter": "python",
   "pygments_lexer": "ipython3",
   "version": "3.10.9"
  },
  "orig_nbformat": 4
 },
 "nbformat": 4,
 "nbformat_minor": 2
}
