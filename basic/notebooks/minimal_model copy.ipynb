{
 "cells": [
  {
   "cell_type": "markdown",
   "metadata": {},
   "source": [
    "# Minimal Model"
   ]
  },
  {
   "cell_type": "markdown",
   "metadata": {},
   "source": [
    "This notebook presents an agent-based model that simulates "
   ]
  },
  {
   "cell_type": "code",
   "execution_count": 1,
   "metadata": {},
   "outputs": [],
   "source": [
    "# Model design\n",
    "import agentpy as ap\n",
    "import networkx as nx \n",
    "import random \n",
    "import numpy as np\n",
    "import pandas as pd\n",
    "\n",
    "# Visualization\n",
    "import matplotlib.pyplot as plt \n",
    "import seaborn as sns\n",
    "import IPython\n",
    "\n",
    "np.random.seed(42)"
   ]
  },
  {
   "cell_type": "code",
   "execution_count": 2,
   "metadata": {},
   "outputs": [],
   "source": [
    "import os\n",
    "\n",
    "if os.path.isdir(\"../notebooks/\"):\n",
    "    os.chdir(\"..\")\n",
    "\n",
    "\n",
    "from utils import viz, delta_function, classifier_train\n",
    "\n",
    "from agent import Person\n",
    "\n",
    "from model import VirusModel, VirusModel_baseline\n"
   ]
  },
  {
   "cell_type": "markdown",
   "metadata": {},
   "source": [
    "## About the model\n"
   ]
  },
  {
   "cell_type": "code",
   "execution_count": null,
   "metadata": {},
   "outputs": [],
   "source": []
  },
  {
   "cell_type": "markdown",
   "metadata": {},
   "source": [
    "## Defining the model"
   ]
  },
  {
   "cell_type": "markdown",
   "metadata": {
    "raw_mimetype": "text/restructuredtext"
   },
   "source": [
    "We define a new agent type :class:`Person` by creating a subclass of :class:`Agent`.\n",
    "This agent has two methods: :func:`setup` will be called automatically at the agent's creation,\n",
    "and :func:`being_sick` will be called by the :func:`Model.step` function.\n",
    "Three tools are used within this class:\n",
    "\n",
    "- :attr:`Agent.p` returns the parameters of the model\n",
    "- :func:`Agent.neighbors` returns a list of the agents' peers in the network\n",
    "- :func:`random.random` returns a uniform random draw between 0 and 1\n",
    "\n"
   ]
  },
  {
   "cell_type": "code",
   "execution_count": 3,
   "metadata": {},
   "outputs": [],
   "source": [
    "class Person(ap.Agent):\n",
    "    \n",
    "    def setup(self):  \n",
    "        \"\"\" Initialize a new variable at agent creation. \"\"\"\n",
    "        # self.condition = 0  # Susceptible = 0, Infected = 1, Recovered = 2\n",
    "        a = 5 # shape\n",
    "        rng = np.random.default_rng()\n",
    "        self.wealth = 1\n",
    "        self.race = 0\n",
    "            \n",
    "\n",
    "        # fraud\n",
    "        self.fraud = rng.binomial(1,self.p.fraud_rate,1)[0]\n",
    "        self.fraud_pred = -1\n",
    "        self.convicted = 0\n",
    "\n",
    "        \n",
    "        \n",
    "    \n",
    "            \n",
    "            \n",
    "    def convict_true(self):\n",
    "        \"\"\" Conviction and Consequences\"\"\"\n",
    "        rng = np.random.default_rng()\n",
    "        if self.fraud == 1:\n",
    "            if rng.binomial(1,self.p.conviction_rate) == 1:\n",
    "                # pay fine, get on record, \n",
    "                self.wealth = self.wealth - (0.01)#(self.wealth*0.05)])\n",
    "                self.convicted =+ 1\n",
    "                self.fraud = rng.binomial(1,self.p.fraud_rate,1)[0]\n",
    "\n",
    "        else:\n",
    "            self.fraud = rng.binomial(1,self.p.fraud_rate,1)[0]\n",
    "            \n",
    "\n",
    "\n",
    "        \n",
    "            \n"
   ]
  },
  {
   "cell_type": "markdown",
   "metadata": {
    "raw_mimetype": "text/restructuredtext"
   },
   "source": [
    "Next, we define our model :class:`VirusModel` by creating a subclass of :class:`Model`.\n",
    "The four methods of this class will be called automatically at different steps of the simulation,\n",
    "as described in :ref:`overview_simulation`."
   ]
  },
  {
   "cell_type": "code",
   "execution_count": 4,
   "metadata": {},
   "outputs": [],
   "source": [
    "class VirusModel_mvp(ap.Model):\n",
    "    \n",
    "    def setup(self): #before\n",
    "        \"\"\" Initialize the agents and network of the model. \"\"\"\n",
    "\n",
    "#         # Create agents and network\n",
    "        self.agents = ap.AgentList(self, self.p.agents, Person)\n",
    "    \n",
    "\n",
    "    def step(self): # during each step\n",
    "        \"\"\" Define the models' events per simulation step. \"\"\"\n",
    "#         self.agents.fraud_algo()\n",
    "#         self.agents.appeal()\n",
    "        self.agents.convict_true()\n",
    "#         self.agents.wealth_grow()\n",
    "        \n",
    "\n",
    "\n",
    "\n",
    "    def update(self):  # after each step\n",
    "        \"\"\" Record variables after setup and each step. \"\"\"\n",
    "        self.agents.record('wealth')\n",
    "        self.agents.record('fraud_pred')\n",
    "        self.agents.record('fraud')\n",
    "        self.agents.record('race')\n",
    "        \n",
    "        \n",
    "    \n",
    "    def end(self):     \n",
    "        \"\"\" Record evaluation measures at the end of the simulation. \"\"\"\n",
    "\n",
    "        \n",
    "        # general wealth \n",
    "        wealth = sum((self.agents).wealth) / len((self.agents))\n",
    "        \n",
    "        self.report('wealth_total', sum((self.agents).wealth) )\n",
    "        self.report('wealth', wealth)\n",
    "#         self.report('fraud_rate', self.p.fraud_rate)\n",
    "            \n",
    "            \n",
    "        "
   ]
  },
  {
   "cell_type": "code",
   "execution_count": 5,
   "metadata": {},
   "outputs": [
    {
     "name": "stdout",
     "output_type": "stream",
     "text": [
      "Scheduled runs: 768\n",
      "Completed: 768, estimated time remaining: 0:00:00\n",
      "Experiment finished\n",
      "Run time: 0:01:53.888549\n"
     ]
    }
   ],
   "source": [
    "parameters = {\n",
    "\n",
    "    'my_parameter':42,\n",
    "    'agents': 100, #ap.IntRange(50, 150),\n",
    "    'steps':100,\n",
    "    'fraud_rate': ap.Range(0.,1),\n",
    "#     'wealth_start': ap.Range(0.5,1), #ap.Range(-0.2, 0.2), # >0 more wealth higher appeal chance\n",
    "    'conviction_rate': 1, #ap.Range(0,1), # ap.Range(0,1),\n",
    "} \n",
    "\n",
    "sample = ap.Sample(\n",
    "    parameters, \n",
    "    n=128, \n",
    "    method='saltelli', \n",
    "    calc_second_order=False\n",
    ")\n",
    "\n",
    "\n",
    "exp = ap.Experiment(VirusModel_mvp, sample, iterations=2, record = True)\n",
    "results = exp.run()"
   ]
  },
  {
   "cell_type": "markdown",
   "metadata": {},
   "source": [
    "The measures in our :class:DataDict now hold one row for each simulation run.\n",
    "\n",
    "We can use standard functions of the pandas library like :func:pandas.DataFrame.hist to look at summary statistics.\n",
    "Sensitivity analysis\n",
    "\n",
    "We can also display sensitivities by plotting average evaluation measures over our parameter variations."
   ]
  },
  {
   "cell_type": "code",
   "execution_count": 6,
   "metadata": {},
   "outputs": [],
   "source": [
    "# make the plot mathematically\n",
    "x_coords = np.arange(0,1, 0.01)\n",
    "\n",
    "math_calc = pd.DataFrame(\n",
    "    {'x_coords': x_coords,\n",
    "     'y_coords': [1 - x*0.01*100 for x in x_coords]\n",
    "    })\n"
   ]
  },
  {
   "cell_type": "code",
   "execution_count": 7,
   "metadata": {},
   "outputs": [
    {
     "name": "stdout",
     "output_type": "stream",
     "text": [
      "fraud_rate\n"
     ]
    },
    {
     "data": {
      "image/png": "[encoded data removed]",
      "text/plain": [
       "<Figure size 640x480 with 1 Axes>"
      ]
     },
     "metadata": {},
     "output_type": "display_data"
    }
   ],
   "source": [
    "def plot_sensitivity(results):\n",
    "    \"\"\" Show average simulation results for different parameter values. \"\"\"\n",
    "    \n",
    "    sns.set()\n",
    "#     fig, axs = plt.subplots(2, 2, figsize=(8, 8))\n",
    "#     axs = [i for j in axs for i in j] # Flatten list\n",
    "    \n",
    "    fig, ax = plt.subplots()\n",
    "    \n",
    "    data = results.arrange_reporters().astype('float')[[\"sample_id\", \"iteration\", 'wealth', \"fraud_rate\"]]\n",
    "    params = results.parameters.sample.keys() \n",
    "\n",
    "    for x in (params):\n",
    "        for y in ['wealth']:\n",
    "            print(x)\n",
    "            sns.regplot(x=x, y=y, data=data, ci=99, \n",
    "                        x_bins=15, fit_reg=False, label= \"ABM wealth\")  \n",
    "        ax.set_ylim(0,1)\n",
    "        ax.set_ylabel('wealth')\n",
    "        ax.legend()\n",
    "        \n",
    "    sns.lineplot(data = math_calc,y ='y_coords', x = 'x_coords', color = 'red', label = 'predicted trajectory')\n",
    "        \n",
    "    plt.tight_layout()\n",
    "\n",
    "plot_sensitivity(results)"
   ]
  }
 ],
 "metadata": {
  "kernelspec": {
   "display_name": "Python 3 (ipykernel)",
   "language": "python",
   "name": "python3"
  },
  "language_info": {
   "codemirror_mode": {
    "name": "ipython",
    "version": 3
   },
   "file_extension": ".py",
   "mimetype": "text/x-python",
   "name": "python",
   "nbconvert_exporter": "python",
   "pygments_lexer": "ipython3",
   "version": "3.10.9"
  }
 },
 "nbformat": 4,
 "nbformat_minor": 4
}
