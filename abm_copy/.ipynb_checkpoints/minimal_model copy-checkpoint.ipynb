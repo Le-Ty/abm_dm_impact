{
 "cells": [
  {
   "cell_type": "markdown",
   "metadata": {},
   "source": [
    "# Minimal Model"
   ]
  },
  {
   "cell_type": "markdown",
   "metadata": {},
   "source": [
    "This notebook presents an agent-based model that simulates the propagation of a disease through a network.\n",
    "It demonstrates how to use the [agentpy](https://agentpy.readthedocs.io) package to create and visualize networks, use the interactive module, and perform different types of sensitivity analysis. "
   ]
  },
  {
   "cell_type": "code",
   "execution_count": 17,
   "metadata": {},
   "outputs": [],
   "source": [
    "# Model design\n",
    "import agentpy as ap\n",
    "import networkx as nx \n",
    "import random \n",
    "import numpy as np\n",
    "\n",
    "# Visualization\n",
    "import matplotlib.pyplot as plt \n",
    "import seaborn as sns\n",
    "import IPython\n",
    "\n",
    "np.random.seed(42)"
   ]
  },
  {
   "cell_type": "markdown",
   "metadata": {},
   "source": [
    "## About the model\n",
    "\n",
    "The agents of this model are people, which can be in one of the following three conditions: susceptible to the disease (S), infected (I), or recovered (R). The agents are connected to each other through a small-world network of peers. At every time-step, infected agents can infect their peers or recover from the disease based on random chance."
   ]
  },
  {
   "cell_type": "markdown",
   "metadata": {},
   "source": [
    "## Defining the model"
   ]
  },
  {
   "cell_type": "markdown",
   "metadata": {
    "raw_mimetype": "text/restructuredtext"
   },
   "source": [
    "We define a new agent type :class:`Person` by creating a subclass of :class:`Agent`.\n",
    "This agent has two methods: :func:`setup` will be called automatically at the agent's creation,\n",
    "and :func:`being_sick` will be called by the :func:`Model.step` function.\n",
    "Three tools are used within this class:\n",
    "\n",
    "- :attr:`Agent.p` returns the parameters of the model\n",
    "- :func:`Agent.neighbors` returns a list of the agents' peers in the network\n",
    "- :func:`random.random` returns a uniform random draw between 0 and 1\n",
    "\n",
    "wealth by race https://www.federalreserve.gov/econres/notes/feds-notes/disparities-in-wealth-by-race-and-ethnicity-in-the-2019-survey-of-consumer-finances-20200928.html\n",
    "\n",
    "rank for the US:\n",
    "https://www.federalreserve.gov/econres/notes/feds-notes/wealth-inequality-and-the-racial-wealth-gap-accessible-20211022.htm#fig3\n"
   ]
  },
  {
   "cell_type": "code",
   "execution_count": 5,
   "metadata": {
    "scrolled": true
   },
   "outputs": [],
   "source": [
    "# import matplotlib.pyplot as plt\n",
    "\n",
    "# values = plt.hist(np.random.beta(1.5, 5, 10000),\n",
    "\n",
    "#                   bins=200, density=True)\n",
    "\n",
    "# # plt.show()"
   ]
  },
  {
   "cell_type": "code",
   "execution_count": 6,
   "metadata": {},
   "outputs": [],
   "source": [
    "# import matplotlib.pyplot as plt\n",
    "\n",
    "# values = plt.hist(np.random.beta(5, 3, 10000),\n",
    "\n",
    "#                   bins=200, density=True)\n",
    "\n",
    "# plt.show()"
   ]
  },
  {
   "cell_type": "code",
   "execution_count": 200,
   "metadata": {},
   "outputs": [],
   "source": [
    "class Person(ap.Agent):\n",
    "    \n",
    "    def setup(self):  \n",
    "        \"\"\" Initialize a new variable at agent creation. \"\"\"\n",
    "        # self.condition = 0  # Susceptible = 0, Infected = 1, Recovered = 2\n",
    "        a = 5 # shape\n",
    "        rng = np.random.default_rng()\n",
    "        \n",
    "        \n",
    "        # race\n",
    "        self.race =  rng.binomial(1,0.2)#binary not white0.2 /  white for the moment 0.8\n",
    "        \n",
    "        if self.race == 0:\n",
    "            self.wealth = rng.beta(1.5, 5,1)[0]\n",
    "        else:\n",
    "            self.wealth = rng.beta(5, 3,1)[0]\n",
    "            \n",
    "\n",
    "        # fraud\n",
    "        self.fraud = rng.binomial(1,0.5,1)[0]\n",
    "        self.fraud_pred = -1\n",
    "        self.convicted = 0\n",
    "\n",
    "        \n",
    "        \n",
    "        \n",
    "    def fraud_algo(self):\n",
    "        \"\"\" DM mechanism can also be ML\"\"\"\n",
    "        rng = np.random.default_rng()\n",
    "        # self.fraud_pred = rng.binomial(1, 0.5)\n",
    "        if self.fraud == 1:\n",
    "            fraud_cor = rng.binomial(1,self.p.acc)\n",
    "        else:\n",
    "            fraud_cor = rng.binomial(1,1-self.p.acc)\n",
    "            \n",
    "        self.fraud_pred = rng.binomial(1, fraud_cor*(0.8-self.p.wealth_appeal_corr))\n",
    "        \n",
    "\n",
    "            \n",
    "    def convict(self):\n",
    "        \"\"\" Conviction and Consequences\"\"\"\n",
    "        rng = np.random.default_rng()\n",
    "        if self.fraud_pred == 1:\n",
    "            if rng.binomial(1,self.p.conviction_rate) == 1:\n",
    "                # pay fine, get on record, \n",
    "                self.wealth = self.wealth - np.max([0.01,(pow(self.wealth,2)*0.1)])\n",
    "                self.convicted =+ 1\n",
    "                self.fraud = rng.binomial(1,0.5,1)[0]\n",
    "                self.fraud_pred = 0\n",
    "            \n",
    "            \n",
    "    def convict_true(self):\n",
    "        \"\"\" Conviction and Consequences\"\"\"\n",
    "        rng = np.random.default_rng()\n",
    "        if self.fraud == 1:\n",
    "            if rng.binomial(1,self.p.conviction_rate) == 1:\n",
    "                # pay fine, get on record, \n",
    "                self.wealth = self.wealth - (0.1)#(self.wealth*0.05)])\n",
    "                self.convicted =+ 1\n",
    "                self.fraud = rng.binomial(1,0.5,1)[0]\n",
    "                self.fraud_pred = 0\n",
    "\n",
    "    def wealth_grow(self):\n",
    "        self.wealth = min(1,self.wealth+pow(self.wealth,2)*0.1)\n",
    "        \n",
    "            \n"
   ]
  },
  {
   "cell_type": "markdown",
   "metadata": {
    "raw_mimetype": "text/restructuredtext"
   },
   "source": [
    "Next, we define our model :class:`VirusModel` by creating a subclass of :class:`Model`.\n",
    "The four methods of this class will be called automatically at different steps of the simulation,\n",
    "as described in :ref:`overview_simulation`."
   ]
  },
  {
   "cell_type": "code",
   "execution_count": 196,
   "metadata": {},
   "outputs": [],
   "source": [
    "class VirusModel(ap.Model):\n",
    "    \n",
    "    def setup(self): #before\n",
    "        \"\"\" Initialize the agents and network of the model. \"\"\"\n",
    "\n",
    "#         # Create agents and network\n",
    "        self.agents = ap.AgentList(self, self.p.agents, Person)\n",
    "    \n",
    "        self.w_wealth_t0 = sum((self.agents.select(self.agents.race == 1)).wealth) / len((self.agents.select(self.agents.race == 1)))\n",
    "        self.nw_wealth_t0 = sum((self.agents.select(self.agents.race == 0)).wealth) / len((self.agents.select(self.agents.race == 0)))\n",
    "    \n",
    "\n",
    "    def step(self): # during each step\n",
    "        \"\"\" Define the models' events per simulation step. \"\"\"\n",
    "        self.agents.fraud_algo()\n",
    "#         self.agents.appeal()\n",
    "        self.agents.convict()\n",
    "        self.agents.wealth_grow()\n",
    "        \n",
    "\n",
    "\n",
    "\n",
    "    def update(self):  # after each step\n",
    "        \"\"\" Record variables after setup and each step. \"\"\"\n",
    "        self.agents.record('wealth')\n",
    "        self.agents.record('fraud_pred')\n",
    "        self.agents.record('fraud')\n",
    "        self.agents.record('race')\n",
    "        \n",
    "        \n",
    "    \n",
    "    \n",
    "    def end(self):     \n",
    "        \"\"\" Record evaluation measures at the end of the simulation. \"\"\"\n",
    "#         self.report('wealth', self.agents.wealth)\n",
    "#         self.report('race', self.agents.race)\n",
    "#         self.report('my_measure', 1)\n",
    "        \n",
    "        # record race wealth ratio \n",
    "        \n",
    "        w_wealth_tn = sum((self.agents.select(self.agents.race == 1)).wealth) / len((self.agents.select(self.agents.race == 1)))\n",
    "        nw_wealth_tn = sum((self.agents.select(self.agents.race == 0)).wealth) / len((self.agents.select(self.agents.race == 0)))\n",
    "        \n",
    "        w_wr_ratio = w_wealth_tn/self.w_wealth_t0\n",
    "        nw_wr_ratio = nw_wealth_tn/self.nw_wealth_t0\n",
    "        \n",
    "        # general wealth \n",
    "        wealth = sum((self.agents).wealth) / len((self.agents))\n",
    "        \n",
    "        self.report('w_wr_ratio', w_wr_ratio)\n",
    "        self.report('nw_wr_ratio', nw_wr_ratio)\n",
    "        self.report('wealth', wealth)\n",
    "            \n",
    "        "
   ]
  },
  {
   "cell_type": "code",
   "execution_count": 201,
   "metadata": {},
   "outputs": [],
   "source": [
    "class VirusModel_mvp(ap.Model):\n",
    "    \n",
    "    def setup(self): #before\n",
    "        \"\"\" Initialize the agents and network of the model. \"\"\"\n",
    "\n",
    "#         # Create agents and network\n",
    "        self.agents = ap.AgentList(self, self.p.agents, Person)\n",
    "    \n",
    "        self.w_wealth_t0 = sum((self.agents.select(self.agents.race == 1)).wealth) / len((self.agents.select(self.agents.race == 1)))\n",
    "        self.nw_wealth_t0 = sum((self.agents.select(self.agents.race == 0)).wealth) / len((self.agents.select(self.agents.race == 0)))\n",
    "    \n",
    "\n",
    "    def step(self): # during each step\n",
    "        \"\"\" Define the models' events per simulation step. \"\"\"\n",
    "#         self.agents.fraud_algo()\n",
    "#         self.agents.appeal()\n",
    "        self.agents.convict_true()\n",
    "        self.agents.wealth_grow()\n",
    "        \n",
    "\n",
    "\n",
    "\n",
    "    def update(self):  # after each step\n",
    "        \"\"\" Record variables after setup and each step. \"\"\"\n",
    "        self.agents.record('wealth')\n",
    "        self.agents.record('fraud_pred')\n",
    "        self.agents.record('fraud')\n",
    "        self.agents.record('race')\n",
    "        \n",
    "        \n",
    "    \n",
    "    def end(self):     \n",
    "        \"\"\" Record evaluation measures at the end of the simulation. \"\"\"\n",
    "#         self.report('wealth', self.agents.wealth)\n",
    "#         self.report('race', self.agents.race)\n",
    "#         self.report('my_measure', 1)\n",
    "        \n",
    "        # record race wealth ratio \n",
    "        \n",
    "        w_wealth_tn = sum((self.agents.select(self.agents.race == 1)).wealth) / len((self.agents.select(self.agents.race == 1)))\n",
    "        nw_wealth_tn = sum((self.agents.select(self.agents.race == 0)).wealth) / len((self.agents.select(self.agents.race == 0)))\n",
    "        \n",
    "        w_wr_ratio = w_wealth_tn/self.w_wealth_t0\n",
    "        nw_wr_ratio = nw_wealth_tn/self.nw_wealth_t0\n",
    "        \n",
    "        # general wealth \n",
    "        wealth = sum((self.agents).wealth) / len((self.agents))\n",
    "        \n",
    "        self.report('w_wr_ratio', w_wr_ratio)\n",
    "        self.report('nw_wr_ratio', nw_wr_ratio)\n",
    "        self.report('wealth', wealth)\n",
    "            \n",
    "            \n",
    "        "
   ]
  },
  {
   "cell_type": "markdown",
   "metadata": {},
   "source": [
    "## Running a simulation"
   ]
  },
  {
   "cell_type": "markdown",
   "metadata": {
    "raw_mimetype": "text/restructuredtext"
   },
   "source": [
    "To run our model, we define a dictionary with our parameters. \n",
    "We then create a new instance of our model, passing the parameters as an argument, \n",
    "and use the method :func:`Model.run` to perform the simulation and return it's output. "
   ]
  },
  {
   "cell_type": "code",
   "execution_count": 202,
   "metadata": {},
   "outputs": [
    {
     "name": "stdout",
     "output_type": "stream",
     "text": [
      "Completed: 50 steps\n",
      "Run time: 0:00:01.679196\n",
      "Simulation finished\n"
     ]
    },
    {
     "data": {
      "image/png": "[encoded data removed]",
      "text/plain": [
       "<Figure size 640x480 with 1 Axes>"
      ]
     },
     "metadata": {},
     "output_type": "display_data"
    }
   ],
   "source": [
    "parameters = {\n",
    "    'my_parameter':42,\n",
    "    'agents':1000,\n",
    "    'steps':50,\n",
    "    'wealth_appeal_corr': 0, # >0 more wealth higher appeal chance\n",
    "    'acc': 0.8, # accuracy of fraud prdediction\n",
    "    'conviction_rate': 1,\n",
    "    'appeal_wealth': 0.2 # minimal wealth needed for appeal (could also become a param for distr. eventually)\n",
    "    #'wealth_impact'\n",
    "    \n",
    "}\n",
    "\n",
    "model = VirusModel(parameters)\n",
    "results = model.run() \n",
    "\n",
    "df = results['variables']['Person']\n",
    "fig, ax = plt.subplots()\n",
    "\n",
    "sns.lineplot(ax = ax,\n",
    "             data = df,\n",
    "             x = df.index.get_level_values('t'),\n",
    "             y = df['wealth'].astype(float),\n",
    "             hue = df['race'],\n",
    "             marker = 'o')\n",
    "\n",
    "plt.show()"
   ]
  },
  {
   "cell_type": "code",
   "execution_count": 174,
   "metadata": {
    "scrolled": true
   },
   "outputs": [
    {
     "name": "stdout",
     "output_type": "stream",
     "text": [
      "Completed: 50 steps\n",
      "Run time: 0:00:00.889765\n",
      "Simulation finished\n"
     ]
    },
    {
     "data": {
      "image/png": "[encoded data removed]",
      "text/plain": [
       "<Figure size 640x480 with 1 Axes>"
      ]
     },
     "metadata": {},
     "output_type": "display_data"
    }
   ],
   "source": [
    "model = VirusModel_mvp(parameters)\n",
    "results_mvp = model.run() \n",
    "\n",
    "df = results['variables']['Person']\n",
    "fig, ax = plt.subplots()\n",
    "\n",
    "sns.lineplot(ax = ax,\n",
    "             data = df,\n",
    "             x = df.index.get_level_values('t'),\n",
    "             y = df['wealth'].astype(float),\n",
    "             hue = df['race'],\n",
    "             marker = 'o')\n",
    "\n",
    "plt.show()"
   ]
  },
  {
   "cell_type": "code",
   "execution_count": null,
   "metadata": {},
   "outputs": [],
   "source": []
  },
  {
   "cell_type": "markdown",
   "metadata": {},
   "source": [
    "## Analyzing results"
   ]
  },
  {
   "cell_type": "markdown",
   "metadata": {
    "raw_mimetype": "text/restructuredtext"
   },
   "source": [
    "The simulation returns a :class:`DataDict` of recorded data with dataframes:"
   ]
  },
  {
   "cell_type": "code",
   "execution_count": 152,
   "metadata": {
    "scrolled": true
   },
   "outputs": [],
   "source": [
    "r =results['variables']['Person']\n",
    "rmvp = results_mvp['variables']['Person']\n",
    "x = r.index.get_level_values('t')\n",
    "y = r['wealth'].astype(float)\n",
    "hue = r['race']\n",
    "xmvp = rmvp.index.get_level_values('t')\n",
    "ymvp = rmvp['wealth'].astype(float)\n",
    "huemvp = rmvp['race']"
   ]
  },
  {
   "cell_type": "code",
   "execution_count": 67,
   "metadata": {},
   "outputs": [],
   "source": [
    "dy = ymvp - y\n"
   ]
  },
  {
   "cell_type": "code",
   "execution_count": 128,
   "metadata": {},
   "outputs": [
    {
     "data": {
      "text/html": [
       "<div>\n",
       "<style scoped>\n",
       "    .dataframe tbody tr th:only-of-type {\n",
       "        vertical-align: middle;\n",
       "    }\n",
       "\n",
       "    .dataframe tbody tr th {\n",
       "        vertical-align: top;\n",
       "    }\n",
       "\n",
       "    .dataframe thead th {\n",
       "        text-align: right;\n",
       "    }\n",
       "</style>\n",
       "<table border=\"1\" class=\"dataframe\">\n",
       "  <thead>\n",
       "    <tr style=\"text-align: right;\">\n",
       "      <th></th>\n",
       "      <th></th>\n",
       "      <th>wealth</th>\n",
       "      <th>race</th>\n",
       "    </tr>\n",
       "    <tr>\n",
       "      <th>obj_id</th>\n",
       "      <th>t</th>\n",
       "      <th></th>\n",
       "      <th></th>\n",
       "    </tr>\n",
       "  </thead>\n",
       "  <tbody>\n",
       "    <tr>\n",
       "      <th rowspan=\"5\" valign=\"top\">1</th>\n",
       "      <th>0</th>\n",
       "      <td>0.665395</td>\n",
       "      <td>1</td>\n",
       "    </tr>\n",
       "    <tr>\n",
       "      <th>1</th>\n",
       "      <td>0.659690</td>\n",
       "      <td>1</td>\n",
       "    </tr>\n",
       "    <tr>\n",
       "      <th>2</th>\n",
       "      <td>0.664042</td>\n",
       "      <td>1</td>\n",
       "    </tr>\n",
       "    <tr>\n",
       "      <th>3</th>\n",
       "      <td>0.668452</td>\n",
       "      <td>1</td>\n",
       "    </tr>\n",
       "    <tr>\n",
       "      <th>4</th>\n",
       "      <td>0.672920</td>\n",
       "      <td>1</td>\n",
       "    </tr>\n",
       "    <tr>\n",
       "      <th>...</th>\n",
       "      <th>...</th>\n",
       "      <td>...</td>\n",
       "      <td>...</td>\n",
       "    </tr>\n",
       "    <tr>\n",
       "      <th rowspan=\"5\" valign=\"top\">1000</th>\n",
       "      <th>96</th>\n",
       "      <td>0.061730</td>\n",
       "      <td>0</td>\n",
       "    </tr>\n",
       "    <tr>\n",
       "      <th>97</th>\n",
       "      <td>0.061768</td>\n",
       "      <td>0</td>\n",
       "    </tr>\n",
       "    <tr>\n",
       "      <th>98</th>\n",
       "      <td>0.061807</td>\n",
       "      <td>0</td>\n",
       "    </tr>\n",
       "    <tr>\n",
       "      <th>99</th>\n",
       "      <td>0.061845</td>\n",
       "      <td>0</td>\n",
       "    </tr>\n",
       "    <tr>\n",
       "      <th>100</th>\n",
       "      <td>0.061883</td>\n",
       "      <td>0</td>\n",
       "    </tr>\n",
       "  </tbody>\n",
       "</table>\n",
       "<p>101000 rows × 2 columns</p>\n",
       "</div>"
      ],
      "text/plain": [
       "              wealth  race\n",
       "obj_id t                  \n",
       "1      0    0.665395     1\n",
       "       1    0.659690     1\n",
       "       2    0.664042     1\n",
       "       3    0.668452     1\n",
       "       4    0.672920     1\n",
       "...              ...   ...\n",
       "1000   96   0.061730     0\n",
       "       97   0.061768     0\n",
       "       98   0.061807     0\n",
       "       99   0.061845     0\n",
       "       100  0.061883     0\n",
       "\n",
       "[101000 rows x 2 columns]"
      ]
     },
     "execution_count": 128,
     "metadata": {},
     "output_type": "execute_result"
    }
   ],
   "source": [
    "rw_mvp = rmvp[['wealth','race']]\n",
    "rw_mvp"
   ]
  },
  {
   "cell_type": "code",
   "execution_count": 153,
   "metadata": {},
   "outputs": [
    {
     "data": {
      "text/plain": [
       "t\n",
       "0    -0.400883\n",
       "1    -0.404566\n",
       "2    -0.408481\n",
       "3    -0.412254\n",
       "4    -0.416011\n",
       "5    -0.419751\n",
       "6    -0.423576\n",
       "7    -0.427347\n",
       "8    -0.431122\n",
       "9    -0.434889\n",
       "10   -0.438676\n",
       "11   -0.442524\n",
       "12   -0.446435\n",
       "13   -0.450366\n",
       "14   -0.454343\n",
       "15   -0.458316\n",
       "16   -0.462211\n",
       "17   -0.466064\n",
       "18   -0.469849\n",
       "19   -0.473608\n",
       "20   -0.477387\n",
       "21   -0.481129\n",
       "22   -0.484928\n",
       "23   -0.488731\n",
       "24   -0.492547\n",
       "25   -0.496303\n",
       "26   -0.499943\n",
       "27   -0.503480\n",
       "28   -0.506940\n",
       "29   -0.510383\n",
       "30   -0.513700\n",
       "31   -0.517051\n",
       "32   -0.520382\n",
       "33   -0.523635\n",
       "34   -0.526810\n",
       "35   -0.529857\n",
       "36   -0.532873\n",
       "37   -0.535763\n",
       "38   -0.538420\n",
       "39   -0.540962\n",
       "40   -0.543448\n",
       "41   -0.545959\n",
       "42   -0.548485\n",
       "43   -0.550898\n",
       "44   -0.553139\n",
       "45   -0.555399\n",
       "46   -0.557602\n",
       "47   -0.559712\n",
       "48   -0.561790\n",
       "49   -0.563794\n",
       "50   -0.565701\n",
       "Name: wealth, dtype: float64"
      ]
     },
     "execution_count": 153,
     "metadata": {},
     "output_type": "execute_result"
    }
   ],
   "source": [
    "rw_mvp0 = (rmvp.loc[rmvp['race'] == 0]['wealth']).groupby('t').mean()\n",
    "rw_mvp1 = (rmvp.loc[rmvp['race'] == 1]['wealth']).groupby('t').mean()\n",
    "\n",
    "rw_mvp0-rw_mvp1"
   ]
  },
  {
   "cell_type": "code",
   "execution_count": 143,
   "metadata": {},
   "outputs": [
    {
     "data": {
      "text/plain": [
       "t\n",
       "0    -0.389335\n",
       "1    -0.392723\n",
       "2    -0.396479\n",
       "3    -0.399630\n",
       "4    -0.402853\n",
       "5    -0.406267\n",
       "6    -0.409948\n",
       "7    -0.414139\n",
       "8    -0.417285\n",
       "9    -0.421699\n",
       "10   -0.425424\n",
       "11   -0.429198\n",
       "12   -0.433089\n",
       "13   -0.436801\n",
       "14   -0.440317\n",
       "15   -0.444435\n",
       "16   -0.448045\n",
       "17   -0.451752\n",
       "18   -0.455061\n",
       "19   -0.458214\n",
       "20   -0.461888\n",
       "21   -0.464961\n",
       "22   -0.468118\n",
       "23   -0.471775\n",
       "24   -0.475490\n",
       "25   -0.479554\n",
       "26   -0.483567\n",
       "27   -0.487634\n",
       "28   -0.491166\n",
       "29   -0.495251\n",
       "30   -0.499101\n",
       "31   -0.503279\n",
       "32   -0.506914\n",
       "33   -0.510395\n",
       "34   -0.513226\n",
       "35   -0.516376\n",
       "36   -0.519521\n",
       "37   -0.523537\n",
       "38   -0.527227\n",
       "39   -0.531086\n",
       "40   -0.534721\n",
       "41   -0.538211\n",
       "42   -0.541542\n",
       "43   -0.545121\n",
       "44   -0.548412\n",
       "45   -0.551830\n",
       "46   -0.555359\n",
       "47   -0.558998\n",
       "48   -0.562607\n",
       "49   -0.565707\n",
       "50   -0.568618\n",
       "Name: wealth, dtype: float64"
      ]
     },
     "execution_count": 143,
     "metadata": {},
     "output_type": "execute_result"
    }
   ],
   "source": [
    "r0 = (r.loc[r['race'] == 0]['wealth']).groupby('t').mean()\n",
    "r1 = (r.loc[r['race'] == 1]['wealth']).groupby('t').mean()\n",
    "\n",
    "r0-r1"
   ]
  },
  {
   "cell_type": "code",
   "execution_count": 69,
   "metadata": {},
   "outputs": [
    {
     "data": {
      "image/png": "[encoded data removed]",
      "text/plain": [
       "<Figure size 640x480 with 1 Axes>"
      ]
     },
     "metadata": {},
     "output_type": "display_data"
    }
   ],
   "source": [
    "fig, ax = plt.subplots()\n",
    "df = results['variables']['Person']\n",
    "sns.lineplot(ax = ax,\n",
    "             data = df,\n",
    "             x = r.index.get_level_values('t'),\n",
    "             y = dy,\n",
    "             hue = hue,\n",
    "             marker = 'o')\n",
    "\n",
    "plt.show()"
   ]
  },
  {
   "cell_type": "code",
   "execution_count": 194,
   "metadata": {},
   "outputs": [
    {
     "data": {
      "image/png": "[encoded data removed]",
      "text/plain": [
       "<Figure size 640x480 with 1 Axes>"
      ]
     },
     "metadata": {},
     "output_type": "display_data"
    }
   ],
   "source": [
    "df = results['variables']['Person']\n",
    "fig, ax = plt.subplots()\n",
    "\n",
    "sns.lineplot(ax = ax,\n",
    "             data = df,\n",
    "             x = df.index.get_level_values('t'),\n",
    "             y = df['wealth'].astype(float),\n",
    "             hue = df['race'],\n",
    "             marker = 'o')\n",
    "\n",
    "plt.show()"
   ]
  },
  {
   "cell_type": "code",
   "execution_count": null,
   "metadata": {},
   "outputs": [],
   "source": []
  },
  {
   "cell_type": "markdown",
   "metadata": {
    "raw_mimetype": "text/restructuredtext"
   },
   "source": [
    "To visualize the evolution of our variables over time, we create a plot function."
   ]
  },
  {
   "cell_type": "code",
   "execution_count": 7,
   "metadata": {},
   "outputs": [],
   "source": [
    "# def virus_stackplot(data, ax):\n",
    "#     \"\"\" Stackplot of people's condition over time. \"\"\"\n",
    "#     x = data.index.get_level_values('t')\n",
    "#     y = [data[var] for var in ['I', 'S', 'R']]\n",
    "    \n",
    "#     sns.set()\n",
    "#     ax.stackplot(x, y, labels=['Infected', 'Susceptible', 'Recovered'],\n",
    "#                  colors = ['r', 'b', 'g'])    \n",
    "    \n",
    "#     ax.legend()\n",
    "#     ax.set_xlim(0, max(1, len(x)-1))\n",
    "#     ax.set_ylim(0, 1)\n",
    "#     ax.set_xlabel(\"Time steps\")\n",
    "#     ax.set_ylabel(\"Percentage of population\")\n",
    "\n",
    "# fig, ax = plt.subplots()\n",
    "# virus_stackplot(results.variables.VirusModel, ax)"
   ]
  },
  {
   "cell_type": "markdown",
   "metadata": {},
   "source": [
    "## Creating an animation"
   ]
  },
  {
   "cell_type": "markdown",
   "metadata": {
    "raw_mimetype": "text/restructuredtext"
   },
   "source": [
    "We can also animate the model's dynamics as follows.\n",
    "The function :func:`animation_plot` takes a model instance \n",
    "and displays the previous stackplot together with a network graph. \n",
    "The function :func:`animate` will call this plot\n",
    "function for every time-step and return an :class:`matplotlib.animation.Animation`."
   ]
  },
  {
   "cell_type": "code",
   "execution_count": 8,
   "metadata": {},
   "outputs": [],
   "source": [
    "# def animation_plot(m, axs):\n",
    "#     ax1, ax2 = axs\n",
    "#     ax1.set_title(\"Virus spread\")\n",
    "#     ax2.set_title(f\"Share infected: {m.I}\")\n",
    "    \n",
    "#     # Plot stackplot on first axis\n",
    "#     virus_stackplot(m.output.variables.VirusModel, ax1)\n",
    "    \n",
    "#     # Plot network on second axis\n",
    "#     color_dict = {0:'b', 1:'r', 2:'g'}\n",
    "#     colors = [color_dict[c] for c in m.agents.condition]\n",
    "#     nx.draw_circular(m.network.graph, node_color=colors, \n",
    "#                      node_size=50, ax=ax2)\n",
    "\n",
    "# fig, axs = plt.subplots(1, 2, figsize=(8, 4)) # Prepare figure \n",
    "# parameters['population'] = 50 # Lower population for better visibility \n",
    "# animation = ap.animate(VirusModel(parameters), fig, axs, animation_plot)"
   ]
  },
  {
   "cell_type": "markdown",
   "metadata": {},
   "source": [
    "Using Jupyter, we can display this animation directly in our notebook."
   ]
  },
  {
   "cell_type": "code",
   "execution_count": 9,
   "metadata": {},
   "outputs": [],
   "source": [
    "# IPython.display.HTML(animation.to_jshtml()) "
   ]
  },
  {
   "cell_type": "markdown",
   "metadata": {},
   "source": [
    "## Multi-run experiment"
   ]
  },
  {
   "cell_type": "markdown",
   "metadata": {
    "raw_mimetype": "text/restructuredtext"
   },
   "source": [
    "To explore the effect of different parameter values, \n",
    "we use the classes :class:`Sample`, :class:`Range`, and :class:`IntRange`\n",
    "to create a sample of different parameter combinations.\n",
    "\n",
    "What I want is trying a bunch of "
   ]
  },
  {
   "cell_type": "code",
   "execution_count": 203,
   "metadata": {},
   "outputs": [],
   "source": [
    "# parameters = {\n",
    "#     'population': ap.IntRange(100, 1000),\n",
    "#     'infection_chance': ap.Range(0.1, 1.),\n",
    "#     'recovery_chance': ap.Range(0.1, 1.),\n",
    "#     'initial_infection_share': 0.1,\n",
    "#     'number_of_neighbors': 2,\n",
    "#     'network_randomness': ap.Range(0., 1.)\n",
    "# }\n",
    "# parameters = {  \n",
    "#     'population': 1000,\n",
    "#     'infection_chance': 0.3,\n",
    "#     'recovery_chance': 0.1,\n",
    "#     'initial_infection_share': 0.1,\n",
    "#     'number_of_neighbors': 2,\n",
    "#     'network_randomness': 0.5   \n",
    "# }\n",
    "\n",
    "parameters = {\n",
    "    'my_parameter':42,\n",
    "    'agents':ap.IntRange(50, 150),\n",
    "    'steps':10,\n",
    "    'wealth_appeal_corr': 0, #ap.Range(-0.2, 0.2), # >0 more wealth higher appeal chance\n",
    "    'acc': 0.8, #ap.Range(0.5, 0.8), # accuracy of fraud prdediction\n",
    "    'conviction_rate': ap.Range(0,1),\n",
    "    'appeal_wealth': 0.2 # minimal wealth needed for appeal (could also become a param for distr. eventually)\n",
    "    #'wealth_impact'\n",
    "} \n",
    "\n",
    "sample = ap.Sample(\n",
    "    parameters, \n",
    "    n=128, \n",
    "    method='saltelli', \n",
    "    calc_second_order=False\n",
    ")"
   ]
  },
  {
   "cell_type": "markdown",
   "metadata": {
    "raw_mimetype": "text/restructuredtext"
   },
   "source": [
    "We then create an :class:`Experiment` that takes a model and sample as input.\n",
    ":func:`Experiment.run` runs our model repeatedly over the whole sample \n",
    "with ten random iterations per parameter combination."
   ]
  },
  {
   "cell_type": "code",
   "execution_count": 204,
   "metadata": {},
   "outputs": [
    {
     "name": "stdout",
     "output_type": "stream",
     "text": [
      "Scheduled runs: 1024\n",
      "Completed: 1024, estimated time remaining: 0:00:00\n",
      "Experiment finished\n",
      "Run time: 0:00:22.718550\n"
     ]
    }
   ],
   "source": [
    "exp = ap.Experiment(VirusModel_mvp, sample, iterations=2, record = True)\n",
    "results = exp.run()"
   ]
  },
  {
   "cell_type": "markdown",
   "metadata": {},
   "source": [
    "Optionally, we can save and load our results as follows:"
   ]
  },
  {
   "cell_type": "code",
   "execution_count": 184,
   "metadata": {},
   "outputs": [
    {
     "name": "stdout",
     "output_type": "stream",
     "text": [
      "Data saved to ap_output/VirusModel_9\n"
     ]
    }
   ],
   "source": [
    "results.save()"
   ]
  },
  {
   "cell_type": "code",
   "execution_count": 185,
   "metadata": {},
   "outputs": [
    {
     "name": "stdout",
     "output_type": "stream",
     "text": [
      "Loading from directory ap_output/VirusModel_9/\n",
      "Loading parameters_sample.csv - Successful\n",
      "Loading parameters_constants.json - Successful\n",
      "Loading reporters.csv - Successful\n",
      "Loading info.json - Successful\n",
      "Loading variables_Person.csv - Successful\n",
      "Loading parameters_log.json - Successful\n"
     ]
    }
   ],
   "source": [
    "results = ap.DataDict.load('VirusModel')"
   ]
  },
  {
   "cell_type": "code",
   "execution_count": 186,
   "metadata": {},
   "outputs": [
    {
     "data": {
      "text/html": [
       "<div>\n",
       "<style scoped>\n",
       "    .dataframe tbody tr th:only-of-type {\n",
       "        vertical-align: middle;\n",
       "    }\n",
       "\n",
       "    .dataframe tbody tr th {\n",
       "        vertical-align: top;\n",
       "    }\n",
       "\n",
       "    .dataframe thead th {\n",
       "        text-align: right;\n",
       "    }\n",
       "</style>\n",
       "<table border=\"1\" class=\"dataframe\">\n",
       "  <thead>\n",
       "    <tr style=\"text-align: right;\">\n",
       "      <th></th>\n",
       "      <th></th>\n",
       "      <th>seed</th>\n",
       "      <th>w_wr_ratio</th>\n",
       "      <th>nw_wr_ratio</th>\n",
       "    </tr>\n",
       "    <tr>\n",
       "      <th>sample_id</th>\n",
       "      <th>iteration</th>\n",
       "      <th></th>\n",
       "      <th></th>\n",
       "      <th></th>\n",
       "    </tr>\n",
       "  </thead>\n",
       "  <tbody>\n",
       "    <tr>\n",
       "      <th rowspan=\"2\" valign=\"top\">0</th>\n",
       "      <th>0</th>\n",
       "      <td>279701951157731131776818514243429580832</td>\n",
       "      <td>1.011930</td>\n",
       "      <td>0.869604</td>\n",
       "    </tr>\n",
       "    <tr>\n",
       "      <th>1</th>\n",
       "      <td>171092131886094625643394338857781442875</td>\n",
       "      <td>0.979167</td>\n",
       "      <td>0.923570</td>\n",
       "    </tr>\n",
       "    <tr>\n",
       "      <th rowspan=\"2\" valign=\"top\">1</th>\n",
       "      <th>0</th>\n",
       "      <td>92898589260260698211806605491694735533</td>\n",
       "      <td>0.996297</td>\n",
       "      <td>0.911715</td>\n",
       "    </tr>\n",
       "    <tr>\n",
       "      <th>1</th>\n",
       "      <td>162901249188527534808479688430543268298</td>\n",
       "      <td>0.989773</td>\n",
       "      <td>0.916680</td>\n",
       "    </tr>\n",
       "    <tr>\n",
       "      <th>2</th>\n",
       "      <th>0</th>\n",
       "      <td>227758326022822350402721323646709856248</td>\n",
       "      <td>0.988867</td>\n",
       "      <td>0.942885</td>\n",
       "    </tr>\n",
       "    <tr>\n",
       "      <th>...</th>\n",
       "      <th>...</th>\n",
       "      <td>...</td>\n",
       "      <td>...</td>\n",
       "      <td>...</td>\n",
       "    </tr>\n",
       "    <tr>\n",
       "      <th>637</th>\n",
       "      <th>1</th>\n",
       "      <td>179982798314234473818153331780059336077</td>\n",
       "      <td>1.021396</td>\n",
       "      <td>0.906122</td>\n",
       "    </tr>\n",
       "    <tr>\n",
       "      <th rowspan=\"2\" valign=\"top\">638</th>\n",
       "      <th>0</th>\n",
       "      <td>316181043737617747370667931192623098580</td>\n",
       "      <td>1.008296</td>\n",
       "      <td>0.970563</td>\n",
       "    </tr>\n",
       "    <tr>\n",
       "      <th>1</th>\n",
       "      <td>175926058543354181336672819878565108039</td>\n",
       "      <td>1.040949</td>\n",
       "      <td>0.946538</td>\n",
       "    </tr>\n",
       "    <tr>\n",
       "      <th rowspan=\"2\" valign=\"top\">639</th>\n",
       "      <th>0</th>\n",
       "      <td>77062607861786758937148829945058809883</td>\n",
       "      <td>1.004392</td>\n",
       "      <td>0.951968</td>\n",
       "    </tr>\n",
       "    <tr>\n",
       "      <th>1</th>\n",
       "      <td>183207415633593973495198180693833229024</td>\n",
       "      <td>1.005576</td>\n",
       "      <td>0.930312</td>\n",
       "    </tr>\n",
       "  </tbody>\n",
       "</table>\n",
       "<p>1280 rows × 3 columns</p>\n",
       "</div>"
      ],
      "text/plain": [
       "                                                        seed  w_wr_ratio  \\\n",
       "sample_id iteration                                                        \n",
       "0         0          279701951157731131776818514243429580832    1.011930   \n",
       "          1          171092131886094625643394338857781442875    0.979167   \n",
       "1         0           92898589260260698211806605491694735533    0.996297   \n",
       "          1          162901249188527534808479688430543268298    0.989773   \n",
       "2         0          227758326022822350402721323646709856248    0.988867   \n",
       "...                                                      ...         ...   \n",
       "637       1          179982798314234473818153331780059336077    1.021396   \n",
       "638       0          316181043737617747370667931192623098580    1.008296   \n",
       "          1          175926058543354181336672819878565108039    1.040949   \n",
       "639       0           77062607861786758937148829945058809883    1.004392   \n",
       "          1          183207415633593973495198180693833229024    1.005576   \n",
       "\n",
       "                     nw_wr_ratio  \n",
       "sample_id iteration               \n",
       "0         0             0.869604  \n",
       "          1             0.923570  \n",
       "1         0             0.911715  \n",
       "          1             0.916680  \n",
       "2         0             0.942885  \n",
       "...                          ...  \n",
       "637       1             0.906122  \n",
       "638       0             0.970563  \n",
       "          1             0.946538  \n",
       "639       0             0.951968  \n",
       "          1             0.930312  \n",
       "\n",
       "[1280 rows x 3 columns]"
      ]
     },
     "execution_count": 186,
     "metadata": {},
     "output_type": "execute_result"
    }
   ],
   "source": [
    "results['reporters']"
   ]
  },
  {
   "cell_type": "markdown",
   "metadata": {
    "raw_mimetype": "text/restructuredtext"
   },
   "source": [
    "The measures in our :class:`DataDict` now hold one row for each simulation run."
   ]
  },
  {
   "cell_type": "code",
   "execution_count": 58,
   "metadata": {},
   "outputs": [
    {
     "data": {
      "text/html": [
       "<div>\n",
       "<style scoped>\n",
       "    .dataframe tbody tr th:only-of-type {\n",
       "        vertical-align: middle;\n",
       "    }\n",
       "\n",
       "    .dataframe tbody tr th {\n",
       "        vertical-align: top;\n",
       "    }\n",
       "\n",
       "    .dataframe thead th {\n",
       "        text-align: right;\n",
       "    }\n",
       "</style>\n",
       "<table border=\"1\" class=\"dataframe\">\n",
       "  <thead>\n",
       "    <tr style=\"text-align: right;\">\n",
       "      <th></th>\n",
       "      <th>agents</th>\n",
       "      <th>wealth_appeal_corr</th>\n",
       "      <th>acc</th>\n",
       "    </tr>\n",
       "    <tr>\n",
       "      <th>sample_id</th>\n",
       "      <th></th>\n",
       "      <th></th>\n",
       "      <th></th>\n",
       "    </tr>\n",
       "  </thead>\n",
       "  <tbody>\n",
       "    <tr>\n",
       "      <th>0</th>\n",
       "      <td>51</td>\n",
       "      <td>-0.067187</td>\n",
       "      <td>0.587891</td>\n",
       "    </tr>\n",
       "    <tr>\n",
       "      <th>1</th>\n",
       "      <td>69</td>\n",
       "      <td>-0.067187</td>\n",
       "      <td>0.587891</td>\n",
       "    </tr>\n",
       "    <tr>\n",
       "      <th>2</th>\n",
       "      <td>51</td>\n",
       "      <td>0.160938</td>\n",
       "      <td>0.587891</td>\n",
       "    </tr>\n",
       "    <tr>\n",
       "      <th>3</th>\n",
       "      <td>51</td>\n",
       "      <td>-0.067187</td>\n",
       "      <td>0.702734</td>\n",
       "    </tr>\n",
       "    <tr>\n",
       "      <th>4</th>\n",
       "      <td>69</td>\n",
       "      <td>0.160938</td>\n",
       "      <td>0.702734</td>\n",
       "    </tr>\n",
       "    <tr>\n",
       "      <th>...</th>\n",
       "      <td>...</td>\n",
       "      <td>...</td>\n",
       "      <td>...</td>\n",
       "    </tr>\n",
       "    <tr>\n",
       "      <th>635</th>\n",
       "      <td>50</td>\n",
       "      <td>0.198437</td>\n",
       "      <td>0.730859</td>\n",
       "    </tr>\n",
       "    <tr>\n",
       "      <th>636</th>\n",
       "      <td>107</td>\n",
       "      <td>0.198437</td>\n",
       "      <td>0.730859</td>\n",
       "    </tr>\n",
       "    <tr>\n",
       "      <th>637</th>\n",
       "      <td>50</td>\n",
       "      <td>0.045312</td>\n",
       "      <td>0.730859</td>\n",
       "    </tr>\n",
       "    <tr>\n",
       "      <th>638</th>\n",
       "      <td>50</td>\n",
       "      <td>0.198437</td>\n",
       "      <td>0.794141</td>\n",
       "    </tr>\n",
       "    <tr>\n",
       "      <th>639</th>\n",
       "      <td>107</td>\n",
       "      <td>0.045312</td>\n",
       "      <td>0.794141</td>\n",
       "    </tr>\n",
       "  </tbody>\n",
       "</table>\n",
       "<p>640 rows × 3 columns</p>\n",
       "</div>"
      ],
      "text/plain": [
       "           agents  wealth_appeal_corr       acc\n",
       "sample_id                                      \n",
       "0              51           -0.067187  0.587891\n",
       "1              69           -0.067187  0.587891\n",
       "2              51            0.160938  0.587891\n",
       "3              51           -0.067187  0.702734\n",
       "4              69            0.160938  0.702734\n",
       "...           ...                 ...       ...\n",
       "635            50            0.198437  0.730859\n",
       "636           107            0.198437  0.730859\n",
       "637            50            0.045312  0.730859\n",
       "638            50            0.198437  0.794141\n",
       "639           107            0.045312  0.794141\n",
       "\n",
       "[640 rows x 3 columns]"
      ]
     },
     "execution_count": 58,
     "metadata": {},
     "output_type": "execute_result"
    }
   ],
   "source": [
    "a =results['parameters']['sample']\n",
    "a"
   ]
  },
  {
   "cell_type": "code",
   "execution_count": 167,
   "metadata": {},
   "outputs": [
    {
     "data": {
      "text/html": [
       "<div>\n",
       "<style scoped>\n",
       "    .dataframe tbody tr th:only-of-type {\n",
       "        vertical-align: middle;\n",
       "    }\n",
       "\n",
       "    .dataframe tbody tr th {\n",
       "        vertical-align: top;\n",
       "    }\n",
       "\n",
       "    .dataframe thead th {\n",
       "        text-align: right;\n",
       "    }\n",
       "</style>\n",
       "<table border=\"1\" class=\"dataframe\">\n",
       "  <thead>\n",
       "    <tr style=\"text-align: right;\">\n",
       "      <th></th>\n",
       "      <th></th>\n",
       "      <th>seed</th>\n",
       "      <th>w_wr_ratio</th>\n",
       "      <th>nw_wr_ratio</th>\n",
       "    </tr>\n",
       "    <tr>\n",
       "      <th>sample_id</th>\n",
       "      <th>iteration</th>\n",
       "      <th></th>\n",
       "      <th></th>\n",
       "      <th></th>\n",
       "    </tr>\n",
       "  </thead>\n",
       "  <tbody>\n",
       "    <tr>\n",
       "      <th rowspan=\"2\" valign=\"top\">0</th>\n",
       "      <th>0</th>\n",
       "      <td>321035696569074393900800902729492961571</td>\n",
       "      <td>0.990047</td>\n",
       "      <td>0.919253</td>\n",
       "    </tr>\n",
       "    <tr>\n",
       "      <th>1</th>\n",
       "      <td>287260272559001834646021956964071460488</td>\n",
       "      <td>1.022115</td>\n",
       "      <td>0.911062</td>\n",
       "    </tr>\n",
       "    <tr>\n",
       "      <th rowspan=\"2\" valign=\"top\">1</th>\n",
       "      <th>0</th>\n",
       "      <td>217728001674644233900148970347932507640</td>\n",
       "      <td>0.982531</td>\n",
       "      <td>0.882188</td>\n",
       "    </tr>\n",
       "    <tr>\n",
       "      <th>1</th>\n",
       "      <td>37743317432212200141540563100539870987</td>\n",
       "      <td>1.004077</td>\n",
       "      <td>0.875650</td>\n",
       "    </tr>\n",
       "    <tr>\n",
       "      <th>2</th>\n",
       "      <th>0</th>\n",
       "      <td>123727295008927407268207327782623180901</td>\n",
       "      <td>1.014940</td>\n",
       "      <td>0.964604</td>\n",
       "    </tr>\n",
       "    <tr>\n",
       "      <th>...</th>\n",
       "      <th>...</th>\n",
       "      <td>...</td>\n",
       "      <td>...</td>\n",
       "      <td>...</td>\n",
       "    </tr>\n",
       "    <tr>\n",
       "      <th>637</th>\n",
       "      <th>1</th>\n",
       "      <td>105240026411909621910299714156140543514</td>\n",
       "      <td>1.001287</td>\n",
       "      <td>0.908712</td>\n",
       "    </tr>\n",
       "    <tr>\n",
       "      <th rowspan=\"2\" valign=\"top\">638</th>\n",
       "      <th>0</th>\n",
       "      <td>164807450361973095883026908734308608851</td>\n",
       "      <td>1.071140</td>\n",
       "      <td>0.968312</td>\n",
       "    </tr>\n",
       "    <tr>\n",
       "      <th>1</th>\n",
       "      <td>143165048279318602524160049038863207148</td>\n",
       "      <td>1.059282</td>\n",
       "      <td>0.964643</td>\n",
       "    </tr>\n",
       "    <tr>\n",
       "      <th rowspan=\"2\" valign=\"top\">639</th>\n",
       "      <th>0</th>\n",
       "      <td>280528377157528057720635703567106563008</td>\n",
       "      <td>1.018483</td>\n",
       "      <td>0.963014</td>\n",
       "    </tr>\n",
       "    <tr>\n",
       "      <th>1</th>\n",
       "      <td>67786655756373883321028286078396635156</td>\n",
       "      <td>1.011888</td>\n",
       "      <td>0.936192</td>\n",
       "    </tr>\n",
       "  </tbody>\n",
       "</table>\n",
       "<p>1280 rows × 3 columns</p>\n",
       "</div>"
      ],
      "text/plain": [
       "                                                        seed  w_wr_ratio  \\\n",
       "sample_id iteration                                                        \n",
       "0         0          321035696569074393900800902729492961571    0.990047   \n",
       "          1          287260272559001834646021956964071460488    1.022115   \n",
       "1         0          217728001674644233900148970347932507640    0.982531   \n",
       "          1           37743317432212200141540563100539870987    1.004077   \n",
       "2         0          123727295008927407268207327782623180901    1.014940   \n",
       "...                                                      ...         ...   \n",
       "637       1          105240026411909621910299714156140543514    1.001287   \n",
       "638       0          164807450361973095883026908734308608851    1.071140   \n",
       "          1          143165048279318602524160049038863207148    1.059282   \n",
       "639       0          280528377157528057720635703567106563008    1.018483   \n",
       "          1           67786655756373883321028286078396635156    1.011888   \n",
       "\n",
       "                     nw_wr_ratio  \n",
       "sample_id iteration               \n",
       "0         0             0.919253  \n",
       "          1             0.911062  \n",
       "1         0             0.882188  \n",
       "          1             0.875650  \n",
       "2         0             0.964604  \n",
       "...                          ...  \n",
       "637       1             0.908712  \n",
       "638       0             0.968312  \n",
       "          1             0.964643  \n",
       "639       0             0.963014  \n",
       "          1             0.936192  \n",
       "\n",
       "[1280 rows x 3 columns]"
      ]
     },
     "execution_count": 167,
     "metadata": {},
     "output_type": "execute_result"
    }
   ],
   "source": [
    "results['reporters']"
   ]
  },
  {
   "cell_type": "markdown",
   "metadata": {
    "raw_mimetype": "text/restructuredtext"
   },
   "source": [
    "We can use standard functions of the pandas library like \n",
    ":func:`pandas.DataFrame.hist` to look at summary statistics."
   ]
  },
  {
   "cell_type": "code",
   "execution_count": 187,
   "metadata": {},
   "outputs": [
    {
     "data": {
      "image/png": "[encoded data removed]",
      "text/plain": [
       "<Figure size 640x480 with 2 Axes>"
      ]
     },
     "metadata": {},
     "output_type": "display_data"
    }
   ],
   "source": [
    "results.reporters.hist();"
   ]
  },
  {
   "cell_type": "markdown",
   "metadata": {},
   "source": [
    "## Sensitivity analysis"
   ]
  },
  {
   "cell_type": "markdown",
   "metadata": {
    "raw_mimetype": "text/restructuredtext"
   },
   "source": [
    "The function :func:`DataDict.calc_sobol` calculates `Sobol sensitivity\n",
    "indices <https://salib.readthedocs.io/en/latest/api.html#sobol-sensitivity-analysis>`_ \n",
    "for the passed results and parameter ranges, using the \n",
    "`SAlib <https://salib.readthedocs.io/en/latest/basics.html>`_ package. "
   ]
  },
  {
   "cell_type": "code",
   "execution_count": 162,
   "metadata": {},
   "outputs": [
    {
     "name": "stderr",
     "output_type": "stream",
     "text": [
      "/Users/uni/miniconda3/envs/ma/lib/python3.10/site-packages/agentpy/datadict.py:148: FutureWarning: The default value of numeric_only in DataFrameGroupBy.mean is deprecated. In a future version, numeric_only will default to False. Either specify numeric_only or select only columns which should be valid for the function.\n",
      "  reporters_df = self.reporters.groupby('sample_id').mean()\n"
     ]
    },
    {
     "data": {
      "text/plain": [
       "DataDict {\n",
       "'info': Dictionary with 12 keys\n",
       "'parameters': \n",
       "    'constants': Dictionary with 5 keys\n",
       "    'sample': DataFrame with 2 variables and 512 rows\n",
       "    'log': Dictionary with 5 keys\n",
       "'variables': \n",
       "    'Person': DataFrame with 4 variables and 1126400 rows\n",
       "'reporters': DataFrame with 3 variables and 1024 rows\n",
       "'sensitivity': \n",
       "    'sobol': DataFrame with 2 variables and 4 rows\n",
       "    'sobol_conf': DataFrame with 2 variables and 4 rows\n",
       "}"
      ]
     },
     "execution_count": 162,
     "metadata": {},
     "output_type": "execute_result"
    }
   ],
   "source": [
    "results.calc_sobol()"
   ]
  },
  {
   "cell_type": "code",
   "execution_count": 184,
   "metadata": {
    "scrolled": true
   },
   "outputs": [
    {
     "data": {
      "text/html": [
       "<div>\n",
       "<style scoped>\n",
       "    .dataframe tbody tr th:only-of-type {\n",
       "        vertical-align: middle;\n",
       "    }\n",
       "\n",
       "    .dataframe tbody tr th {\n",
       "        vertical-align: top;\n",
       "    }\n",
       "\n",
       "    .dataframe thead th {\n",
       "        text-align: right;\n",
       "    }\n",
       "</style>\n",
       "<table border=\"1\" class=\"dataframe\">\n",
       "  <thead>\n",
       "    <tr style=\"text-align: right;\">\n",
       "      <th></th>\n",
       "      <th></th>\n",
       "      <th>seed</th>\n",
       "      <th>w_wr_ratio</th>\n",
       "      <th>nw_wr_ratio</th>\n",
       "      <th>wealth</th>\n",
       "    </tr>\n",
       "    <tr>\n",
       "      <th>sample_id</th>\n",
       "      <th>iteration</th>\n",
       "      <th></th>\n",
       "      <th></th>\n",
       "      <th></th>\n",
       "      <th></th>\n",
       "    </tr>\n",
       "  </thead>\n",
       "  <tbody>\n",
       "    <tr>\n",
       "      <th rowspan=\"2\" valign=\"top\">0</th>\n",
       "      <th>0</th>\n",
       "      <td>201127979187335725271791035746997099285</td>\n",
       "      <td>1.019027</td>\n",
       "      <td>0.927258</td>\n",
       "      <td>0.319851</td>\n",
       "    </tr>\n",
       "    <tr>\n",
       "      <th>1</th>\n",
       "      <td>323839674617043970730054114000226751147</td>\n",
       "      <td>1.015267</td>\n",
       "      <td>0.895538</td>\n",
       "      <td>0.215841</td>\n",
       "    </tr>\n",
       "    <tr>\n",
       "      <th rowspan=\"2\" valign=\"top\">1</th>\n",
       "      <th>0</th>\n",
       "      <td>110513033417182203854599292662408207467</td>\n",
       "      <td>1.024606</td>\n",
       "      <td>0.902662</td>\n",
       "      <td>0.340275</td>\n",
       "    </tr>\n",
       "    <tr>\n",
       "      <th>1</th>\n",
       "      <td>27214224125703884466114982640814134766</td>\n",
       "      <td>1.028231</td>\n",
       "      <td>0.880421</td>\n",
       "      <td>0.285859</td>\n",
       "    </tr>\n",
       "    <tr>\n",
       "      <th>2</th>\n",
       "      <th>0</th>\n",
       "      <td>21265541589308886014445432220696059325</td>\n",
       "      <td>1.005736</td>\n",
       "      <td>0.910559</td>\n",
       "      <td>0.312651</td>\n",
       "    </tr>\n",
       "    <tr>\n",
       "      <th>...</th>\n",
       "      <th>...</th>\n",
       "      <td>...</td>\n",
       "      <td>...</td>\n",
       "      <td>...</td>\n",
       "      <td>...</td>\n",
       "    </tr>\n",
       "    <tr>\n",
       "      <th>509</th>\n",
       "      <th>1</th>\n",
       "      <td>102218631291135076433582405430875501552</td>\n",
       "      <td>1.016878</td>\n",
       "      <td>0.893652</td>\n",
       "      <td>0.307179</td>\n",
       "    </tr>\n",
       "    <tr>\n",
       "      <th rowspan=\"2\" valign=\"top\">510</th>\n",
       "      <th>0</th>\n",
       "      <td>36214964857578104884456857028549855447</td>\n",
       "      <td>1.036711</td>\n",
       "      <td>0.873279</td>\n",
       "      <td>0.233348</td>\n",
       "    </tr>\n",
       "    <tr>\n",
       "      <th>1</th>\n",
       "      <td>113386646292148884636443058557192566592</td>\n",
       "      <td>1.007625</td>\n",
       "      <td>0.888891</td>\n",
       "      <td>0.309217</td>\n",
       "    </tr>\n",
       "    <tr>\n",
       "      <th rowspan=\"2\" valign=\"top\">511</th>\n",
       "      <th>0</th>\n",
       "      <td>311370917880915171616748428855937439912</td>\n",
       "      <td>1.020409</td>\n",
       "      <td>0.924633</td>\n",
       "      <td>0.286675</td>\n",
       "    </tr>\n",
       "    <tr>\n",
       "      <th>1</th>\n",
       "      <td>158030614946259441261075930300714991771</td>\n",
       "      <td>1.018663</td>\n",
       "      <td>0.893401</td>\n",
       "      <td>0.298566</td>\n",
       "    </tr>\n",
       "  </tbody>\n",
       "</table>\n",
       "<p>1024 rows × 4 columns</p>\n",
       "</div>"
      ],
      "text/plain": [
       "                                                        seed  w_wr_ratio  \\\n",
       "sample_id iteration                                                        \n",
       "0         0          201127979187335725271791035746997099285    1.019027   \n",
       "          1          323839674617043970730054114000226751147    1.015267   \n",
       "1         0          110513033417182203854599292662408207467    1.024606   \n",
       "          1           27214224125703884466114982640814134766    1.028231   \n",
       "2         0           21265541589308886014445432220696059325    1.005736   \n",
       "...                                                      ...         ...   \n",
       "509       1          102218631291135076433582405430875501552    1.016878   \n",
       "510       0           36214964857578104884456857028549855447    1.036711   \n",
       "          1          113386646292148884636443058557192566592    1.007625   \n",
       "511       0          311370917880915171616748428855937439912    1.020409   \n",
       "          1          158030614946259441261075930300714991771    1.018663   \n",
       "\n",
       "                     nw_wr_ratio    wealth  \n",
       "sample_id iteration                         \n",
       "0         0             0.927258  0.319851  \n",
       "          1             0.895538  0.215841  \n",
       "1         0             0.902662  0.340275  \n",
       "          1             0.880421  0.285859  \n",
       "2         0             0.910559  0.312651  \n",
       "...                          ...       ...  \n",
       "509       1             0.893652  0.307179  \n",
       "510       0             0.873279  0.233348  \n",
       "          1             0.888891  0.309217  \n",
       "511       0             0.924633  0.286675  \n",
       "          1             0.893401  0.298566  \n",
       "\n",
       "[1024 rows x 4 columns]"
      ]
     },
     "execution_count": 184,
     "metadata": {},
     "output_type": "execute_result"
    }
   ],
   "source": [
    "results['reporters']"
   ]
  },
  {
   "cell_type": "code",
   "execution_count": 164,
   "metadata": {},
   "outputs": [
    {
     "data": {
      "text/html": [
       "<div>\n",
       "<style scoped>\n",
       "    .dataframe tbody tr th:only-of-type {\n",
       "        vertical-align: middle;\n",
       "    }\n",
       "\n",
       "    .dataframe tbody tr th {\n",
       "        vertical-align: top;\n",
       "    }\n",
       "\n",
       "    .dataframe thead th {\n",
       "        text-align: right;\n",
       "    }\n",
       "</style>\n",
       "<table border=\"1\" class=\"dataframe\">\n",
       "  <thead>\n",
       "    <tr style=\"text-align: right;\">\n",
       "      <th></th>\n",
       "      <th></th>\n",
       "      <th>S1</th>\n",
       "      <th>ST</th>\n",
       "    </tr>\n",
       "    <tr>\n",
       "      <th>reporter</th>\n",
       "      <th>parameter</th>\n",
       "      <th></th>\n",
       "      <th></th>\n",
       "    </tr>\n",
       "  </thead>\n",
       "  <tbody>\n",
       "    <tr>\n",
       "      <th rowspan=\"2\" valign=\"top\">w_wr_ratio</th>\n",
       "      <th>agents</th>\n",
       "      <td>-0.359288</td>\n",
       "      <td>1.114783</td>\n",
       "    </tr>\n",
       "    <tr>\n",
       "      <th>conviction_rate</th>\n",
       "      <td>0.098686</td>\n",
       "      <td>1.021505</td>\n",
       "    </tr>\n",
       "    <tr>\n",
       "      <th rowspan=\"2\" valign=\"top\">nw_wr_ratio</th>\n",
       "      <th>agents</th>\n",
       "      <td>-0.180902</td>\n",
       "      <td>0.996466</td>\n",
       "    </tr>\n",
       "    <tr>\n",
       "      <th>conviction_rate</th>\n",
       "      <td>-0.314714</td>\n",
       "      <td>1.020276</td>\n",
       "    </tr>\n",
       "  </tbody>\n",
       "</table>\n",
       "</div>"
      ],
      "text/plain": [
       "                                   S1        ST\n",
       "reporter    parameter                          \n",
       "w_wr_ratio  agents          -0.359288  1.114783\n",
       "            conviction_rate  0.098686  1.021505\n",
       "nw_wr_ratio agents          -0.180902  0.996466\n",
       "            conviction_rate -0.314714  1.020276"
      ]
     },
     "execution_count": 164,
     "metadata": {},
     "output_type": "execute_result"
    }
   ],
   "source": [
    "si_list = results.sensitivity.sobol.groupby(by='reporter')\n",
    "si_conf_list = results.sensitivity.sobol_conf.groupby(by='reporter')\n",
    "results.sensitivity.sobol"
   ]
  },
  {
   "cell_type": "markdown",
   "metadata": {
    "raw_mimetype": "text/restructuredtext"
   },
   "source": [
    "This adds a new category `sensitivity` to our results, which includes:\n",
    "\n",
    "- :attr:`sobol` returns first-order sobol sensitivity indices\n",
    "- :attr:`sobol_conf` returns confidence ranges for the above indices\n",
    "\n",
    "We can use pandas to create a bar plot that visualizes these sensitivity indices."
   ]
  },
  {
   "cell_type": "code",
   "execution_count": 165,
   "metadata": {},
   "outputs": [
    {
     "name": "stdout",
     "output_type": "stream",
     "text": [
      "                                   S1        ST\n",
      "reporter    parameter                          \n",
      "nw_wr_ratio agents          -0.180902  0.996466\n",
      "            conviction_rate -0.314714  1.020276\n",
      "                       S1        ST\n",
      "parameter                          \n",
      "agents          -0.180902  0.996466\n",
      "conviction_rate -0.314714  1.020276\n",
      "                                  S1        ST\n",
      "reporter   parameter                          \n",
      "w_wr_ratio agents          -0.359288  1.114783\n",
      "           conviction_rate  0.098686  1.021505\n",
      "                       S1        ST\n",
      "parameter                          \n",
      "agents          -0.359288  1.114783\n",
      "conviction_rate  0.098686  1.021505\n"
     ]
    },
    {
     "data": {
      "image/png": "[encoded data removed]",
      "text/plain": [
       "<Figure size 800x400 with 2 Axes>"
      ]
     },
     "metadata": {},
     "output_type": "display_data"
    }
   ],
   "source": [
    "def plot_sobol(results):\n",
    "    \"\"\" Bar plot of Sobol sensitivity indices. \"\"\"\n",
    "    \n",
    "    sns.set()\n",
    "    fig, axs = plt.subplots(1, 2, figsize=(8, 4))\n",
    "    si_list = results.sensitivity.sobol.groupby(by='reporter')\n",
    "    si_conf_list = results.sensitivity.sobol_conf.groupby(by='reporter')\n",
    "\n",
    "    for (key, si), (_, err), ax in zip(si_list, si_conf_list, axs):\n",
    "        print(si)\n",
    "        si = si.droplevel('reporter')\n",
    "        print(si)\n",
    "        err = err.droplevel('reporter')\n",
    "        si.plot.barh(xerr=err, title=key, ax=ax, capsize = 3)\n",
    "        ax.set_xlim(0)\n",
    "    \n",
    "    axs[0].get_legend().remove()\n",
    "    axs[1].set(ylabel=None, yticklabels=[]) \n",
    "    axs[1].tick_params(left=False)\n",
    "    plt.tight_layout()\n",
    "    \n",
    "plot_sobol(results)"
   ]
  },
  {
   "cell_type": "markdown",
   "metadata": {},
   "source": [
    "Alternatively, we can also display sensitivities by plotting \n",
    "average evaluation measures over our parameter variations. "
   ]
  },
  {
   "cell_type": "code",
   "execution_count": 205,
   "metadata": {},
   "outputs": [
    {
     "data": {
      "image/png": "[encoded data removed]",
      "text/plain": [
       "<Figure size 800x800 with 4 Axes>"
      ]
     },
     "metadata": {},
     "output_type": "display_data"
    }
   ],
   "source": [
    "def plot_sensitivity(results):\n",
    "    \"\"\" Show average simulation results for different parameter values. \"\"\"\n",
    "    \n",
    "    sns.set()\n",
    "    fig, axs = plt.subplots(2, 2, figsize=(8, 8))\n",
    "    axs = [i for j in axs for i in j] # Flatten list\n",
    "    \n",
    "    data = results.arrange_reporters().astype('float')\n",
    "    params = results.parameters.sample.keys() \n",
    "    \n",
    "    for x, ax in zip(params, axs):\n",
    "        for y in results.reporters.columns:\n",
    "            sns.regplot(x=x, y=y, data=data, ax=ax, ci=99, \n",
    "                        x_bins=15, fit_reg=False, label=y)  \n",
    "        ax.set_ylim(0,1.5)\n",
    "        ax.set_ylabel('')\n",
    "        ax.legend()\n",
    "        \n",
    "    plt.tight_layout()\n",
    "\n",
    "plot_sensitivity(results)"
   ]
  }
 ],
 "metadata": {
  "kernelspec": {
   "display_name": "Python 3 (ipykernel)",
   "language": "python",
   "name": "python3"
  },
  "language_info": {
   "codemirror_mode": {
    "name": "ipython",
    "version": 3
   },
   "file_extension": ".py",
   "mimetype": "text/x-python",
   "name": "python",
   "nbconvert_exporter": "python",
   "pygments_lexer": "ipython3",
   "version": "3.10.9"
  }
 },
 "nbformat": 4,
 "nbformat_minor": 4
}
