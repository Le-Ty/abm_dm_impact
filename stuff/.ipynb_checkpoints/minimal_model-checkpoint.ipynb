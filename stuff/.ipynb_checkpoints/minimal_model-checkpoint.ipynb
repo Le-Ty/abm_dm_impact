{
 "cells": [
  {
   "cell_type": "markdown",
   "metadata": {},
   "source": [
    "# Minimal Model"
   ]
  },
  {
   "cell_type": "markdown",
   "metadata": {},
   "source": [
    "This notebook presents an agent-based model that simulates the propagation of a disease through a network.\n",
    "It demonstrates how to use the [agentpy](https://agentpy.readthedocs.io) package to create and visualize networks, use the interactive module, and perform different types of sensitivity analysis. "
   ]
  },
  {
   "cell_type": "code",
   "execution_count": 2,
   "metadata": {},
   "outputs": [],
   "source": [
    "# Model design\n",
    "import agentpy as ap\n",
    "import networkx as nx \n",
    "import random \n",
    "import numpy as np\n",
    "\n",
    "# Visualization\n",
    "import matplotlib.pyplot as plt \n",
    "import seaborn as sns\n",
    "import IPython"
   ]
  },
  {
   "cell_type": "markdown",
   "metadata": {},
   "source": [
    "## About the model\n",
    "\n",
    "The agents of this model are people, which can be in one of the following three conditions: susceptible to the disease (S), infected (I), or recovered (R). The agents are connected to each other through a small-world network of peers. At every time-step, infected agents can infect their peers or recover from the disease based on random chance."
   ]
  },
  {
   "cell_type": "markdown",
   "metadata": {},
   "source": [
    "## Defining the model"
   ]
  },
  {
   "cell_type": "markdown",
   "metadata": {
    "raw_mimetype": "text/restructuredtext"
   },
   "source": [
    "We define a new agent type :class:`Person` by creating a subclass of :class:`Agent`.\n",
    "This agent has two methods: :func:`setup` will be called automatically at the agent's creation,\n",
    "and :func:`being_sick` will be called by the :func:`Model.step` function.\n",
    "Three tools are used within this class:\n",
    "\n",
    "- :attr:`Agent.p` returns the parameters of the model\n",
    "- :func:`Agent.neighbors` returns a list of the agents' peers in the network\n",
    "- :func:`random.random` returns a uniform random draw between 0 and 1\n",
    "\n",
    "wealth by race https://www.federalreserve.gov/econres/notes/feds-notes/disparities-in-wealth-by-race-and-ethnicity-in-the-2019-survey-of-consumer-finances-20200928.html\n",
    "\n",
    "rank for the US:\n",
    "https://www.federalreserve.gov/econres/notes/feds-notes/wealth-inequality-and-the-racial-wealth-gap-accessible-20211022.htm#fig3\n"
   ]
  },
  {
   "cell_type": "code",
   "execution_count": 3,
   "metadata": {
    "scrolled": true
   },
   "outputs": [
    {
     "data": {
      "image/png": "[encoded data removed]",
      "text/plain": [
       "<Figure size 640x480 with 1 Axes>"
      ]
     },
     "metadata": {},
     "output_type": "display_data"
    }
   ],
   "source": [
    "import matplotlib.pyplot as plt\n",
    "\n",
    "values = plt.hist(np.random.beta(1.5, 5, 10000),\n",
    "\n",
    "                  bins=200, density=True)\n",
    "\n",
    "plt.show()"
   ]
  },
  {
   "cell_type": "code",
   "execution_count": 4,
   "metadata": {},
   "outputs": [
    {
     "data": {
      "image/png": "[encoded data removed]",
      "text/plain": [
       "<Figure size 640x480 with 1 Axes>"
      ]
     },
     "metadata": {},
     "output_type": "display_data"
    }
   ],
   "source": [
    "import matplotlib.pyplot as plt\n",
    "\n",
    "values = plt.hist(np.random.beta(5, 3, 10000),\n",
    "\n",
    "                  bins=200, density=True)\n",
    "\n",
    "plt.show()"
   ]
  },
  {
   "cell_type": "code",
   "execution_count": 154,
   "metadata": {},
   "outputs": [],
   "source": [
    "class Person(ap.Agent):\n",
    "    \n",
    "    def setup(self):  \n",
    "        \"\"\" Initialize a new variable at agent creation. \"\"\"\n",
    "        # self.condition = 0  # Susceptible = 0, Infected = 1, Recovered = 2\n",
    "        a = 5 # shape\n",
    "        rng = np.random.default_rng()\n",
    "        \n",
    "        \n",
    "        # race\n",
    "        self.race =  rng.binomial(1,0.2)#binary not white0.2 /  white for the moment 0.8\n",
    "        \n",
    "        if self.race == 0:\n",
    "            self.wealth = rng.beta(1.5, 5,1)[0]\n",
    "        else:\n",
    "            self.wealth = rng.beta(5, 3,1)[0]\n",
    "            \n",
    "\n",
    "        # fraud\n",
    "        self.fraud = rng.binomial(1,0.5,1)[0]\n",
    "        self.fraud_pred = -1\n",
    "        self.convicted = 0\n",
    "#         self.crim_rec = 0\n",
    "        \n",
    "#         self.job =  rng.binomial(1, 0.25 + 0.5*self.wealth,1)\n",
    "\n",
    "\n",
    "#     def being_sick(self):\n",
    "#         \"\"\" Spread disease to peers in the network. \"\"\"\n",
    "#         rng = self.model.random\n",
    "#         for n in self.network.neighbors(self):\n",
    "#             if n.condition == 0 and self.p.infection_chance > rng.random():\n",
    "#                 n.condition = 1  # Infect susceptible peer\n",
    "#         if self.p.recovery_chance > rng.random():\n",
    "#             self.condition = 2  # Recover from infection\n",
    "        \n",
    "    def fraud_algo(self):\n",
    "        \"\"\" DM mechanism can also be ML\"\"\"\n",
    "        rng = np.random.default_rng()\n",
    "        # self.fraud_pred = rng.binomial(1, 0.5)\n",
    "        if self.fraud == 1:\n",
    "            fraud_cor = rng.binomial(1,self.p.acc)\n",
    "        else:\n",
    "            fraud_cor = rng.binomial(1,1-self.p.acc)\n",
    "            \n",
    "        self.fraud_pred = rng.binomial(1, fraud_cor*(0.8-self.p.wealth_appeal_corr))\n",
    "        \n",
    "\n",
    "    def appeal(self):\n",
    "        \"\"\"Possibility to Appeal to Fraud Algo Decision\"\"\"\n",
    "        rng = np.random.default_rng()\n",
    "#         print('bye')\n",
    "        if self.fraud_pred == 1 and self.wealth > self.p.appeal_wealth:\n",
    "            self.fraud_algo()\n",
    "            # self.fraud_pred = rng.binomial(1, 0.4)\n",
    "            \n",
    "    def convict(self):\n",
    "        \"\"\" Conviction and Consequences\"\"\"\n",
    "        rng = np.random.default_rng()\n",
    "        if self.fraud_pred == 1:\n",
    "            if rng.binomial(1,0.8) == 1:\n",
    "                # pay fine, get on record, \n",
    "                self.wealth = self.wealth - np.max([0.01,(self.wealth*0.05)])\n",
    "                self.convicted =+ 1\n",
    "                self.fraud = rng.binomial(1,0.5,1)[0]\n",
    "                self.fraud_pred = 0\n",
    "    \n",
    "    def wealth_grow(self):\n",
    "        self.wealth = min(1,self.wealth+pow(self.wealth,2)*0.01)\n",
    "            \n",
    "            \n",
    "        \n",
    "\n",
    "\n",
    "#     def step(self):\n",
    "#         # The agent's step will go here.\n",
    "#         # For demonstration purposes we will print the agent's unique_id\n",
    "#         self.appeal()\n",
    "#         print(\"Hi, I am agent \" + str(self.unique_id) + \".\")\n",
    "#         # print(\"my wealth, job, fraud, fraud_pred is:\" + str(self.wealth)+ str(self.job) + str(self.fraud)+ str(self.fraud_pred))"
   ]
  },
  {
   "cell_type": "markdown",
   "metadata": {
    "raw_mimetype": "text/restructuredtext"
   },
   "source": [
    "Next, we define our model :class:`VirusModel` by creating a subclass of :class:`Model`.\n",
    "The four methods of this class will be called automatically at different steps of the simulation,\n",
    "as described in :ref:`overview_simulation`."
   ]
  },
  {
   "cell_type": "code",
   "execution_count": 155,
   "metadata": {},
   "outputs": [],
   "source": [
    "class VirusModel(ap.Model):\n",
    "    \n",
    "    def setup(self): #before\n",
    "        \"\"\" Initialize the agents and network of the model. \"\"\"\n",
    "        \n",
    "#         # Prepare a small-world network\n",
    "#         graph = nx.watts_strogatz_graph(\n",
    "#             self.p.population, \n",
    "#             self.p.number_of_neighbors, \n",
    "#             self.p.network_randomness)\n",
    "        \n",
    "#         # Create agents and network\n",
    "        self.agents = ap.AgentList(self, self.p.agents, Person)\n",
    "    \n",
    "        self.w_wealth_t0 = sum((self.agents.select(self.agents.race == 1)).wealth) / len((self.agents.select(self.agents.race == 1)))\n",
    "        self.nw_wealth_t0 = sum((self.agents.select(self.agents.race == 0)).wealth) / len((self.agents.select(self.agents.race == 0)))\n",
    "    \n",
    "#         self.network = self.agents.network = ap.Network(self, graph)\n",
    "#         self.network.add_agents(self.agents, self.network.nodes)\n",
    "        \n",
    "#         # Infect a random share of the population\n",
    "#         I0 = int(self.p.initial_infection_share * self.p.population)\n",
    "#         self.agents.random(I0).condition = 1 \n",
    "\n",
    "    def step(self): # during each step\n",
    "        \"\"\" Define the models' events per simulation step. \"\"\"\n",
    "        self.agents.fraud_algo()\n",
    "        self.agents.appeal()\n",
    "        self.agents.convict()\n",
    "        self.agents.wealth_grow()\n",
    "        \n",
    "#         # Call 'being_sick' for infected agents\n",
    "#         self.agents.select(self.agents.condition == 1).being_sick()\n",
    "\n",
    "\n",
    "    def update(self):  # after each step\n",
    "        \"\"\" Record variables after setup and each step. \"\"\"\n",
    "        self.agents.record('wealth')\n",
    "        self.agents.record('fraud_pred')\n",
    "        self.agents.record('fraud')\n",
    "        self.agents.record('race')\n",
    "        \n",
    "#         # Record share of agents with each condition\n",
    "#         for i, c in enumerate(('S', 'I', 'R')):\n",
    "#             n_agents = len(self.agents.select(self.agents.condition == i))\n",
    "#             self[c] = n_agents / self.p.population \n",
    "#             self.record(c)\n",
    "        \n",
    "#         # Stop simulation if disease is gone\n",
    "#         if self.I == 0:\n",
    "#             self.stop()\n",
    "        \n",
    "    \n",
    "    def end(self):     \n",
    "        \"\"\" Record evaluation measures at the end of the simulation. \"\"\"\n",
    "#         self.report('wealth', self.agents.wealth)\n",
    "#         self.report('race', self.agents.race)\n",
    "#         self.report('my_measure', 1)\n",
    "        \n",
    "        # record race wealth ratio \n",
    "        \n",
    "        w_wealth_tn = sum((self.agents.select(self.agents.race == 1)).wealth) / len((self.agents.select(self.agents.race == 1)))\n",
    "        nw_wealth_tn = sum((self.agents.select(self.agents.race == 0)).wealth) / len((self.agents.select(self.agents.race == 0)))\n",
    "        \n",
    "        w_wr_ratio = w_wealth_tn/self.w_wealth_t0\n",
    "        nw_wr_ratio = nw_wealth_tn/self.nw_wealth_t0\n",
    "        \n",
    "        self.report('w_wr_ratio', w_wr_ratio)\n",
    "        self.report('nw_wr_ratio', nw_wr_ratio)\n",
    "            \n",
    "        \n",
    "        \n",
    "#         # Record final evaluation measures\n",
    "#         self.report('Total share infected', self.I + self.R) \n",
    "#         self.report('Peak share infected', max(self.log['I']))"
   ]
  },
  {
   "cell_type": "markdown",
   "metadata": {},
   "source": [
    "## Running a simulation"
   ]
  },
  {
   "cell_type": "markdown",
   "metadata": {
    "raw_mimetype": "text/restructuredtext"
   },
   "source": [
    "To run our model, we define a dictionary with our parameters. \n",
    "We then create a new instance of our model, passing the parameters as an argument, \n",
    "and use the method :func:`Model.run` to perform the simulation and return it's output. "
   ]
  },
  {
   "cell_type": "code",
   "execution_count": 157,
   "metadata": {},
   "outputs": [
    {
     "name": "stdout",
     "output_type": "stream",
     "text": [
      "Completed: 100 steps\n",
      "Run time: 0:00:03.340310\n",
      "Simulation finished\n"
     ]
    },
    {
     "data": {
      "image/png": "[encoded data removed]",
      "text/plain": [
       "<Figure size 640x480 with 1 Axes>"
      ]
     },
     "metadata": {},
     "output_type": "display_data"
    }
   ],
   "source": [
    "# parameters = {  \n",
    "#     'population': 1000,\n",
    "#     'infection_chance': 0.3,\n",
    "#     'recovery_chance': 0.1,\n",
    "#     'initial_infection_share': 0.1,\n",
    "#     'number_of_neighbors': 2,\n",
    "#     'network_randomness': 0.5   \n",
    "# }\n",
    "parameters = {\n",
    "    'my_parameter':42,\n",
    "    'agents':1000,\n",
    "    'steps':100,\n",
    "    'wealth_appeal_corr': 0, # >0 more wealth higher appeal chance\n",
    "    'acc': 0.8, # accuracy of fraud prdediction\n",
    "    'appeal_wealth': 0.2 # minimal wealth needed for appeal (could also become a param for distr. eventually)\n",
    "    #'wealth_impact'\n",
    "    \n",
    "}\n",
    "\n",
    "model = VirusModel(parameters)\n",
    "results = model.run() \n",
    "\n",
    "df = results['variables']['Person']\n",
    "fig, ax = plt.subplots()\n",
    "\n",
    "sns.lineplot(ax = ax,\n",
    "             data = df,\n",
    "             x = df.index.get_level_values('t'),\n",
    "             y = df['wealth'].astype(float),\n",
    "             hue = df['race'],\n",
    "             marker = 'o')\n",
    "\n",
    "plt.show()"
   ]
  },
  {
   "cell_type": "markdown",
   "metadata": {},
   "source": [
    "## Analyzing results"
   ]
  },
  {
   "cell_type": "markdown",
   "metadata": {
    "raw_mimetype": "text/restructuredtext"
   },
   "source": [
    "The simulation returns a :class:`DataDict` of recorded data with dataframes:"
   ]
  },
  {
   "cell_type": "code",
   "execution_count": 67,
   "metadata": {
    "scrolled": true
   },
   "outputs": [
    {
     "data": {
      "text/html": [
       "<div>\n",
       "<style scoped>\n",
       "    .dataframe tbody tr th:only-of-type {\n",
       "        vertical-align: middle;\n",
       "    }\n",
       "\n",
       "    .dataframe tbody tr th {\n",
       "        vertical-align: top;\n",
       "    }\n",
       "\n",
       "    .dataframe thead th {\n",
       "        text-align: right;\n",
       "    }\n",
       "</style>\n",
       "<table border=\"1\" class=\"dataframe\">\n",
       "  <thead>\n",
       "    <tr style=\"text-align: right;\">\n",
       "      <th></th>\n",
       "      <th></th>\n",
       "      <th>seed</th>\n",
       "      <th>w_wr_ratio</th>\n",
       "      <th>nw_wr_ratio</th>\n",
       "    </tr>\n",
       "    <tr>\n",
       "      <th>sample_id</th>\n",
       "      <th>iteration</th>\n",
       "      <th></th>\n",
       "      <th></th>\n",
       "      <th></th>\n",
       "    </tr>\n",
       "  </thead>\n",
       "  <tbody>\n",
       "    <tr>\n",
       "      <th rowspan=\"2\" valign=\"top\">0</th>\n",
       "      <th>0</th>\n",
       "      <td>171693872274590416946117554234160908145</td>\n",
       "      <td>0.375431</td>\n",
       "      <td>-0.082579</td>\n",
       "    </tr>\n",
       "    <tr>\n",
       "      <th>1</th>\n",
       "      <td>300716288336997743374459220219216946912</td>\n",
       "      <td>0.066482</td>\n",
       "      <td>-0.244271</td>\n",
       "    </tr>\n",
       "    <tr>\n",
       "      <th rowspan=\"2\" valign=\"top\">1</th>\n",
       "      <th>0</th>\n",
       "      <td>296670172927493729536387749483532264946</td>\n",
       "      <td>0.029642</td>\n",
       "      <td>-0.015495</td>\n",
       "    </tr>\n",
       "    <tr>\n",
       "      <th>1</th>\n",
       "      <td>236312982436161056234213376242156179742</td>\n",
       "      <td>0.009051</td>\n",
       "      <td>-0.078016</td>\n",
       "    </tr>\n",
       "    <tr>\n",
       "      <th>2</th>\n",
       "      <th>0</th>\n",
       "      <td>326845165394838089920607134923577842627</td>\n",
       "      <td>0.121785</td>\n",
       "      <td>-0.258347</td>\n",
       "    </tr>\n",
       "    <tr>\n",
       "      <th>...</th>\n",
       "      <th>...</th>\n",
       "      <td>...</td>\n",
       "      <td>...</td>\n",
       "      <td>...</td>\n",
       "    </tr>\n",
       "    <tr>\n",
       "      <th>637</th>\n",
       "      <th>1</th>\n",
       "      <td>136113823984807493442224778083282976042</td>\n",
       "      <td>0.126035</td>\n",
       "      <td>0.002046</td>\n",
       "    </tr>\n",
       "    <tr>\n",
       "      <th rowspan=\"2\" valign=\"top\">638</th>\n",
       "      <th>0</th>\n",
       "      <td>88116241720285879024448977232935081383</td>\n",
       "      <td>0.527594</td>\n",
       "      <td>0.210986</td>\n",
       "    </tr>\n",
       "    <tr>\n",
       "      <th>1</th>\n",
       "      <td>255122489997752077236464487350380128281</td>\n",
       "      <td>0.180542</td>\n",
       "      <td>0.007666</td>\n",
       "    </tr>\n",
       "    <tr>\n",
       "      <th rowspan=\"2\" valign=\"top\">639</th>\n",
       "      <th>0</th>\n",
       "      <td>134415929190259068624427479041270665820</td>\n",
       "      <td>0.303637</td>\n",
       "      <td>-0.155199</td>\n",
       "    </tr>\n",
       "    <tr>\n",
       "      <th>1</th>\n",
       "      <td>217401030509247904692628084593752779530</td>\n",
       "      <td>0.056588</td>\n",
       "      <td>0.049204</td>\n",
       "    </tr>\n",
       "  </tbody>\n",
       "</table>\n",
       "<p>1280 rows × 3 columns</p>\n",
       "</div>"
      ],
      "text/plain": [
       "                                                        seed  w_wr_ratio  \\\n",
       "sample_id iteration                                                        \n",
       "0         0          171693872274590416946117554234160908145    0.375431   \n",
       "          1          300716288336997743374459220219216946912    0.066482   \n",
       "1         0          296670172927493729536387749483532264946    0.029642   \n",
       "          1          236312982436161056234213376242156179742    0.009051   \n",
       "2         0          326845165394838089920607134923577842627    0.121785   \n",
       "...                                                      ...         ...   \n",
       "637       1          136113823984807493442224778083282976042    0.126035   \n",
       "638       0           88116241720285879024448977232935081383    0.527594   \n",
       "          1          255122489997752077236464487350380128281    0.180542   \n",
       "639       0          134415929190259068624427479041270665820    0.303637   \n",
       "          1          217401030509247904692628084593752779530    0.056588   \n",
       "\n",
       "                     nw_wr_ratio  \n",
       "sample_id iteration               \n",
       "0         0            -0.082579  \n",
       "          1            -0.244271  \n",
       "1         0            -0.015495  \n",
       "          1            -0.078016  \n",
       "2         0            -0.258347  \n",
       "...                          ...  \n",
       "637       1             0.002046  \n",
       "638       0             0.210986  \n",
       "          1             0.007666  \n",
       "639       0            -0.155199  \n",
       "          1             0.049204  \n",
       "\n",
       "[1280 rows x 3 columns]"
      ]
     },
     "execution_count": 67,
     "metadata": {},
     "output_type": "execute_result"
    }
   ],
   "source": [
    "a =results['reporters']\n",
    "a"
   ]
  },
  {
   "cell_type": "code",
   "execution_count": 9,
   "metadata": {},
   "outputs": [],
   "source": [
    "# a[\"wealth\"].index"
   ]
  },
  {
   "cell_type": "code",
   "execution_count": 193,
   "metadata": {},
   "outputs": [
    {
     "data": {
      "text/html": [
       "<div>\n",
       "<style scoped>\n",
       "    .dataframe tbody tr th:only-of-type {\n",
       "        vertical-align: middle;\n",
       "    }\n",
       "\n",
       "    .dataframe tbody tr th {\n",
       "        vertical-align: top;\n",
       "    }\n",
       "\n",
       "    .dataframe thead th {\n",
       "        text-align: right;\n",
       "    }\n",
       "</style>\n",
       "<table border=\"1\" class=\"dataframe\">\n",
       "  <thead>\n",
       "    <tr style=\"text-align: right;\">\n",
       "      <th></th>\n",
       "      <th></th>\n",
       "      <th></th>\n",
       "      <th></th>\n",
       "      <th>wealth</th>\n",
       "      <th>fraud_pred</th>\n",
       "      <th>fraud</th>\n",
       "      <th>race</th>\n",
       "    </tr>\n",
       "    <tr>\n",
       "      <th>sample_id</th>\n",
       "      <th>iteration</th>\n",
       "      <th>obj_id</th>\n",
       "      <th>t</th>\n",
       "      <th></th>\n",
       "      <th></th>\n",
       "      <th></th>\n",
       "      <th></th>\n",
       "    </tr>\n",
       "  </thead>\n",
       "  <tbody>\n",
       "    <tr>\n",
       "      <th rowspan=\"5\" valign=\"top\">0</th>\n",
       "      <th rowspan=\"5\" valign=\"top\">0</th>\n",
       "      <th rowspan=\"5\" valign=\"top\">1</th>\n",
       "      <th>0</th>\n",
       "      <td>0.172036</td>\n",
       "      <td>-1</td>\n",
       "      <td>0</td>\n",
       "      <td>0</td>\n",
       "    </tr>\n",
       "    <tr>\n",
       "      <th>1</th>\n",
       "      <td>0.172332</td>\n",
       "      <td>0</td>\n",
       "      <td>0</td>\n",
       "      <td>0</td>\n",
       "    </tr>\n",
       "    <tr>\n",
       "      <th>2</th>\n",
       "      <td>0.162596</td>\n",
       "      <td>0</td>\n",
       "      <td>1</td>\n",
       "      <td>0</td>\n",
       "    </tr>\n",
       "    <tr>\n",
       "      <th>3</th>\n",
       "      <td>0.152829</td>\n",
       "      <td>0</td>\n",
       "      <td>1</td>\n",
       "      <td>0</td>\n",
       "    </tr>\n",
       "    <tr>\n",
       "      <th>4</th>\n",
       "      <td>0.153062</td>\n",
       "      <td>0</td>\n",
       "      <td>1</td>\n",
       "      <td>0</td>\n",
       "    </tr>\n",
       "    <tr>\n",
       "      <th>...</th>\n",
       "      <th>...</th>\n",
       "      <th>...</th>\n",
       "      <th>...</th>\n",
       "      <td>...</td>\n",
       "      <td>...</td>\n",
       "      <td>...</td>\n",
       "      <td>...</td>\n",
       "    </tr>\n",
       "    <tr>\n",
       "      <th rowspan=\"5\" valign=\"top\">639</th>\n",
       "      <th rowspan=\"5\" valign=\"top\">1</th>\n",
       "      <th rowspan=\"5\" valign=\"top\">107</th>\n",
       "      <th>6</th>\n",
       "      <td>0.219185</td>\n",
       "      <td>0</td>\n",
       "      <td>0</td>\n",
       "      <td>0</td>\n",
       "    </tr>\n",
       "    <tr>\n",
       "      <th>7</th>\n",
       "      <td>0.219665</td>\n",
       "      <td>0</td>\n",
       "      <td>0</td>\n",
       "      <td>0</td>\n",
       "    </tr>\n",
       "    <tr>\n",
       "      <th>8</th>\n",
       "      <td>0.220148</td>\n",
       "      <td>0</td>\n",
       "      <td>0</td>\n",
       "      <td>0</td>\n",
       "    </tr>\n",
       "    <tr>\n",
       "      <th>9</th>\n",
       "      <td>0.220633</td>\n",
       "      <td>0</td>\n",
       "      <td>0</td>\n",
       "      <td>0</td>\n",
       "    </tr>\n",
       "    <tr>\n",
       "      <th>10</th>\n",
       "      <td>0.221119</td>\n",
       "      <td>0</td>\n",
       "      <td>0</td>\n",
       "      <td>0</td>\n",
       "    </tr>\n",
       "  </tbody>\n",
       "</table>\n",
       "<p>1408000 rows × 4 columns</p>\n",
       "</div>"
      ],
      "text/plain": [
       "                                 wealth  fraud_pred  fraud  race\n",
       "sample_id iteration obj_id t                                    \n",
       "0         0         1      0   0.172036          -1      0     0\n",
       "                           1   0.172332           0      0     0\n",
       "                           2   0.162596           0      1     0\n",
       "                           3   0.152829           0      1     0\n",
       "                           4   0.153062           0      1     0\n",
       "...                                 ...         ...    ...   ...\n",
       "639       1         107    6   0.219185           0      0     0\n",
       "                           7   0.219665           0      0     0\n",
       "                           8   0.220148           0      0     0\n",
       "                           9   0.220633           0      0     0\n",
       "                           10  0.221119           0      0     0\n",
       "\n",
       "[1408000 rows x 4 columns]"
      ]
     },
     "execution_count": 193,
     "metadata": {},
     "output_type": "execute_result"
    }
   ],
   "source": [
    "df = results['variables']['Person']\n",
    "df"
   ]
  },
  {
   "cell_type": "code",
   "execution_count": 194,
   "metadata": {},
   "outputs": [
    {
     "data": {
      "image/png": "[encoded data removed]",
      "text/plain": [
       "<Figure size 640x480 with 1 Axes>"
      ]
     },
     "metadata": {},
     "output_type": "display_data"
    }
   ],
   "source": [
    "df = results['variables']['Person']\n",
    "fig, ax = plt.subplots()\n",
    "\n",
    "sns.lineplot(ax = ax,\n",
    "             data = df,\n",
    "             x = df.index.get_level_values('t'),\n",
    "             y = df['wealth'].astype(float),\n",
    "             hue = df['race'],\n",
    "             marker = 'o')\n",
    "\n",
    "plt.show()"
   ]
  },
  {
   "cell_type": "code",
   "execution_count": null,
   "metadata": {},
   "outputs": [],
   "source": []
  },
  {
   "cell_type": "markdown",
   "metadata": {
    "raw_mimetype": "text/restructuredtext"
   },
   "source": [
    "To visualize the evolution of our variables over time, we create a plot function."
   ]
  },
  {
   "cell_type": "code",
   "execution_count": 12,
   "metadata": {},
   "outputs": [
    {
     "ename": "AttributeError",
     "evalue": "VirusModel",
     "output_type": "error",
     "traceback": [
      "\u001b[0;31m---------------------------------------------------------------------------\u001b[0m",
      "\u001b[0;31mKeyError\u001b[0m                                  Traceback (most recent call last)",
      "File \u001b[0;32m~/miniconda3/envs/ma/lib/python3.10/site-packages/agentpy/tools.py:87\u001b[0m, in \u001b[0;36mAttrDict.__getattr__\u001b[0;34m(self, name)\u001b[0m\n\u001b[1;32m     86\u001b[0m \u001b[38;5;28;01mtry\u001b[39;00m:\n\u001b[0;32m---> 87\u001b[0m     \u001b[38;5;28;01mreturn\u001b[39;00m \u001b[38;5;28;43mself\u001b[39;49m\u001b[38;5;241;43m.\u001b[39;49m\u001b[38;5;21;43m__getitem__\u001b[39;49m\u001b[43m(\u001b[49m\u001b[43mname\u001b[49m\u001b[43m)\u001b[49m\n\u001b[1;32m     88\u001b[0m \u001b[38;5;28;01mexcept\u001b[39;00m \u001b[38;5;167;01mKeyError\u001b[39;00m:\n\u001b[1;32m     89\u001b[0m     \u001b[38;5;66;03m# Important for pickle to work\u001b[39;00m\n",
      "\u001b[0;31mKeyError\u001b[0m: 'VirusModel'",
      "\nDuring handling of the above exception, another exception occurred:\n",
      "\u001b[0;31mAttributeError\u001b[0m                            Traceback (most recent call last)",
      "Cell \u001b[0;32mIn[12], line 17\u001b[0m\n\u001b[1;32m     14\u001b[0m     ax\u001b[38;5;241m.\u001b[39mset_ylabel(\u001b[38;5;124m\"\u001b[39m\u001b[38;5;124mPercentage of population\u001b[39m\u001b[38;5;124m\"\u001b[39m)\n\u001b[1;32m     16\u001b[0m fig, ax \u001b[38;5;241m=\u001b[39m plt\u001b[38;5;241m.\u001b[39msubplots()\n\u001b[0;32m---> 17\u001b[0m virus_stackplot(\u001b[43mresults\u001b[49m\u001b[38;5;241;43m.\u001b[39;49m\u001b[43mvariables\u001b[49m\u001b[38;5;241;43m.\u001b[39;49m\u001b[43mVirusModel\u001b[49m, ax)\n",
      "File \u001b[0;32m~/miniconda3/envs/ma/lib/python3.10/site-packages/agentpy/tools.py:90\u001b[0m, in \u001b[0;36mAttrDict.__getattr__\u001b[0;34m(self, name)\u001b[0m\n\u001b[1;32m     87\u001b[0m     \u001b[38;5;28;01mreturn\u001b[39;00m \u001b[38;5;28mself\u001b[39m\u001b[38;5;241m.\u001b[39m\u001b[38;5;21m__getitem__\u001b[39m(name)\n\u001b[1;32m     88\u001b[0m \u001b[38;5;28;01mexcept\u001b[39;00m \u001b[38;5;167;01mKeyError\u001b[39;00m:\n\u001b[1;32m     89\u001b[0m     \u001b[38;5;66;03m# Important for pickle to work\u001b[39;00m\n\u001b[0;32m---> 90\u001b[0m     \u001b[38;5;28;01mraise\u001b[39;00m \u001b[38;5;167;01mAttributeError\u001b[39;00m(name)\n",
      "\u001b[0;31mAttributeError\u001b[0m: VirusModel"
     ]
    },
    {
     "data": {
      "image/png": "[encoded data removed]",
      "text/plain": [
       "<Figure size 640x480 with 1 Axes>"
      ]
     },
     "metadata": {},
     "output_type": "display_data"
    }
   ],
   "source": [
    "def virus_stackplot(data, ax):\n",
    "    \"\"\" Stackplot of people's condition over time. \"\"\"\n",
    "    x = data.index.get_level_values('t')\n",
    "    y = [data[var] for var in ['I', 'S', 'R']]\n",
    "    \n",
    "    sns.set()\n",
    "    ax.stackplot(x, y, labels=['Infected', 'Susceptible', 'Recovered'],\n",
    "                 colors = ['r', 'b', 'g'])    \n",
    "    \n",
    "    ax.legend()\n",
    "    ax.set_xlim(0, max(1, len(x)-1))\n",
    "    ax.set_ylim(0, 1)\n",
    "    ax.set_xlabel(\"Time steps\")\n",
    "    ax.set_ylabel(\"Percentage of population\")\n",
    "\n",
    "fig, ax = plt.subplots()\n",
    "virus_stackplot(results.variables.VirusModel, ax)"
   ]
  },
  {
   "cell_type": "markdown",
   "metadata": {},
   "source": [
    "## Creating an animation"
   ]
  },
  {
   "cell_type": "markdown",
   "metadata": {
    "raw_mimetype": "text/restructuredtext"
   },
   "source": [
    "We can also animate the model's dynamics as follows.\n",
    "The function :func:`animation_plot` takes a model instance \n",
    "and displays the previous stackplot together with a network graph. \n",
    "The function :func:`animate` will call this plot\n",
    "function for every time-step and return an :class:`matplotlib.animation.Animation`."
   ]
  },
  {
   "cell_type": "code",
   "execution_count": null,
   "metadata": {},
   "outputs": [],
   "source": [
    "def animation_plot(m, axs):\n",
    "    ax1, ax2 = axs\n",
    "    ax1.set_title(\"Virus spread\")\n",
    "    ax2.set_title(f\"Share infected: {m.I}\")\n",
    "    \n",
    "    # Plot stackplot on first axis\n",
    "    virus_stackplot(m.output.variables.VirusModel, ax1)\n",
    "    \n",
    "    # Plot network on second axis\n",
    "    color_dict = {0:'b', 1:'r', 2:'g'}\n",
    "    colors = [color_dict[c] for c in m.agents.condition]\n",
    "    nx.draw_circular(m.network.graph, node_color=colors, \n",
    "                     node_size=50, ax=ax2)\n",
    "\n",
    "fig, axs = plt.subplots(1, 2, figsize=(8, 4)) # Prepare figure \n",
    "parameters['population'] = 50 # Lower population for better visibility \n",
    "animation = ap.animate(VirusModel(parameters), fig, axs, animation_plot)"
   ]
  },
  {
   "cell_type": "markdown",
   "metadata": {},
   "source": [
    "Using Jupyter, we can display this animation directly in our notebook."
   ]
  },
  {
   "cell_type": "code",
   "execution_count": null,
   "metadata": {},
   "outputs": [],
   "source": [
    "IPython.display.HTML(animation.to_jshtml()) "
   ]
  },
  {
   "cell_type": "markdown",
   "metadata": {},
   "source": [
    "## Multi-run experiment"
   ]
  },
  {
   "cell_type": "markdown",
   "metadata": {
    "raw_mimetype": "text/restructuredtext"
   },
   "source": [
    "To explore the effect of different parameter values, \n",
    "we use the classes :class:`Sample`, :class:`Range`, and :class:`IntRange`\n",
    "to create a sample of different parameter combinations.\n",
    "\n",
    "What I want is trying a bunch of "
   ]
  },
  {
   "cell_type": "code",
   "execution_count": 158,
   "metadata": {},
   "outputs": [],
   "source": [
    "# parameters = {\n",
    "#     'population': ap.IntRange(100, 1000),\n",
    "#     'infection_chance': ap.Range(0.1, 1.),\n",
    "#     'recovery_chance': ap.Range(0.1, 1.),\n",
    "#     'initial_infection_share': 0.1,\n",
    "#     'number_of_neighbors': 2,\n",
    "#     'network_randomness': ap.Range(0., 1.)\n",
    "# }\n",
    "# parameters = {  \n",
    "#     'population': 1000,\n",
    "#     'infection_chance': 0.3,\n",
    "#     'recovery_chance': 0.1,\n",
    "#     'initial_infection_share': 0.1,\n",
    "#     'number_of_neighbors': 2,\n",
    "#     'network_randomness': 0.5   \n",
    "# }\n",
    "\n",
    "parameters = {\n",
    "    'my_parameter':42,\n",
    "    'agents':ap.IntRange(50, 150),\n",
    "    'steps':10,\n",
    "    'wealth_appeal_corr': ap.Range(-0.2, 0.2), # >0 more wealth higher appeal chance\n",
    "    'acc': ap.Range(0.5, 0.8), # accuracy of fraud prdediction\n",
    "    'appeal_wealth': 0.2 # minimal wealth needed for appeal (could also become a param for distr. eventually)\n",
    "    #'wealth_impact'\n",
    "} \n",
    "\n",
    "sample = ap.Sample(\n",
    "    parameters, \n",
    "    n=128, \n",
    "    method='saltelli', \n",
    "    calc_second_order=False\n",
    ")"
   ]
  },
  {
   "cell_type": "markdown",
   "metadata": {
    "raw_mimetype": "text/restructuredtext"
   },
   "source": [
    "We then create an :class:`Experiment` that takes a model and sample as input.\n",
    ":func:`Experiment.run` runs our model repeatedly over the whole sample \n",
    "with ten random iterations per parameter combination."
   ]
  },
  {
   "cell_type": "code",
   "execution_count": 183,
   "metadata": {},
   "outputs": [
    {
     "name": "stdout",
     "output_type": "stream",
     "text": [
      "Scheduled runs: 1280\n",
      "Completed: 1280, estimated time remaining: 0:00:00\n",
      "Experiment finished\n",
      "Run time: 0:00:49.432930\n"
     ]
    }
   ],
   "source": [
    "exp = ap.Experiment(VirusModel, sample, iterations=2, record = True)\n",
    "results = exp.run()"
   ]
  },
  {
   "cell_type": "markdown",
   "metadata": {},
   "source": [
    "Optionally, we can save and load our results as follows:"
   ]
  },
  {
   "cell_type": "code",
   "execution_count": 184,
   "metadata": {},
   "outputs": [
    {
     "name": "stdout",
     "output_type": "stream",
     "text": [
      "Data saved to ap_output/VirusModel_9\n"
     ]
    }
   ],
   "source": [
    "results.save()"
   ]
  },
  {
   "cell_type": "code",
   "execution_count": 185,
   "metadata": {},
   "outputs": [
    {
     "name": "stdout",
     "output_type": "stream",
     "text": [
      "Loading from directory ap_output/VirusModel_9/\n",
      "Loading parameters_sample.csv - Successful\n",
      "Loading parameters_constants.json - Successful\n",
      "Loading reporters.csv - Successful\n",
      "Loading info.json - Successful\n",
      "Loading variables_Person.csv - Successful\n",
      "Loading parameters_log.json - Successful\n"
     ]
    }
   ],
   "source": [
    "results = ap.DataDict.load('VirusModel')"
   ]
  },
  {
   "cell_type": "code",
   "execution_count": 186,
   "metadata": {},
   "outputs": [
    {
     "data": {
      "text/html": [
       "<div>\n",
       "<style scoped>\n",
       "    .dataframe tbody tr th:only-of-type {\n",
       "        vertical-align: middle;\n",
       "    }\n",
       "\n",
       "    .dataframe tbody tr th {\n",
       "        vertical-align: top;\n",
       "    }\n",
       "\n",
       "    .dataframe thead th {\n",
       "        text-align: right;\n",
       "    }\n",
       "</style>\n",
       "<table border=\"1\" class=\"dataframe\">\n",
       "  <thead>\n",
       "    <tr style=\"text-align: right;\">\n",
       "      <th></th>\n",
       "      <th></th>\n",
       "      <th>seed</th>\n",
       "      <th>w_wr_ratio</th>\n",
       "      <th>nw_wr_ratio</th>\n",
       "    </tr>\n",
       "    <tr>\n",
       "      <th>sample_id</th>\n",
       "      <th>iteration</th>\n",
       "      <th></th>\n",
       "      <th></th>\n",
       "      <th></th>\n",
       "    </tr>\n",
       "  </thead>\n",
       "  <tbody>\n",
       "    <tr>\n",
       "      <th rowspan=\"2\" valign=\"top\">0</th>\n",
       "      <th>0</th>\n",
       "      <td>279701951157731131776818514243429580832</td>\n",
       "      <td>1.011930</td>\n",
       "      <td>0.869604</td>\n",
       "    </tr>\n",
       "    <tr>\n",
       "      <th>1</th>\n",
       "      <td>171092131886094625643394338857781442875</td>\n",
       "      <td>0.979167</td>\n",
       "      <td>0.923570</td>\n",
       "    </tr>\n",
       "    <tr>\n",
       "      <th rowspan=\"2\" valign=\"top\">1</th>\n",
       "      <th>0</th>\n",
       "      <td>92898589260260698211806605491694735533</td>\n",
       "      <td>0.996297</td>\n",
       "      <td>0.911715</td>\n",
       "    </tr>\n",
       "    <tr>\n",
       "      <th>1</th>\n",
       "      <td>162901249188527534808479688430543268298</td>\n",
       "      <td>0.989773</td>\n",
       "      <td>0.916680</td>\n",
       "    </tr>\n",
       "    <tr>\n",
       "      <th>2</th>\n",
       "      <th>0</th>\n",
       "      <td>227758326022822350402721323646709856248</td>\n",
       "      <td>0.988867</td>\n",
       "      <td>0.942885</td>\n",
       "    </tr>\n",
       "    <tr>\n",
       "      <th>...</th>\n",
       "      <th>...</th>\n",
       "      <td>...</td>\n",
       "      <td>...</td>\n",
       "      <td>...</td>\n",
       "    </tr>\n",
       "    <tr>\n",
       "      <th>637</th>\n",
       "      <th>1</th>\n",
       "      <td>179982798314234473818153331780059336077</td>\n",
       "      <td>1.021396</td>\n",
       "      <td>0.906122</td>\n",
       "    </tr>\n",
       "    <tr>\n",
       "      <th rowspan=\"2\" valign=\"top\">638</th>\n",
       "      <th>0</th>\n",
       "      <td>316181043737617747370667931192623098580</td>\n",
       "      <td>1.008296</td>\n",
       "      <td>0.970563</td>\n",
       "    </tr>\n",
       "    <tr>\n",
       "      <th>1</th>\n",
       "      <td>175926058543354181336672819878565108039</td>\n",
       "      <td>1.040949</td>\n",
       "      <td>0.946538</td>\n",
       "    </tr>\n",
       "    <tr>\n",
       "      <th rowspan=\"2\" valign=\"top\">639</th>\n",
       "      <th>0</th>\n",
       "      <td>77062607861786758937148829945058809883</td>\n",
       "      <td>1.004392</td>\n",
       "      <td>0.951968</td>\n",
       "    </tr>\n",
       "    <tr>\n",
       "      <th>1</th>\n",
       "      <td>183207415633593973495198180693833229024</td>\n",
       "      <td>1.005576</td>\n",
       "      <td>0.930312</td>\n",
       "    </tr>\n",
       "  </tbody>\n",
       "</table>\n",
       "<p>1280 rows × 3 columns</p>\n",
       "</div>"
      ],
      "text/plain": [
       "                                                        seed  w_wr_ratio  \\\n",
       "sample_id iteration                                                        \n",
       "0         0          279701951157731131776818514243429580832    1.011930   \n",
       "          1          171092131886094625643394338857781442875    0.979167   \n",
       "1         0           92898589260260698211806605491694735533    0.996297   \n",
       "          1          162901249188527534808479688430543268298    0.989773   \n",
       "2         0          227758326022822350402721323646709856248    0.988867   \n",
       "...                                                      ...         ...   \n",
       "637       1          179982798314234473818153331780059336077    1.021396   \n",
       "638       0          316181043737617747370667931192623098580    1.008296   \n",
       "          1          175926058543354181336672819878565108039    1.040949   \n",
       "639       0           77062607861786758937148829945058809883    1.004392   \n",
       "          1          183207415633593973495198180693833229024    1.005576   \n",
       "\n",
       "                     nw_wr_ratio  \n",
       "sample_id iteration               \n",
       "0         0             0.869604  \n",
       "          1             0.923570  \n",
       "1         0             0.911715  \n",
       "          1             0.916680  \n",
       "2         0             0.942885  \n",
       "...                          ...  \n",
       "637       1             0.906122  \n",
       "638       0             0.970563  \n",
       "          1             0.946538  \n",
       "639       0             0.951968  \n",
       "          1             0.930312  \n",
       "\n",
       "[1280 rows x 3 columns]"
      ]
     },
     "execution_count": 186,
     "metadata": {},
     "output_type": "execute_result"
    }
   ],
   "source": [
    "results['reporters']"
   ]
  },
  {
   "cell_type": "markdown",
   "metadata": {
    "raw_mimetype": "text/restructuredtext"
   },
   "source": [
    "The measures in our :class:`DataDict` now hold one row for each simulation run."
   ]
  },
  {
   "cell_type": "code",
   "execution_count": 58,
   "metadata": {},
   "outputs": [
    {
     "data": {
      "text/html": [
       "<div>\n",
       "<style scoped>\n",
       "    .dataframe tbody tr th:only-of-type {\n",
       "        vertical-align: middle;\n",
       "    }\n",
       "\n",
       "    .dataframe tbody tr th {\n",
       "        vertical-align: top;\n",
       "    }\n",
       "\n",
       "    .dataframe thead th {\n",
       "        text-align: right;\n",
       "    }\n",
       "</style>\n",
       "<table border=\"1\" class=\"dataframe\">\n",
       "  <thead>\n",
       "    <tr style=\"text-align: right;\">\n",
       "      <th></th>\n",
       "      <th>agents</th>\n",
       "      <th>wealth_appeal_corr</th>\n",
       "      <th>acc</th>\n",
       "    </tr>\n",
       "    <tr>\n",
       "      <th>sample_id</th>\n",
       "      <th></th>\n",
       "      <th></th>\n",
       "      <th></th>\n",
       "    </tr>\n",
       "  </thead>\n",
       "  <tbody>\n",
       "    <tr>\n",
       "      <th>0</th>\n",
       "      <td>51</td>\n",
       "      <td>-0.067187</td>\n",
       "      <td>0.587891</td>\n",
       "    </tr>\n",
       "    <tr>\n",
       "      <th>1</th>\n",
       "      <td>69</td>\n",
       "      <td>-0.067187</td>\n",
       "      <td>0.587891</td>\n",
       "    </tr>\n",
       "    <tr>\n",
       "      <th>2</th>\n",
       "      <td>51</td>\n",
       "      <td>0.160938</td>\n",
       "      <td>0.587891</td>\n",
       "    </tr>\n",
       "    <tr>\n",
       "      <th>3</th>\n",
       "      <td>51</td>\n",
       "      <td>-0.067187</td>\n",
       "      <td>0.702734</td>\n",
       "    </tr>\n",
       "    <tr>\n",
       "      <th>4</th>\n",
       "      <td>69</td>\n",
       "      <td>0.160938</td>\n",
       "      <td>0.702734</td>\n",
       "    </tr>\n",
       "    <tr>\n",
       "      <th>...</th>\n",
       "      <td>...</td>\n",
       "      <td>...</td>\n",
       "      <td>...</td>\n",
       "    </tr>\n",
       "    <tr>\n",
       "      <th>635</th>\n",
       "      <td>50</td>\n",
       "      <td>0.198437</td>\n",
       "      <td>0.730859</td>\n",
       "    </tr>\n",
       "    <tr>\n",
       "      <th>636</th>\n",
       "      <td>107</td>\n",
       "      <td>0.198437</td>\n",
       "      <td>0.730859</td>\n",
       "    </tr>\n",
       "    <tr>\n",
       "      <th>637</th>\n",
       "      <td>50</td>\n",
       "      <td>0.045312</td>\n",
       "      <td>0.730859</td>\n",
       "    </tr>\n",
       "    <tr>\n",
       "      <th>638</th>\n",
       "      <td>50</td>\n",
       "      <td>0.198437</td>\n",
       "      <td>0.794141</td>\n",
       "    </tr>\n",
       "    <tr>\n",
       "      <th>639</th>\n",
       "      <td>107</td>\n",
       "      <td>0.045312</td>\n",
       "      <td>0.794141</td>\n",
       "    </tr>\n",
       "  </tbody>\n",
       "</table>\n",
       "<p>640 rows × 3 columns</p>\n",
       "</div>"
      ],
      "text/plain": [
       "           agents  wealth_appeal_corr       acc\n",
       "sample_id                                      \n",
       "0              51           -0.067187  0.587891\n",
       "1              69           -0.067187  0.587891\n",
       "2              51            0.160938  0.587891\n",
       "3              51           -0.067187  0.702734\n",
       "4              69            0.160938  0.702734\n",
       "...           ...                 ...       ...\n",
       "635            50            0.198437  0.730859\n",
       "636           107            0.198437  0.730859\n",
       "637            50            0.045312  0.730859\n",
       "638            50            0.198437  0.794141\n",
       "639           107            0.045312  0.794141\n",
       "\n",
       "[640 rows x 3 columns]"
      ]
     },
     "execution_count": 58,
     "metadata": {},
     "output_type": "execute_result"
    }
   ],
   "source": [
    "a =results['parameters']['sample']\n",
    "a"
   ]
  },
  {
   "cell_type": "code",
   "execution_count": 167,
   "metadata": {},
   "outputs": [
    {
     "data": {
      "text/html": [
       "<div>\n",
       "<style scoped>\n",
       "    .dataframe tbody tr th:only-of-type {\n",
       "        vertical-align: middle;\n",
       "    }\n",
       "\n",
       "    .dataframe tbody tr th {\n",
       "        vertical-align: top;\n",
       "    }\n",
       "\n",
       "    .dataframe thead th {\n",
       "        text-align: right;\n",
       "    }\n",
       "</style>\n",
       "<table border=\"1\" class=\"dataframe\">\n",
       "  <thead>\n",
       "    <tr style=\"text-align: right;\">\n",
       "      <th></th>\n",
       "      <th></th>\n",
       "      <th>seed</th>\n",
       "      <th>w_wr_ratio</th>\n",
       "      <th>nw_wr_ratio</th>\n",
       "    </tr>\n",
       "    <tr>\n",
       "      <th>sample_id</th>\n",
       "      <th>iteration</th>\n",
       "      <th></th>\n",
       "      <th></th>\n",
       "      <th></th>\n",
       "    </tr>\n",
       "  </thead>\n",
       "  <tbody>\n",
       "    <tr>\n",
       "      <th rowspan=\"2\" valign=\"top\">0</th>\n",
       "      <th>0</th>\n",
       "      <td>321035696569074393900800902729492961571</td>\n",
       "      <td>0.990047</td>\n",
       "      <td>0.919253</td>\n",
       "    </tr>\n",
       "    <tr>\n",
       "      <th>1</th>\n",
       "      <td>287260272559001834646021956964071460488</td>\n",
       "      <td>1.022115</td>\n",
       "      <td>0.911062</td>\n",
       "    </tr>\n",
       "    <tr>\n",
       "      <th rowspan=\"2\" valign=\"top\">1</th>\n",
       "      <th>0</th>\n",
       "      <td>217728001674644233900148970347932507640</td>\n",
       "      <td>0.982531</td>\n",
       "      <td>0.882188</td>\n",
       "    </tr>\n",
       "    <tr>\n",
       "      <th>1</th>\n",
       "      <td>37743317432212200141540563100539870987</td>\n",
       "      <td>1.004077</td>\n",
       "      <td>0.875650</td>\n",
       "    </tr>\n",
       "    <tr>\n",
       "      <th>2</th>\n",
       "      <th>0</th>\n",
       "      <td>123727295008927407268207327782623180901</td>\n",
       "      <td>1.014940</td>\n",
       "      <td>0.964604</td>\n",
       "    </tr>\n",
       "    <tr>\n",
       "      <th>...</th>\n",
       "      <th>...</th>\n",
       "      <td>...</td>\n",
       "      <td>...</td>\n",
       "      <td>...</td>\n",
       "    </tr>\n",
       "    <tr>\n",
       "      <th>637</th>\n",
       "      <th>1</th>\n",
       "      <td>105240026411909621910299714156140543514</td>\n",
       "      <td>1.001287</td>\n",
       "      <td>0.908712</td>\n",
       "    </tr>\n",
       "    <tr>\n",
       "      <th rowspan=\"2\" valign=\"top\">638</th>\n",
       "      <th>0</th>\n",
       "      <td>164807450361973095883026908734308608851</td>\n",
       "      <td>1.071140</td>\n",
       "      <td>0.968312</td>\n",
       "    </tr>\n",
       "    <tr>\n",
       "      <th>1</th>\n",
       "      <td>143165048279318602524160049038863207148</td>\n",
       "      <td>1.059282</td>\n",
       "      <td>0.964643</td>\n",
       "    </tr>\n",
       "    <tr>\n",
       "      <th rowspan=\"2\" valign=\"top\">639</th>\n",
       "      <th>0</th>\n",
       "      <td>280528377157528057720635703567106563008</td>\n",
       "      <td>1.018483</td>\n",
       "      <td>0.963014</td>\n",
       "    </tr>\n",
       "    <tr>\n",
       "      <th>1</th>\n",
       "      <td>67786655756373883321028286078396635156</td>\n",
       "      <td>1.011888</td>\n",
       "      <td>0.936192</td>\n",
       "    </tr>\n",
       "  </tbody>\n",
       "</table>\n",
       "<p>1280 rows × 3 columns</p>\n",
       "</div>"
      ],
      "text/plain": [
       "                                                        seed  w_wr_ratio  \\\n",
       "sample_id iteration                                                        \n",
       "0         0          321035696569074393900800902729492961571    0.990047   \n",
       "          1          287260272559001834646021956964071460488    1.022115   \n",
       "1         0          217728001674644233900148970347932507640    0.982531   \n",
       "          1           37743317432212200141540563100539870987    1.004077   \n",
       "2         0          123727295008927407268207327782623180901    1.014940   \n",
       "...                                                      ...         ...   \n",
       "637       1          105240026411909621910299714156140543514    1.001287   \n",
       "638       0          164807450361973095883026908734308608851    1.071140   \n",
       "          1          143165048279318602524160049038863207148    1.059282   \n",
       "639       0          280528377157528057720635703567106563008    1.018483   \n",
       "          1           67786655756373883321028286078396635156    1.011888   \n",
       "\n",
       "                     nw_wr_ratio  \n",
       "sample_id iteration               \n",
       "0         0             0.919253  \n",
       "          1             0.911062  \n",
       "1         0             0.882188  \n",
       "          1             0.875650  \n",
       "2         0             0.964604  \n",
       "...                          ...  \n",
       "637       1             0.908712  \n",
       "638       0             0.968312  \n",
       "          1             0.964643  \n",
       "639       0             0.963014  \n",
       "          1             0.936192  \n",
       "\n",
       "[1280 rows x 3 columns]"
      ]
     },
     "execution_count": 167,
     "metadata": {},
     "output_type": "execute_result"
    }
   ],
   "source": [
    "results['reporters']"
   ]
  },
  {
   "cell_type": "markdown",
   "metadata": {
    "raw_mimetype": "text/restructuredtext"
   },
   "source": [
    "We can use standard functions of the pandas library like \n",
    ":func:`pandas.DataFrame.hist` to look at summary statistics."
   ]
  },
  {
   "cell_type": "code",
   "execution_count": 187,
   "metadata": {},
   "outputs": [
    {
     "data": {
      "image/png": "[encoded data removed]",
      "text/plain": [
       "<Figure size 640x480 with 2 Axes>"
      ]
     },
     "metadata": {},
     "output_type": "display_data"
    }
   ],
   "source": [
    "results.reporters.hist();"
   ]
  },
  {
   "cell_type": "markdown",
   "metadata": {},
   "source": [
    "## Sensitivity analysis"
   ]
  },
  {
   "cell_type": "markdown",
   "metadata": {
    "raw_mimetype": "text/restructuredtext"
   },
   "source": [
    "The function :func:`DataDict.calc_sobol` calculates `Sobol sensitivity\n",
    "indices <https://salib.readthedocs.io/en/latest/api.html#sobol-sensitivity-analysis>`_ \n",
    "for the passed results and parameter ranges, using the \n",
    "`SAlib <https://salib.readthedocs.io/en/latest/basics.html>`_ package. "
   ]
  },
  {
   "cell_type": "code",
   "execution_count": 188,
   "metadata": {},
   "outputs": [
    {
     "name": "stderr",
     "output_type": "stream",
     "text": [
      "/Users/uni/miniconda3/envs/ma/lib/python3.10/site-packages/agentpy/datadict.py:148: FutureWarning: The default value of numeric_only in DataFrameGroupBy.mean is deprecated. In a future version, numeric_only will default to False. Either specify numeric_only or select only columns which should be valid for the function.\n",
      "  reporters_df = self.reporters.groupby('sample_id').mean()\n"
     ]
    },
    {
     "data": {
      "text/plain": [
       "DataDict {\n",
       "'parameters': \n",
       "    'sample': DataFrame with 3 variables and 640 rows\n",
       "    'constants': Dictionary with 3 keys\n",
       "    'log': Dictionary with 5 keys\n",
       "'reporters': DataFrame with 3 variables and 1280 rows\n",
       "'info': Dictionary with 12 keys\n",
       "'variables': \n",
       "    'Person': DataFrame with 4 variables and 1408000 rows\n",
       "'sensitivity': \n",
       "    'sobol': DataFrame with 2 variables and 6 rows\n",
       "    'sobol_conf': DataFrame with 2 variables and 6 rows\n",
       "}"
      ]
     },
     "execution_count": 188,
     "metadata": {},
     "output_type": "execute_result"
    }
   ],
   "source": [
    "results.calc_sobol()"
   ]
  },
  {
   "cell_type": "code",
   "execution_count": 170,
   "metadata": {
    "scrolled": true
   },
   "outputs": [
    {
     "data": {
      "text/html": [
       "<div>\n",
       "<style scoped>\n",
       "    .dataframe tbody tr th:only-of-type {\n",
       "        vertical-align: middle;\n",
       "    }\n",
       "\n",
       "    .dataframe tbody tr th {\n",
       "        vertical-align: top;\n",
       "    }\n",
       "\n",
       "    .dataframe thead th {\n",
       "        text-align: right;\n",
       "    }\n",
       "</style>\n",
       "<table border=\"1\" class=\"dataframe\">\n",
       "  <thead>\n",
       "    <tr style=\"text-align: right;\">\n",
       "      <th></th>\n",
       "      <th></th>\n",
       "      <th>seed</th>\n",
       "      <th>w_wr_ratio</th>\n",
       "      <th>nw_wr_ratio</th>\n",
       "    </tr>\n",
       "    <tr>\n",
       "      <th>sample_id</th>\n",
       "      <th>iteration</th>\n",
       "      <th></th>\n",
       "      <th></th>\n",
       "      <th></th>\n",
       "    </tr>\n",
       "  </thead>\n",
       "  <tbody>\n",
       "    <tr>\n",
       "      <th rowspan=\"2\" valign=\"top\">0</th>\n",
       "      <th>0</th>\n",
       "      <td>321035696569074393900800902729492961571</td>\n",
       "      <td>0.990047</td>\n",
       "      <td>0.919253</td>\n",
       "    </tr>\n",
       "    <tr>\n",
       "      <th>1</th>\n",
       "      <td>287260272559001834646021956964071460488</td>\n",
       "      <td>1.022115</td>\n",
       "      <td>0.911062</td>\n",
       "    </tr>\n",
       "    <tr>\n",
       "      <th rowspan=\"2\" valign=\"top\">1</th>\n",
       "      <th>0</th>\n",
       "      <td>217728001674644233900148970347932507640</td>\n",
       "      <td>0.982531</td>\n",
       "      <td>0.882188</td>\n",
       "    </tr>\n",
       "    <tr>\n",
       "      <th>1</th>\n",
       "      <td>37743317432212200141540563100539870987</td>\n",
       "      <td>1.004077</td>\n",
       "      <td>0.875650</td>\n",
       "    </tr>\n",
       "    <tr>\n",
       "      <th>2</th>\n",
       "      <th>0</th>\n",
       "      <td>123727295008927407268207327782623180901</td>\n",
       "      <td>1.014940</td>\n",
       "      <td>0.964604</td>\n",
       "    </tr>\n",
       "    <tr>\n",
       "      <th>...</th>\n",
       "      <th>...</th>\n",
       "      <td>...</td>\n",
       "      <td>...</td>\n",
       "      <td>...</td>\n",
       "    </tr>\n",
       "    <tr>\n",
       "      <th>637</th>\n",
       "      <th>1</th>\n",
       "      <td>105240026411909621910299714156140543514</td>\n",
       "      <td>1.001287</td>\n",
       "      <td>0.908712</td>\n",
       "    </tr>\n",
       "    <tr>\n",
       "      <th rowspan=\"2\" valign=\"top\">638</th>\n",
       "      <th>0</th>\n",
       "      <td>164807450361973095883026908734308608851</td>\n",
       "      <td>1.071140</td>\n",
       "      <td>0.968312</td>\n",
       "    </tr>\n",
       "    <tr>\n",
       "      <th>1</th>\n",
       "      <td>143165048279318602524160049038863207148</td>\n",
       "      <td>1.059282</td>\n",
       "      <td>0.964643</td>\n",
       "    </tr>\n",
       "    <tr>\n",
       "      <th rowspan=\"2\" valign=\"top\">639</th>\n",
       "      <th>0</th>\n",
       "      <td>280528377157528057720635703567106563008</td>\n",
       "      <td>1.018483</td>\n",
       "      <td>0.963014</td>\n",
       "    </tr>\n",
       "    <tr>\n",
       "      <th>1</th>\n",
       "      <td>67786655756373883321028286078396635156</td>\n",
       "      <td>1.011888</td>\n",
       "      <td>0.936192</td>\n",
       "    </tr>\n",
       "  </tbody>\n",
       "</table>\n",
       "<p>1280 rows × 3 columns</p>\n",
       "</div>"
      ],
      "text/plain": [
       "                                                        seed  w_wr_ratio  \\\n",
       "sample_id iteration                                                        \n",
       "0         0          321035696569074393900800902729492961571    0.990047   \n",
       "          1          287260272559001834646021956964071460488    1.022115   \n",
       "1         0          217728001674644233900148970347932507640    0.982531   \n",
       "          1           37743317432212200141540563100539870987    1.004077   \n",
       "2         0          123727295008927407268207327782623180901    1.014940   \n",
       "...                                                      ...         ...   \n",
       "637       1          105240026411909621910299714156140543514    1.001287   \n",
       "638       0          164807450361973095883026908734308608851    1.071140   \n",
       "          1          143165048279318602524160049038863207148    1.059282   \n",
       "639       0          280528377157528057720635703567106563008    1.018483   \n",
       "          1           67786655756373883321028286078396635156    1.011888   \n",
       "\n",
       "                     nw_wr_ratio  \n",
       "sample_id iteration               \n",
       "0         0             0.919253  \n",
       "          1             0.911062  \n",
       "1         0             0.882188  \n",
       "          1             0.875650  \n",
       "2         0             0.964604  \n",
       "...                          ...  \n",
       "637       1             0.908712  \n",
       "638       0             0.968312  \n",
       "          1             0.964643  \n",
       "639       0             0.963014  \n",
       "          1             0.936192  \n",
       "\n",
       "[1280 rows x 3 columns]"
      ]
     },
     "execution_count": 170,
     "metadata": {},
     "output_type": "execute_result"
    }
   ],
   "source": [
    "results['reporters']"
   ]
  },
  {
   "cell_type": "code",
   "execution_count": 191,
   "metadata": {},
   "outputs": [
    {
     "data": {
      "text/html": [
       "<div>\n",
       "<style scoped>\n",
       "    .dataframe tbody tr th:only-of-type {\n",
       "        vertical-align: middle;\n",
       "    }\n",
       "\n",
       "    .dataframe tbody tr th {\n",
       "        vertical-align: top;\n",
       "    }\n",
       "\n",
       "    .dataframe thead th {\n",
       "        text-align: right;\n",
       "    }\n",
       "</style>\n",
       "<table border=\"1\" class=\"dataframe\">\n",
       "  <thead>\n",
       "    <tr style=\"text-align: right;\">\n",
       "      <th></th>\n",
       "      <th></th>\n",
       "      <th>S1</th>\n",
       "      <th>ST</th>\n",
       "    </tr>\n",
       "    <tr>\n",
       "      <th>reporter</th>\n",
       "      <th>parameter</th>\n",
       "      <th></th>\n",
       "      <th></th>\n",
       "    </tr>\n",
       "  </thead>\n",
       "  <tbody>\n",
       "    <tr>\n",
       "      <th rowspan=\"3\" valign=\"top\">w_wr_ratio</th>\n",
       "      <th>agents</th>\n",
       "      <td>-0.029358</td>\n",
       "      <td>0.264055</td>\n",
       "    </tr>\n",
       "    <tr>\n",
       "      <th>wealth_appeal_corr</th>\n",
       "      <td>0.639606</td>\n",
       "      <td>0.893851</td>\n",
       "    </tr>\n",
       "    <tr>\n",
       "      <th>acc</th>\n",
       "      <td>0.148697</td>\n",
       "      <td>0.347873</td>\n",
       "    </tr>\n",
       "    <tr>\n",
       "      <th rowspan=\"3\" valign=\"top\">nw_wr_ratio</th>\n",
       "      <th>agents</th>\n",
       "      <td>-0.060976</td>\n",
       "      <td>0.176466</td>\n",
       "    </tr>\n",
       "    <tr>\n",
       "      <th>wealth_appeal_corr</th>\n",
       "      <td>0.630754</td>\n",
       "      <td>0.866075</td>\n",
       "    </tr>\n",
       "    <tr>\n",
       "      <th>acc</th>\n",
       "      <td>0.119565</td>\n",
       "      <td>0.332022</td>\n",
       "    </tr>\n",
       "  </tbody>\n",
       "</table>\n",
       "</div>"
      ],
      "text/plain": [
       "                                      S1        ST\n",
       "reporter    parameter                             \n",
       "w_wr_ratio  agents             -0.029358  0.264055\n",
       "            wealth_appeal_corr  0.639606  0.893851\n",
       "            acc                 0.148697  0.347873\n",
       "nw_wr_ratio agents             -0.060976  0.176466\n",
       "            wealth_appeal_corr  0.630754  0.866075\n",
       "            acc                 0.119565  0.332022"
      ]
     },
     "execution_count": 191,
     "metadata": {},
     "output_type": "execute_result"
    }
   ],
   "source": [
    "si_list = results.sensitivity.sobol.groupby(by='reporter')\n",
    "si_conf_list = results.sensitivity.sobol_conf.groupby(by='reporter')\n",
    "results.sensitivity.sobol"
   ]
  },
  {
   "cell_type": "markdown",
   "metadata": {
    "raw_mimetype": "text/restructuredtext"
   },
   "source": [
    "This adds a new category `sensitivity` to our results, which includes:\n",
    "\n",
    "- :attr:`sobol` returns first-order sobol sensitivity indices\n",
    "- :attr:`sobol_conf` returns confidence ranges for the above indices\n",
    "\n",
    "We can use pandas to create a bar plot that visualizes these sensitivity indices."
   ]
  },
  {
   "cell_type": "code",
   "execution_count": 190,
   "metadata": {},
   "outputs": [
    {
     "name": "stdout",
     "output_type": "stream",
     "text": [
      "                                      S1        ST\n",
      "reporter    parameter                             \n",
      "nw_wr_ratio agents             -0.060976  0.176466\n",
      "            wealth_appeal_corr  0.630754  0.866075\n",
      "            acc                 0.119565  0.332022\n",
      "                          S1        ST\n",
      "parameter                             \n",
      "agents             -0.060976  0.176466\n",
      "wealth_appeal_corr  0.630754  0.866075\n",
      "acc                 0.119565  0.332022\n",
      "                                     S1        ST\n",
      "reporter   parameter                             \n",
      "w_wr_ratio agents             -0.029358  0.264055\n",
      "           wealth_appeal_corr  0.639606  0.893851\n",
      "           acc                 0.148697  0.347873\n",
      "                          S1        ST\n",
      "parameter                             \n",
      "agents             -0.029358  0.264055\n",
      "wealth_appeal_corr  0.639606  0.893851\n",
      "acc                 0.148697  0.347873\n"
     ]
    },
    {
     "data": {
      "image/png": "[encoded data removed]",
      "text/plain": [
       "<Figure size 800x400 with 2 Axes>"
      ]
     },
     "metadata": {},
     "output_type": "display_data"
    }
   ],
   "source": [
    "def plot_sobol(results):\n",
    "    \"\"\" Bar plot of Sobol sensitivity indices. \"\"\"\n",
    "    \n",
    "    sns.set()\n",
    "    fig, axs = plt.subplots(1, 2, figsize=(8, 4))\n",
    "    si_list = results.sensitivity.sobol.groupby(by='reporter')\n",
    "    si_conf_list = results.sensitivity.sobol_conf.groupby(by='reporter')\n",
    "\n",
    "    for (key, si), (_, err), ax in zip(si_list, si_conf_list, axs):\n",
    "        print(si)\n",
    "        si = si.droplevel('reporter')\n",
    "        print(si)\n",
    "        err = err.droplevel('reporter')\n",
    "        si.plot.barh(xerr=err, title=key, ax=ax, capsize = 3)\n",
    "        ax.set_xlim(0)\n",
    "    \n",
    "    axs[0].get_legend().remove()\n",
    "    axs[1].set(ylabel=None, yticklabels=[]) \n",
    "    axs[1].tick_params(left=False)\n",
    "    plt.tight_layout()\n",
    "    \n",
    "plot_sobol(results)"
   ]
  },
  {
   "cell_type": "markdown",
   "metadata": {},
   "source": [
    "Alternatively, we can also display sensitivities by plotting \n",
    "average evaluation measures over our parameter variations. "
   ]
  },
  {
   "cell_type": "code",
   "execution_count": 169,
   "metadata": {},
   "outputs": [
    {
     "data": {
      "image/png": "[encoded data removed]",
      "text/plain": [
       "<Figure size 800x800 with 4 Axes>"
      ]
     },
     "metadata": {},
     "output_type": "display_data"
    }
   ],
   "source": [
    "def plot_sensitivity(results):\n",
    "    \"\"\" Show average simulation results for different parameter values. \"\"\"\n",
    "    \n",
    "    sns.set()\n",
    "    fig, axs = plt.subplots(2, 2, figsize=(8, 8))\n",
    "    axs = [i for j in axs for i in j] # Flatten list\n",
    "    \n",
    "    data = results.arrange_reporters().astype('float')\n",
    "    params = results.parameters.sample.keys() \n",
    "    \n",
    "    for x, ax in zip(params, axs):\n",
    "        for y in results.reporters.columns:\n",
    "            sns.regplot(x=x, y=y, data=data, ax=ax, ci=99, \n",
    "                        x_bins=15, fit_reg=False, label=y)  \n",
    "        ax.set_ylim(0.8,1.2)\n",
    "        ax.set_ylabel('')\n",
    "        ax.legend()\n",
    "        \n",
    "    plt.tight_layout()\n",
    "\n",
    "plot_sensitivity(results)"
   ]
  }
 ],
 "metadata": {
  "kernelspec": {
   "display_name": "Python 3 (ipykernel)",
   "language": "python",
   "name": "python3"
  },
  "language_info": {
   "codemirror_mode": {
    "name": "ipython",
    "version": 3
   },
   "file_extension": ".py",
   "mimetype": "text/x-python",
   "name": "python",
   "nbconvert_exporter": "python",
   "pygments_lexer": "ipython3",
   "version": "3.10.9"
  }
 },
 "nbformat": 4,
 "nbformat_minor": 4
}
